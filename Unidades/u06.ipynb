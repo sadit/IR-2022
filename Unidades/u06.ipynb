{
 "cells": [
  {
   "cell_type": "markdown",
   "id": "9fc189d2-656e-41d4-be84-dcf6ccf9537b",
   "metadata": {},
   "source": [
    "# Búsqueda semántica\n",
    "Autor: Eric S. Tellez <eric.tellez@infotec.mx>\n",
    "\n",
    "Cuando la información esta poco específicada, las palabras adecuadas podrían ser dificiles de tener o limitar. En estos casos, la representaciones semánticas que permiten buscar _lo que se desea_ por medio de conceptos nos acerca más a la posibilidad de obtener información útil.\n",
    "\n",
    "Como anteriormente se presento, una de las representaciones semánticas más aceptadas son aquellas basadas en word embeddings. Recordando, estas son representaciones vectoriales de cada palabra, donde la semántica se asocia con la estructura en un espacio métrico, i.e., cercano en la métrica significa similar semánticamente.\n",
    "\n",
    "# Representación semántica de documentos basada en _word embeddings_\n",
    "Un documento puede verse como una bolsa de palabras, como en el modelado tradicional, pero en lugar de usar los términos como símbolos se pueden usar los vectores semánticos. El como usar esta nube de puntos multidimensional para obtener una representación computacionalmente manejable y a la vez eficaz, es un tema que ha llevado al desarrollo de modelos cada vez más complejos, como pueden ser los grandes modelos de lenguaje. \n",
    "\n",
    "La manera forma más directa de definir una representación semántica de documentos es el uso de centroides, esto es, un vector de la misma dimensión que sumariza a un conjunto de vectores usando su media geométrica. De manera más precisa, sea $E$ una matrix $m \\times n$ de embeddings del vocabulario, i.e., considerando un vocabulario de tamaño $n$ y dimensión $m$.\n",
    "Sea $D_{m,\\ell}$ la submatriz de $E$ que contiene los $\\ell$ vectores del documento $\\textsf{doc}$. El prototipo $\\vec{d}$ de $D$ esta definido de la siguiente forma:\n",
    "\n",
    "\\begin{equation}\n",
    "\\vec{d} = \\frac{1}{\\ell} \\sum_{i=1}^\\ell D_i\n",
    "\\end{equation}\n",
    "\n",
    "\n",
    "Donde $D_i$ es el i-ésimo vector columna de $D$. Dado que se usa el coseno como similitud, también es factible el cálculo como la suma vectorial normalizada, esto es,\n",
    "\n",
    "$$ \\vec{d} = \\frac{\\sum_{i=1}^\\ell D_i}{\\lVert \\sum_{i=1}^\\ell D_i \\rVert}$$\n",
    "\n",
    "También es posible añadir información local basada en la representación de bolsa de plabras. Por ejemplo, realizar una suma pesada usando el peso de las palabras mediante la frecuencia normalizada de término (TF) o la probabilidad de término $pt$, ver unidad 3 para más información.\n",
    "\n",
    "$$\\vec{d} = \\sum_{i=1}^{\\ell} \\textsf{TF}(t_i, \\textsf{doc}) \\cdot D_i$$\n",
    "\n",
    "Donde $t_i$ es el $i$-ésimo término de $\\textsf{doc}$. Note que el orden no se captura y solo es necesario para la notación.\n",
    "\n",
    "# Ejemplo\n"
   ]
  },
  {
   "cell_type": "code",
   "execution_count": 1,
   "id": "cd04785e-aa4e-493c-9aa8-5c54c8e1f322",
   "metadata": {},
   "outputs": [
    {
     "name": "stderr",
     "output_type": "stream",
     "text": [
      "\u001b[32m\u001b[1m  Activating\u001b[22m\u001b[39m project at `~/IR-2022/Unidades`\n"
     ]
    }
   ],
   "source": [
    "using Pkg\n",
    "Pkg.activate(\".\")\n",
    "\n",
    "using SimilaritySearch, TextSearch, Plots, KNearestCenters, LinearAlgebra, Embeddings, HypertextLiteral, CodecZlib, JSON, Base64, Random\n",
    "using Downloads: download"
   ]
  },
  {
   "cell_type": "code",
   "execution_count": 2,
   "id": "95d9bcb8-60f5-42d5-adb3-dca1f1b480b3",
   "metadata": {},
   "outputs": [
    {
     "data": {
      "text/plain": [
       "scores (generic function with 1 method)"
      ]
     },
     "execution_count": 2,
     "metadata": {},
     "output_type": "execute_result"
    }
   ],
   "source": [
    "include(\"knn.jl\")"
   ]
  },
  {
   "cell_type": "code",
   "execution_count": 3,
   "id": "e4fcb23f-9564-4910-9a4f-1f5d4a582d5f",
   "metadata": {},
   "outputs": [
    {
     "data": {
      "text/plain": [
       "text_model_and_vectors (generic function with 1 method)"
      ]
     },
     "execution_count": 3,
     "metadata": {},
     "output_type": "execute_result"
    }
   ],
   "source": [
    "struct ValidVocabulary{DictType} <: AbstractTokenTransformation\n",
    "    valid::DictType\n",
    "end\n",
    "\n",
    "TextSearch.transform_unigram(S::ValidVocabulary, tok) = haskey(S.valid, tok) ? tok : nothing\n",
    "\n",
    "function text_model_and_vectors(\n",
    "        corpus, vocab;\n",
    "        localweighting=TpWeighting(),\n",
    "        globalweighting=BinaryGlobalWeighting(),\n",
    "        nlist=[1],\n",
    "        qlist=[],\n",
    "        slist=[],\n",
    "        group_usr=true,\n",
    "        group_url=true,\n",
    "        group_num=true,\n",
    "        del_diac=true,\n",
    "        lc=true\n",
    "    )\n",
    "\n",
    "    voc = Vocabulary(length(corpus))\n",
    "    for v in vocab\n",
    "       push!(voc, v)\n",
    "    end\n",
    "    \n",
    "    tt = ValidVocabulary(voc.token2id)\n",
    "    textconfig = TextConfig(; group_usr, group_url, del_diac, lc, group_num, nlist, qlist, slist, tt)\n",
    "    tokenize_and_append!(voc, textconfig, corpus)\n",
    "    model = VectorModel(globalweighting, localweighting, voc)\n",
    "    (; textconfig, model, voc)\n",
    "end\n"
   ]
  },
  {
   "cell_type": "code",
   "execution_count": 4,
   "id": "af8bad4e-c31b-4506-8341-47c4130d664a",
   "metadata": {},
   "outputs": [
    {
     "data": {
      "text/plain": [
       "create_index (generic function with 1 method)"
      ]
     },
     "execution_count": 4,
     "metadata": {},
     "output_type": "execute_result"
    }
   ],
   "source": [
    "function embeddings(embname=\"MX.vec\")\n",
    "    embfile = \"../data/$embname\"\n",
    "    !isfile(embfile) && download(\"http://geo.ingeotec.mx/~sadit/regional-spanish-models/$embname\", embfile)\n",
    "    emb = load_embeddings(FastText_Text, embfile)  # you can change with any of the available embeddings in `Embeddings`\n",
    "    for c in eachcol(emb.embeddings)\n",
    "        normalize!(c)\n",
    "    end\n",
    "    \n",
    "    (; X=emb.embeddings, vocab=emb.vocab)\n",
    "end\n",
    "\n",
    "function vectorize_as_prototype!(c, text, E, T)\n",
    "    x = vectorize(T.model, T.textconfig, text; normalize=false)\n",
    "    if length(x) == 1 && haskey(x, 0)\n",
    "        #@warn \"empty vector $(Int(i)) selecting a random vector for it \" # $(corpus[i])\n",
    "        rand!(c)\n",
    "    else\n",
    "        for (id, weight) in x\n",
    "            id == 0 && continue\n",
    "             c .= c .+ weight .* view(E.X, :, id)\n",
    "        end\n",
    "    end\n",
    "    \n",
    "    normalize!(c)\n",
    "end\n",
    "\n",
    "function vectorize_corpus_as_prototypes(corpus, E, T)\n",
    "    dim = size(E.X, 1)\n",
    "    n = length(corpus)\n",
    "    C = zeros(Float32, dim, n)\n",
    "    # Threads.@threads\n",
    "    for i in 1:n\n",
    "        vectorize_as_prototype!(view(C, :, i), corpus[i], E, T)\n",
    "    end\n",
    "    \n",
    "    C\n",
    "end\n",
    "\n",
    "function create_index(db, recall)\n",
    "    dist = NormalizedCosineDistance()\n",
    "    index = SearchGraph(; dist, db, verbose=false)\n",
    "    index!(index; callbacks=SearchGraphCallbacks(MinRecall(recall)))\n",
    "    optimize!(index, MinRecall(recall))\n",
    "    index\n",
    "end"
   ]
  },
  {
   "cell_type": "code",
   "execution_count": 5,
   "id": "47d9e476-d8ce-4d8e-bb7a-f6cf87e195ca",
   "metadata": {},
   "outputs": [
    {
     "name": "stdout",
     "output_type": "stream",
     "text": [
      " 34.921058 seconds (11.18 M allocations: 11.654 GiB, 2.47% gc time, 1.37% compilation time)\n"
     ]
    },
    {
     "data": {
      "text/plain": [
       "(X = Float32[-0.039261177 -0.044748805 … -0.051247735 0.05427054; 0.09036921 0.03974378 … -0.017566958 0.06556069; … ; -0.043778244 0.04899757 … -0.038878556 -0.097423464; 0.021343287 0.012799488 … -0.0017221138 0.006681864], vocab = [\"</s>\", \"_usr\", \"que\", \"de\", \",\", \".\", \"y\", \"a\", \"la\", \"no\"  …  \"tannehil\", \"movelike\", \"peliblanca\", \"cristianzav\", \"rqq\", \"preguntartee\", \"sutedes\", \"venciendolo\", \"eviscerado\", \"fectivo\"])"
      ]
     },
     "execution_count": 5,
     "metadata": {},
     "output_type": "execute_result"
    }
   ],
   "source": [
    "@time E = embeddings()"
   ]
  },
  {
   "cell_type": "code",
   "execution_count": 15,
   "id": "9d1dc14b-02cb-45ab-8466-5783251ef877",
   "metadata": {},
   "outputs": [
    {
     "data": {
      "text/html": [
       "<h1>Cargando el corpus</h1>"
      ],
      "text/plain": [
       "<h1>Cargando el corpus</h1>"
      ]
     },
     "metadata": {},
     "output_type": "display_data"
    },
    {
     "name": "stdout",
     "output_type": "stream",
     "text": [
      "(unique(D.labels), T.model) = ([\"AdriDelgadoRuiz\", \"El_Universal_Mx\", \"CNNEE\", \"NTN24\", \"UniNoticias\", \"TelemundoNews\", \"SinEmbargoMX\", \"Reforma\", \"abc_es\", \"azucenau\", \"AristeguiOnline\", \"el_pais\", \"EFEnoticias\", \"PublimetroMX\", \"PublimetroChile\", \"Radio_Formula\", \"RicardoAlemanMx\", \"epigmenioibarra\", \"Milenio\", \"LaRazon_mx\", \"abrahamendieta\", \"PublimetroCol\", \"teleSURtv\", \"bbcmundo\", \"julioastillero\"], {VectorModel global_weighting=BinaryGlobalWeighting(), local_weighting=TpWeighting(), train-voc=438136, train-n=30244, maxoccs=43245})\n"
     ]
    },
    {
     "data": {
      "text/plain": [
       "([\"AdriDelgadoRuiz\", \"El_Universal_Mx\", \"CNNEE\", \"NTN24\", \"UniNoticias\", \"TelemundoNews\", \"SinEmbargoMX\", \"Reforma\", \"abc_es\", \"azucenau\"  …  \"Radio_Formula\", \"RicardoAlemanMx\", \"epigmenioibarra\", \"Milenio\", \"LaRazon_mx\", \"abrahamendieta\", \"PublimetroCol\", \"teleSURtv\", \"bbcmundo\", \"julioastillero\"], {VectorModel global_weighting=BinaryGlobalWeighting(), local_weighting=TpWeighting(), train-voc=438136, train-n=30244, maxoccs=43245})"
      ]
     },
     "execution_count": 15,
     "metadata": {},
     "output_type": "execute_result"
    }
   ],
   "source": [
    "display(@htl \"<h1>Cargando el corpus</h1>\")\n",
    "\n",
    "include(\"read_datasets.jl\")\n",
    "D, Q = read_news()\n",
    "T = text_model_and_vectors(D.corpus, E.vocab)\n",
    "@show unique(D.labels), T.model"
   ]
  },
  {
   "cell_type": "code",
   "execution_count": 16,
   "id": "593497b1-0da0-45e3-83ae-54507b233311",
   "metadata": {},
   "outputs": [
    {
     "name": "stdout",
     "output_type": "stream",
     "text": [
      "  1.753261 seconds (3.34 M allocations: 313.884 MiB, 31.21% compilation time)\n"
     ]
    },
    {
     "data": {
      "text/plain": [
       "300×30244 Matrix{Float32}:\n",
       " -0.052207    -0.0267733    -0.0534574    …  -0.0799066   -0.10502\n",
       "  0.0333062   -0.00691014   -0.00203628       0.0161733    0.0393123\n",
       " -0.0489505    0.000651152  -0.00835875      -0.00500099   0.0214965\n",
       " -0.00438946   0.00205949   -0.00268551       0.0346591    0.0259731\n",
       "  0.0589265    0.0193912     0.0118446       -0.0200484   -0.00529611\n",
       " -0.00172394  -0.0041373     0.03163      …   0.0155074    0.0160663\n",
       " -0.0612389   -0.00260272    0.00934668      -0.00196163  -0.00115164\n",
       "  0.0852119    0.00278283   -0.00549386      -0.038946     0.0171894\n",
       "  0.0507986    0.0329853     0.0873546        0.0999684    0.120996\n",
       "  0.017137    -0.0118347     0.000876286     -0.0145413   -0.0141206\n",
       "  0.0676252    0.0417673     0.0835937    …   0.0804474    0.0961554\n",
       "  0.055106    -0.0198022     0.0331076        0.0237437    0.0534497\n",
       "  0.0311947   -0.011102      0.0589837        0.0552063    0.0185002\n",
       "  ⋮                                       ⋱               \n",
       " -0.0635303   -0.0790161    -0.065326        -0.100098    -0.0545645\n",
       "  0.0173436    0.00292253    0.0122586       -0.00389432   0.0427671\n",
       " -0.0259617    0.042557      0.00061888   …  -0.0148514    0.0153433\n",
       "  0.0268366   -0.0425335    -0.0425758       -0.00867296  -0.0600828\n",
       "  0.0598306   -0.0298923     0.0230642       -0.0209298   -0.0345639\n",
       "  0.0383213    0.00893305    0.0866171        0.0931601    0.0697419\n",
       "  0.0382025    0.0409456     0.014929        -0.00112104   0.0456252\n",
       "  0.00586206   0.0130063     0.00195849   …  -0.00726285   0.0492561\n",
       " -0.00966869  -0.070508     -0.0708322       -0.054085    -0.0501009\n",
       "  0.0121999    0.0118476     0.0220534        0.0251453   -0.0158427\n",
       " -0.0155955   -0.0686682    -0.0801061       -0.0822872   -0.0854846\n",
       "  0.015706     0.0382703     0.0551629        0.0572654    0.0513377"
      ]
     },
     "execution_count": 16,
     "metadata": {},
     "output_type": "execute_result"
    }
   ],
   "source": [
    "@time C = vectorize_corpus_as_prototypes(D.corpus, E, T)"
   ]
  },
  {
   "cell_type": "code",
   "execution_count": null,
   "id": "a9ff6403-f5e7-470e-90e0-baa79eccb793",
   "metadata": {},
   "outputs": [],
   "source": []
  },
  {
   "cell_type": "markdown",
   "id": "0bcb60ff-68c0-4c09-a8dd-70079ba59994",
   "metadata": {},
   "source": [
    "### Se crea el índice métrico"
   ]
  },
  {
   "cell_type": "code",
   "execution_count": 17,
   "id": "3d9108c0-02a7-4afe-bfa2-7b436f7bd0f0",
   "metadata": {},
   "outputs": [
    {
     "name": "stdout",
     "output_type": "stream",
     "text": [
      "  8.005981 seconds (13.06 M allocations: 1.497 GiB, 9.57% gc time, 85.28% compilation time)\n"
     ]
    },
    {
     "data": {
      "text/plain": [
       "SearchGraph{NormalizedCosineDistance, MatrixDatabase{Matrix{Float32}}, BeamSearch}\n",
       "  dist: NormalizedCosineDistance NormalizedCosineDistance()\n",
       "  db: MatrixDatabase{Matrix{Float32}}\n",
       "  links: Array{Vector{Int32}}((30244,))\n",
       "  locks: Array{Base.Threads.SpinLock}((30244,))\n",
       "  hints: Array{Int32}((96,)) Int32[6, 52, 229, 238, 260, 295, 338, 352, 363, 464  …  2455, 2572, 2576, 2612, 2666, 2672, 2734, 2787, 2808, 25642]\n",
       "  search_algo: BeamSearch\n",
       "  verbose: Bool false\n"
      ]
     },
     "execution_count": 17,
     "metadata": {},
     "output_type": "execute_result"
    }
   ],
   "source": [
    "@time index = create_index(MatrixDatabase(C), 0.95)"
   ]
  },
  {
   "cell_type": "markdown",
   "id": "7e629f24-ecf3-4908-a100-b70559dca89a",
   "metadata": {},
   "source": [
    "### Búsqueda de todos los vecinos cercanos en el vocabulario, observe la conveniencia del uso de un índice\n",
    "\n",
    "Entre más sean las consultas más se ve la bondad (~42k consultas)"
   ]
  },
  {
   "cell_type": "code",
   "execution_count": 18,
   "id": "f43463a8-0c73-4903-a78c-6b2405ddf812",
   "metadata": {},
   "outputs": [
    {
     "data": {
      "text/html": [
       "<div>(brute vs indexed) macro-recall: 0.9498940047604879, n: 3361</div>\n",
       "<div>searchgraph search time: 0.733757938, scores: <span class=\"Core-NamedTuple\">(macrof1 = 0.23000048969948245, macrorecall = 0.24310808517812765, accuracy = 0.2728354656352276)</span></div>\n",
       "<div>brute force search time: 0.634220118, scores: <span class=\"Core-NamedTuple\">(macrof1 = 0.24511644280600453, macrorecall = 0.2547021687929789, accuracy = 0.283844094019637)</span></div>\n"
      ],
      "text/plain": [
       "<div>(brute vs indexed) macro-recall: 0.9498940047604879, n: 3361</div>\n",
       "<div>searchgraph search time: 0.733757938, scores: <span class=\"Core-NamedTuple\">(macrof1 = 0.23000048969948245, macrorecall = 0.24310808517812765, accuracy = 0.2728354656352276)</span></div>\n",
       "<div>brute force search time: 0.634220118, scores: <span class=\"Core-NamedTuple\">(macrof1 = 0.24511644280600453, macrorecall = 0.2547021687929789, accuracy = 0.283844094019637)</span></div>\n"
      ]
     },
     "execution_count": 18,
     "metadata": {},
     "output_type": "execute_result"
    }
   ],
   "source": [
    "let k = 32\n",
    "    Qvectors = MatrixDatabase(vectorize_corpus_as_prototypes(Q.corpus, E, T))\n",
    "    t1 = @elapsed I, _ = searchbatch(index, Qvectors, k)\n",
    "    # WARNING: Don't run the following line, it takes too much time\n",
    "    ex = ExhaustiveSearch(; db=index.db, dist=index.dist)\n",
    "    t2 = @elapsed gI, _ = searchbatch(ex, Qvectors, k)\n",
    "    r = macrorecall(gI, I)\n",
    "    n = size(I, 2)\n",
    "    labels = String.(D.labels)\n",
    "    s1 = scores(Q.labels, knn(I, labels))\n",
    "    s2 = scores(Q.labels, knn(gI, labels))\n",
    "    \n",
    "    @htl \"\"\"\n",
    "    <div>(brute vs indexed) macro-recall: $r, n: $n</div>\n",
    "    <div>searchgraph search time: $t1, scores: $s1</div>\n",
    "    <div>brute force search time: $t2, scores: $s2</div>\n",
    "    \"\"\"\n",
    "end"
   ]
  },
  {
   "cell_type": "code",
   "execution_count": null,
   "id": "e9a41c3f-e904-46a4-99a5-0c3d61fa6722",
   "metadata": {},
   "outputs": [],
   "source": []
  },
  {
   "cell_type": "markdown",
   "id": "51b68d72-5256-49ad-b22b-e896f58bc29f",
   "metadata": {},
   "source": [
    "### Búsqueda y presentación de los resultados"
   ]
  },
  {
   "cell_type": "code",
   "execution_count": 19,
   "id": "e045135e-4189-47cc-9513-72a5000527f6",
   "metadata": {},
   "outputs": [
    {
     "data": {
      "text/plain": [
       "search_and_display (generic function with 1 method)"
      ]
     },
     "execution_count": 19,
     "metadata": {},
     "output_type": "execute_result"
    }
   ],
   "source": [
    "function search_and_display(index, qtext, k, D, E, T)\n",
    "    res = KnnResult(k)\n",
    "    q = zeros(Float32, size(E.X, 1))\n",
    "    vectorize_as_prototype!(q, qtext, E, T)\n",
    "    @time search(index, q, res)\n",
    "    \n",
    "    L = []\n",
    "    for (j, (id, d)) in enumerate(res)\n",
    "        push!(L, @htl \"<tr><td>$j</td><td>$id</td><td>$(round(d, digits=3))</td> <td>$(D.labels[id])</td><td> $(D.corpus[id])</td> </tr>\")\n",
    "    end\n",
    "\n",
    "    display(@htl \"\"\"<h2>resultados for \"$qtext\"</h2>\n",
    "    <table>\n",
    "    <th>  <td>id</td> <td>dist</td> <td>user</td> </td>message<td> </th>\n",
    "        $L\n",
    "    </table>\n",
    "    \"\"\")\n",
    "end\n"
   ]
  },
  {
   "cell_type": "code",
   "execution_count": 20,
   "id": "b1123924-05b2-4799-b2f7-18b3d2c46f4d",
   "metadata": {},
   "outputs": [
    {
     "data": {
      "text/html": [
       "<h1>Ejemplos de búsqueda</h1>"
      ],
      "text/plain": [
       "<h1>Ejemplos de búsqueda</h1>"
      ]
     },
     "metadata": {},
     "output_type": "display_data"
    },
    {
     "name": "stdout",
     "output_type": "stream",
     "text": [
      "  0.000411 seconds (2 allocations: 320 bytes)\n"
     ]
    },
    {
     "data": {
      "text/html": [
       "<h2>resultados for \"el gobierno de andres manuel lopez\"</h2>\n",
       "<table>\n",
       "<th>  <td>id</td> <td>dist</td> <td>user</td> </td>message<td> </th>\n",
       "    <tr><td>1</td><td>5559</td><td>0.113</td> <td>Radio_Formula</td><td> El presidente Andrés Manuel López Obrador exhibió el supuesto sueldo de Loret de Mola... con un documento con errores ortográficos. \n",
       "\n",
       "https://t.co/nx4bDFfw8p</td> </tr><tr><td>2</td><td>3647</td><td>0.122</td> <td>CNNEE</td><td> Así pensó un plan B el presidente de México Andrés Manuel López Obrador para organizar la consulta de revocación de mandato.\n",
       "https://t.co/GaAeHdjhAG</td> </tr><tr><td>3</td><td>383</td><td>0.126</td> <td>azucenau</td><td> Informa @RicardoAnayaC que ha sido citado en el Reclusorio Norte por lo que acusa persecución de parte del presidente Andrés Manuel López Obrador</td> </tr><tr><td>4</td><td>27877</td><td>0.127</td> <td>azucenau</td><td> #ALMOMENTO | Por segundo día consecutivo, el presidente Andrés Manuel López Obrador salió esta tarde de Palacio Nacional. https://t.co/tdBqBYhhuc</td> </tr><tr><td>5</td><td>2292</td><td>0.129</td> <td>El_Universal_Mx</td><td> RT @ElUniversal_SLP: #Entérate El gobernador Ricardo Gallardo Cardona pidió al presidente Andrés Manuel López Obrador apoyo para reforzar l…</td> </tr><tr><td>6</td><td>24904</td><td>0.135</td> <td>azucenau</td><td> #AzucenaxMilenio | Durante #LaMañanera, el presidente López Obrador respaldó nuevamente al gobernador de Veracruz, Cuitláhuac García https://t.co/iX2ubBHbyJ</td> </tr><tr><td>7</td><td>1231</td><td>0.136</td> <td>azucenau</td><td> #ENVIVO | Mensaje conjunto del presidente López Obrador y Alejandro Giammattei, presidente de #Guatemala https://t.co/uOwcCHGKt3</td> </tr>\n",
       "</table>\n"
      ],
      "text/plain": [
       "<h2>resultados for \"el gobierno de andres manuel lopez\"</h2>\n",
       "<table>\n",
       "<th>  <td>id</td> <td>dist</td> <td>user</td> </td>message<td> </th>\n",
       "    <tr><td>1</td><td>5559</td><td>0.113</td> <td>Radio_Formula</td><td> El presidente Andrés Manuel López Obrador exhibió el supuesto sueldo de Loret de Mola... con un documento con errores ortográficos. \n",
       "\n",
       "https://t.co/nx4bDFfw8p</td> </tr><tr><td>2</td><td>3647</td><td>0.122</td> <td>CNNEE</td><td> Así pensó un plan B el presidente de México Andrés Manuel López Obrador para organizar la consulta de revocación de mandato.\n",
       "https://t.co/GaAeHdjhAG</td> </tr><tr><td>3</td><td>383</td><td>0.126</td> <td>azucenau</td><td> Informa @RicardoAnayaC que ha sido citado en el Reclusorio Norte por lo que acusa persecución de parte del presidente Andrés Manuel López Obrador</td> </tr><tr><td>4</td><td>27877</td><td>0.127</td> <td>azucenau</td><td> #ALMOMENTO | Por segundo día consecutivo, el presidente Andrés Manuel López Obrador salió esta tarde de Palacio Nacional. https://t.co/tdBqBYhhuc</td> </tr><tr><td>5</td><td>2292</td><td>0.129</td> <td>El_Universal_Mx</td><td> RT @ElUniversal_SLP: #Entérate El gobernador Ricardo Gallardo Cardona pidió al presidente Andrés Manuel López Obrador apoyo para reforzar l…</td> </tr><tr><td>6</td><td>24904</td><td>0.135</td> <td>azucenau</td><td> #AzucenaxMilenio | Durante #LaMañanera, el presidente López Obrador respaldó nuevamente al gobernador de Veracruz, Cuitláhuac García https://t.co/iX2ubBHbyJ</td> </tr><tr><td>7</td><td>1231</td><td>0.136</td> <td>azucenau</td><td> #ENVIVO | Mensaje conjunto del presidente López Obrador y Alejandro Giammattei, presidente de #Guatemala https://t.co/uOwcCHGKt3</td> </tr>\n",
       "</table>\n"
      ]
     },
     "metadata": {},
     "output_type": "display_data"
    },
    {
     "name": "stdout",
     "output_type": "stream",
     "text": [
      "  0.001270 seconds (2 allocations: 1.438 KiB)\n"
     ]
    },
    {
     "data": {
      "text/html": [
       "<h2>resultados for \"trafico de drogas\"</h2>\n",
       "<table>\n",
       "<th>  <td>id</td> <td>dist</td> <td>user</td> </td>message<td> </th>\n",
       "    <tr><td>1</td><td>22544</td><td>0.245</td> <td>LaRazon_mx</td><td> #SSPC: Red de tráfico de migrantes es ubicada en #Guanajuato y #Tamaulipas https://t.co/2TdiV3G2Zf https://t.co/hctIUWIx7G</td> </tr><tr><td>2</td><td>22011</td><td>0.263</td> <td>AristeguiOnline</td><td> El comercio ilegal de drogas se digitaliza con la pandemia https://t.co/dzZtvcjBAA https://t.co/hrG2x5a5xs</td> </tr><tr><td>3</td><td>5839</td><td>0.284</td> <td>AristeguiOnline</td><td> Dos presuntos asesinos de taxistas de la Ciudad de México fueron detenidos\n",
       "\n",
       "https://t.co/I1WMMoLgzO</td> </tr><tr><td>4</td><td>3848</td><td>0.285</td> <td>Reforma</td><td> El 6 de enero de 2021 inició el juicio de Joaquín Naasón García\n",
       "\n",
       "Los cargos estaban relacionados con el abuso de menores, producción de pronografía e incluso tráfico de personas, entre otros.\n",
       "https://t.co/8qwEvydrf4</td> </tr><tr><td>5</td><td>9124</td><td>0.285</td> <td>EFEnoticias</td><td> Un centenar de profesores mantienen cortado esta mañana el tráfico en la Ronda Litoral, a la altura de la Vila Olímpica de Barcelona, lo que está causando grandes retenciones de tráfico en esta vía en el tercer día de huelga de la enseñanza.\n",
       "\n",
       "https://t.co/jIsziPxkn7</td> </tr><tr><td>6</td><td>16142</td><td>0.286</td> <td>Reforma</td><td> #Entérate Intentos de asalto y poca infraestructura carretera en el Estado de México obstaculiza el reparto de ayuda del Banco de Alimentos Poniente https://t.co/MPpkMmpRX8</td> </tr><tr><td>7</td><td>23285</td><td>0.287</td> <td>El_Universal_Mx</td><td> De acuerdo con datos de la Administración de Control de Drogas (DEA) de Estados Unidos, en la versión original, el fentanilo es considerado de 30 a 50 veces más potente que la heroína https://t.co/9mWdq9W8PA https://t.co/bqchRWkYvZ</td> </tr>\n",
       "</table>\n"
      ],
      "text/plain": [
       "<h2>resultados for \"trafico de drogas\"</h2>\n",
       "<table>\n",
       "<th>  <td>id</td> <td>dist</td> <td>user</td> </td>message<td> </th>\n",
       "    <tr><td>1</td><td>22544</td><td>0.245</td> <td>LaRazon_mx</td><td> #SSPC: Red de tráfico de migrantes es ubicada en #Guanajuato y #Tamaulipas https://t.co/2TdiV3G2Zf https://t.co/hctIUWIx7G</td> </tr><tr><td>2</td><td>22011</td><td>0.263</td> <td>AristeguiOnline</td><td> El comercio ilegal de drogas se digitaliza con la pandemia https://t.co/dzZtvcjBAA https://t.co/hrG2x5a5xs</td> </tr><tr><td>3</td><td>5839</td><td>0.284</td> <td>AristeguiOnline</td><td> Dos presuntos asesinos de taxistas de la Ciudad de México fueron detenidos\n",
       "\n",
       "https://t.co/I1WMMoLgzO</td> </tr><tr><td>4</td><td>3848</td><td>0.285</td> <td>Reforma</td><td> El 6 de enero de 2021 inició el juicio de Joaquín Naasón García\n",
       "\n",
       "Los cargos estaban relacionados con el abuso de menores, producción de pronografía e incluso tráfico de personas, entre otros.\n",
       "https://t.co/8qwEvydrf4</td> </tr><tr><td>5</td><td>9124</td><td>0.285</td> <td>EFEnoticias</td><td> Un centenar de profesores mantienen cortado esta mañana el tráfico en la Ronda Litoral, a la altura de la Vila Olímpica de Barcelona, lo que está causando grandes retenciones de tráfico en esta vía en el tercer día de huelga de la enseñanza.\n",
       "\n",
       "https://t.co/jIsziPxkn7</td> </tr><tr><td>6</td><td>16142</td><td>0.286</td> <td>Reforma</td><td> #Entérate Intentos de asalto y poca infraestructura carretera en el Estado de México obstaculiza el reparto de ayuda del Banco de Alimentos Poniente https://t.co/MPpkMmpRX8</td> </tr><tr><td>7</td><td>23285</td><td>0.287</td> <td>El_Universal_Mx</td><td> De acuerdo con datos de la Administración de Control de Drogas (DEA) de Estados Unidos, en la versión original, el fentanilo es considerado de 30 a 50 veces más potente que la heroína https://t.co/9mWdq9W8PA https://t.co/bqchRWkYvZ</td> </tr>\n",
       "</table>\n"
      ]
     },
     "metadata": {},
     "output_type": "display_data"
    },
    {
     "name": "stdout",
     "output_type": "stream",
     "text": [
      "  0.001338 seconds (6 allocations: 7.375 KiB)\n"
     ]
    },
    {
     "data": {
      "text/html": [
       "<h2>resultados for \"covid corona virus\"</h2>\n",
       "<table>\n",
       "<th>  <td>id</td> <td>dist</td> <td>user</td> </td>message<td> </th>\n",
       "    <tr><td>1</td><td>28803</td><td>0.452</td> <td>bbcmundo</td><td> Los vacunados transmiten menos el virus. \n",
       "\n",
       "https://t.co/BYtDcmYqwj</td> </tr><tr><td>2</td><td>7976</td><td>0.462</td> <td>abc_es</td><td> Primeros datos de la eficacia de dos antivirales frente al virus de la viruela del simio https://t.co/TdBHvIIT3w</td> </tr><tr><td>3</td><td>3632</td><td>0.468</td> <td>AristeguiOnline</td><td> Molnupiravir elimina el virus SARS-CoV-2 activamente infeccioso al tercer día de comenzar la terapia: estudio https://t.co/93yBkWlj3G</td> </tr><tr><td>4</td><td>6122</td><td>0.476</td> <td>El_Universal_Mx</td><td> Es el primer deceso registrado en la entidad por esa variante del virus SARS-CoV-2 https://t.co/3FlnzSNpbk</td> </tr><tr><td>5</td><td>15380</td><td>0.477</td> <td>bbcmundo</td><td> El alentador efecto de la vacuna contra el virus del papiloma humano (VPH) en la reducción del cáncer de cuello uterino https://t.co/rQV9L9Q9F4</td> </tr><tr><td>6</td><td>14629</td><td>0.482</td> <td>SinEmbargoMX</td><td> Fármacos contra enfermedad inflamatoria intestinal protegerían de la COVID grave https://t.co/b7yXzIGahI https://t.co/nGZVBpX9Xi</td> </tr><tr><td>7</td><td>9472</td><td>0.484</td> <td>TelemundoNews</td><td> ⚠️ 💊 @Pfizer retira del mercado algunos medicamentos contra la hipertensión por posible riesgo de cáncer.\n",
       " \n",
       "Otros medicamentos genéricos también fueron sacados del mercado.\n",
       "\n",
       "https://t.co/JJ3oac4Gek</td> </tr>\n",
       "</table>\n"
      ],
      "text/plain": [
       "<h2>resultados for \"covid corona virus\"</h2>\n",
       "<table>\n",
       "<th>  <td>id</td> <td>dist</td> <td>user</td> </td>message<td> </th>\n",
       "    <tr><td>1</td><td>28803</td><td>0.452</td> <td>bbcmundo</td><td> Los vacunados transmiten menos el virus. \n",
       "\n",
       "https://t.co/BYtDcmYqwj</td> </tr><tr><td>2</td><td>7976</td><td>0.462</td> <td>abc_es</td><td> Primeros datos de la eficacia de dos antivirales frente al virus de la viruela del simio https://t.co/TdBHvIIT3w</td> </tr><tr><td>3</td><td>3632</td><td>0.468</td> <td>AristeguiOnline</td><td> Molnupiravir elimina el virus SARS-CoV-2 activamente infeccioso al tercer día de comenzar la terapia: estudio https://t.co/93yBkWlj3G</td> </tr><tr><td>4</td><td>6122</td><td>0.476</td> <td>El_Universal_Mx</td><td> Es el primer deceso registrado en la entidad por esa variante del virus SARS-CoV-2 https://t.co/3FlnzSNpbk</td> </tr><tr><td>5</td><td>15380</td><td>0.477</td> <td>bbcmundo</td><td> El alentador efecto de la vacuna contra el virus del papiloma humano (VPH) en la reducción del cáncer de cuello uterino https://t.co/rQV9L9Q9F4</td> </tr><tr><td>6</td><td>14629</td><td>0.482</td> <td>SinEmbargoMX</td><td> Fármacos contra enfermedad inflamatoria intestinal protegerían de la COVID grave https://t.co/b7yXzIGahI https://t.co/nGZVBpX9Xi</td> </tr><tr><td>7</td><td>9472</td><td>0.484</td> <td>TelemundoNews</td><td> ⚠️ 💊 @Pfizer retira del mercado algunos medicamentos contra la hipertensión por posible riesgo de cáncer.\n",
       " \n",
       "Otros medicamentos genéricos también fueron sacados del mercado.\n",
       "\n",
       "https://t.co/JJ3oac4Gek</td> </tr>\n",
       "</table>\n"
      ]
     },
     "metadata": {},
     "output_type": "display_data"
    }
   ],
   "source": [
    "\n",
    "display(@htl \"<h1>Ejemplos de búsqueda</h1>\")\n",
    "search_and_display(index, \"el gobierno de andres manuel lopez\", 7, D, E, T)\n",
    "search_and_display(index, \"trafico de drogas\", 7, D, E, T)\n",
    "search_and_display(index, \"covid corona virus\", 7, D, E, T)\n"
   ]
  },
  {
   "cell_type": "code",
   "execution_count": 21,
   "id": "b4028733-5dd7-46e0-addb-5f7959766695",
   "metadata": {},
   "outputs": [
    {
     "data": {
      "text/html": [
       "<h1>Ejemplos de búsqueda (mensajes aleatorios)</h1>"
      ],
      "text/plain": [
       "<h1>Ejemplos de búsqueda (mensajes aleatorios)</h1>"
      ]
     },
     "metadata": {},
     "output_type": "display_data"
    },
    {
     "name": "stdout",
     "output_type": "stream",
     "text": [
      "  0.000538 seconds (4 allocations: 1.750 KiB)\n"
     ]
    },
    {
     "data": {
      "text/html": [
       "<h2>resultados for \"RT @DeTodos_Modos: 🗞️😎 @julioastillero es un periodista que mezcla el oficio periodístico con la pasión por la política 👊🏾\n",
       "\n",
       "¡Esta noche @Jo…\"</h2>\n",
       "<table>\n",
       "<th>  <td>id</td> <td>dist</td> <td>user</td> </td>message<td> </th>\n",
       "    <tr><td>1</td><td>3316</td><td>0.0</td> <td>julioastillero</td><td> RT @DeTodos_Modos: 🗞️😎 @julioastillero es un periodista que mezcla el oficio periodístico con la pasión por la política 👊🏾\n",
       "\n",
       "¡Esta noche @Jo…</td> </tr><tr><td>2</td><td>21659</td><td>0.081</td> <td>julioastillero</td><td> RT @adituzita: 🙌🏽✨ No se pierdan esta entrevista que le haré a @etiennista en el programa de @julioastillero. La violencia y la intoleranci…</td> </tr><tr><td>3</td><td>13193</td><td>0.082</td> <td>teleSURtv</td><td> RT @EnMediatica: Hoy @EnMediática todo el análisis de la agenda noticiosa con @OrlandoPerezEC sólo por @teleSURtv. Empezamos..! https://t.c…</td> </tr><tr><td>4</td><td>27678</td><td>0.082</td> <td>teleSURtv</td><td> RT @EnMediatica: Hoy @EnMediática todo el análisis de la agenda noticiosa con @OrlandoPerezEC sólo por @teleSURtv. Empezamos..!  https://t.…</td> </tr><tr><td>5</td><td>17046</td><td>0.082</td> <td>teleSURtv</td><td> RT @EnMediatica: Hoy @EnMediática todo el análisis de la agenda noticiosa con @OrlandoPerezEC sólo por @teleSURtv. Empezamos..! https://t.c…</td> </tr><tr><td>6</td><td>20716</td><td>0.082</td> <td>teleSURtv</td><td> RT @EnMediatica: Hoy @EnMediática todo el análisis de la agenda noticiosa con @OrlandoPerezEC sólo por @teleSURtv. Empezamos..!  https://t.…</td> </tr><tr><td>7</td><td>21510</td><td>0.089</td> <td>NTN24</td><td> RT @LaNocheNTN24: Es tema en @LaNocheNTN24 | No se pierda la gran entrevista de @CGurisattiNTN24 con el candidato presidencial por el @Coal…</td> </tr>\n",
       "</table>\n"
      ],
      "text/plain": [
       "<h2>resultados for \"RT @DeTodos_Modos: 🗞️😎 @julioastillero es un periodista que mezcla el oficio periodístico con la pasión por la política 👊🏾\n",
       "\n",
       "¡Esta noche @Jo…\"</h2>\n",
       "<table>\n",
       "<th>  <td>id</td> <td>dist</td> <td>user</td> </td>message<td> </th>\n",
       "    <tr><td>1</td><td>3316</td><td>0.0</td> <td>julioastillero</td><td> RT @DeTodos_Modos: 🗞️😎 @julioastillero es un periodista que mezcla el oficio periodístico con la pasión por la política 👊🏾\n",
       "\n",
       "¡Esta noche @Jo…</td> </tr><tr><td>2</td><td>21659</td><td>0.081</td> <td>julioastillero</td><td> RT @adituzita: 🙌🏽✨ No se pierdan esta entrevista que le haré a @etiennista en el programa de @julioastillero. La violencia y la intoleranci…</td> </tr><tr><td>3</td><td>13193</td><td>0.082</td> <td>teleSURtv</td><td> RT @EnMediatica: Hoy @EnMediática todo el análisis de la agenda noticiosa con @OrlandoPerezEC sólo por @teleSURtv. Empezamos..! https://t.c…</td> </tr><tr><td>4</td><td>27678</td><td>0.082</td> <td>teleSURtv</td><td> RT @EnMediatica: Hoy @EnMediática todo el análisis de la agenda noticiosa con @OrlandoPerezEC sólo por @teleSURtv. Empezamos..!  https://t.…</td> </tr><tr><td>5</td><td>17046</td><td>0.082</td> <td>teleSURtv</td><td> RT @EnMediatica: Hoy @EnMediática todo el análisis de la agenda noticiosa con @OrlandoPerezEC sólo por @teleSURtv. Empezamos..! https://t.c…</td> </tr><tr><td>6</td><td>20716</td><td>0.082</td> <td>teleSURtv</td><td> RT @EnMediatica: Hoy @EnMediática todo el análisis de la agenda noticiosa con @OrlandoPerezEC sólo por @teleSURtv. Empezamos..!  https://t.…</td> </tr><tr><td>7</td><td>21510</td><td>0.089</td> <td>NTN24</td><td> RT @LaNocheNTN24: Es tema en @LaNocheNTN24 | No se pierda la gran entrevista de @CGurisattiNTN24 con el candidato presidencial por el @Coal…</td> </tr>\n",
       "</table>\n"
      ]
     },
     "metadata": {},
     "output_type": "display_data"
    },
    {
     "name": "stdout",
     "output_type": "stream",
     "text": [
      "  0.000709 seconds (4 allocations: 1.750 KiB)\n"
     ]
    },
    {
     "data": {
      "text/html": [
       "<h2>resultados for \"No solo se buscaba proteger a Margarita Zavala, también a la familia Gómez del Campo, que no se nos olvide.\"</h2>\n",
       "<table>\n",
       "<th>  <td>id</td> <td>dist</td> <td>user</td> </td>message<td> </th>\n",
       "    <tr><td>1</td><td>19425</td><td>0.0</td> <td>abrahamendieta</td><td> No solo se buscaba proteger a Margarita Zavala, también a la familia Gómez del Campo, que no se nos olvide.</td> </tr><tr><td>2</td><td>5650</td><td>0.062</td> <td>abrahamendieta</td><td> @Mabelle2606 @AguedaBc73 @DiputadosMorena @AndreaChavezTre @ChicShion La presentó el Senado, las modificaciones son el mecanismo parlamentario que te permite devolverlo.\n",
       "\n",
       "Y no está mal que se presente y se hable de ese tema, pero no así, que lo cambien y se vuelve a discutir, pero que no se abandone, porque hay que proteger a los trabajadores.</td> </tr><tr><td>3</td><td>28668</td><td>0.071</td> <td>SinEmbargoMX</td><td> 🚨 #URGENTE | José Ramón Cossío dijo que no sabe de dónde AMLO le agarró tirria, y que a lo mejor hay alguien que lo mal aconseja, pues conoce a los X. González, pero no se relaciona con ellos https://t.co/DNvQu1wpg3 https://t.co/IztRPMlghZ</td> </tr><tr><td>4</td><td>4361</td><td>0.074</td> <td>el_pais</td><td> 🔊 El segundo día se lo dedicamos a Feijóo, candidato a las forzadas primarias del PP. Nos preguntamos quién es y cuál es su plan con dos de los periodistas que más le conocen. Porque, pese a sus años en la política, sigue siendo desconocido para muchos https://t.co/QRQ8SweTOQ https://t.co/KB0NUfatWV</td> </tr><tr><td>5</td><td>5877</td><td>0.074</td> <td>abrahamendieta</td><td> Se indigna Margarita Zavala cada vez en la Cámara de Diputados le recuerdan Guardería ABC. \n",
       "\n",
       "Hoy, Zaldivar cuenta como Calderón lo presionó con todo para intentar proteger a la familia Zavala.\n",
       "\n",
       "Prohibido olvidar.</td> </tr><tr><td>6</td><td>20047</td><td>0.074</td> <td>PublimetroChile</td><td> En medio de la discusión por la crisis migratoria, Felipe Kast le dijo a Navarro que no tenía derecho a nada, porque no defendía los DDHH.\n",
       "\n",
       "https://t.co/qECQ6wKGHx</td> </tr><tr><td>7</td><td>12275</td><td>0.075</td> <td>AdriDelgadoRuiz</td><td> &quot;El problema es que la gente se conduce como si ya no hubiera pandemia. Basta salir un minuto a la calle para darse cuenta que se saturan lugares y que no se usa el cubreboca&quot;. Dijo el Dr. Antonio Lazcano para  #ElDedoenlaLLaga. #ElHeraldoRadio del @heraldodemexico.</td> </tr>\n",
       "</table>\n"
      ],
      "text/plain": [
       "<h2>resultados for \"No solo se buscaba proteger a Margarita Zavala, también a la familia Gómez del Campo, que no se nos olvide.\"</h2>\n",
       "<table>\n",
       "<th>  <td>id</td> <td>dist</td> <td>user</td> </td>message<td> </th>\n",
       "    <tr><td>1</td><td>19425</td><td>0.0</td> <td>abrahamendieta</td><td> No solo se buscaba proteger a Margarita Zavala, también a la familia Gómez del Campo, que no se nos olvide.</td> </tr><tr><td>2</td><td>5650</td><td>0.062</td> <td>abrahamendieta</td><td> @Mabelle2606 @AguedaBc73 @DiputadosMorena @AndreaChavezTre @ChicShion La presentó el Senado, las modificaciones son el mecanismo parlamentario que te permite devolverlo.\n",
       "\n",
       "Y no está mal que se presente y se hable de ese tema, pero no así, que lo cambien y se vuelve a discutir, pero que no se abandone, porque hay que proteger a los trabajadores.</td> </tr><tr><td>3</td><td>28668</td><td>0.071</td> <td>SinEmbargoMX</td><td> 🚨 #URGENTE | José Ramón Cossío dijo que no sabe de dónde AMLO le agarró tirria, y que a lo mejor hay alguien que lo mal aconseja, pues conoce a los X. González, pero no se relaciona con ellos https://t.co/DNvQu1wpg3 https://t.co/IztRPMlghZ</td> </tr><tr><td>4</td><td>4361</td><td>0.074</td> <td>el_pais</td><td> 🔊 El segundo día se lo dedicamos a Feijóo, candidato a las forzadas primarias del PP. Nos preguntamos quién es y cuál es su plan con dos de los periodistas que más le conocen. Porque, pese a sus años en la política, sigue siendo desconocido para muchos https://t.co/QRQ8SweTOQ https://t.co/KB0NUfatWV</td> </tr><tr><td>5</td><td>5877</td><td>0.074</td> <td>abrahamendieta</td><td> Se indigna Margarita Zavala cada vez en la Cámara de Diputados le recuerdan Guardería ABC. \n",
       "\n",
       "Hoy, Zaldivar cuenta como Calderón lo presionó con todo para intentar proteger a la familia Zavala.\n",
       "\n",
       "Prohibido olvidar.</td> </tr><tr><td>6</td><td>20047</td><td>0.074</td> <td>PublimetroChile</td><td> En medio de la discusión por la crisis migratoria, Felipe Kast le dijo a Navarro que no tenía derecho a nada, porque no defendía los DDHH.\n",
       "\n",
       "https://t.co/qECQ6wKGHx</td> </tr><tr><td>7</td><td>12275</td><td>0.075</td> <td>AdriDelgadoRuiz</td><td> &quot;El problema es que la gente se conduce como si ya no hubiera pandemia. Basta salir un minuto a la calle para darse cuenta que se saturan lugares y que no se usa el cubreboca&quot;. Dijo el Dr. Antonio Lazcano para  #ElDedoenlaLLaga. #ElHeraldoRadio del @heraldodemexico.</td> </tr>\n",
       "</table>\n"
      ]
     },
     "metadata": {},
     "output_type": "display_data"
    },
    {
     "name": "stdout",
     "output_type": "stream",
     "text": [
      "  0.000568 seconds (4 allocations: 1.750 KiB)\n"
     ]
    },
    {
     "data": {
      "text/html": [
       "<h2>resultados for \"En España el Gobierno y la mayoría de comunidades han decidido esperar. ¿Significa esto que estamos abocados a un desbordamiento de los hospitales? No. Lo que significa es que estamos apostando con más optimismo o menos cautela https://t.co/qMgQVm6TEE\"</h2>\n",
       "<table>\n",
       "<th>  <td>id</td> <td>dist</td> <td>user</td> </td>message<td> </th>\n",
       "    <tr><td>1</td><td>19989</td><td>0.0</td> <td>el_pais</td><td> En España el Gobierno y la mayoría de comunidades han decidido esperar. ¿Significa esto que estamos abocados a un desbordamiento de los hospitales? No. Lo que significa es que estamos apostando con más optimismo o menos cautela https://t.co/qMgQVm6TEE</td> </tr><tr><td>2</td><td>13065</td><td>0.046</td> <td>el_pais</td><td> &quot;La covid cambia las cosas, es difícil que los votantes aprueben recortes en sanidad después de lo que ha pasado. Y creo que hay algo nuevo flotando en el aire: se pueden ganar elecciones diciendo que hay que gravar más a los ultrarricos&quot; https://t.co/JL47P4HAqH</td> </tr><tr><td>3</td><td>25178</td><td>0.048</td> <td>TelemundoNews</td><td> 🗣 El presidente de #México niega que su país esté dominado por la violencia: &quot;No es lo que dicen&quot;.\n",
       "\n",
       "Las balaceras y los asesinatos van en aumento, por eso el Gobierno de EE.UU. amplió una alerta de viaje a este país para sus ciudadanos.\n",
       "https://t.co/vMNQu3DJ5N</td> </tr><tr><td>4</td><td>23174</td><td>0.048</td> <td>epigmenioibarra</td><td> Lo que enloquece a la derecha, empeñada en negar el peso histórico del 2018, es la certeza de que si AMLO tiene un testamento político habremos millones de mexicanas y mexicanos decididos -en el caso de que fuera necesario- a garantizar que la voluntad en él expresada se cumpla.</td> </tr><tr><td>5</td><td>5290</td><td>0.049</td> <td>CNNEE</td><td> Confirman en Nueva York cinco casos de la variante ómicron del coronavirus. No todos son de viajeros, lo que implica que ya hay transmisión comunitaria. Esto es lo que sabemos\n",
       "https://t.co/A3laqbBbik https://t.co/A3WEpXJt9f</td> </tr><tr><td>6</td><td>29240</td><td>0.049</td> <td>bbcmundo</td><td> &quot;Muchas personas no quieren pagar impuestos. Eso es un sentimiento que creo que es común en muchos de los países de la región centroamericana y latinoamericana, porque al final las personas no ven los beneficios&quot;\n",
       "https://t.co/zmIkn2jlcf</td> </tr><tr><td>7</td><td>24553</td><td>0.05</td> <td>AdriDelgadoRuiz</td><td> ¿Los restos de la #Malinche están enterrados en #Jilotepec? “Hay versiones que indican que sí, tenemos una de las iglesias más antiguas del país y tenemos tanta historia y riqueza cultural que es posible pensar que sí”:\n",
       "Rodolfo Noguez presidente Municipal de #Jilotepec https://t.co/ojzBF5lwid</td> </tr>\n",
       "</table>\n"
      ],
      "text/plain": [
       "<h2>resultados for \"En España el Gobierno y la mayoría de comunidades han decidido esperar. ¿Significa esto que estamos abocados a un desbordamiento de los hospitales? No. Lo que significa es que estamos apostando con más optimismo o menos cautela https://t.co/qMgQVm6TEE\"</h2>\n",
       "<table>\n",
       "<th>  <td>id</td> <td>dist</td> <td>user</td> </td>message<td> </th>\n",
       "    <tr><td>1</td><td>19989</td><td>0.0</td> <td>el_pais</td><td> En España el Gobierno y la mayoría de comunidades han decidido esperar. ¿Significa esto que estamos abocados a un desbordamiento de los hospitales? No. Lo que significa es que estamos apostando con más optimismo o menos cautela https://t.co/qMgQVm6TEE</td> </tr><tr><td>2</td><td>13065</td><td>0.046</td> <td>el_pais</td><td> &quot;La covid cambia las cosas, es difícil que los votantes aprueben recortes en sanidad después de lo que ha pasado. Y creo que hay algo nuevo flotando en el aire: se pueden ganar elecciones diciendo que hay que gravar más a los ultrarricos&quot; https://t.co/JL47P4HAqH</td> </tr><tr><td>3</td><td>25178</td><td>0.048</td> <td>TelemundoNews</td><td> 🗣 El presidente de #México niega que su país esté dominado por la violencia: &quot;No es lo que dicen&quot;.\n",
       "\n",
       "Las balaceras y los asesinatos van en aumento, por eso el Gobierno de EE.UU. amplió una alerta de viaje a este país para sus ciudadanos.\n",
       "https://t.co/vMNQu3DJ5N</td> </tr><tr><td>4</td><td>23174</td><td>0.048</td> <td>epigmenioibarra</td><td> Lo que enloquece a la derecha, empeñada en negar el peso histórico del 2018, es la certeza de que si AMLO tiene un testamento político habremos millones de mexicanas y mexicanos decididos -en el caso de que fuera necesario- a garantizar que la voluntad en él expresada se cumpla.</td> </tr><tr><td>5</td><td>5290</td><td>0.049</td> <td>CNNEE</td><td> Confirman en Nueva York cinco casos de la variante ómicron del coronavirus. No todos son de viajeros, lo que implica que ya hay transmisión comunitaria. Esto es lo que sabemos\n",
       "https://t.co/A3laqbBbik https://t.co/A3WEpXJt9f</td> </tr><tr><td>6</td><td>29240</td><td>0.049</td> <td>bbcmundo</td><td> &quot;Muchas personas no quieren pagar impuestos. Eso es un sentimiento que creo que es común en muchos de los países de la región centroamericana y latinoamericana, porque al final las personas no ven los beneficios&quot;\n",
       "https://t.co/zmIkn2jlcf</td> </tr><tr><td>7</td><td>24553</td><td>0.05</td> <td>AdriDelgadoRuiz</td><td> ¿Los restos de la #Malinche están enterrados en #Jilotepec? “Hay versiones que indican que sí, tenemos una de las iglesias más antiguas del país y tenemos tanta historia y riqueza cultural que es posible pensar que sí”:\n",
       "Rodolfo Noguez presidente Municipal de #Jilotepec https://t.co/ojzBF5lwid</td> </tr>\n",
       "</table>\n"
      ]
     },
     "metadata": {},
     "output_type": "display_data"
    }
   ],
   "source": [
    "display(@htl \"<h1>Ejemplos de búsqueda (mensajes aleatorios)</h1>\")\n",
    "\n",
    "for i in 1:3\n",
    "    for qid in rand(1:length(D.corpus))\n",
    "        search_and_display(index, D.corpus[qid], 7, D, E, T)\n",
    "    end\n",
    "end"
   ]
  },
  {
   "cell_type": "markdown",
   "id": "1e8f09a9-75aa-49c5-9e35-4c486defa289",
   "metadata": {},
   "source": [
    "# Actividades\n",
    "- Reproduzca el ejercicio de este notebook, use embeddings para español, cambié los ejemplos. Se sugiere el uso de <https://ingeotec.github.io/regional-spanish-models/> donde encontrará modelos fastText regionalizados del español, pero puede usar otros embeddings.\n",
    "- ¿Qué piensa de las diferencias de tamaño entre los documentos y las consultas? esto como afecta a la representación semántica.\n",
    "- ¿Cuál sería el símil de bigramas y trigramas para este esquema de representación semántica? Implementelo.\n",
    "- Implemente su búsqueda semántica. Si usa Julia considere `SimilaritySearch.jl` y si usa Python considere `faiss`.\n",
    "- Reporte su notebook y anote sus soluciones a las preguntas planteadas. Reporte los resultados de sus implementaciones, compare contra las alternativas presentadas en este reporte. Discuta sus resultados. Finalice el reporte  con reflexiones sobre el uso de nubes de puntos en lugar de bolsas de palabras tradicionales. Anoté sus conclusiones.\n",
    "\n",
    "# Bibliografía\n",
    "- [KSKW2015] Kusner, M., Sun, Y., Kolkin, N., & Weinberger, K. (2015, June). From word embeddings to document distances. In International conference on machine learning (pp. 957-966). PMLR.\n",
    "- [PW2009] Pele, O., & Werman, M. (2009, September). Fast and robust earth mover's distances. In 2009 IEEE 12th international conference on computer vision (pp. 460-467). IEEE.\n"
   ]
  }
 ],
 "metadata": {
  "kernelspec": {
   "display_name": "Julia 1.7.2",
   "language": "julia",
   "name": "julia-1.7"
  },
  "language_info": {
   "file_extension": ".jl",
   "mimetype": "application/julia",
   "name": "julia",
   "version": "1.7.2"
  }
 },
 "nbformat": 4,
 "nbformat_minor": 5
}
