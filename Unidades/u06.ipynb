{
 "cells": [
  {
   "cell_type": "markdown",
   "id": "9fc189d2-656e-41d4-be84-dcf6ccf9537b",
   "metadata": {},
   "source": [
    "# Búsqueda semántica\n",
    "Autor: Eric S. Tellez <eric.tellez@infotec.mx>\n",
    "\n",
    "Cuando la información esta poco específicada, las palabras adecuadas podrían ser dificiles de tener o limitar. En estos casos, la representaciones semánticas que permiten buscar _lo que se desea_ por medio de conceptos nos acerca más a la posibilidad de obtener información útil.\n",
    "\n",
    "Como anteriormente se presento, una de las representaciones semánticas más aceptadas son aquellas basadas en word embeddings. Recordando, estas son representaciones vectoriales de cada palabra, donde la semántica se asocia con la estructura en un espacio métrico, i.e., cercano en la métrica significa similar semánticamente.\n",
    "\n",
    "# Representación semántica de documentos basada en _word embeddings_\n",
    "Un documento puede verse como una bolsa de palabras, como en el modelado tradicional, pero en lugar de usar los términos como símbolos se pueden usar los vectores semánticos. El como usar esta nube de puntos multidimensional para obtener una representación computacionalmente manejable y a la vez eficaz, es un tema que ha llevado al desarrollo de modelos cada vez más complejos, como pueden ser los grandes modelos de lenguaje. \n",
    "\n",
    "La manera forma más directa de definir una representación semántica de documentos es el uso de centroides, esto es, un vector de la misma dimensión que sumariza a un conjunto de vectores usando su media geométrica. De manera más precisa, sea $E$ una matrix $m \\times n$ de embeddings del vocabulario, i.e., considerando un vocabulario de tamaño $n$ y dimensión $m$.\n",
    "Sea $D_{m,\\ell}$ la submatriz de $E$ que contiene los $\\ell$ vectores del documento $\\textsf{doc}$. El prototipo $\\vec{d}$ de $D$ esta definido de la siguiente forma:\n",
    "\n",
    "\\begin{equation}\n",
    "\\vec{d} = \\frac{1}{\\ell} \\sum_{i=1}^\\ell D_i\n",
    "\\end{equation}\n",
    "\n",
    "\n",
    "Donde $D_i$ es el i-ésimo vector columna de $D$. Dado que se usa el coseno como similitud, también es factible el cálculo como la suma vectorial normalizada, esto es,\n",
    "\n",
    "$$ \\vec{d} = \\frac{\\sum_{i=1}^\\ell D_i}{\\lVert \\sum_{i=1}^\\ell D_i \\rVert}$$\n",
    "\n",
    "También es posible añadir información local basada en la representación de bolsa de plabras. Por ejemplo, realizar una suma pesada usando el peso de las palabras mediante la frecuencia normalizada de término (TF) o la probabilidad de término $pt$, ver unidad 3 para más información.\n",
    "\n",
    "$$\\vec{d} = \\sum_{i=1}^{\\ell} \\textsf{TF}(t_i, \\textsf{doc}) \\cdot D_i$$\n",
    "\n",
    "Donde $t_i$ es el $i$-ésimo término de $\\textsf{doc}$. Note que el orden no se captura y solo es necesario para la notación.\n",
    "\n",
    "# Ejemplo\n"
   ]
  },
  {
   "cell_type": "code",
   "execution_count": 1,
   "id": "cd04785e-aa4e-493c-9aa8-5c54c8e1f322",
   "metadata": {},
   "outputs": [
    {
     "name": "stderr",
     "output_type": "stream",
     "text": [
      "\u001b[32m\u001b[1m  Activating\u001b[22m\u001b[39m project at `~/IR-2022/Unidades`\n"
     ]
    }
   ],
   "source": [
    "using Pkg\n",
    "Pkg.activate(\".\")\n",
    "\n",
    "using SimilaritySearch, TextSearch, Plots, KNearestCenters, LinearAlgebra, Embeddings, HypertextLiteral, CodecZlib, JSON, Base64, Random\n",
    "using Downloads: download"
   ]
  },
  {
   "cell_type": "code",
   "execution_count": 2,
   "id": "95d9bcb8-60f5-42d5-adb3-dca1f1b480b3",
   "metadata": {},
   "outputs": [
    {
     "data": {
      "text/plain": [
       "scores (generic function with 1 method)"
      ]
     },
     "execution_count": 2,
     "metadata": {},
     "output_type": "execute_result"
    }
   ],
   "source": [
    "include(\"knn.jl\")"
   ]
  },
  {
   "cell_type": "code",
   "execution_count": 3,
   "id": "e4fcb23f-9564-4910-9a4f-1f5d4a582d5f",
   "metadata": {},
   "outputs": [
    {
     "data": {
      "text/plain": [
       "text_model_and_vectors (generic function with 1 method)"
      ]
     },
     "execution_count": 3,
     "metadata": {},
     "output_type": "execute_result"
    }
   ],
   "source": [
    "struct ValidVocabulary{DictType} <: AbstractTokenTransformation\n",
    "    valid::DictType\n",
    "end\n",
    "\n",
    "TextSearch.transform_unigram(S::ValidVocabulary, tok) = haskey(S.valid, tok) ? tok : nothing\n",
    "\n",
    "function text_model_and_vectors(\n",
    "        corpus, vocab;\n",
    "        localweighting=TpWeighting(),\n",
    "        globalweighting=BinaryGlobalWeighting(),\n",
    "        nlist=[1],\n",
    "        qlist=[],\n",
    "        slist=[],\n",
    "        group_usr=false,\n",
    "        group_url=true,\n",
    "        group_num=true,\n",
    "        del_diac=true,\n",
    "        lc=true\n",
    "    )\n",
    "\n",
    "    voc = Vocabulary(length(corpus))\n",
    "    for v in vocab\n",
    "       push!(voc, v)\n",
    "    end\n",
    "    \n",
    "    tt = ValidVocabulary(voc.token2id)\n",
    "    textconfig = TextConfig(; group_usr, group_url, del_diac, lc, group_num, nlist, qlist, slist, tt)\n",
    "    tokenize_and_append!(voc, textconfig, corpus)\n",
    "    model = VectorModel(globalweighting, localweighting, voc)\n",
    "    (; textconfig, model, voc)\n",
    "end\n"
   ]
  },
  {
   "cell_type": "code",
   "execution_count": 4,
   "id": "af8bad4e-c31b-4506-8341-47c4130d664a",
   "metadata": {},
   "outputs": [
    {
     "data": {
      "text/plain": [
       "create_index (generic function with 1 method)"
      ]
     },
     "execution_count": 4,
     "metadata": {},
     "output_type": "execute_result"
    }
   ],
   "source": [
    "function embeddings(embname=\"MX.vec\")\n",
    "    embfile = \"../data/$embname\"\n",
    "    !isfile(embfile) && download(\"http://geo.ingeotec.mx/~sadit/regional-spanish-models/$embname\", embfile)\n",
    "    emb = load_embeddings(FastText_Text, embfile)  # you can change with any of the available embeddings in `Embeddings`\n",
    "    for c in eachcol(emb.embeddings)\n",
    "        normalize!(c)\n",
    "    end\n",
    "    \n",
    "    (; X=emb.embeddings, vocab=emb.vocab)\n",
    "end\n",
    "\n",
    "function vectorize_as_prototype!(c, text, E, T)\n",
    "    x = vectorize(T.model, T.textconfig, text; normalize=false)\n",
    "    if length(x) == 1 && haskey(x, 0)\n",
    "        #@warn \"empty vector $(Int(i)) selecting a random vector for it \" # $(corpus[i])\n",
    "        rand!(c)\n",
    "    else\n",
    "        for (id, weight) in x\n",
    "            id == 0 && continue\n",
    "             c .= c .+ weight .* view(E.X, :, id)\n",
    "        end\n",
    "    end\n",
    "    \n",
    "    normalize!(c)\n",
    "end\n",
    "\n",
    "function vectorize_corpus_as_prototypes(corpus, E, T)\n",
    "    dim = size(E.X, 1)\n",
    "    n = length(corpus)\n",
    "    C = zeros(Float32, dim, n)\n",
    "    # Threads.@threads\n",
    "    for i in 1:n\n",
    "        vectorize_as_prototype!(view(C, :, i), corpus[i], E, T)\n",
    "    end\n",
    "    \n",
    "    C\n",
    "end\n",
    "\n",
    "function create_index(db, recall)\n",
    "    dist = NormalizedCosineDistance()\n",
    "    index = SearchGraph(; dist, db, verbose=false)\n",
    "    index!(index; callbacks=SearchGraphCallbacks(MinRecall(recall)))\n",
    "    optimize!(index, MinRecall(recall))\n",
    "    index\n",
    "end"
   ]
  },
  {
   "cell_type": "code",
   "execution_count": 5,
   "id": "47d9e476-d8ce-4d8e-bb7a-f6cf87e195ca",
   "metadata": {},
   "outputs": [
    {
     "name": "stdout",
     "output_type": "stream",
     "text": [
      " 34.632897 seconds (11.18 M allocations: 11.654 GiB, 2.34% gc time, 1.33% compilation time)\n"
     ]
    },
    {
     "data": {
      "text/plain": [
       "(X = Float32[-0.039261177 -0.044748805 … -0.051247735 0.05427054; 0.09036921 0.03974378 … -0.017566958 0.06556069; … ; -0.043778244 0.04899757 … -0.038878556 -0.097423464; 0.021343287 0.012799488 … -0.0017221138 0.006681864], vocab = [\"</s>\", \"_usr\", \"que\", \"de\", \",\", \".\", \"y\", \"a\", \"la\", \"no\"  …  \"tannehil\", \"movelike\", \"peliblanca\", \"cristianzav\", \"rqq\", \"preguntartee\", \"sutedes\", \"venciendolo\", \"eviscerado\", \"fectivo\"])"
      ]
     },
     "execution_count": 5,
     "metadata": {},
     "output_type": "execute_result"
    }
   ],
   "source": [
    "@time E = embeddings()"
   ]
  },
  {
   "cell_type": "code",
   "execution_count": 6,
   "id": "9d1dc14b-02cb-45ab-8466-5783251ef877",
   "metadata": {},
   "outputs": [
    {
     "data": {
      "text/html": [
       "<h1>Cargando el corpus</h1>"
      ],
      "text/plain": [
       "<h1>Cargando el corpus</h1>"
      ]
     },
     "metadata": {},
     "output_type": "display_data"
    },
    {
     "name": "stdout",
     "output_type": "stream",
     "text": [
      "(unique(D.labels), T.model) = ([\"AdriDelgadoRuiz\", \"El_Universal_Mx\", \"CNNEE\", \"NTN24\", \"UniNoticias\", \"TelemundoNews\", \"SinEmbargoMX\", \"Reforma\", \"abc_es\", \"azucenau\", \"AristeguiOnline\", \"el_pais\", \"EFEnoticias\", \"PublimetroMX\", \"PublimetroChile\", \"Radio_Formula\", \"RicardoAlemanMx\", \"epigmenioibarra\", \"Milenio\", \"LaRazon_mx\", \"abrahamendieta\", \"PublimetroCol\", \"teleSURtv\", \"bbcmundo\", \"julioastillero\"], {VectorModel global_weighting=BinaryGlobalWeighting(), local_weighting=TpWeighting(), train-voc=438136, train-n=30244, maxoccs=43239})\n"
     ]
    },
    {
     "data": {
      "text/plain": [
       "([\"AdriDelgadoRuiz\", \"El_Universal_Mx\", \"CNNEE\", \"NTN24\", \"UniNoticias\", \"TelemundoNews\", \"SinEmbargoMX\", \"Reforma\", \"abc_es\", \"azucenau\"  …  \"Radio_Formula\", \"RicardoAlemanMx\", \"epigmenioibarra\", \"Milenio\", \"LaRazon_mx\", \"abrahamendieta\", \"PublimetroCol\", \"teleSURtv\", \"bbcmundo\", \"julioastillero\"], {VectorModel global_weighting=BinaryGlobalWeighting(), local_weighting=TpWeighting(), train-voc=438136, train-n=30244, maxoccs=43239})"
      ]
     },
     "execution_count": 6,
     "metadata": {},
     "output_type": "execute_result"
    }
   ],
   "source": [
    "display(@htl \"<h1>Cargando el corpus</h1>\")\n",
    "\n",
    "include(\"read_datasets.jl\")\n",
    "D, Q = read_news()\n",
    "T = text_model_and_vectors(D.corpus, E.vocab)\n",
    "@show unique(D.labels), T.model"
   ]
  },
  {
   "cell_type": "code",
   "execution_count": 7,
   "id": "593497b1-0da0-45e3-83ae-54507b233311",
   "metadata": {},
   "outputs": [
    {
     "name": "stdout",
     "output_type": "stream",
     "text": [
      "  1.762749 seconds (3.32 M allocations: 311.708 MiB, 7.56% gc time, 26.48% compilation time)\n"
     ]
    },
    {
     "data": {
      "text/plain": [
       "300×30244 Matrix{Float32}:\n",
       " -0.0423962   -0.0251833    -0.0519478    …  -0.0799066   -0.10502\n",
       "  0.0103375   -0.00889515   -0.00474732       0.0161733    0.0393123\n",
       "  0.0049359    0.00402093   -0.00378763      -0.00500099   0.0214965\n",
       " -0.0453966    0.00096476   -0.00438061       0.0346591    0.0259731\n",
       "  0.0604199    0.0177876     0.00936113      -0.0200484   -0.00529611\n",
       "  0.0789069   -0.00163282    0.036198     …   0.0155074    0.0160663\n",
       " -0.0572526   -0.000435368   0.0127748       -0.00196163  -0.00115164\n",
       "  0.0680706   -0.000611415  -0.010575        -0.038946     0.0171894\n",
       "  0.0752703    0.032632      0.0883861        0.0999684    0.120996\n",
       "  0.0161864   -0.0126705     2.09727f-5      -0.0145413   -0.0141206\n",
       "  0.0662018    0.0401931     0.0825404    …   0.0804474    0.0961554\n",
       "  0.0830081   -0.0211806     0.032581         0.0237437    0.0534497\n",
       "  0.073465    -0.0110519     0.0609841        0.0552063    0.0185002\n",
       "  ⋮                                       ⋱               \n",
       " -0.0227881   -0.0770469    -0.0622075       -0.100098    -0.0545645\n",
       " -0.053801     0.000158801   0.00856683      -0.00389432   0.0427671\n",
       "  0.0203261    0.0456863     0.00397556   …  -0.0148514    0.0153433\n",
       "  0.0272888   -0.0442297    -0.0450446       -0.00867296  -0.0600828\n",
       " -0.0050853   -0.0345245     0.017875        -0.0209298   -0.0345639\n",
       "  0.0299581    0.00752951    0.0867682        0.0931601    0.0697419\n",
       " -0.00970032   0.0389065     0.0113325       -0.00112104   0.0456252\n",
       " -0.0107349    0.0125296     0.000983611  …  -0.00726285   0.0492561\n",
       " -0.0107373   -0.0715274    -0.072368        -0.054085    -0.0501009\n",
       " -0.00236926   0.0111963     0.0214158        0.0251453   -0.0158427\n",
       " -0.105747    -0.0722381    -0.0855958       -0.0822872   -0.0854846\n",
       "  0.0137438    0.038387      0.0558345        0.0572654    0.0513377"
      ]
     },
     "execution_count": 7,
     "metadata": {},
     "output_type": "execute_result"
    }
   ],
   "source": [
    "@time C = vectorize_corpus_as_prototypes(D.corpus, E, T)"
   ]
  },
  {
   "cell_type": "code",
   "execution_count": null,
   "id": "a9ff6403-f5e7-470e-90e0-baa79eccb793",
   "metadata": {},
   "outputs": [],
   "source": []
  },
  {
   "cell_type": "markdown",
   "id": "0bcb60ff-68c0-4c09-a8dd-70079ba59994",
   "metadata": {},
   "source": [
    "### Se crea el índice métrico"
   ]
  },
  {
   "cell_type": "code",
   "execution_count": 8,
   "id": "3d9108c0-02a7-4afe-bfa2-7b436f7bd0f0",
   "metadata": {},
   "outputs": [
    {
     "name": "stdout",
     "output_type": "stream",
     "text": [
      "  6.825807 seconds (12.93 M allocations: 1.448 GiB, 4.16% gc time, 85.67% compilation time)\n"
     ]
    },
    {
     "data": {
      "text/plain": [
       "SearchGraph{NormalizedCosineDistance, MatrixDatabase{Matrix{Float32}}, BeamSearch}\n",
       "  dist: NormalizedCosineDistance NormalizedCosineDistance()\n",
       "  db: MatrixDatabase{Matrix{Float32}}\n",
       "  links: Array{Vector{Int32}}((30244,))\n",
       "  locks: Array{Base.Threads.SpinLock}((30244,))\n",
       "  hints: Array{Int32}((102,)) Int32[1, 48, 50, 52, 154, 222, 229, 235, 259, 308  …  2102, 2126, 2148, 2155, 2170, 2261, 2265, 2291, 2293, 2298]\n",
       "  search_algo: BeamSearch\n",
       "  verbose: Bool false\n"
      ]
     },
     "execution_count": 8,
     "metadata": {},
     "output_type": "execute_result"
    }
   ],
   "source": [
    "@time index = create_index(MatrixDatabase(C), 0.95)"
   ]
  },
  {
   "cell_type": "markdown",
   "id": "7e629f24-ecf3-4908-a100-b70559dca89a",
   "metadata": {},
   "source": [
    "### Búsqueda de todos los vecinos cercanos en el vocabulario, observe la conveniencia del uso de un índice\n",
    "\n",
    "Entre más sean las consultas más se ve la bondad (~42k consultas)"
   ]
  },
  {
   "cell_type": "code",
   "execution_count": 9,
   "id": "f43463a8-0c73-4903-a78c-6b2405ddf812",
   "metadata": {},
   "outputs": [
    {
     "data": {
      "text/html": [
       "<div>(brute vs indexed) macro-recall: 0.9367341970733968, n: 3361</div>\n",
       "<div>searchgraph search time: 1.051562974, scores: <span class=\"Core-NamedTuple\">(macrof1 = 0.23143995250110957, macrorecall = 0.2379487085465786, accuracy = 0.26331448973519783)</span></div>\n",
       "<div>brute force search time: 0.593575376, scores: <span class=\"Core-NamedTuple\">(macrof1 = 0.24237709344732106, macrorecall = 0.2483987112746582, accuracy = 0.27432311811960725)</span></div>\n"
      ],
      "text/plain": [
       "<div>(brute vs indexed) macro-recall: 0.9367341970733968, n: 3361</div>\n",
       "<div>searchgraph search time: 1.051562974, scores: <span class=\"Core-NamedTuple\">(macrof1 = 0.23143995250110957, macrorecall = 0.2379487085465786, accuracy = 0.26331448973519783)</span></div>\n",
       "<div>brute force search time: 0.593575376, scores: <span class=\"Core-NamedTuple\">(macrof1 = 0.24237709344732106, macrorecall = 0.2483987112746582, accuracy = 0.27432311811960725)</span></div>\n"
      ]
     },
     "execution_count": 9,
     "metadata": {},
     "output_type": "execute_result"
    }
   ],
   "source": [
    "let k = 11\n",
    "    Qvectors = MatrixDatabase(vectorize_corpus_as_prototypes(Q.corpus, E, T))\n",
    "    t1 = @elapsed I, _ = searchbatch(index, Qvectors, k)\n",
    "    # WARNING: Don't run the following line, it takes too much time\n",
    "    ex = ExhaustiveSearch(; db=index.db, dist=index.dist)\n",
    "    t2 = @elapsed gI, _ = searchbatch(ex, Qvectors, k)\n",
    "    r = macrorecall(gI, I)\n",
    "    n = size(I, 2)\n",
    "    labels = String.(D.labels)\n",
    "    s1 = scores(Q.labels, knn(I, labels))\n",
    "    s2 = scores(Q.labels, knn(gI, labels))\n",
    "    \n",
    "    @htl \"\"\"\n",
    "    <div>(brute vs indexed) macro-recall: $r, n: $n</div>\n",
    "    <div>searchgraph search time: $t1, scores: $s1</div>\n",
    "    <div>brute force search time: $t2, scores: $s2</div>\n",
    "    \"\"\"\n",
    "end"
   ]
  },
  {
   "cell_type": "code",
   "execution_count": null,
   "id": "e9a41c3f-e904-46a4-99a5-0c3d61fa6722",
   "metadata": {},
   "outputs": [],
   "source": []
  },
  {
   "cell_type": "markdown",
   "id": "51b68d72-5256-49ad-b22b-e896f58bc29f",
   "metadata": {},
   "source": [
    "### Búsqueda y presentación de los resultados"
   ]
  },
  {
   "cell_type": "code",
   "execution_count": 10,
   "id": "e045135e-4189-47cc-9513-72a5000527f6",
   "metadata": {},
   "outputs": [
    {
     "data": {
      "text/plain": [
       "search_and_display (generic function with 1 method)"
      ]
     },
     "execution_count": 10,
     "metadata": {},
     "output_type": "execute_result"
    }
   ],
   "source": [
    "function search_and_display(index, qtext, k, D, E, T)\n",
    "    res = KnnResult(k)\n",
    "    q = zeros(Float32, size(E.X, 1))\n",
    "    vectorize_as_prototype!(q, qtext, E, T)\n",
    "    @time search(index, q, res)\n",
    "    \n",
    "    L = []\n",
    "    for (j, (id, d)) in enumerate(res)\n",
    "        push!(L, @htl \"<tr><td>$j</td><td>$id</td><td>$(round(d, digits=3))</td> <td>$(D.labels[id])</td><td> $(D.corpus[id])</td> </tr>\")\n",
    "    end\n",
    "\n",
    "    display(@htl \"\"\"<h2>resultados for \"$qtext\"</h2>\n",
    "    <table>\n",
    "    <th>  <td>id</td> <td>dist</td> <td>user</td> </td>message<td> </th>\n",
    "        $L\n",
    "    </table>\n",
    "    \"\"\")\n",
    "end\n"
   ]
  },
  {
   "cell_type": "code",
   "execution_count": 11,
   "id": "b1123924-05b2-4799-b2f7-18b3d2c46f4d",
   "metadata": {},
   "outputs": [
    {
     "data": {
      "text/html": [
       "<h1>Ejemplos de búsqueda</h1>"
      ],
      "text/plain": [
       "<h1>Ejemplos de búsqueda</h1>"
      ]
     },
     "metadata": {},
     "output_type": "display_data"
    },
    {
     "name": "stdout",
     "output_type": "stream",
     "text": [
      "  0.000167 seconds\n"
     ]
    },
    {
     "data": {
      "text/html": [
       "<h2>resultados for \"el gobierno de andres manuel lopez\"</h2>\n",
       "<table>\n",
       "<th>  <td>id</td> <td>dist</td> <td>user</td> </td>message<td> </th>\n",
       "    <tr><td>1</td><td>5559</td><td>0.113</td> <td>Radio_Formula</td><td> El presidente Andrés Manuel López Obrador exhibió el supuesto sueldo de Loret de Mola... con un documento con errores ortográficos. \n",
       "\n",
       "https://t.co/nx4bDFfw8p</td> </tr><tr><td>2</td><td>3647</td><td>0.122</td> <td>CNNEE</td><td> Así pensó un plan B el presidente de México Andrés Manuel López Obrador para organizar la consulta de revocación de mandato.\n",
       "https://t.co/GaAeHdjhAG</td> </tr><tr><td>3</td><td>2292</td><td>0.124</td> <td>El_Universal_Mx</td><td> RT @ElUniversal_SLP: #Entérate El gobernador Ricardo Gallardo Cardona pidió al presidente Andrés Manuel López Obrador apoyo para reforzar l…</td> </tr><tr><td>4</td><td>383</td><td>0.124</td> <td>azucenau</td><td> Informa @RicardoAnayaC que ha sido citado en el Reclusorio Norte por lo que acusa persecución de parte del presidente Andrés Manuel López Obrador</td> </tr><tr><td>5</td><td>27877</td><td>0.127</td> <td>azucenau</td><td> #ALMOMENTO | Por segundo día consecutivo, el presidente Andrés Manuel López Obrador salió esta tarde de Palacio Nacional. https://t.co/tdBqBYhhuc</td> </tr><tr><td>6</td><td>24904</td><td>0.135</td> <td>azucenau</td><td> #AzucenaxMilenio | Durante #LaMañanera, el presidente López Obrador respaldó nuevamente al gobernador de Veracruz, Cuitláhuac García https://t.co/iX2ubBHbyJ</td> </tr><tr><td>7</td><td>1231</td><td>0.136</td> <td>azucenau</td><td> #ENVIVO | Mensaje conjunto del presidente López Obrador y Alejandro Giammattei, presidente de #Guatemala https://t.co/uOwcCHGKt3</td> </tr>\n",
       "</table>\n"
      ],
      "text/plain": [
       "<h2>resultados for \"el gobierno de andres manuel lopez\"</h2>\n",
       "<table>\n",
       "<th>  <td>id</td> <td>dist</td> <td>user</td> </td>message<td> </th>\n",
       "    <tr><td>1</td><td>5559</td><td>0.113</td> <td>Radio_Formula</td><td> El presidente Andrés Manuel López Obrador exhibió el supuesto sueldo de Loret de Mola... con un documento con errores ortográficos. \n",
       "\n",
       "https://t.co/nx4bDFfw8p</td> </tr><tr><td>2</td><td>3647</td><td>0.122</td> <td>CNNEE</td><td> Así pensó un plan B el presidente de México Andrés Manuel López Obrador para organizar la consulta de revocación de mandato.\n",
       "https://t.co/GaAeHdjhAG</td> </tr><tr><td>3</td><td>2292</td><td>0.124</td> <td>El_Universal_Mx</td><td> RT @ElUniversal_SLP: #Entérate El gobernador Ricardo Gallardo Cardona pidió al presidente Andrés Manuel López Obrador apoyo para reforzar l…</td> </tr><tr><td>4</td><td>383</td><td>0.124</td> <td>azucenau</td><td> Informa @RicardoAnayaC que ha sido citado en el Reclusorio Norte por lo que acusa persecución de parte del presidente Andrés Manuel López Obrador</td> </tr><tr><td>5</td><td>27877</td><td>0.127</td> <td>azucenau</td><td> #ALMOMENTO | Por segundo día consecutivo, el presidente Andrés Manuel López Obrador salió esta tarde de Palacio Nacional. https://t.co/tdBqBYhhuc</td> </tr><tr><td>6</td><td>24904</td><td>0.135</td> <td>azucenau</td><td> #AzucenaxMilenio | Durante #LaMañanera, el presidente López Obrador respaldó nuevamente al gobernador de Veracruz, Cuitláhuac García https://t.co/iX2ubBHbyJ</td> </tr><tr><td>7</td><td>1231</td><td>0.136</td> <td>azucenau</td><td> #ENVIVO | Mensaje conjunto del presidente López Obrador y Alejandro Giammattei, presidente de #Guatemala https://t.co/uOwcCHGKt3</td> </tr>\n",
       "</table>\n"
      ]
     },
     "metadata": {},
     "output_type": "display_data"
    },
    {
     "name": "stdout",
     "output_type": "stream",
     "text": [
      "  0.000815 seconds\n"
     ]
    },
    {
     "data": {
      "text/html": [
       "<h2>resultados for \"trafico de drogas\"</h2>\n",
       "<table>\n",
       "<th>  <td>id</td> <td>dist</td> <td>user</td> </td>message<td> </th>\n",
       "    <tr><td>1</td><td>22544</td><td>0.245</td> <td>LaRazon_mx</td><td> #SSPC: Red de tráfico de migrantes es ubicada en #Guanajuato y #Tamaulipas https://t.co/2TdiV3G2Zf https://t.co/hctIUWIx7G</td> </tr><tr><td>2</td><td>22011</td><td>0.263</td> <td>AristeguiOnline</td><td> El comercio ilegal de drogas se digitaliza con la pandemia https://t.co/dzZtvcjBAA https://t.co/hrG2x5a5xs</td> </tr><tr><td>3</td><td>13880</td><td>0.277</td> <td>Radio_Formula</td><td> #ÚltimaHora 🚨 Emma Coronel, esposa del &quot;Chapo&quot; Guzmán, se declara culpable de tráfico de drogas y lavado de dinero\n",
       "https://t.co/25f8JceKUw https://t.co/p1UHTs3Ln9</td> </tr><tr><td>4</td><td>7925</td><td>0.283</td> <td>PublimetroMX</td><td> Ricardo y Yolanda Salazar, familiares de la primera esposa del Chapo Guzmán, están detenidos por tráfico de drogas.\n",
       "https://t.co/XysLhWruIf</td> </tr><tr><td>5</td><td>3848</td><td>0.285</td> <td>Reforma</td><td> El 6 de enero de 2021 inició el juicio de Joaquín Naasón García\n",
       "\n",
       "Los cargos estaban relacionados con el abuso de menores, producción de pronografía e incluso tráfico de personas, entre otros.\n",
       "https://t.co/8qwEvydrf4</td> </tr><tr><td>6</td><td>9124</td><td>0.285</td> <td>EFEnoticias</td><td> Un centenar de profesores mantienen cortado esta mañana el tráfico en la Ronda Litoral, a la altura de la Vila Olímpica de Barcelona, lo que está causando grandes retenciones de tráfico en esta vía en el tercer día de huelga de la enseñanza.\n",
       "\n",
       "https://t.co/jIsziPxkn7</td> </tr><tr><td>7</td><td>16919</td><td>0.286</td> <td>LaRazon_mx</td><td> . @ONU_es aprueba resolución mexicana para combatir tráfico de armas https://t.co/B7YEbjID5n https://t.co/WBD30vdeJa</td> </tr>\n",
       "</table>\n"
      ],
      "text/plain": [
       "<h2>resultados for \"trafico de drogas\"</h2>\n",
       "<table>\n",
       "<th>  <td>id</td> <td>dist</td> <td>user</td> </td>message<td> </th>\n",
       "    <tr><td>1</td><td>22544</td><td>0.245</td> <td>LaRazon_mx</td><td> #SSPC: Red de tráfico de migrantes es ubicada en #Guanajuato y #Tamaulipas https://t.co/2TdiV3G2Zf https://t.co/hctIUWIx7G</td> </tr><tr><td>2</td><td>22011</td><td>0.263</td> <td>AristeguiOnline</td><td> El comercio ilegal de drogas se digitaliza con la pandemia https://t.co/dzZtvcjBAA https://t.co/hrG2x5a5xs</td> </tr><tr><td>3</td><td>13880</td><td>0.277</td> <td>Radio_Formula</td><td> #ÚltimaHora 🚨 Emma Coronel, esposa del &quot;Chapo&quot; Guzmán, se declara culpable de tráfico de drogas y lavado de dinero\n",
       "https://t.co/25f8JceKUw https://t.co/p1UHTs3Ln9</td> </tr><tr><td>4</td><td>7925</td><td>0.283</td> <td>PublimetroMX</td><td> Ricardo y Yolanda Salazar, familiares de la primera esposa del Chapo Guzmán, están detenidos por tráfico de drogas.\n",
       "https://t.co/XysLhWruIf</td> </tr><tr><td>5</td><td>3848</td><td>0.285</td> <td>Reforma</td><td> El 6 de enero de 2021 inició el juicio de Joaquín Naasón García\n",
       "\n",
       "Los cargos estaban relacionados con el abuso de menores, producción de pronografía e incluso tráfico de personas, entre otros.\n",
       "https://t.co/8qwEvydrf4</td> </tr><tr><td>6</td><td>9124</td><td>0.285</td> <td>EFEnoticias</td><td> Un centenar de profesores mantienen cortado esta mañana el tráfico en la Ronda Litoral, a la altura de la Vila Olímpica de Barcelona, lo que está causando grandes retenciones de tráfico en esta vía en el tercer día de huelga de la enseñanza.\n",
       "\n",
       "https://t.co/jIsziPxkn7</td> </tr><tr><td>7</td><td>16919</td><td>0.286</td> <td>LaRazon_mx</td><td> . @ONU_es aprueba resolución mexicana para combatir tráfico de armas https://t.co/B7YEbjID5n https://t.co/WBD30vdeJa</td> </tr>\n",
       "</table>\n"
      ]
     },
     "metadata": {},
     "output_type": "display_data"
    },
    {
     "name": "stdout",
     "output_type": "stream",
     "text": [
      "  0.002049 seconds (2 allocations: 14.375 KiB)\n"
     ]
    },
    {
     "data": {
      "text/html": [
       "<h2>resultados for \"covid corona virus\"</h2>\n",
       "<table>\n",
       "<th>  <td>id</td> <td>dist</td> <td>user</td> </td>message<td> </th>\n",
       "    <tr><td>1</td><td>28803</td><td>0.452</td> <td>bbcmundo</td><td> Los vacunados transmiten menos el virus. \n",
       "\n",
       "https://t.co/BYtDcmYqwj</td> </tr><tr><td>2</td><td>7976</td><td>0.462</td> <td>abc_es</td><td> Primeros datos de la eficacia de dos antivirales frente al virus de la viruela del simio https://t.co/TdBHvIIT3w</td> </tr><tr><td>3</td><td>3632</td><td>0.468</td> <td>AristeguiOnline</td><td> Molnupiravir elimina el virus SARS-CoV-2 activamente infeccioso al tercer día de comenzar la terapia: estudio https://t.co/93yBkWlj3G</td> </tr><tr><td>4</td><td>6122</td><td>0.476</td> <td>El_Universal_Mx</td><td> Es el primer deceso registrado en la entidad por esa variante del virus SARS-CoV-2 https://t.co/3FlnzSNpbk</td> </tr><tr><td>5</td><td>15380</td><td>0.477</td> <td>bbcmundo</td><td> El alentador efecto de la vacuna contra el virus del papiloma humano (VPH) en la reducción del cáncer de cuello uterino https://t.co/rQV9L9Q9F4</td> </tr><tr><td>6</td><td>14629</td><td>0.482</td> <td>SinEmbargoMX</td><td> Fármacos contra enfermedad inflamatoria intestinal protegerían de la COVID grave https://t.co/b7yXzIGahI https://t.co/nGZVBpX9Xi</td> </tr><tr><td>7</td><td>27059</td><td>0.485</td> <td>AristeguiOnline</td><td> #Video | Se corona Barbora Krejcikova en Roland Garros https://t.co/4TLdKn4pVU https://t.co/8QSjnu0I3r</td> </tr>\n",
       "</table>\n"
      ],
      "text/plain": [
       "<h2>resultados for \"covid corona virus\"</h2>\n",
       "<table>\n",
       "<th>  <td>id</td> <td>dist</td> <td>user</td> </td>message<td> </th>\n",
       "    <tr><td>1</td><td>28803</td><td>0.452</td> <td>bbcmundo</td><td> Los vacunados transmiten menos el virus. \n",
       "\n",
       "https://t.co/BYtDcmYqwj</td> </tr><tr><td>2</td><td>7976</td><td>0.462</td> <td>abc_es</td><td> Primeros datos de la eficacia de dos antivirales frente al virus de la viruela del simio https://t.co/TdBHvIIT3w</td> </tr><tr><td>3</td><td>3632</td><td>0.468</td> <td>AristeguiOnline</td><td> Molnupiravir elimina el virus SARS-CoV-2 activamente infeccioso al tercer día de comenzar la terapia: estudio https://t.co/93yBkWlj3G</td> </tr><tr><td>4</td><td>6122</td><td>0.476</td> <td>El_Universal_Mx</td><td> Es el primer deceso registrado en la entidad por esa variante del virus SARS-CoV-2 https://t.co/3FlnzSNpbk</td> </tr><tr><td>5</td><td>15380</td><td>0.477</td> <td>bbcmundo</td><td> El alentador efecto de la vacuna contra el virus del papiloma humano (VPH) en la reducción del cáncer de cuello uterino https://t.co/rQV9L9Q9F4</td> </tr><tr><td>6</td><td>14629</td><td>0.482</td> <td>SinEmbargoMX</td><td> Fármacos contra enfermedad inflamatoria intestinal protegerían de la COVID grave https://t.co/b7yXzIGahI https://t.co/nGZVBpX9Xi</td> </tr><tr><td>7</td><td>27059</td><td>0.485</td> <td>AristeguiOnline</td><td> #Video | Se corona Barbora Krejcikova en Roland Garros https://t.co/4TLdKn4pVU https://t.co/8QSjnu0I3r</td> </tr>\n",
       "</table>\n"
      ]
     },
     "metadata": {},
     "output_type": "display_data"
    }
   ],
   "source": [
    "\n",
    "display(@htl \"<h1>Ejemplos de búsqueda</h1>\")\n",
    "search_and_display(index, \"el gobierno de andres manuel lopez\", 7, D, E, T)\n",
    "search_and_display(index, \"trafico de drogas\", 7, D, E, T)\n",
    "search_and_display(index, \"covid corona virus\", 7, D, E, T)\n"
   ]
  },
  {
   "cell_type": "code",
   "execution_count": 12,
   "id": "b4028733-5dd7-46e0-addb-5f7959766695",
   "metadata": {},
   "outputs": [
    {
     "data": {
      "text/html": [
       "<h1>Ejemplos de búsqueda (mensajes aleatorios)</h1>"
      ],
      "text/plain": [
       "<h1>Ejemplos de búsqueda (mensajes aleatorios)</h1>"
      ]
     },
     "metadata": {},
     "output_type": "display_data"
    },
    {
     "name": "stdout",
     "output_type": "stream",
     "text": [
      "  0.000385 seconds\n"
     ]
    },
    {
     "data": {
      "text/html": [
       "<h2>resultados for \"ANÁLISIS\n",
       "Mientras occidente teme un ataque de Rusia a Ucrania, los medios estatales rusos lo pintan como un plan de la OTAN para tomar el control de su energía. https://t.co/pHWO4RA5Ui\"</h2>\n",
       "<table>\n",
       "<th>  <td>id</td> <td>dist</td> <td>user</td> </td>message<td> </th>\n",
       "    <tr><td>1</td><td>18790</td><td>0.0</td> <td>CNNEE</td><td> ANÁLISIS\n",
       "Mientras occidente teme un ataque de Rusia a Ucrania, los medios estatales rusos lo pintan como un plan de la OTAN para tomar el control de su energía. https://t.co/pHWO4RA5Ui</td> </tr><tr><td>2</td><td>7116</td><td>0.055</td> <td>EFEnoticias</td><td> El presidente de Ucrania, Volodímir Zelenski, pidió este sábado a los ucranianos que no se dejen llevar por el pánico ante el drástico incremento de las informaciones sobre la inminencia de un ataque ruso.\n",
       "\n",
       "https://t.co/OR0AVaBSqn</td> </tr><tr><td>3</td><td>5841</td><td>0.056</td> <td>bbcmundo</td><td> Edward Fishman, exespecialista del gobierno de EE.UU., evalúa en una entrevista con @GerardoLissardy el efecto de las sanciones económicas a Rusia por invadir a Ucrania y advierte que el objetivo ya no es cambiar el comportamiento de Vladimir Putin. https://t.co/IDYPKCsWBa</td> </tr><tr><td>4</td><td>15811</td><td>0.057</td> <td>CNNEE</td><td> Los líderes de Europa acordaron la eliminación gradual de las importaciones de carbón ruso como parte de un nuevo paquete de sanciones impulsadas por la evidencia de actos atroces en Bucha, Ucrania. Un embargo al petróleo podría ser lo siguiente. https://t.co/ZxYZzHzbny</td> </tr><tr><td>5</td><td>10500</td><td>0.058</td> <td>NTN24</td><td> &quot;Puede darse un escenario en el que Rusia busque lanzar una ofensiva de guerra no militar, económica y cibernética contra los adversarios de Venezuela que serían principalmente Colombia y Guyana&quot;: Joseph Humire, experto en seguridad global https://t.co/CXyaotioAD https://t.co/7bublWGlvB</td> </tr><tr><td>6</td><td>18374</td><td>0.058</td> <td>el_pais</td><td> En este centro conviven ucranios, rusos o bielorrusos. El régimen de Putin no les representa: unas han escapado de la homofobia del régimen ruso y otros, de la invasión de su país. “No es un problema entre rusos y ucranios, el problema es Putin” https://t.co/NU8E26pegp</td> </tr><tr><td>7</td><td>688</td><td>0.058</td> <td>CNNEE</td><td> La secretaria del Tesoro de EE.UU. admitió que falló en anticipar el tiempo que afectaría la alta inflación a los consumidores estadounidenses, mientras el gobierno de Biden trabaja para contener un creciente lastre político. https://t.co/ZyR78dmdcC</td> </tr>\n",
       "</table>\n"
      ],
      "text/plain": [
       "<h2>resultados for \"ANÁLISIS\n",
       "Mientras occidente teme un ataque de Rusia a Ucrania, los medios estatales rusos lo pintan como un plan de la OTAN para tomar el control de su energía. https://t.co/pHWO4RA5Ui\"</h2>\n",
       "<table>\n",
       "<th>  <td>id</td> <td>dist</td> <td>user</td> </td>message<td> </th>\n",
       "    <tr><td>1</td><td>18790</td><td>0.0</td> <td>CNNEE</td><td> ANÁLISIS\n",
       "Mientras occidente teme un ataque de Rusia a Ucrania, los medios estatales rusos lo pintan como un plan de la OTAN para tomar el control de su energía. https://t.co/pHWO4RA5Ui</td> </tr><tr><td>2</td><td>7116</td><td>0.055</td> <td>EFEnoticias</td><td> El presidente de Ucrania, Volodímir Zelenski, pidió este sábado a los ucranianos que no se dejen llevar por el pánico ante el drástico incremento de las informaciones sobre la inminencia de un ataque ruso.\n",
       "\n",
       "https://t.co/OR0AVaBSqn</td> </tr><tr><td>3</td><td>5841</td><td>0.056</td> <td>bbcmundo</td><td> Edward Fishman, exespecialista del gobierno de EE.UU., evalúa en una entrevista con @GerardoLissardy el efecto de las sanciones económicas a Rusia por invadir a Ucrania y advierte que el objetivo ya no es cambiar el comportamiento de Vladimir Putin. https://t.co/IDYPKCsWBa</td> </tr><tr><td>4</td><td>15811</td><td>0.057</td> <td>CNNEE</td><td> Los líderes de Europa acordaron la eliminación gradual de las importaciones de carbón ruso como parte de un nuevo paquete de sanciones impulsadas por la evidencia de actos atroces en Bucha, Ucrania. Un embargo al petróleo podría ser lo siguiente. https://t.co/ZxYZzHzbny</td> </tr><tr><td>5</td><td>10500</td><td>0.058</td> <td>NTN24</td><td> &quot;Puede darse un escenario en el que Rusia busque lanzar una ofensiva de guerra no militar, económica y cibernética contra los adversarios de Venezuela que serían principalmente Colombia y Guyana&quot;: Joseph Humire, experto en seguridad global https://t.co/CXyaotioAD https://t.co/7bublWGlvB</td> </tr><tr><td>6</td><td>18374</td><td>0.058</td> <td>el_pais</td><td> En este centro conviven ucranios, rusos o bielorrusos. El régimen de Putin no les representa: unas han escapado de la homofobia del régimen ruso y otros, de la invasión de su país. “No es un problema entre rusos y ucranios, el problema es Putin” https://t.co/NU8E26pegp</td> </tr><tr><td>7</td><td>688</td><td>0.058</td> <td>CNNEE</td><td> La secretaria del Tesoro de EE.UU. admitió que falló en anticipar el tiempo que afectaría la alta inflación a los consumidores estadounidenses, mientras el gobierno de Biden trabaja para contener un creciente lastre político. https://t.co/ZyR78dmdcC</td> </tr>\n",
       "</table>\n"
      ]
     },
     "metadata": {},
     "output_type": "display_data"
    },
    {
     "name": "stdout",
     "output_type": "stream",
     "text": [
      "  0.000608 seconds\n"
     ]
    },
    {
     "data": {
      "text/html": [
       "<h2>resultados for \"RT @rturrent: Recuerdo cómo soñaron con cancelar #DosBocas o  con que no se terminara a tiempo. Hoy se inaugura la refinería que tiene acer…\"</h2>\n",
       "<table>\n",
       "<th>  <td>id</td> <td>dist</td> <td>user</td> </td>message<td> </th>\n",
       "    <tr><td>1</td><td>26571</td><td>0.0</td> <td>epigmenioibarra</td><td> RT @rturrent: Recuerdo cómo soñaron con cancelar #DosBocas o  con que no se terminara a tiempo. Hoy se inaugura la refinería que tiene acer…</td> </tr><tr><td>2</td><td>24437</td><td>0.073</td> <td>el_pais</td><td> Este fin de semana se cambia la hora, pero eso no va a ayudar a la conciliación. La clave es que España no está en el huso horario que le corresponde, lo que se traduce en que los españoles llevan dos horas de retraso con el resto de Europa #hemeroteca https://t.co/gkVNV1jE2V</td> </tr><tr><td>3</td><td>24612</td><td>0.073</td> <td>Milenio</td><td> ▶ ¿Qué tanto ocurre con el avión presidencial? Aunque lo propusieron para llevar a los atletas olímpicos a #Tokio2021, salieron voces en contra diciendo que no es viable\n",
       "\n",
       "¿Qué se sabe al respecto? ¿Lo usarán o no?\n",
       "\n",
       "📺 La historia con @azucenau #AzucenaxMILENIO https://t.co/KeoXJbuIIS</td> </tr><tr><td>4</td><td>1505</td><td>0.075</td> <td>el_pais</td><td> RT @el_pais_madrid: “¿Cómo se va a pagar el alquiler si se está diciendo que no se use?”, se queja una fuente de la confianza del president…</td> </tr><tr><td>5</td><td>25940</td><td>0.076</td> <td>bbcmundo</td><td> “En México no se puede vivir tranquilo, porque cada vez que tu hijo sale, estás con el pendiente de si va a regresar bien”.\n",
       "Mario Escobar, padre de la joven Debanhi que apareció sin vida la pasada semana y cuya muerte aún se investiga, habló con BBC Mundo. https://t.co/BKFJtwx5Ha</td> </tr><tr><td>6</td><td>12275</td><td>0.076</td> <td>AdriDelgadoRuiz</td><td> &quot;El problema es que la gente se conduce como si ya no hubiera pandemia. Basta salir un minuto a la calle para darse cuenta que se saturan lugares y que no se usa el cubreboca&quot;. Dijo el Dr. Antonio Lazcano para  #ElDedoenlaLLaga. #ElHeraldoRadio del @heraldodemexico.</td> </tr><tr><td>7</td><td>21507</td><td>0.076</td> <td>epigmenioibarra</td><td> “Transformación es un eufemismo -me dijo AMLO- aquí lo que está en marcha es una revolución”.Una revolución como no ha habido otra en la historia, que se produce sin violencia y en libertad, en la que no se controla ni se reprime a nadie.\n",
       "Pido ver y dar RT\n",
       "https://t.co/Kl5W8yfrS4</td> </tr>\n",
       "</table>\n"
      ],
      "text/plain": [
       "<h2>resultados for \"RT @rturrent: Recuerdo cómo soñaron con cancelar #DosBocas o  con que no se terminara a tiempo. Hoy se inaugura la refinería que tiene acer…\"</h2>\n",
       "<table>\n",
       "<th>  <td>id</td> <td>dist</td> <td>user</td> </td>message<td> </th>\n",
       "    <tr><td>1</td><td>26571</td><td>0.0</td> <td>epigmenioibarra</td><td> RT @rturrent: Recuerdo cómo soñaron con cancelar #DosBocas o  con que no se terminara a tiempo. Hoy se inaugura la refinería que tiene acer…</td> </tr><tr><td>2</td><td>24437</td><td>0.073</td> <td>el_pais</td><td> Este fin de semana se cambia la hora, pero eso no va a ayudar a la conciliación. La clave es que España no está en el huso horario que le corresponde, lo que se traduce en que los españoles llevan dos horas de retraso con el resto de Europa #hemeroteca https://t.co/gkVNV1jE2V</td> </tr><tr><td>3</td><td>24612</td><td>0.073</td> <td>Milenio</td><td> ▶ ¿Qué tanto ocurre con el avión presidencial? Aunque lo propusieron para llevar a los atletas olímpicos a #Tokio2021, salieron voces en contra diciendo que no es viable\n",
       "\n",
       "¿Qué se sabe al respecto? ¿Lo usarán o no?\n",
       "\n",
       "📺 La historia con @azucenau #AzucenaxMILENIO https://t.co/KeoXJbuIIS</td> </tr><tr><td>4</td><td>1505</td><td>0.075</td> <td>el_pais</td><td> RT @el_pais_madrid: “¿Cómo se va a pagar el alquiler si se está diciendo que no se use?”, se queja una fuente de la confianza del president…</td> </tr><tr><td>5</td><td>25940</td><td>0.076</td> <td>bbcmundo</td><td> “En México no se puede vivir tranquilo, porque cada vez que tu hijo sale, estás con el pendiente de si va a regresar bien”.\n",
       "Mario Escobar, padre de la joven Debanhi que apareció sin vida la pasada semana y cuya muerte aún se investiga, habló con BBC Mundo. https://t.co/BKFJtwx5Ha</td> </tr><tr><td>6</td><td>12275</td><td>0.076</td> <td>AdriDelgadoRuiz</td><td> &quot;El problema es que la gente se conduce como si ya no hubiera pandemia. Basta salir un minuto a la calle para darse cuenta que se saturan lugares y que no se usa el cubreboca&quot;. Dijo el Dr. Antonio Lazcano para  #ElDedoenlaLLaga. #ElHeraldoRadio del @heraldodemexico.</td> </tr><tr><td>7</td><td>21507</td><td>0.076</td> <td>epigmenioibarra</td><td> “Transformación es un eufemismo -me dijo AMLO- aquí lo que está en marcha es una revolución”.Una revolución como no ha habido otra en la historia, que se produce sin violencia y en libertad, en la que no se controla ni se reprime a nadie.\n",
       "Pido ver y dar RT\n",
       "https://t.co/Kl5W8yfrS4</td> </tr>\n",
       "</table>\n"
      ]
     },
     "metadata": {},
     "output_type": "display_data"
    },
    {
     "name": "stdout",
     "output_type": "stream",
     "text": [
      "  0.000327 seconds\n"
     ]
    },
    {
     "data": {
      "text/html": [
       "<h2>resultados for \"#AzucenaALas10 |  La #CNDH acreditó que la fiscalía de #Veracruz detuvo arbitrariamente a José Manuel del Río Virgen \n",
       "\n",
       "El gobernador Cuitláhuac García aseguró que no hubo violación de sus derechos https://t.co/5V03Kn6cPC\"</h2>\n",
       "<table>\n",
       "<th>  <td>id</td> <td>dist</td> <td>user</td> </td>message<td> </th>\n",
       "    <tr><td>1</td><td>17349</td><td>0.0</td> <td>azucenau</td><td> #AzucenaALas10 |  La #CNDH acreditó que la fiscalía de #Veracruz detuvo arbitrariamente a José Manuel del Río Virgen \n",
       "\n",
       "El gobernador Cuitláhuac García aseguró que no hubo violación de sus derechos https://t.co/5V03Kn6cPC</td> </tr><tr><td>2</td><td>12415</td><td>0.062</td> <td>Milenio</td><td> ▶️ Mientras AMLO respalda a Cuitláhuac Garcia, gobernador de Veracruz, en su estado siguen las denuncias de abuso de autoridad\n",
       "\n",
       "Andrea está presa porque no quiso declarar contra un sujeto ya que ella no sabía nada del caso; así la justicia\n",
       "\n",
       "📺 La historia con @azucenau https://t.co/1K2vPbmLzL</td> </tr><tr><td>3</td><td>29415</td><td>0.065</td> <td>Milenio</td><td> #Trascendió | Que la #FGR niega a Lourdes Mendoza una copia del acta certificada de la denuncia de Emilio Lozoya en su contra, pese a que en la mañanera del 20 de agosto el Presidente planteó que se hiciera pública\n",
       "https://t.co/q8zk82ylFu https://t.co/jQjJq5ItxE</td> </tr><tr><td>4</td><td>2467</td><td>0.067</td> <td>RicardoAlemanMx</td><td> Esto luego de que el gobierno de Cuitláhuac García detuvo al secretario Técnico de la Junta de Coordinación Política (Jucopo) del Senado, José Manuel del Río Virgen.\n",
       "https://t.co/P6PeYpvxxd</td> </tr><tr><td>5</td><td>5106</td><td>0.068</td> <td>CNNEE</td><td> ÚLTIMA HORA \n",
       "El Poder Judicial de Honduras informó este miércoles en sus canales oficiales que el juez de primera instancia otorgó la solicitud de extradición que involucra a el expresidente Juan Orlando Hernández Alvarado. https://t.co/fCNDWhZLiy</td> </tr><tr><td>6</td><td>28665</td><td>0.069</td> <td>Milenio</td><td> ▶️ Alejandro Encinas, subsecretario de Gobernación, acusó al Poder Judicial de entorpecer investigación sobre Ayotzinapa\n",
       "\n",
       "Señaló que un juez eximió a dos hermanos presuntos miembros de &apos;Los Tilos&apos;, ¿qué sucedió con el caso?\n",
       "\n",
       "📺 La historia con @AlexDominguezB #AlexEnMILENIO https://t.co/dy3bdhg3oT</td> </tr><tr><td>7</td><td>19321</td><td>0.07</td> <td>SinEmbargoMX</td><td> 🚨#ÚltimaHora |  Alfredo Ramírez denunció que la Auditoría Superior del estado investiga el presunto fraude por 5,186 millones de pesos en la construcción, el insólito arrendamiento y la compra final de los cuarteles regionales de la policía estatal\n",
       "https://t.co/pMfce4Kzq7 https://t.co/l246JEOxGe</td> </tr>\n",
       "</table>\n"
      ],
      "text/plain": [
       "<h2>resultados for \"#AzucenaALas10 |  La #CNDH acreditó que la fiscalía de #Veracruz detuvo arbitrariamente a José Manuel del Río Virgen \n",
       "\n",
       "El gobernador Cuitláhuac García aseguró que no hubo violación de sus derechos https://t.co/5V03Kn6cPC\"</h2>\n",
       "<table>\n",
       "<th>  <td>id</td> <td>dist</td> <td>user</td> </td>message<td> </th>\n",
       "    <tr><td>1</td><td>17349</td><td>0.0</td> <td>azucenau</td><td> #AzucenaALas10 |  La #CNDH acreditó que la fiscalía de #Veracruz detuvo arbitrariamente a José Manuel del Río Virgen \n",
       "\n",
       "El gobernador Cuitláhuac García aseguró que no hubo violación de sus derechos https://t.co/5V03Kn6cPC</td> </tr><tr><td>2</td><td>12415</td><td>0.062</td> <td>Milenio</td><td> ▶️ Mientras AMLO respalda a Cuitláhuac Garcia, gobernador de Veracruz, en su estado siguen las denuncias de abuso de autoridad\n",
       "\n",
       "Andrea está presa porque no quiso declarar contra un sujeto ya que ella no sabía nada del caso; así la justicia\n",
       "\n",
       "📺 La historia con @azucenau https://t.co/1K2vPbmLzL</td> </tr><tr><td>3</td><td>29415</td><td>0.065</td> <td>Milenio</td><td> #Trascendió | Que la #FGR niega a Lourdes Mendoza una copia del acta certificada de la denuncia de Emilio Lozoya en su contra, pese a que en la mañanera del 20 de agosto el Presidente planteó que se hiciera pública\n",
       "https://t.co/q8zk82ylFu https://t.co/jQjJq5ItxE</td> </tr><tr><td>4</td><td>2467</td><td>0.067</td> <td>RicardoAlemanMx</td><td> Esto luego de que el gobierno de Cuitláhuac García detuvo al secretario Técnico de la Junta de Coordinación Política (Jucopo) del Senado, José Manuel del Río Virgen.\n",
       "https://t.co/P6PeYpvxxd</td> </tr><tr><td>5</td><td>5106</td><td>0.068</td> <td>CNNEE</td><td> ÚLTIMA HORA \n",
       "El Poder Judicial de Honduras informó este miércoles en sus canales oficiales que el juez de primera instancia otorgó la solicitud de extradición que involucra a el expresidente Juan Orlando Hernández Alvarado. https://t.co/fCNDWhZLiy</td> </tr><tr><td>6</td><td>28665</td><td>0.069</td> <td>Milenio</td><td> ▶️ Alejandro Encinas, subsecretario de Gobernación, acusó al Poder Judicial de entorpecer investigación sobre Ayotzinapa\n",
       "\n",
       "Señaló que un juez eximió a dos hermanos presuntos miembros de &apos;Los Tilos&apos;, ¿qué sucedió con el caso?\n",
       "\n",
       "📺 La historia con @AlexDominguezB #AlexEnMILENIO https://t.co/dy3bdhg3oT</td> </tr><tr><td>7</td><td>19321</td><td>0.07</td> <td>SinEmbargoMX</td><td> 🚨#ÚltimaHora |  Alfredo Ramírez denunció que la Auditoría Superior del estado investiga el presunto fraude por 5,186 millones de pesos en la construcción, el insólito arrendamiento y la compra final de los cuarteles regionales de la policía estatal\n",
       "https://t.co/pMfce4Kzq7 https://t.co/l246JEOxGe</td> </tr>\n",
       "</table>\n"
      ]
     },
     "metadata": {},
     "output_type": "display_data"
    }
   ],
   "source": [
    "display(@htl \"<h1>Ejemplos de búsqueda (mensajes aleatorios)</h1>\")\n",
    "\n",
    "for i in 1:3\n",
    "    for qid in rand(1:length(D.corpus))\n",
    "        search_and_display(index, D.corpus[qid], 7, D, E, T)\n",
    "    end\n",
    "end"
   ]
  },
  {
   "cell_type": "markdown",
   "id": "1e8f09a9-75aa-49c5-9e35-4c486defa289",
   "metadata": {},
   "source": [
    "# Actividades\n",
    "- Reproduzca el ejercicio de este notebook, use embeddings para español, cambié los ejemplos. Se sugiere el uso de <https://ingeotec.github.io/regional-spanish-models/> donde encontrará modelos fastText regionalizados del español, pero puede usar otros embeddings.\n",
    "- ¿Qué piensa de las diferencias de tamaño entre los documentos y las consultas? esto como afecta a la representación semántica.\n",
    "- ¿Cuál sería el símil de bigramas y trigramas para este esquema de representación semántica? Implementelo.\n",
    "- Implemente su búsqueda semántica. Si usa Julia considere `SimilaritySearch.jl` y si usa Python considere `faiss`.\n",
    "- Reporte su notebook y anote sus soluciones a las preguntas planteadas. Reporte los resultados de sus implementaciones, compare contra las alternativas presentadas en este reporte. Discuta sus resultados. Finalice el reporte  con reflexiones sobre el uso de nubes de puntos en lugar de bolsas de palabras tradicionales. Anoté sus conclusiones.\n",
    "\n",
    "# Bibliografía\n",
    "- [KSKW2015] Kusner, M., Sun, Y., Kolkin, N., & Weinberger, K. (2015, June). From word embeddings to document distances. In International conference on machine learning (pp. 957-966). PMLR.\n",
    "- [PW2009] Pele, O., & Werman, M. (2009, September). Fast and robust earth mover's distances. In 2009 IEEE 12th international conference on computer vision (pp. 460-467). IEEE.\n"
   ]
  }
 ],
 "metadata": {
  "kernelspec": {
   "display_name": "Julia 1.7.2",
   "language": "julia",
   "name": "julia-1.7"
  },
  "language_info": {
   "file_extension": ".jl",
   "mimetype": "application/julia",
   "name": "julia",
   "version": "1.7.2"
  }
 },
 "nbformat": 4,
 "nbformat_minor": 5
}
