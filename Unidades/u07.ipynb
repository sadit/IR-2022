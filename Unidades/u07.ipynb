{
 "cells": [
  {
   "cell_type": "markdown",
   "id": "9fc189d2-656e-41d4-be84-dcf6ccf9537b",
   "metadata": {},
   "source": [
    "# Búsqueda semántica con nubes de puntos\n",
    "Autor: Eric S. Tellez <eric.tellez@infotec.mx>\n",
    "\n",
    "## Usando la nube de puntos\n",
    "\n",
    "La representación de nube de puntos puede usarse directamente sin realizar prototipos, sin embargo, es posible que dada su complejidad, dimensión intrinseca, tenga poca utilidad en grandes volumenes de información. Por ejemplo, es posible utilizar la distancia de [Hausdorff](https://en.wikipedia.org/wiki/Hausdorff_distance); que entre dos nubes de puntos (documentos para este caso) esta definida como sigue:\n",
    "\n",
    "$$ H_d(U, V) = \\max \\left\\{ \\max_{u \\in U} \\min_{x \\in V} d(u, x), \\max_{v \\in V} \\min_{x \\in U} d(v, x) \\right\\} $$\n",
    "\n",
    "Donde $\\textsf{nn}$ encuentra el vecino cercano del primer argumento en el segundo. Podemos ver la intuición de esta distancia, analizando las partes de la expresión. \n",
    "La diferencia entre ambos conjuntos se representa con el máximo de las distancias mínimas. Note que esta parte es idéntica a resolver una búsqueda de vecinos cercanos. La parte más externa de la expresión se repite para los dos conjuntos para preservar la simétria de la función.\n",
    "\n",
    "De la misma forma, es posible obtener variaciones de interés como considerar todas las distancias cercanas en lugar de solo las máximas, lo cual puede reducir formas caprichosas de _outlayers_.\n",
    "\n",
    "$$ H^+_d(U, V) = \\frac{1}{2|U|} \\sum_{u \\in U} \\min_{x \\in V} d(u, x) + \\frac{1}{2|V|}\\sum_{v \\in V} \\min_{x \\in U} d(v, x) $$\n",
    "\n",
    "La información local de una representación de bolsa de palabras también puede ser aprovechada, por ejemplo, añadiendo información de $\\textsf{tp}$\n",
    "\n",
    "$$ H^\\textsf{pt}_d(U, V) = \\max \\left\\{\n",
    "        \\max_{u \\in U} \\left\\{\\textsf{pt}(u, U) \\min_{x \\in V} d(u, x)\\right\\},\n",
    "        \\max_{v \\in V} \\left\\{\\textsf{pt}(v, V) \\min_{x \\in U} d(v, x)\\right\\}\n",
    "     \\right\\} $$\n",
    "\n",
    "# Notas adicionales\n",
    "La versión de $H^\\textsf{pt}_d$ que usa la probabilidad de término $\\textsf{pt}$ es similar a la aproximación 2 listada en [@KSKW2015]. Los prototipos son similares a la aproximación 1 del mismo artículo. En el artículo se presenta la función de distancia _word mover's distance_ (WMD) que es una adecuación de la Earths mover's distance (EMD) [PW2009]. EMD es la solución óptima a un problema de transportación, la WMD es la adaptación teniendo en cuenta embeddings de palabras.\n",
    "\n",
    "# Ejemplo\n"
   ]
  },
  {
   "cell_type": "code",
   "execution_count": 1,
   "id": "cd04785e-aa4e-493c-9aa8-5c54c8e1f322",
   "metadata": {},
   "outputs": [
    {
     "name": "stderr",
     "output_type": "stream",
     "text": [
      "\u001b[32m\u001b[1m  Activating\u001b[22m\u001b[39m project at `~/IR-2022/Unidades`\n"
     ]
    }
   ],
   "source": [
    "using Pkg\n",
    "Pkg.activate(\".\")\n",
    "\n",
    "using SimilaritySearch, TextSearch, Plots, Word2Vec, KNearestCenters, LinearAlgebra, HypertextLiteral, JSON, CodecZlib, Random\n",
    "using Embeddings: load_embeddings, FastText_Text\n",
    "using Downloads: download"
   ]
  },
  {
   "cell_type": "code",
   "execution_count": 2,
   "id": "d2219462-7519-4273-9a39-ebb5361099c3",
   "metadata": {},
   "outputs": [
    {
     "data": {
      "text/plain": [
       "scores (generic function with 1 method)"
      ]
     },
     "execution_count": 2,
     "metadata": {},
     "output_type": "execute_result"
    }
   ],
   "source": [
    "include(\"knn.jl\")"
   ]
  },
  {
   "cell_type": "code",
   "execution_count": 3,
   "id": "9fe195c4-8f5a-4b8f-bde9-8be620397ba1",
   "metadata": {},
   "outputs": [
    {
     "data": {
      "text/plain": [
       "word2vec_embeddings (generic function with 1 method)"
      ]
     },
     "execution_count": 3,
     "metadata": {},
     "output_type": "execute_result"
    }
   ],
   "source": [
    "function word2vec_embeddings(textconfig, corpus, embfile; dim=32, w2vtmp=tempfile(pwd()))\n",
    "    isfile(embfile) && return\n",
    "    tcorpus = tokenize_corpus(textconfig, corpus)\n",
    "    voc = Vocabulary(textconfig, tcorpus)\n",
    "    fvoc = filter_tokens(voc) do t\n",
    "        5 <= t.ndocs <= 10000\n",
    "    end\n",
    "    valid = Set(fvoc.token)\n",
    "\n",
    "    open(w2vtmp, \"w\") do f\n",
    "        for tokens in tcorpus\n",
    "            tokens = filter!(t -> t in valid, tokens)\n",
    "            if length(tokens) > 7 # minimum number of tokens in a message\n",
    "                println(f, join(tokens, ' '))\n",
    "            end\n",
    "        end\n",
    "    end\n",
    "\n",
    "    word2vec(w2vtmp, embfile, size=dim, iter=15, threads=Threads.nthreads()-1)\n",
    "end\n"
   ]
  },
  {
   "cell_type": "markdown",
   "id": "2212f846-9b5c-4101-bdce-8b60bd4baf7c",
   "metadata": {},
   "source": [
    "# Cargando datos y creando word embeddings a la medida"
   ]
  },
  {
   "cell_type": "code",
   "execution_count": 4,
   "id": "67d4602c-c9d6-4a52-a451-1d482fa5413a",
   "metadata": {},
   "outputs": [
    {
     "data": {
      "text/html": [
       "<h1>Cargando el corpus</h1>"
      ],
      "text/plain": [
       "<h1>Cargando el corpus</h1>"
      ]
     },
     "metadata": {},
     "output_type": "display_data"
    },
    {
     "name": "stdout",
     "output_type": "stream",
     "text": [
      "Starting training using file /home/sadit/IR-2022/Unidades/w2v.tmp\n",
      "Vocab size: 11080\n",
      "Words in train file: 455119\n",
      "unique(D.labels) = [\"AdriDelgadoRuiz\", \"El_Universal_Mx\", \"CNNEE\", \"NTN24\", \"UniNoticias\", \"TelemundoNews\", \"SinEmbargoMX\", \"Reforma\", \"abc_es\", \"azucenau\", \"AristeguiOnline\", \"el_pais\", \"EFEnoticias\", \"PublimetroMX\", \"PublimetroChile\", \"Radio_Formula\", \"RicardoAlemanMx\", \"epigmenioibarra\", \"Milenio\", \"LaRazon_mx\", \"abrahamendieta\", \"PublimetroCol\", \"teleSURtv\", \"bbcmundo\", \"julioastillero\"]\n"
     ]
    },
    {
     "data": {
      "text/plain": [
       "25-element Vector{String}:\n",
       " \"AdriDelgadoRuiz\"\n",
       " \"El_Universal_Mx\"\n",
       " \"CNNEE\"\n",
       " \"NTN24\"\n",
       " \"UniNoticias\"\n",
       " \"TelemundoNews\"\n",
       " \"SinEmbargoMX\"\n",
       " \"Reforma\"\n",
       " \"abc_es\"\n",
       " \"azucenau\"\n",
       " \"AristeguiOnline\"\n",
       " \"el_pais\"\n",
       " \"EFEnoticias\"\n",
       " \"PublimetroMX\"\n",
       " \"PublimetroChile\"\n",
       " \"Radio_Formula\"\n",
       " \"RicardoAlemanMx\"\n",
       " \"epigmenioibarra\"\n",
       " \"Milenio\"\n",
       " \"LaRazon_mx\"\n",
       " \"abrahamendieta\"\n",
       " \"PublimetroCol\"\n",
       " \"teleSURtv\"\n",
       " \"bbcmundo\"\n",
       " \"julioastillero\""
      ]
     },
     "execution_count": 4,
     "metadata": {},
     "output_type": "execute_result"
    }
   ],
   "source": [
    "textconfig = TextConfig(; nlist=[1], qlist=[], slist=[], lc=true,\n",
    "    group_usr=false, group_url=true, group_num=true, del_diac=true, del_punc=true)\n",
    "\n",
    "display(@htl \"<h1>Cargando el corpus</h1>\")\n",
    "\n",
    "include(\"read_datasets.jl\")\n",
    "D, Q = read_news()\n",
    "embfile = \"../data/news.w2v.vec\"\n",
    "isfile(embfile) && rm(embfile)\n",
    "word2vec_embeddings(textconfig, D.corpus, embfile; dim=100, w2vtmp=joinpath(pwd(), \"w2v.tmp\"))\n",
    "E = load_embeddings(FastText_Text, embfile)\n",
    "\n",
    "@show unique(D.labels)"
   ]
  },
  {
   "cell_type": "code",
   "execution_count": 5,
   "id": "dd9ccc0b-aacb-4bc8-b36e-7effdb3647dd",
   "metadata": {},
   "outputs": [
    {
     "data": {
      "text/plain": [
       "(textconfig = TextConfig(true, false, true, true, true, false, false, true, Int8[], Int8[1], Skipgram[], IdentityTokenTransformation()), model = {VectorModel global_weighting=BinaryGlobalWeighting(), local_weighting=TpWeighting(), train-voc=11080, train-n=30244, maxoccs=43239}, voc = Vocabulary([\"</s>\", \"los\", \"del\", \"por\", \"un\", \"rt\", \"se\", \"con\", \"las\", \"para\"  …  \"marbelle\", \"cruces\", \"nolleva\", \"acaboelpaseviernes\", \"@docede\", \"@gregoriacarod\", \"salvadorena\", \"ignorancia\", \"nombrado\", \"mayorkas\"], Int32[0, 8882, 7593, 6956, 6568, 6721, 6328, 5999, 5963, 5070  …  6, 6, 5, 5, 5, 5, 5, 5, 5, 5], Int32[0, 8882, 7593, 6956, 6568, 6721, 6328, 5999, 5963, 5070  …  6, 6, 5, 5, 5, 5, 5, 5, 5, 5], Dict{String, UInt32}(\"focos\" => 0x00002284, \"#videos\" => 0x00001535, \"libertad\" => 0x00000213, \"ayudas\" => 0x00000f7a, \"henry\" => 0x000018e2, \"islamico\" => 0x000018d5, \"directivos\" => 0x00001c4d, \"soporte\" => 0x000013cb, \"astronautas\" => 0x00002532, \"advirtieron\" => 0x000024f4…), 30244))"
      ]
     },
     "execution_count": 5,
     "metadata": {},
     "output_type": "execute_result"
    }
   ],
   "source": [
    "T = let\n",
    "    voc = Vocabulary(textconfig, D.corpus; thesaurus=E.vocab)\n",
    "    model = VectorModel(BinaryGlobalWeighting(), TpWeighting(), voc)\n",
    "    (; textconfig, model, voc)\n",
    "end"
   ]
  },
  {
   "cell_type": "code",
   "execution_count": null,
   "id": "a5bba498-56a8-4445-a028-f03c629601df",
   "metadata": {},
   "outputs": [],
   "source": []
  },
  {
   "cell_type": "code",
   "execution_count": 6,
   "id": "479b2661-122c-412b-afe8-ac0ec4c4b03d",
   "metadata": {},
   "outputs": [
    {
     "data": {
      "text/plain": [
       "cloud_corpus (generic function with 1 method)"
      ]
     },
     "execution_count": 6,
     "metadata": {},
     "output_type": "execute_result"
    }
   ],
   "source": [
    "cloud(text, E, T) = vectorize(T.model, T.textconfig, text; normalize=false)\n",
    "cloud_corpus(corpus, E, T) = vectorize_corpus(T.model, T.textconfig, corpus; normalize=false)"
   ]
  },
  {
   "cell_type": "code",
   "execution_count": 7,
   "id": "e4fcb23f-9564-4910-9a4f-1f5d4a582d5f",
   "metadata": {},
   "outputs": [],
   "source": [
    "struct AWMD <: SemiMetric\n",
    "    X::MatrixDatabase\n",
    "    results::Vector{KnnResult}\n",
    "    dcos::NormalizedCosineDistance\n",
    "end\n",
    "\n",
    "AWMD(X) = AWMD(X, [KnnResult(1) for _ in 1:Threads.nthreads()], NormalizedCosineDistance())\n",
    "\n",
    "const PI_2 = convert(Float32, pi / 2)\n",
    "\n",
    "\n",
    "@inline function nn_(X, res, dcos, u, V)\n",
    "    res = reuse!(res)\n",
    "\n",
    "    for (vid, _) in V\n",
    "        push!(res, vid, evaluate(dcos, u, X[vid]))\n",
    "    end\n",
    "    \n",
    "    minimum(res)\n",
    "end\n",
    "\n",
    "function onesidewmd(X, res, dcos, U, V)\n",
    "    d::Float32 = zero(Float32)\n",
    "    @fastmath for (uid, w) in U\n",
    "        if !haskey(V, uid) # evaluates to zero\n",
    "            d = max(d, w * nn_(X, res, dcos, X[uid], V))\n",
    "        end\n",
    "    end\n",
    "    \n",
    "    d\n",
    "end\n",
    "\n",
    "function SimilaritySearch.evaluate(wmd::AWMD, U::T, V::T) where T\n",
    "    length(U) == 1 && haskey(U, 0) && return PI_2\n",
    "    length(V) == 1 && haskey(V, 0) && return PI_2\n",
    "    res = wmd.results[Threads.threadid()]\n",
    "    dcos = wmd.dcos\n",
    "\n",
    "    max(onesidewmd(wmd.X, res, dcos, U, V), onesidewmd(wmd.X, res, dcos, V, U))\n",
    "end\n"
   ]
  },
  {
   "cell_type": "code",
   "execution_count": 8,
   "id": "af8bad4e-c31b-4506-8341-47c4130d664a",
   "metadata": {},
   "outputs": [
    {
     "data": {
      "text/plain": [
       "AWMD(MatrixDatabase{Matrix{Float32}}(Float32[0.14334421 0.13607663 … -0.07003834 0.09485001; 0.15824084 -0.06985427 … -0.15131347 -0.03590631; … ; 0.109540336 -0.094465375 … 0.09562941 0.15187858; 0.0069469837 -0.20757537 … -0.040153097 0.0046252417]), KnnResult[KnnResult(Int32[], Float32[], 1), KnnResult(Int32[], Float32[], 1), KnnResult(Int32[], Float32[], 1), KnnResult(Int32[], Float32[], 1), KnnResult(Int32[], Float32[], 1), KnnResult(Int32[], Float32[], 1), KnnResult(Int32[], Float32[], 1), KnnResult(Int32[], Float32[], 1), KnnResult(Int32[], Float32[], 1), KnnResult(Int32[], Float32[], 1)  …  KnnResult(Int32[], Float32[], 1), KnnResult(Int32[], Float32[], 1), KnnResult(Int32[], Float32[], 1), KnnResult(Int32[], Float32[], 1), KnnResult(Int32[], Float32[], 1), KnnResult(Int32[], Float32[], 1), KnnResult(Int32[], Float32[], 1), KnnResult(Int32[], Float32[], 1), KnnResult(Int32[], Float32[], 1), KnnResult(Int32[], Float32[], 1)], NormalizedCosineDistance())"
      ]
     },
     "execution_count": 8,
     "metadata": {},
     "output_type": "execute_result"
    }
   ],
   "source": [
    "db = VectorDatabase(cloud_corpus(D.corpus, E, T))\n",
    "for c in eachcol(E.embeddings)\n",
    "    normalize!(c)\n",
    "end\n",
    "\n",
    "dist = AWMD(MatrixDatabase(E.embeddings))"
   ]
  },
  {
   "cell_type": "code",
   "execution_count": 9,
   "id": "9d1dc14b-02cb-45ab-8466-5783251ef877",
   "metadata": {
    "tags": []
   },
   "outputs": [],
   "source": [
    "#=recall = 0.8\n",
    "index = SearchGraph(; dist, db, verbose=true)\n",
    "#index!(index; callbacks=SearchGraphCallbacks(MinRecall(recall)))\n",
    "index!(index)\n",
    "optimize!(index, MinRecall(recall))\n",
    "=#"
   ]
  },
  {
   "cell_type": "code",
   "execution_count": 10,
   "id": "61fded63-d4ca-42f6-b69e-b0a044c4396b",
   "metadata": {},
   "outputs": [],
   "source": [
    "index = ExhaustiveSearch(; db, dist);"
   ]
  },
  {
   "cell_type": "code",
   "execution_count": 11,
   "id": "03eaad27-034e-437a-92e1-0d7a54500823",
   "metadata": {},
   "outputs": [
    {
     "data": {
      "text/html": [
       "<div>search time: 201.418880058, scores: <span class=\"Core-NamedTuple\">(macrof1 = 0.12561720216080943, macrorecall = 0.137176973580315, accuracy = 0.17137756620053554)</span></div>\n"
      ],
      "text/plain": [
       "<div>search time: 201.418880058, scores: <span class=\"Core-NamedTuple\">(macrof1 = 0.12561720216080943, macrorecall = 0.137176973580315, accuracy = 0.17137756620053554)</span></div>\n"
      ]
     },
     "execution_count": 11,
     "metadata": {},
     "output_type": "execute_result"
    }
   ],
   "source": [
    "let k = 11\n",
    "    Qvectors = VectorDatabase(cloud_corpus(Q.corpus, E, T))\n",
    "    t1 = @elapsed I, _ = searchbatch(index, Qvectors, k)\n",
    "    s1 = scores(Q.labels, knn(I, D.labels))\n",
    "    \n",
    "    @htl \"\"\"\n",
    "    <div>search time: $t1, scores: $s1</div>\n",
    "    \"\"\"\n",
    "end"
   ]
  },
  {
   "cell_type": "code",
   "execution_count": 12,
   "id": "4866489d-bf63-42e9-a871-c0d864c12417",
   "metadata": {},
   "outputs": [],
   "source": [
    "index = ParallelExhaustiveSearch(; db, dist);"
   ]
  },
  {
   "cell_type": "code",
   "execution_count": 13,
   "id": "e4c515d9-d81d-4d91-9087-df312a117242",
   "metadata": {},
   "outputs": [],
   "source": [
    "#@time res, _ = search(ex, db[111], KnnResult(10))\n",
    "#=@time res, _ = search(ex, cloud(\"covid en México\", E, T), KnnResult(10))\n",
    "\n",
    "for (id_, dist_) in res\n",
    "    display(@htl \"\"\"<div style=\"padding: 0.5em;\">\n",
    "        <span style=\"width: 25%; margin: 0.25em;\"> $(id_ => round(dist_; digits=3))</span>\n",
    "        <span style=\"background-color: rgb(120, 60, 60); margin: 0.2em;\">$(D.text[id_])</span>\n",
    "    </div>\"\"\")\n",
    "end\n",
    "=#"
   ]
  },
  {
   "cell_type": "markdown",
   "id": "51b68d72-5256-49ad-b22b-e896f58bc29f",
   "metadata": {},
   "source": [
    "### Búsqueda y presentación de los resultados"
   ]
  },
  {
   "cell_type": "code",
   "execution_count": 14,
   "id": "e045135e-4189-47cc-9513-72a5000527f6",
   "metadata": {},
   "outputs": [
    {
     "data": {
      "text/plain": [
       "search_and_display (generic function with 1 method)"
      ]
     },
     "execution_count": 14,
     "metadata": {},
     "output_type": "execute_result"
    }
   ],
   "source": [
    "function search_and_display(index, qtext, k, D, E, T)\n",
    "    res = KnnResult(k)\n",
    "    q = cloud(qtext, E, T)\n",
    "    @time search(index, q, res)\n",
    "    \n",
    "    L = []\n",
    "    for (j, (id, d)) in enumerate(res)\n",
    "        push!(L, @htl \"<tr><td>$j</td><td>$id</td><td>$(round(d, digits=3))</td> <td>$(D.labels[id])</td><td> $(D.corpus[id])</td> </tr>\")\n",
    "    end\n",
    "\n",
    "    display(@htl \"\"\"<h2>resultados para \"$qtext\"</h2>\n",
    "    <table>\n",
    "    <th>  <td>id</td> <td>dist</td> <td>user</td> </td>message<td> </th>\n",
    "        $L\n",
    "    </table>\n",
    "    \"\"\")\n",
    "end\n"
   ]
  },
  {
   "cell_type": "code",
   "execution_count": 15,
   "id": "b1123924-05b2-4799-b2f7-18b3d2c46f4d",
   "metadata": {},
   "outputs": [
    {
     "data": {
      "text/html": [
       "<h1>Ejemplos de búsqueda</h1>"
      ],
      "text/plain": [
       "<h1>Ejemplos de búsqueda</h1>"
      ]
     },
     "metadata": {},
     "output_type": "display_data"
    },
    {
     "name": "stdout",
     "output_type": "stream",
     "text": [
      "  0.140255 seconds (120.94 k allocations: 2.768 MiB)\n"
     ]
    },
    {
     "data": {
      "text/html": [
       "<h2>resultados para \"el gobierno de andres manuel lopez\"</h2>\n",
       "<table>\n",
       "<th>  <td>id</td> <td>dist</td> <td>user</td> </td>message<td> </th>\n",
       "    <tr><td>1</td><td>19737</td><td>0.045</td> <td>azucenau</td><td> La jefa de gobierno de la Ciudad de México, Claudia Sheinbaum, aseguró que ella y el presidente de la República, Andrés Manuel López Obrador, “somos parte del mismo movimiento”, y que jamás será líder de oposición, pues “somos parte de la Cuarta Transformación”. https://t.co/FYoh0GuROr</td> </tr><tr><td>2</td><td>27745</td><td>0.066</td> <td>Reforma</td><td> El Presidente Andrés Manuel López Obrador propuso al Gobierno de #NuevoLeon acordar con empresarios que produzcan menos, usen menos #agua, y que así vaya más líquido a la gente.\n",
       "https://t.co/9kW1cPZBmj</td> </tr><tr><td>3</td><td>9748</td><td>0.076</td> <td>SinEmbargoMX</td><td> 🚨 #URGENTE |  El Gobierno de EU ofrece 5 millones de dólares por información que conduzca al arresto y condena de los mexicanos Ovidio Guzmán López, Iván Archivaldo Guzmán Salazar, Jesús Alfredo Guzmán Salazar y Joaquín Guzmán López, hijos de “El Chapo” https://t.co/S8eyJEDNTX https://t.co/YSXPkhUM7k</td> </tr><tr><td>4</td><td>19047</td><td>0.084</td> <td>SinEmbargoMX</td><td> El Secretario de Gobernación, Adán Augusto López, informó que el Gobierno federal y las aerolíneas llegaron a acuerdos para que los vuelos de carga doméstica y las operaciones tipo chárter migren “casi de inmediato” al AIFA https://t.co/LOJTQIPLxG https://t.co/41PU4vxjFX</td> </tr><tr><td>5</td><td>18128</td><td>0.084</td> <td>abrahamendieta</td><td> RT @abrahamendieta: Andrés Manuel sabe que los logros de este gobierno son conocidos por la gente, como demuestran las encuestas, y por eso…</td> </tr><tr><td>6</td><td>1610</td><td>0.089</td> <td>PublimetroCol</td><td> Prueba PCR negativa a viajeros y vacunación sin barreras, las sugerencias de Claudia López al Gobierno https://t.co/SceaZzIrUq</td> </tr><tr><td>7</td><td>3093</td><td>0.091</td> <td>RicardoAlemanMx</td><td> Si tenían duda, el @TEPJF_informa también está sometido por el gobierno de @lopezobrador_ !\n",
       "Por eso hoy voto contra la decisión del @INEMexico !\n",
       "Tienen razón Vargas Llosa y Ernesto Zedillo; con López, México vive la destrucción de su democracia!\n",
       "Al tiempo!</td> </tr>\n",
       "</table>\n"
      ],
      "text/plain": [
       "<h2>resultados para \"el gobierno de andres manuel lopez\"</h2>\n",
       "<table>\n",
       "<th>  <td>id</td> <td>dist</td> <td>user</td> </td>message<td> </th>\n",
       "    <tr><td>1</td><td>19737</td><td>0.045</td> <td>azucenau</td><td> La jefa de gobierno de la Ciudad de México, Claudia Sheinbaum, aseguró que ella y el presidente de la República, Andrés Manuel López Obrador, “somos parte del mismo movimiento”, y que jamás será líder de oposición, pues “somos parte de la Cuarta Transformación”. https://t.co/FYoh0GuROr</td> </tr><tr><td>2</td><td>27745</td><td>0.066</td> <td>Reforma</td><td> El Presidente Andrés Manuel López Obrador propuso al Gobierno de #NuevoLeon acordar con empresarios que produzcan menos, usen menos #agua, y que así vaya más líquido a la gente.\n",
       "https://t.co/9kW1cPZBmj</td> </tr><tr><td>3</td><td>9748</td><td>0.076</td> <td>SinEmbargoMX</td><td> 🚨 #URGENTE |  El Gobierno de EU ofrece 5 millones de dólares por información que conduzca al arresto y condena de los mexicanos Ovidio Guzmán López, Iván Archivaldo Guzmán Salazar, Jesús Alfredo Guzmán Salazar y Joaquín Guzmán López, hijos de “El Chapo” https://t.co/S8eyJEDNTX https://t.co/YSXPkhUM7k</td> </tr><tr><td>4</td><td>19047</td><td>0.084</td> <td>SinEmbargoMX</td><td> El Secretario de Gobernación, Adán Augusto López, informó que el Gobierno federal y las aerolíneas llegaron a acuerdos para que los vuelos de carga doméstica y las operaciones tipo chárter migren “casi de inmediato” al AIFA https://t.co/LOJTQIPLxG https://t.co/41PU4vxjFX</td> </tr><tr><td>5</td><td>18128</td><td>0.084</td> <td>abrahamendieta</td><td> RT @abrahamendieta: Andrés Manuel sabe que los logros de este gobierno son conocidos por la gente, como demuestran las encuestas, y por eso…</td> </tr><tr><td>6</td><td>1610</td><td>0.089</td> <td>PublimetroCol</td><td> Prueba PCR negativa a viajeros y vacunación sin barreras, las sugerencias de Claudia López al Gobierno https://t.co/SceaZzIrUq</td> </tr><tr><td>7</td><td>3093</td><td>0.091</td> <td>RicardoAlemanMx</td><td> Si tenían duda, el @TEPJF_informa también está sometido por el gobierno de @lopezobrador_ !\n",
       "Por eso hoy voto contra la decisión del @INEMexico !\n",
       "Tienen razón Vargas Llosa y Ernesto Zedillo; con López, México vive la destrucción de su democracia!\n",
       "Al tiempo!</td> </tr>\n",
       "</table>\n"
      ]
     },
     "metadata": {},
     "output_type": "display_data"
    },
    {
     "name": "stdout",
     "output_type": "stream",
     "text": [
      "  0.067016 seconds (120.96 k allocations: 2.769 MiB)\n"
     ]
    },
    {
     "data": {
      "text/html": [
       "<h2>resultados para \"trafico de drogas\"</h2>\n",
       "<table>\n",
       "<th>  <td>id</td> <td>dist</td> <td>user</td> </td>message<td> </th>\n",
       "    <tr><td>1</td><td>19869</td><td>0.03</td> <td>epigmenioibarra</td><td> 29 JoseE\n",
       "30 JoseLuisL\n",
       "31 Jhosivani\n",
       "32 JulioCesarL\n",
       "El GIEI solicitó investigar el tráfico de drogas escondidas en autobuses como probable motivo del ataque a los normalistas, ya que un quinto autobús que apareció quemado fue omitido en la investigación oficial.\n",
       "#Ayotzinapa80Meses https://t.co/jbAcSdIuPI</td> </tr><tr><td>2</td><td>10449</td><td>0.03</td> <td>epigmenioibarra</td><td> 29 JoseE\n",
       "30 JoseLuisL\n",
       "31 Jhosivani\n",
       "32 JulioCesarL\n",
       "El GIEI solicitó investigar el tráfico de drogas escondidas en autobuses como probable motivo del ataque a los normalistas, ya que un quinto autobús que apareció quemado fue omitido en la investigación oficial.\n",
       "#Ayotzinapa80Meses https://t.co/BNAdU3bp0n</td> </tr><tr><td>3</td><td>14765</td><td>0.03</td> <td>epigmenioibarra</td><td> 29 JoseE\n",
       "30 JoseLuisL\n",
       "31 Jhosivani\n",
       "32 JulioCesarL\n",
       "El GIEI solicitó investigar el tráfico de drogas escondidas en autobuses como probable motivo del ataque a los normalistas, ya que un quinto autobús que apareció quemado fue omitido en la investigación oficial.\n",
       "#Ayotzinapa80Meses https://t.co/cR2d88sSeF</td> </tr><tr><td>4</td><td>10549</td><td>0.03</td> <td>epigmenioibarra</td><td> 29 JoseE\n",
       "30 JoseLuisL\n",
       "31 Jhosivani\n",
       "32 JulioCesarL\n",
       "El GIEI solicitó investigar el tráfico de drogas escondidas en autobuses como probable motivo del ataque a los normalistas, ya que un quinto autobús que apareció quemado fue omitido en la investigación oficial.\n",
       "#Ayotzinapa88meses https://t.co/Yg7Rf8yDoS</td> </tr><tr><td>5</td><td>26176</td><td>0.03</td> <td>epigmenioibarra</td><td> 29 JoseE\n",
       "30 JoseLuisL\n",
       "31 Jhosivani\n",
       "32 JulioCesarL\n",
       "El GIEI solicitó investigar el tráfico de drogas escondidas en autobuses como probable motivo del ataque a los normalistas, ya que un quinto autobús que apareció quemado fue omitido en la investigación oficial.\n",
       "#Ayotzinapa81Meses https://t.co/cxi6tlCTMA</td> </tr><tr><td>6</td><td>25278</td><td>0.03</td> <td>epigmenioibarra</td><td> 29 JoséE\n",
       "30 JoséLuisL\n",
       "31 Jhosivani\n",
       "32 JulioCésarL\n",
       "El GIEI solicitó investigar el tráfico de drogas escondidas en autobuses como probable motivo del ataque a los normalistas, ya que un quinto autobús que apareció quemado fue omitido en la investigación oficial.\n",
       "#Ayotzinapa90Meses https://t.co/43JRhtAr00</td> </tr><tr><td>7</td><td>18240</td><td>0.03</td> <td>epigmenioibarra</td><td> 29 JoseE\n",
       "30 JoseLuisL\n",
       "31 Jhosivani\n",
       "32 JulioCesarL\n",
       "El GIEI solicitó investigar el tráfico de drogas escondidas en autobuses como probable motivo del ataque a los normalistas, ya que un quinto autobús que apareció quemado fue omitido en la investigación oficial.\n",
       "#Ayotzinapa85meses https://t.co/KH0xDLkhWz</td> </tr>\n",
       "</table>\n"
      ],
      "text/plain": [
       "<h2>resultados para \"trafico de drogas\"</h2>\n",
       "<table>\n",
       "<th>  <td>id</td> <td>dist</td> <td>user</td> </td>message<td> </th>\n",
       "    <tr><td>1</td><td>19869</td><td>0.03</td> <td>epigmenioibarra</td><td> 29 JoseE\n",
       "30 JoseLuisL\n",
       "31 Jhosivani\n",
       "32 JulioCesarL\n",
       "El GIEI solicitó investigar el tráfico de drogas escondidas en autobuses como probable motivo del ataque a los normalistas, ya que un quinto autobús que apareció quemado fue omitido en la investigación oficial.\n",
       "#Ayotzinapa80Meses https://t.co/jbAcSdIuPI</td> </tr><tr><td>2</td><td>10449</td><td>0.03</td> <td>epigmenioibarra</td><td> 29 JoseE\n",
       "30 JoseLuisL\n",
       "31 Jhosivani\n",
       "32 JulioCesarL\n",
       "El GIEI solicitó investigar el tráfico de drogas escondidas en autobuses como probable motivo del ataque a los normalistas, ya que un quinto autobús que apareció quemado fue omitido en la investigación oficial.\n",
       "#Ayotzinapa80Meses https://t.co/BNAdU3bp0n</td> </tr><tr><td>3</td><td>14765</td><td>0.03</td> <td>epigmenioibarra</td><td> 29 JoseE\n",
       "30 JoseLuisL\n",
       "31 Jhosivani\n",
       "32 JulioCesarL\n",
       "El GIEI solicitó investigar el tráfico de drogas escondidas en autobuses como probable motivo del ataque a los normalistas, ya que un quinto autobús que apareció quemado fue omitido en la investigación oficial.\n",
       "#Ayotzinapa80Meses https://t.co/cR2d88sSeF</td> </tr><tr><td>4</td><td>10549</td><td>0.03</td> <td>epigmenioibarra</td><td> 29 JoseE\n",
       "30 JoseLuisL\n",
       "31 Jhosivani\n",
       "32 JulioCesarL\n",
       "El GIEI solicitó investigar el tráfico de drogas escondidas en autobuses como probable motivo del ataque a los normalistas, ya que un quinto autobús que apareció quemado fue omitido en la investigación oficial.\n",
       "#Ayotzinapa88meses https://t.co/Yg7Rf8yDoS</td> </tr><tr><td>5</td><td>26176</td><td>0.03</td> <td>epigmenioibarra</td><td> 29 JoseE\n",
       "30 JoseLuisL\n",
       "31 Jhosivani\n",
       "32 JulioCesarL\n",
       "El GIEI solicitó investigar el tráfico de drogas escondidas en autobuses como probable motivo del ataque a los normalistas, ya que un quinto autobús que apareció quemado fue omitido en la investigación oficial.\n",
       "#Ayotzinapa81Meses https://t.co/cxi6tlCTMA</td> </tr><tr><td>6</td><td>25278</td><td>0.03</td> <td>epigmenioibarra</td><td> 29 JoséE\n",
       "30 JoséLuisL\n",
       "31 Jhosivani\n",
       "32 JulioCésarL\n",
       "El GIEI solicitó investigar el tráfico de drogas escondidas en autobuses como probable motivo del ataque a los normalistas, ya que un quinto autobús que apareció quemado fue omitido en la investigación oficial.\n",
       "#Ayotzinapa90Meses https://t.co/43JRhtAr00</td> </tr><tr><td>7</td><td>18240</td><td>0.03</td> <td>epigmenioibarra</td><td> 29 JoseE\n",
       "30 JoseLuisL\n",
       "31 Jhosivani\n",
       "32 JulioCesarL\n",
       "El GIEI solicitó investigar el tráfico de drogas escondidas en autobuses como probable motivo del ataque a los normalistas, ya que un quinto autobús que apareció quemado fue omitido en la investigación oficial.\n",
       "#Ayotzinapa85meses https://t.co/KH0xDLkhWz</td> </tr>\n",
       "</table>\n"
      ]
     },
     "metadata": {},
     "output_type": "display_data"
    },
    {
     "name": "stdout",
     "output_type": "stream",
     "text": [
      "  0.090047 seconds (120.94 k allocations: 2.768 MiB)\n"
     ]
    },
    {
     "data": {
      "text/html": [
       "<h2>resultados para \"calentamiento global\"</h2>\n",
       "<table>\n",
       "<th>  <td>id</td> <td>dist</td> <td>user</td> </td>message<td> </th>\n",
       "    <tr><td>1</td><td>639</td><td>0.068</td> <td>bbcmundo</td><td> Cambio climático: 5 buenas noticias sobre la lucha contra el calentamiento global (contadas por científicos y expertos) https://t.co/VOKUupHVGN</td> </tr><tr><td>2</td><td>2189</td><td>0.085</td> <td>CNNEE</td><td> ▶ Todavía podemos mitigar el daño al planeta por el calentamiento global si exigimos políticas públicas a gobiernos, dicen expertas. https://t.co/7eoc24sboY</td> </tr><tr><td>3</td><td>6080</td><td>0.104</td> <td>SinEmbargoMX</td><td> #Opinión | Ana Ortega de @THL_Latino\n",
       "\n",
       "&quot;El consumo de carne o lo que no se habla del calentamiento global&quot;\n",
       "\n",
       "Si no adoptamos una postura más firme ante el calentamiento global, el panorama de México está a punto de ponerse sombrío\n",
       "https://t.co/HL8v7EBp2x https://t.co/k8Az8hDr5y</td> </tr><tr><td>4</td><td>27948</td><td>0.131</td> <td>bbcmundo</td><td> El calentamiento global avanza y los países parecen incapaces de cumplir con los objetivos de emisiones.\n",
       "\n",
       "https://t.co/xW9mKglT2u</td> </tr><tr><td>5</td><td>24021</td><td>0.135</td> <td>bbcmundo</td><td> China es un actor clave en la COP26 y en la lucha contra el calentamiento global. https://t.co/JBwj6YmKxA</td> </tr><tr><td>6</td><td>8099</td><td>0.169</td> <td>bbcmundo</td><td> ¿Cómo impacta en el calentamiento global una simple búsqueda en Internet?\n",
       "\n",
       "  https://t.co/08Nau1gbBn</td> </tr><tr><td>7</td><td>13719</td><td>0.193</td> <td>Milenio</td><td> ▶ ¿Era fuera de lugar? El polémico gol de Aldo Rocha en la final Atlas vs León \n",
       "\n",
       "La anotación se dio por válida y los Zorros empataron el marcador global\n",
       "https://t.co/5QCSfdz0YW https://t.co/omdW15uzOI</td> </tr>\n",
       "</table>\n"
      ],
      "text/plain": [
       "<h2>resultados para \"calentamiento global\"</h2>\n",
       "<table>\n",
       "<th>  <td>id</td> <td>dist</td> <td>user</td> </td>message<td> </th>\n",
       "    <tr><td>1</td><td>639</td><td>0.068</td> <td>bbcmundo</td><td> Cambio climático: 5 buenas noticias sobre la lucha contra el calentamiento global (contadas por científicos y expertos) https://t.co/VOKUupHVGN</td> </tr><tr><td>2</td><td>2189</td><td>0.085</td> <td>CNNEE</td><td> ▶ Todavía podemos mitigar el daño al planeta por el calentamiento global si exigimos políticas públicas a gobiernos, dicen expertas. https://t.co/7eoc24sboY</td> </tr><tr><td>3</td><td>6080</td><td>0.104</td> <td>SinEmbargoMX</td><td> #Opinión | Ana Ortega de @THL_Latino\n",
       "\n",
       "&quot;El consumo de carne o lo que no se habla del calentamiento global&quot;\n",
       "\n",
       "Si no adoptamos una postura más firme ante el calentamiento global, el panorama de México está a punto de ponerse sombrío\n",
       "https://t.co/HL8v7EBp2x https://t.co/k8Az8hDr5y</td> </tr><tr><td>4</td><td>27948</td><td>0.131</td> <td>bbcmundo</td><td> El calentamiento global avanza y los países parecen incapaces de cumplir con los objetivos de emisiones.\n",
       "\n",
       "https://t.co/xW9mKglT2u</td> </tr><tr><td>5</td><td>24021</td><td>0.135</td> <td>bbcmundo</td><td> China es un actor clave en la COP26 y en la lucha contra el calentamiento global. https://t.co/JBwj6YmKxA</td> </tr><tr><td>6</td><td>8099</td><td>0.169</td> <td>bbcmundo</td><td> ¿Cómo impacta en el calentamiento global una simple búsqueda en Internet?\n",
       "\n",
       "  https://t.co/08Nau1gbBn</td> </tr><tr><td>7</td><td>13719</td><td>0.193</td> <td>Milenio</td><td> ▶ ¿Era fuera de lugar? El polémico gol de Aldo Rocha en la final Atlas vs León \n",
       "\n",
       "La anotación se dio por válida y los Zorros empataron el marcador global\n",
       "https://t.co/5QCSfdz0YW https://t.co/omdW15uzOI</td> </tr>\n",
       "</table>\n"
      ]
     },
     "metadata": {},
     "output_type": "display_data"
    },
    {
     "name": "stdout",
     "output_type": "stream",
     "text": [
      "  0.067325 seconds (120.93 k allocations: 2.768 MiB)\n"
     ]
    },
    {
     "data": {
      "text/html": [
       "<h2>resultados para \"covid corona virus\"</h2>\n",
       "<table>\n",
       "<th>  <td>id</td> <td>dist</td> <td>user</td> </td>message<td> </th>\n",
       "    <tr><td>1</td><td>16604</td><td>0.126</td> <td>EFEnoticias</td><td> Carlo Ancelotti, técnico italiano del Real Madrid, sigue dando positivo en coronavirus y no integra la expedición a Londres. #UCL\n",
       "\n",
       "https://t.co/m8dp8nJVVu</td> </tr><tr><td>2</td><td>22527</td><td>0.138</td> <td>abc_es</td><td> 🔴 #ÚLTIMAHORA Don Juan Carlos da negativo en la PCR, tras el positivo en Covid de Rafa Nadal https://t.co/P9Li2qJubQ</td> </tr><tr><td>3</td><td>15179</td><td>0.143</td> <td>EFEnoticias</td><td> @EFEdeportes Australia argumenta que Djokovic ha ignorado las medidas contra la covid.\n",
       "https://t.co/b9ffIVOqmZ</td> </tr><tr><td>4</td><td>10320</td><td>0.143</td> <td>CNNEE</td><td> ▶ Djokovic aseguró en una entrevista que estaría dispuesto a no participar en más torneos por su postura sobre la vacuna contra el covid-19. Escucha sus palabras exactas: https://t.co/IirU4bbXO0</td> </tr><tr><td>5</td><td>18921</td><td>0.147</td> <td>EFEnoticias</td><td> España se ha situado como el séptimo país por el volumen de la producción científica relacionada con la covid-19, con cifras similares a las de una &quot;potencia&quot; en esta materia como Alemania y por encima de otros países como Australia o Francia.\n",
       "\n",
       "https://t.co/38ZxpQ3Zxv</td> </tr><tr><td>6</td><td>8399</td><td>0.147</td> <td>PublimetroCol</td><td> ¡Fuerza, Cami! Osorio, positiva por covid y es duda para el Abierto de Australia 😢 https://t.co/1icCPGpBaO</td> </tr><tr><td>7</td><td>24587</td><td>0.151</td> <td>AristeguiOnline</td><td> Castillo con coronavirus como corona rompe récord mundial Guinness | #Video\n",
       "https://t.co/SaJIKYierX https://t.co/FmV7YOWKEX</td> </tr>\n",
       "</table>\n"
      ],
      "text/plain": [
       "<h2>resultados para \"covid corona virus\"</h2>\n",
       "<table>\n",
       "<th>  <td>id</td> <td>dist</td> <td>user</td> </td>message<td> </th>\n",
       "    <tr><td>1</td><td>16604</td><td>0.126</td> <td>EFEnoticias</td><td> Carlo Ancelotti, técnico italiano del Real Madrid, sigue dando positivo en coronavirus y no integra la expedición a Londres. #UCL\n",
       "\n",
       "https://t.co/m8dp8nJVVu</td> </tr><tr><td>2</td><td>22527</td><td>0.138</td> <td>abc_es</td><td> 🔴 #ÚLTIMAHORA Don Juan Carlos da negativo en la PCR, tras el positivo en Covid de Rafa Nadal https://t.co/P9Li2qJubQ</td> </tr><tr><td>3</td><td>15179</td><td>0.143</td> <td>EFEnoticias</td><td> @EFEdeportes Australia argumenta que Djokovic ha ignorado las medidas contra la covid.\n",
       "https://t.co/b9ffIVOqmZ</td> </tr><tr><td>4</td><td>10320</td><td>0.143</td> <td>CNNEE</td><td> ▶ Djokovic aseguró en una entrevista que estaría dispuesto a no participar en más torneos por su postura sobre la vacuna contra el covid-19. Escucha sus palabras exactas: https://t.co/IirU4bbXO0</td> </tr><tr><td>5</td><td>18921</td><td>0.147</td> <td>EFEnoticias</td><td> España se ha situado como el séptimo país por el volumen de la producción científica relacionada con la covid-19, con cifras similares a las de una &quot;potencia&quot; en esta materia como Alemania y por encima de otros países como Australia o Francia.\n",
       "\n",
       "https://t.co/38ZxpQ3Zxv</td> </tr><tr><td>6</td><td>8399</td><td>0.147</td> <td>PublimetroCol</td><td> ¡Fuerza, Cami! Osorio, positiva por covid y es duda para el Abierto de Australia 😢 https://t.co/1icCPGpBaO</td> </tr><tr><td>7</td><td>24587</td><td>0.151</td> <td>AristeguiOnline</td><td> Castillo con coronavirus como corona rompe récord mundial Guinness | #Video\n",
       "https://t.co/SaJIKYierX https://t.co/FmV7YOWKEX</td> </tr>\n",
       "</table>\n"
      ]
     },
     "metadata": {},
     "output_type": "display_data"
    }
   ],
   "source": [
    "\n",
    "display(@htl \"<h1>Ejemplos de búsqueda</h1>\")\n",
    "search_and_display(index, \"el gobierno de andres manuel lopez\", 7, D, E, T)\n",
    "search_and_display(index, \"trafico de drogas\", 7, D, E, T)\n",
    "search_and_display(index, \"calentamiento global\", 7, D, E, T)\n",
    "search_and_display(index, \"covid corona virus\", 7, D, E, T)\n"
   ]
  },
  {
   "cell_type": "code",
   "execution_count": 16,
   "id": "b4028733-5dd7-46e0-addb-5f7959766695",
   "metadata": {},
   "outputs": [
    {
     "data": {
      "text/html": [
       "<h1>Ejemplos de búsqueda (mensajes aleatorios)</h1>"
      ],
      "text/plain": [
       "<h1>Ejemplos de búsqueda (mensajes aleatorios)</h1>"
      ]
     },
     "metadata": {},
     "output_type": "display_data"
    },
    {
     "name": "stdout",
     "output_type": "stream",
     "text": [
      "  0.090693 seconds (120.99 k allocations: 2.770 MiB)\n"
     ]
    },
    {
     "data": {
      "text/html": [
       "<h2>resultados para \"#QuéTeParece | Cardenal dice que los medios también tienen culpa de pederastia en la Iglesia https://t.co/QEIjrW0P7s https://t.co/f4bqnN2bMC\"</h2>\n",
       "<table>\n",
       "<th>  <td>id</td> <td>dist</td> <td>user</td> </td>message<td> </th>\n",
       "    <tr><td>1</td><td>4186</td><td>0.0</td> <td>LaRazon_mx</td><td> #QuéTeParece | Cardenal dice que los medios también tienen culpa de pederastia en la Iglesia https://t.co/QEIjrW0P7s https://t.co/f4bqnN2bMC</td> </tr><tr><td>2</td><td>25043</td><td>0.042</td> <td>teleSURtv</td><td> #ENVIVO | El presidente de #Venezuela🇻🇪 @NicolasMaduro: y los venezolanos estén donde estén sepan muy bien que tienen aquí en #Venezuela su patria que abre los brazos para recibirlos cuando quieran volver a vivir en paz \n",
       "\n",
       "Síguelo aquí➡️https://t.co/tqMKHfl0b4 https://t.co/Ey7lVUtmaA</td> </tr><tr><td>3</td><td>28668</td><td>0.043</td> <td>SinEmbargoMX</td><td> 🚨 #URGENTE | José Ramón Cossío dijo que no sabe de dónde AMLO le agarró tirria, y que a lo mejor hay alguien que lo mal aconseja, pues conoce a los X. González, pero no se relaciona con ellos https://t.co/DNvQu1wpg3 https://t.co/IztRPMlghZ</td> </tr><tr><td>4</td><td>17519</td><td>0.044</td> <td>julioastillero</td><td> 🚢 #EnVivo en #AstilleroInforma \n",
       "\n",
       "La reunión fue positiva, siento que al final hubo un reconocimiento que por parte de Semarnat se cometió un error en los canales de comunicación. Guardianes de la Sierra siempre estamos dispuestos al diálogo: Edwin Michel\n",
       "https://t.co/zgcQPfkHjp https://t.co/m4RPJZlD1P</td> </tr><tr><td>5</td><td>24936</td><td>0.044</td> <td>CNNEE</td><td> ANÁLISIS | Las diferentes crisis en EE.UU. mezcladas con golpes económicos y pronósticos de que lo peor está por venir, difícilmente es la normalidad que el presidente Joe Biden prometió el año pasado cuando dijo que “Estados Unidos está de regreso”\n",
       "https://t.co/8hbh2MuL3Q</td> </tr><tr><td>6</td><td>9496</td><td>0.044</td> <td>SinEmbargoMX</td><td> #VIDEO | No se tiene un reporte si hubo personas lesionadas o detenidas. Por medio de redes sociales, los usuarios pidieron a las autoridades capitalinas realizar una investigación de los hechos realizados en el paradero\n",
       " https://t.co/Iq59IiAm8G https://t.co/DnaC3oOzcX</td> </tr><tr><td>7</td><td>15718</td><td>0.044</td> <td>teleSURtv</td><td> #HILO 🧵| Para solicitar la #eutanasia, el paciente debe cubrir ciertos requerimientos, además que debe pasar por una asamblea de expertos que determinarán si es viable la #muertedigna, tras este análisis la persona puede detener el proceso cuando así lo desee https://t.co/6uWxk0BEO0</td> </tr>\n",
       "</table>\n"
      ],
      "text/plain": [
       "<h2>resultados para \"#QuéTeParece | Cardenal dice que los medios también tienen culpa de pederastia en la Iglesia https://t.co/QEIjrW0P7s https://t.co/f4bqnN2bMC\"</h2>\n",
       "<table>\n",
       "<th>  <td>id</td> <td>dist</td> <td>user</td> </td>message<td> </th>\n",
       "    <tr><td>1</td><td>4186</td><td>0.0</td> <td>LaRazon_mx</td><td> #QuéTeParece | Cardenal dice que los medios también tienen culpa de pederastia en la Iglesia https://t.co/QEIjrW0P7s https://t.co/f4bqnN2bMC</td> </tr><tr><td>2</td><td>25043</td><td>0.042</td> <td>teleSURtv</td><td> #ENVIVO | El presidente de #Venezuela🇻🇪 @NicolasMaduro: y los venezolanos estén donde estén sepan muy bien que tienen aquí en #Venezuela su patria que abre los brazos para recibirlos cuando quieran volver a vivir en paz \n",
       "\n",
       "Síguelo aquí➡️https://t.co/tqMKHfl0b4 https://t.co/Ey7lVUtmaA</td> </tr><tr><td>3</td><td>28668</td><td>0.043</td> <td>SinEmbargoMX</td><td> 🚨 #URGENTE | José Ramón Cossío dijo que no sabe de dónde AMLO le agarró tirria, y que a lo mejor hay alguien que lo mal aconseja, pues conoce a los X. González, pero no se relaciona con ellos https://t.co/DNvQu1wpg3 https://t.co/IztRPMlghZ</td> </tr><tr><td>4</td><td>17519</td><td>0.044</td> <td>julioastillero</td><td> 🚢 #EnVivo en #AstilleroInforma \n",
       "\n",
       "La reunión fue positiva, siento que al final hubo un reconocimiento que por parte de Semarnat se cometió un error en los canales de comunicación. Guardianes de la Sierra siempre estamos dispuestos al diálogo: Edwin Michel\n",
       "https://t.co/zgcQPfkHjp https://t.co/m4RPJZlD1P</td> </tr><tr><td>5</td><td>24936</td><td>0.044</td> <td>CNNEE</td><td> ANÁLISIS | Las diferentes crisis en EE.UU. mezcladas con golpes económicos y pronósticos de que lo peor está por venir, difícilmente es la normalidad que el presidente Joe Biden prometió el año pasado cuando dijo que “Estados Unidos está de regreso”\n",
       "https://t.co/8hbh2MuL3Q</td> </tr><tr><td>6</td><td>9496</td><td>0.044</td> <td>SinEmbargoMX</td><td> #VIDEO | No se tiene un reporte si hubo personas lesionadas o detenidas. Por medio de redes sociales, los usuarios pidieron a las autoridades capitalinas realizar una investigación de los hechos realizados en el paradero\n",
       " https://t.co/Iq59IiAm8G https://t.co/DnaC3oOzcX</td> </tr><tr><td>7</td><td>15718</td><td>0.044</td> <td>teleSURtv</td><td> #HILO 🧵| Para solicitar la #eutanasia, el paciente debe cubrir ciertos requerimientos, además que debe pasar por una asamblea de expertos que determinarán si es viable la #muertedigna, tras este análisis la persona puede detener el proceso cuando así lo desee https://t.co/6uWxk0BEO0</td> </tr>\n",
       "</table>\n"
      ]
     },
     "metadata": {},
     "output_type": "display_data"
    },
    {
     "name": "stdout",
     "output_type": "stream",
     "text": [
      "  0.121699 seconds (120.94 k allocations: 2.768 MiB)\n"
     ]
    },
    {
     "data": {
      "text/html": [
       "<h2>resultados para \"Un territorio multinacional y multiétnico. \n",
       "\n",
       "https://t.co/wf9GNtxFqx\"</h2>\n",
       "<table>\n",
       "<th>  <td>id</td> <td>dist</td> <td>user</td> </td>message<td> </th>\n",
       "    <tr><td>1</td><td>18375</td><td>0.0</td> <td>bbcmundo</td><td> Un territorio multinacional y multiétnico. \n",
       "\n",
       "https://t.co/wf9GNtxFqx</td> </tr><tr><td>2</td><td>12010</td><td>0.043</td> <td>teleSURtv</td><td> #Pakistán🇵🇰 pidió al #Gobierno de #Afganistán🇦🇫 en #Kabul que tome &quot;medidas severas&quot; contra los militantes que lanzan #ataques desde el interior del territorio afgano, un día después de que el ejército paquistaní matara a seis afganos\n",
       "\n",
       "https://t.co/Pvqsqr442F</td> </tr><tr><td>3</td><td>18664</td><td>0.043</td> <td>TelemundoNews</td><td> 🌎Descubren la isla más al norte de todo el planeta. Un equipo de científicos llegó por error a este territorio hasta ahora desconocido. 👇🏽\n",
       "https://t.co/muAmeSbb1C</td> </tr><tr><td>4</td><td>25866</td><td>0.049</td> <td>Milenio</td><td> ▶️ Zacatecas es un punto estratégico para el crimen organizado, razón por la que grupos antagónicos se disputan el territorio \n",
       "\n",
       "El Ejército ha recuperado algunas comunidades que ahora están abandonadas por sus habitantes\n",
       "\n",
       "📺 Los detalles con @azucenau #AzucenaALas10 https://t.co/IcQMfs6N3y</td> </tr><tr><td>5</td><td>21624</td><td>0.058</td> <td>abc_es</td><td> Ayuso celebra que en los próximos cuatro años Castilla y León será un territorio «socialista free» https://t.co/kVAXEJYU5P</td> </tr><tr><td>6</td><td>18181</td><td>0.059</td> <td>el_pais</td><td> RT @ElViajero_Pais: Un territorio vacío pero lleno de tesoros del arte mudéjar, castillos legendarios y maravillas geológicas, además de fó…</td> </tr><tr><td>7</td><td>24655</td><td>0.064</td> <td>bbcmundo</td><td> En esta versión moderna de David contra Goliat, el pequeño territorio guarda un as en la manga.\n",
       "\n",
       "https://t.co/E1zMz2bbUk</td> </tr>\n",
       "</table>\n"
      ],
      "text/plain": [
       "<h2>resultados para \"Un territorio multinacional y multiétnico. \n",
       "\n",
       "https://t.co/wf9GNtxFqx\"</h2>\n",
       "<table>\n",
       "<th>  <td>id</td> <td>dist</td> <td>user</td> </td>message<td> </th>\n",
       "    <tr><td>1</td><td>18375</td><td>0.0</td> <td>bbcmundo</td><td> Un territorio multinacional y multiétnico. \n",
       "\n",
       "https://t.co/wf9GNtxFqx</td> </tr><tr><td>2</td><td>12010</td><td>0.043</td> <td>teleSURtv</td><td> #Pakistán🇵🇰 pidió al #Gobierno de #Afganistán🇦🇫 en #Kabul que tome &quot;medidas severas&quot; contra los militantes que lanzan #ataques desde el interior del territorio afgano, un día después de que el ejército paquistaní matara a seis afganos\n",
       "\n",
       "https://t.co/Pvqsqr442F</td> </tr><tr><td>3</td><td>18664</td><td>0.043</td> <td>TelemundoNews</td><td> 🌎Descubren la isla más al norte de todo el planeta. Un equipo de científicos llegó por error a este territorio hasta ahora desconocido. 👇🏽\n",
       "https://t.co/muAmeSbb1C</td> </tr><tr><td>4</td><td>25866</td><td>0.049</td> <td>Milenio</td><td> ▶️ Zacatecas es un punto estratégico para el crimen organizado, razón por la que grupos antagónicos se disputan el territorio \n",
       "\n",
       "El Ejército ha recuperado algunas comunidades que ahora están abandonadas por sus habitantes\n",
       "\n",
       "📺 Los detalles con @azucenau #AzucenaALas10 https://t.co/IcQMfs6N3y</td> </tr><tr><td>5</td><td>21624</td><td>0.058</td> <td>abc_es</td><td> Ayuso celebra que en los próximos cuatro años Castilla y León será un territorio «socialista free» https://t.co/kVAXEJYU5P</td> </tr><tr><td>6</td><td>18181</td><td>0.059</td> <td>el_pais</td><td> RT @ElViajero_Pais: Un territorio vacío pero lleno de tesoros del arte mudéjar, castillos legendarios y maravillas geológicas, además de fó…</td> </tr><tr><td>7</td><td>24655</td><td>0.064</td> <td>bbcmundo</td><td> En esta versión moderna de David contra Goliat, el pequeño territorio guarda un as en la manga.\n",
       "\n",
       "https://t.co/E1zMz2bbUk</td> </tr>\n",
       "</table>\n"
      ]
     },
     "metadata": {},
     "output_type": "display_data"
    },
    {
     "name": "stdout",
     "output_type": "stream",
     "text": [
      "  0.173248 seconds (120.96 k allocations: 2.769 MiB)\n"
     ]
    },
    {
     "data": {
      "text/html": [
       "<h2>resultados para \"El choque ocurrió a la altura de la estación El Vergel del Tren Ligero sobre Calzada de Tlalpan \n",
       "\n",
       "https://t.co/TqOlb51tdE\"</h2>\n",
       "<table>\n",
       "<th>  <td>id</td> <td>dist</td> <td>user</td> </td>message<td> </th>\n",
       "    <tr><td>1</td><td>23465</td><td>0.0</td> <td>PublimetroMX</td><td> El choque ocurrió a la altura de la estación El Vergel del Tren Ligero sobre Calzada de Tlalpan \n",
       "\n",
       "https://t.co/TqOlb51tdE</td> </tr><tr><td>2</td><td>4572</td><td>0.04</td> <td>azucenau</td><td> Sobre el accidente esta mañana en las obras del Aeropuerto de Santa Lucía la Sedena informa que sucedió cuando los trabajadores eran llevados en un vehículo tipo grúa y al saltar un tope 22 de ellos cayeron de una altura de 1.20 metros. Resultaron policontundidos. Ninguno grave. https://t.co/jhooGpmSIR</td> </tr><tr><td>3</td><td>25022</td><td>0.041</td> <td>El_Universal_Mx</td><td> &quot;La red de trata que la muerte de Evelin puso en evidencia, y que opera sobre todo al oriente de Morelos, puede formar parte del grupo criminal conocido como el Comando Tlahuica, que encabeza Humberto Figueroa Meza&quot; #Opinión de @hdemauleon https://t.co/Nv6bEc30Jg</td> </tr><tr><td>4</td><td>19027</td><td>0.042</td> <td>TelemundoNews</td><td> 📌 Lo último sobre el colapso del edificio en Surfside: reportan 99 personas desaparecidas.\n",
       "\n",
       "👉🏻 Sigue la rueda de prensa de autoridades locales con los últimos detalles sobre las víctimas.\n",
       " https://t.co/NOELBADFxD</td> </tr><tr><td>5</td><td>7004</td><td>0.042</td> <td>azucenau</td><td> El Gobierno capitalino acusó contradicciones y falta de rigor en el tercer informe causa raíz de la empresa noruega DNV sobre el desplome de un tramo de la línea 12 del Metro, por lo que fue rechazado por la Secretaría de Gestión Integral de Riesgos y Protección Civil. https://t.co/jlrqagFbDU</td> </tr><tr><td>6</td><td>16844</td><td>0.043</td> <td>azucenau</td><td> #AzucenaALas10 |  La secretaría de seguridad ciudadana detuvo en la alcaldía Benito Juárez a Adán Alejandro &quot;N&quot; relacionado con el ataque e intento de asalto al hijo del embajador de México en Bélgica cuando se encontraba a bordo de su auto sobre avenida Revolución https://t.co/CkRQ5oZUzM</td> </tr><tr><td>7</td><td>12074</td><td>0.043</td> <td>Milenio</td><td> ▶ ¿Terrorismo o ataque directo? El gobernador de Guanajuato cambió de parecer sobre lo ocurrido en Salamanca y desechó la teoría de un acto terrorista\n",
       "\n",
       "¿Qué se sabe hasta ahora del incidente y las víctimas?\n",
       "\n",
       "📺 La historia con @azucenau #AzucenaxMILENIO https://t.co/mA7guKgHVV</td> </tr>\n",
       "</table>\n"
      ],
      "text/plain": [
       "<h2>resultados para \"El choque ocurrió a la altura de la estación El Vergel del Tren Ligero sobre Calzada de Tlalpan \n",
       "\n",
       "https://t.co/TqOlb51tdE\"</h2>\n",
       "<table>\n",
       "<th>  <td>id</td> <td>dist</td> <td>user</td> </td>message<td> </th>\n",
       "    <tr><td>1</td><td>23465</td><td>0.0</td> <td>PublimetroMX</td><td> El choque ocurrió a la altura de la estación El Vergel del Tren Ligero sobre Calzada de Tlalpan \n",
       "\n",
       "https://t.co/TqOlb51tdE</td> </tr><tr><td>2</td><td>4572</td><td>0.04</td> <td>azucenau</td><td> Sobre el accidente esta mañana en las obras del Aeropuerto de Santa Lucía la Sedena informa que sucedió cuando los trabajadores eran llevados en un vehículo tipo grúa y al saltar un tope 22 de ellos cayeron de una altura de 1.20 metros. Resultaron policontundidos. Ninguno grave. https://t.co/jhooGpmSIR</td> </tr><tr><td>3</td><td>25022</td><td>0.041</td> <td>El_Universal_Mx</td><td> &quot;La red de trata que la muerte de Evelin puso en evidencia, y que opera sobre todo al oriente de Morelos, puede formar parte del grupo criminal conocido como el Comando Tlahuica, que encabeza Humberto Figueroa Meza&quot; #Opinión de @hdemauleon https://t.co/Nv6bEc30Jg</td> </tr><tr><td>4</td><td>19027</td><td>0.042</td> <td>TelemundoNews</td><td> 📌 Lo último sobre el colapso del edificio en Surfside: reportan 99 personas desaparecidas.\n",
       "\n",
       "👉🏻 Sigue la rueda de prensa de autoridades locales con los últimos detalles sobre las víctimas.\n",
       " https://t.co/NOELBADFxD</td> </tr><tr><td>5</td><td>7004</td><td>0.042</td> <td>azucenau</td><td> El Gobierno capitalino acusó contradicciones y falta de rigor en el tercer informe causa raíz de la empresa noruega DNV sobre el desplome de un tramo de la línea 12 del Metro, por lo que fue rechazado por la Secretaría de Gestión Integral de Riesgos y Protección Civil. https://t.co/jlrqagFbDU</td> </tr><tr><td>6</td><td>16844</td><td>0.043</td> <td>azucenau</td><td> #AzucenaALas10 |  La secretaría de seguridad ciudadana detuvo en la alcaldía Benito Juárez a Adán Alejandro &quot;N&quot; relacionado con el ataque e intento de asalto al hijo del embajador de México en Bélgica cuando se encontraba a bordo de su auto sobre avenida Revolución https://t.co/CkRQ5oZUzM</td> </tr><tr><td>7</td><td>12074</td><td>0.043</td> <td>Milenio</td><td> ▶ ¿Terrorismo o ataque directo? El gobernador de Guanajuato cambió de parecer sobre lo ocurrido en Salamanca y desechó la teoría de un acto terrorista\n",
       "\n",
       "¿Qué se sabe hasta ahora del incidente y las víctimas?\n",
       "\n",
       "📺 La historia con @azucenau #AzucenaxMILENIO https://t.co/mA7guKgHVV</td> </tr>\n",
       "</table>\n"
      ]
     },
     "metadata": {},
     "output_type": "display_data"
    }
   ],
   "source": [
    "display(@htl \"<h1>Ejemplos de búsqueda (mensajes aleatorios)</h1>\")\n",
    "\n",
    "for i in 1:3\n",
    "    for qid in rand(1:length(D.corpus))\n",
    "        search_and_display(index, D.corpus[qid], 7, D, E, T)\n",
    "    end\n",
    "end"
   ]
  },
  {
   "cell_type": "markdown",
   "id": "1e8f09a9-75aa-49c5-9e35-4c486defa289",
   "metadata": {},
   "source": [
    "# Actividades\n",
    "- Reproduzca el ejercicio de este notebook, use embeddings para español, cambié los ejemplos. Se sugiere el uso de <https://ingeotec.github.io/regional-spanish-models/> donde encontrará modelos fastText regionalizados del español, pero puede usar otros embeddings.\n",
    "- ¿Qué piensa de las diferencias de tamaño entre los documentos y las consultas? esto como afecta a la representación semántica.\n",
    "- ¿Cuál sería el símil de bigramas y trigramas para este esquema de representación semántica? Implementelo.\n",
    "- Defina $H^\\textsf{pt}_d$, donde $pt$ es la probabilidad de ocurrencia de término.\n",
    "- Defina $H^\\textsf{TF}_d$, donde $TF$ es la frecuencia de término normalizada.\n",
    "- Implemente $H^\\textsf{TF}_d$ y $H^\\textsf{pt}_d$ de manera secuencial y con un índice métrico. Si usa Julia considere `SimilaritySearch.jl` y si usa Python considere `faiss`.\n",
    "- Reporte su notebook y anote sus soluciones a las preguntas planteadas. El reporte deberá contener un ensayo de [@KSKW2015] como introducción. Reporte los resultados de sus implementaciones, compare contra las alternativas presentadas en este reporte. Discuta sus resultados. Finalice el reporte  con reflexiones sobre el uso de nubes de puntos en lugar de bolsas de palabras tradicionales. Anoté sus conclusiones.\n",
    "\n",
    "# Bibliografía\n",
    "- [KSKW2015] Kusner, M., Sun, Y., Kolkin, N., & Weinberger, K. (2015, June). From word embeddings to document distances. In International conference on machine learning (pp. 957-966). PMLR.\n",
    "- [PW2009] Pele, O., & Werman, M. (2009, September). Fast and robust earth mover's distances. In 2009 IEEE 12th international conference on computer vision (pp. 460-467). IEEE.\n"
   ]
  }
 ],
 "metadata": {
  "kernelspec": {
   "display_name": "Julia 1.7.2",
   "language": "julia",
   "name": "julia-1.7"
  },
  "language_info": {
   "file_extension": ".jl",
   "mimetype": "application/julia",
   "name": "julia",
   "version": "1.7.2"
  }
 },
 "nbformat": 4,
 "nbformat_minor": 5
}
