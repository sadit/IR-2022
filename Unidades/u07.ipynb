{
 "cells": [
  {
   "cell_type": "markdown",
   "id": "9fc189d2-656e-41d4-be84-dcf6ccf9537b",
   "metadata": {},
   "source": [
    "# Búsqueda semántica con nubes de puntos\n",
    "Autor: Eric S. Tellez <eric.tellez@infotec.mx>\n",
    "\n",
    "## Usando la nube de puntos\n",
    "\n",
    "La representación de nube de puntos puede usarse directamente sin realizar prototipos, sin embargo, es posible que dada su complejidad, dimensión intrinseca, tenga poca utilidad en grandes volumenes de información. Por ejemplo, es posible utilizar la distancia de [Hausdorff](https://en.wikipedia.org/wiki/Hausdorff_distance); que entre dos nubes de puntos (documentos para este caso) esta definida como sigue:\n",
    "\n",
    "$$ H_d(U, V) = \\max \\left\\{ \\max_{u \\in U} \\min_{x \\in V} d(u, x), \\max_{v \\in V} \\min_{x \\in U} d(v, x) \\right\\} $$\n",
    "\n",
    "Donde $\\textsf{nn}$ encuentra el vecino cercano del primer argumento en el segundo. Podemos ver la intuición de esta distancia, analizando las partes de la expresión. \n",
    "La diferencia entre ambos conjuntos se representa con el máximo de las distancias mínimas. Note que esta parte es idéntica a resolver una búsqueda de vecinos cercanos. La parte más externa de la expresión se repite para los dos conjuntos para preservar la simétria de la función.\n",
    "\n",
    "De la misma forma, es posible obtener variaciones de interés como considerar todas las distancias cercanas en lugar de solo las máximas, lo cual puede reducir formas caprichosas de _outlayers_.\n",
    "\n",
    "$$ H^+_d(U, V) = \\frac{1}{2|U|} \\sum_{u \\in U} \\min_{x \\in V} d(u, x) + \\frac{1}{2|V|}\\sum_{v \\in V} \\min_{x \\in U} d(v, x) $$\n",
    "\n",
    "La información local de una representación de bolsa de palabras también puede ser aprovechada, por ejemplo, añadiendo información de $\\textsf{tp}$\n",
    "\n",
    "$$ H^\\textsf{pt}_d(U, V) = \\max \\left\\{\n",
    "        \\max_{u \\in U} \\left\\{\\textsf{pt}(u, U) \\min_{x \\in V} d(u, x)\\right\\},\n",
    "        \\max_{v \\in V} \\left\\{\\textsf{pt}(v, V) \\min_{x \\in U} d(v, x)\\right\\}\n",
    "     \\right\\} $$\n",
    "\n",
    "# Notas adicionales\n",
    "La versión de $H^\\textsf{pt}_d$ que usa la probabilidad de término $\\textsf{pt}$ es similar a la aproximación 2 listada en [@KSKW2015]. Los prototipos son similares a la aproximación 1 del mismo artículo. En el artículo se presenta la función de distancia _word mover's distance_ (WMD) que es una adecuación de la Earths mover's distance (EMD) [PW2009]. EMD es la solución óptima a un problema de transportación, la WMD es la adaptación teniendo en cuenta embeddings de palabras.\n",
    "\n",
    "# Ejemplo\n"
   ]
  },
  {
   "cell_type": "code",
   "execution_count": 1,
   "id": "cd04785e-aa4e-493c-9aa8-5c54c8e1f322",
   "metadata": {},
   "outputs": [
    {
     "name": "stderr",
     "output_type": "stream",
     "text": [
      "\u001b[32m\u001b[1m  Activating\u001b[22m\u001b[39m project at `~/IR-2022/Unidades`\n"
     ]
    }
   ],
   "source": [
    "using Pkg\n",
    "Pkg.activate(\".\")\n",
    "\n",
    "using SimilaritySearch, TextSearch, Plots, Word2Vec, KNearestCenters, LinearAlgebra, HypertextLiteral, JSON, CodecZlib, Random\n",
    "using Embeddings: load_embeddings, FastText_Text\n",
    "using Downloads: download"
   ]
  },
  {
   "cell_type": "code",
   "execution_count": 2,
   "id": "9fe195c4-8f5a-4b8f-bde9-8be620397ba1",
   "metadata": {},
   "outputs": [
    {
     "data": {
      "text/plain": [
       "word2vec_embeddings (generic function with 1 method)"
      ]
     },
     "execution_count": 2,
     "metadata": {},
     "output_type": "execute_result"
    }
   ],
   "source": [
    "function word2vec_embeddings(textconfig, corpus, embfile; dim=32, w2vtmp=tempfile(pwd()))\n",
    "    isfile(embfile) && return\n",
    "    tcorpus = tokenize_corpus(textconfig, corpus)\n",
    "    voc = Vocabulary(textconfig, tcorpus)\n",
    "    fvoc = filter_tokens(voc) do t\n",
    "        5 <= t.ndocs <= 2000\n",
    "    end\n",
    "    valid = Set(fvoc.token)\n",
    "\n",
    "    open(w2vtmp, \"w\") do f\n",
    "        for tokens in tcorpus\n",
    "            tokens = filter!(t -> t in valid, tokens)\n",
    "            if length(tokens) > 7 # minimum number of tokens in a message\n",
    "                println(f, join(tokens, ' '))\n",
    "            end\n",
    "        end\n",
    "    end\n",
    "\n",
    "    word2vec(w2vtmp, embfile, size=dim, iter=15, threads=Threads.nthreads()-1)\n",
    "end\n"
   ]
  },
  {
   "cell_type": "markdown",
   "id": "2212f846-9b5c-4101-bdce-8b60bd4baf7c",
   "metadata": {},
   "source": [
    "# Cargando datos y creando word embeddings a la medida"
   ]
  },
  {
   "cell_type": "code",
   "execution_count": 3,
   "id": "67d4602c-c9d6-4a52-a451-1d482fa5413a",
   "metadata": {},
   "outputs": [
    {
     "data": {
      "text/html": [
       "<h1>Cargando el corpus</h1>"
      ],
      "text/plain": [
       "<h1>Cargando el corpus</h1>"
      ]
     },
     "metadata": {},
     "output_type": "display_data"
    },
    {
     "name": "stdout",
     "output_type": "stream",
     "text": [
      "unique(D.labels) = [\"AdriDelgadoRuiz\", \"El_Universal_Mx\", \"CNNEE\", \"NTN24\", \"UniNoticias\", \"TelemundoNews\", \"SinEmbargoMX\", \"Reforma\", \"abc_es\", \"azucenau\", \"AristeguiOnline\", \"el_pais\", \"EFEnoticias\", \"PublimetroMX\", \"PublimetroChile\", \"Radio_Formula\", \"RicardoAlemanMx\", \"epigmenioibarra\", \"Milenio\", \"LaRazon_mx\", \"abrahamendieta\", \"PublimetroCol\", \"teleSURtv\", \"bbcmundo\", \"julioastillero\"]\n"
     ]
    },
    {
     "data": {
      "text/plain": [
       "25-element Vector{String}:\n",
       " \"AdriDelgadoRuiz\"\n",
       " \"El_Universal_Mx\"\n",
       " \"CNNEE\"\n",
       " \"NTN24\"\n",
       " \"UniNoticias\"\n",
       " \"TelemundoNews\"\n",
       " \"SinEmbargoMX\"\n",
       " \"Reforma\"\n",
       " \"abc_es\"\n",
       " \"azucenau\"\n",
       " \"AristeguiOnline\"\n",
       " \"el_pais\"\n",
       " \"EFEnoticias\"\n",
       " \"PublimetroMX\"\n",
       " \"PublimetroChile\"\n",
       " \"Radio_Formula\"\n",
       " \"RicardoAlemanMx\"\n",
       " \"epigmenioibarra\"\n",
       " \"Milenio\"\n",
       " \"LaRazon_mx\"\n",
       " \"abrahamendieta\"\n",
       " \"PublimetroCol\"\n",
       " \"teleSURtv\"\n",
       " \"bbcmundo\"\n",
       " \"julioastillero\""
      ]
     },
     "execution_count": 3,
     "metadata": {},
     "output_type": "execute_result"
    }
   ],
   "source": [
    "textconfig = TextConfig(; nlist=[1], qlist=[], slist=[], lc=true,\n",
    "    group_usr=true, group_url=true, group_num=true, del_diac=true, del_punc=true)\n",
    "\n",
    "display(@htl \"<h1>Cargando el corpus</h1>\")\n",
    "\n",
    "include(\"read_datasets.jl\")\n",
    "D, Q = read_news()\n",
    "embfile = \"../data/news.w2v.vec\"\n",
    "# isfile(embfile) && rm(embfile)\n",
    "word2vec_embeddings(textconfig, D.corpus, embfile; dim=64, w2vtmp=joinpath(pwd(), \"w2v.tmp\"))\n",
    "E = load_embeddings(FastText_Text, embfile)\n",
    "\n",
    "@show unique(D.labels)"
   ]
  },
  {
   "cell_type": "code",
   "execution_count": 4,
   "id": "dd9ccc0b-aacb-4bc8-b36e-7effdb3647dd",
   "metadata": {},
   "outputs": [
    {
     "data": {
      "text/plain": [
       "(textconfig = TextConfig(true, false, true, true, true, true, false, true, Int8[], Int8[1], Skipgram[], IdentityTokenTransformation()), model = {VectorModel global_weighting=BinaryGlobalWeighting(), local_weighting=TpWeighting(), train-voc=9599, train-n=30244, maxoccs=1929}, voc = Vocabulary([\"</s>\", \"este\", \"esta\", \"ha\", \"anos\", \"sobre\", \"sus\", \"contra\", \"mexico\", \"presidente\"  …  \"recuperarse\", \"sso\", \"peter\", \"louis\", \"cruces\", \"nolleva\", \"acaboelpaseviernes\", \"salvadorena\", \"frases\", \"mayorkas\"], Int32[0, 1929, 1929, 1523, 1504, 1452, 1447, 1420, 1347, 1245  …  7, 5, 7, 6, 6, 5, 5, 5, 6, 5], Int32[0, 1929, 1929, 1523, 1504, 1452, 1447, 1420, 1347, 1245  …  7, 5, 7, 6, 6, 5, 5, 5, 6, 5], Dict{String, UInt32}(\"focos\" => 0x00002213, \"corresponden\" => 0x0000175b, \"nocturnos\" => 0x000022ba, \"chocolate\" => 0x00002041, \"#videos\" => 0x0000177a, \"viajara\" => 0x0000244c, \"inutil\" => 0x00001978, \"exhibir\" => 0x00001ff3, \"depositos\" => 0x00001eb4, \"libertad\" => 0x00000210…), 30244))"
      ]
     },
     "execution_count": 4,
     "metadata": {},
     "output_type": "execute_result"
    }
   ],
   "source": [
    "T = let\n",
    "    voc = Vocabulary(textconfig, D.corpus; thesaurus=E.vocab)\n",
    "    model = VectorModel(BinaryGlobalWeighting(), TpWeighting(), voc)\n",
    "    (; textconfig, model, voc)\n",
    "end"
   ]
  },
  {
   "cell_type": "code",
   "execution_count": null,
   "id": "a5bba498-56a8-4445-a028-f03c629601df",
   "metadata": {},
   "outputs": [],
   "source": []
  },
  {
   "cell_type": "code",
   "execution_count": 5,
   "id": "479b2661-122c-412b-afe8-ac0ec4c4b03d",
   "metadata": {},
   "outputs": [
    {
     "data": {
      "text/plain": [
       "cloud_corpus (generic function with 1 method)"
      ]
     },
     "execution_count": 5,
     "metadata": {},
     "output_type": "execute_result"
    }
   ],
   "source": [
    "cloud(text, E, T) = vectorize(T.model, T.textconfig, text; normalize=false)\n",
    "cloud_corpus(corpus, E, T) = vectorize_corpus(T.model, T.textconfig, corpus; normalize=false)"
   ]
  },
  {
   "cell_type": "code",
   "execution_count": 6,
   "id": "e4fcb23f-9564-4910-9a4f-1f5d4a582d5f",
   "metadata": {},
   "outputs": [],
   "source": [
    "struct AWMD <: SemiMetric\n",
    "    X::MatrixDatabase\n",
    "    results::Vector{KnnResult}\n",
    "    dcos::NormalizedCosineDistance\n",
    "end\n",
    "\n",
    "AWMD(X) = AWMD(X, [KnnResult(1) for _ in 1:Threads.nthreads()], NormalizedCosineDistance())\n",
    "\n",
    "const PI_2 = convert(Float32, pi / 2)\n",
    "\n",
    "\n",
    "@inline function nn_(X, res, dcos, u, V)\n",
    "    res = reuse!(res)\n",
    "\n",
    "    for (vid, _) in V\n",
    "        push!(res, vid, evaluate(dcos, u, X[vid]))\n",
    "    end\n",
    "    \n",
    "    minimum(res)\n",
    "end\n",
    "\n",
    "function onesidewmd(X, res, dcos, U, V)\n",
    "    d::Float32 = zero(Float32)\n",
    "    @fastmath for (uid, w) in U\n",
    "        if !haskey(V, uid) # evaluates to zero\n",
    "            d = max(d, w * nn_(X, res, dcos, X[uid], V))\n",
    "        end\n",
    "    end\n",
    "    \n",
    "    d\n",
    "end\n",
    "\n",
    "function SimilaritySearch.evaluate(wmd::AWMD, U::T, V::T) where T\n",
    "    length(U) == 1 && haskey(U, 0) && return PI_2\n",
    "    length(V) == 1 && haskey(V, 0) && return PI_2\n",
    "    res = wmd.results[Threads.threadid()]\n",
    "    dcos = wmd.dcos\n",
    "\n",
    "    max(onesidewmd(wmd.X, res, dcos, U, V), onesidewmd(wmd.X, res, dcos, V, U))\n",
    "end\n"
   ]
  },
  {
   "cell_type": "code",
   "execution_count": 7,
   "id": "af8bad4e-c31b-4506-8341-47c4130d664a",
   "metadata": {},
   "outputs": [
    {
     "data": {
      "text/plain": [
       "AWMD(MatrixDatabase{Matrix{Float32}}(Float32[0.17953031 -0.12504481 … 0.032049984 0.049792238; 0.19821823 0.037016124 … -0.014358723 0.19184345; … ; -0.09407112 0.030588793 … 0.109720536 0.041526493; 0.09679824 -0.0152774 … 0.15423927 0.029537214]), KnnResult[KnnResult(Int32[], Float32[], 1), KnnResult(Int32[], Float32[], 1), KnnResult(Int32[], Float32[], 1), KnnResult(Int32[], Float32[], 1), KnnResult(Int32[], Float32[], 1), KnnResult(Int32[], Float32[], 1), KnnResult(Int32[], Float32[], 1), KnnResult(Int32[], Float32[], 1), KnnResult(Int32[], Float32[], 1), KnnResult(Int32[], Float32[], 1)  …  KnnResult(Int32[], Float32[], 1), KnnResult(Int32[], Float32[], 1), KnnResult(Int32[], Float32[], 1), KnnResult(Int32[], Float32[], 1), KnnResult(Int32[], Float32[], 1), KnnResult(Int32[], Float32[], 1), KnnResult(Int32[], Float32[], 1), KnnResult(Int32[], Float32[], 1), KnnResult(Int32[], Float32[], 1), KnnResult(Int32[], Float32[], 1)], NormalizedCosineDistance())"
      ]
     },
     "execution_count": 7,
     "metadata": {},
     "output_type": "execute_result"
    }
   ],
   "source": [
    "db = VectorDatabase(cloud_corpus(D.corpus, E, T))\n",
    "for c in eachcol(E.embeddings)\n",
    "    normalize!(c)\n",
    "end\n",
    "\n",
    "dist = AWMD(MatrixDatabase(E.embeddings))"
   ]
  },
  {
   "cell_type": "code",
   "execution_count": 8,
   "id": "9d1dc14b-02cb-45ab-8466-5783251ef877",
   "metadata": {
    "tags": []
   },
   "outputs": [],
   "source": [
    "#=recall = 0.8\n",
    "index = SearchGraph(; dist, db, verbose=true)\n",
    "#index!(index; callbacks=SearchGraphCallbacks(MinRecall(recall)))\n",
    "index!(index)\n",
    "optimize!(index, MinRecall(recall))\n",
    "=#"
   ]
  },
  {
   "cell_type": "code",
   "execution_count": 9,
   "id": "61fded63-d4ca-42f6-b69e-b0a044c4396b",
   "metadata": {},
   "outputs": [],
   "source": [
    "index = ParallelExhaustiveSearch(; db, dist);"
   ]
  },
  {
   "cell_type": "code",
   "execution_count": 10,
   "id": "03eaad27-034e-437a-92e1-0d7a54500823",
   "metadata": {},
   "outputs": [
    {
     "data": {
      "text/plain": [
       "64"
      ]
     },
     "execution_count": 10,
     "metadata": {},
     "output_type": "execute_result"
    }
   ],
   "source": [
    "Threads.nthreads()"
   ]
  },
  {
   "cell_type": "code",
   "execution_count": 11,
   "id": "e4c515d9-d81d-4d91-9087-df312a117242",
   "metadata": {},
   "outputs": [],
   "source": [
    "#@time res, _ = search(ex, db[111], KnnResult(10))\n",
    "#=@time res, _ = search(ex, cloud(\"covid en México\", E, T), KnnResult(10))\n",
    "\n",
    "for (id_, dist_) in res\n",
    "    display(@htl \"\"\"<div style=\"padding: 0.5em;\">\n",
    "        <span style=\"width: 25%; margin: 0.25em;\"> $(id_ => round(dist_; digits=3))</span>\n",
    "        <span style=\"background-color: rgb(120, 60, 60); margin: 0.2em;\">$(D.text[id_])</span>\n",
    "    </div>\"\"\")\n",
    "end\n",
    "=#"
   ]
  },
  {
   "cell_type": "markdown",
   "id": "51b68d72-5256-49ad-b22b-e896f58bc29f",
   "metadata": {},
   "source": [
    "### Búsqueda y presentación de los resultados"
   ]
  },
  {
   "cell_type": "code",
   "execution_count": 12,
   "id": "e045135e-4189-47cc-9513-72a5000527f6",
   "metadata": {},
   "outputs": [
    {
     "data": {
      "text/plain": [
       "search_and_display (generic function with 1 method)"
      ]
     },
     "execution_count": 12,
     "metadata": {},
     "output_type": "execute_result"
    }
   ],
   "source": [
    "function search_and_display(index, qtext, k, D, E, T)\n",
    "    res = KnnResult(k)\n",
    "    q = cloud(qtext, E, T)\n",
    "    @time search(index, q, res)\n",
    "    \n",
    "    L = []\n",
    "    for (j, (id, d)) in enumerate(res)\n",
    "        push!(L, @htl \"<tr><td>$j</td><td>$id</td><td>$(round(d, digits=3))</td> <td>$(D.labels[id])</td><td> $(D.corpus[id])</td> </tr>\")\n",
    "    end\n",
    "\n",
    "    display(@htl \"\"\"<h2>resultados para \"$qtext\"</h2>\n",
    "    <table>\n",
    "    <th>  <td>id</td> <td>dist</td> <td>user</td> </td>message<td> </th>\n",
    "        $L\n",
    "    </table>\n",
    "    \"\"\")\n",
    "end\n"
   ]
  },
  {
   "cell_type": "code",
   "execution_count": 13,
   "id": "b1123924-05b2-4799-b2f7-18b3d2c46f4d",
   "metadata": {},
   "outputs": [
    {
     "data": {
      "text/html": [
       "<h1>Ejemplos de búsqueda</h1>"
      ],
      "text/plain": [
       "<h1>Ejemplos de búsqueda</h1>"
      ]
     },
     "metadata": {},
     "output_type": "display_data"
    },
    {
     "name": "stdout",
     "output_type": "stream",
     "text": [
      "  1.367959 seconds (3.04 M allocations: 237.441 MiB, 23.55% gc time, 99.51% compilation time)\n"
     ]
    },
    {
     "data": {
      "text/html": [
       "<h2>resultados para \"el gobierno de andres manuel lopez\"</h2>\n",
       "<table>\n",
       "<th>  <td>id</td> <td>dist</td> <td>user</td> </td>message<td> </th>\n",
       "    <tr><td>1</td><td>19737</td><td>0.067</td> <td>azucenau</td><td> La jefa de gobierno de la Ciudad de México, Claudia Sheinbaum, aseguró que ella y el presidente de la República, Andrés Manuel López Obrador, “somos parte del mismo movimiento”, y que jamás será líder de oposición, pues “somos parte de la Cuarta Transformación”. https://t.co/FYoh0GuROr</td> </tr><tr><td>2</td><td>9748</td><td>0.11</td> <td>SinEmbargoMX</td><td> 🚨 #URGENTE |  El Gobierno de EU ofrece 5 millones de dólares por información que conduzca al arresto y condena de los mexicanos Ovidio Guzmán López, Iván Archivaldo Guzmán Salazar, Jesús Alfredo Guzmán Salazar y Joaquín Guzmán López, hijos de “El Chapo” https://t.co/S8eyJEDNTX https://t.co/YSXPkhUM7k</td> </tr><tr><td>3</td><td>27745</td><td>0.116</td> <td>Reforma</td><td> El Presidente Andrés Manuel López Obrador propuso al Gobierno de #NuevoLeon acordar con empresarios que produzcan menos, usen menos #agua, y que así vaya más líquido a la gente.\n",
       "https://t.co/9kW1cPZBmj</td> </tr><tr><td>4</td><td>27380</td><td>0.116</td> <td>El_Universal_Mx</td><td> #LaMañaneraDeAMLO López Obrador a los oaxaqueños: “Seguimos atendiendo este problema originado por el huracán, vamos a seguir apoyando y ese es el propósito de la visita que va a llevar a cabo el secretario Sandoval para estar con ustedes con todo el apoyo del gobierno federal” https://t.co/kX0AbGi96u</td> </tr><tr><td>5</td><td>19047</td><td>0.119</td> <td>SinEmbargoMX</td><td> El Secretario de Gobernación, Adán Augusto López, informó que el Gobierno federal y las aerolíneas llegaron a acuerdos para que los vuelos de carga doméstica y las operaciones tipo chárter migren “casi de inmediato” al AIFA https://t.co/LOJTQIPLxG https://t.co/41PU4vxjFX</td> </tr><tr><td>6</td><td>4318</td><td>0.119</td> <td>El_Universal_Mx</td><td> #LaMañaneraDeAMLO “Pues va bien, no ha habido ninguna notificación del gobierno de España”, dice López Obrador sobre el proceso de ratificación de Quirino Ordaz, exgobernador de Sinaloa, como embajador en ese país  https://t.co/c0Pl5eHt5d https://t.co/QuyLegNxMZ</td> </tr><tr><td>7</td><td>3093</td><td>0.119</td> <td>RicardoAlemanMx</td><td> Si tenían duda, el @TEPJF_informa también está sometido por el gobierno de @lopezobrador_ !\n",
       "Por eso hoy voto contra la decisión del @INEMexico !\n",
       "Tienen razón Vargas Llosa y Ernesto Zedillo; con López, México vive la destrucción de su democracia!\n",
       "Al tiempo!</td> </tr>\n",
       "</table>\n"
      ],
      "text/plain": [
       "<h2>resultados para \"el gobierno de andres manuel lopez\"</h2>\n",
       "<table>\n",
       "<th>  <td>id</td> <td>dist</td> <td>user</td> </td>message<td> </th>\n",
       "    <tr><td>1</td><td>19737</td><td>0.067</td> <td>azucenau</td><td> La jefa de gobierno de la Ciudad de México, Claudia Sheinbaum, aseguró que ella y el presidente de la República, Andrés Manuel López Obrador, “somos parte del mismo movimiento”, y que jamás será líder de oposición, pues “somos parte de la Cuarta Transformación”. https://t.co/FYoh0GuROr</td> </tr><tr><td>2</td><td>9748</td><td>0.11</td> <td>SinEmbargoMX</td><td> 🚨 #URGENTE |  El Gobierno de EU ofrece 5 millones de dólares por información que conduzca al arresto y condena de los mexicanos Ovidio Guzmán López, Iván Archivaldo Guzmán Salazar, Jesús Alfredo Guzmán Salazar y Joaquín Guzmán López, hijos de “El Chapo” https://t.co/S8eyJEDNTX https://t.co/YSXPkhUM7k</td> </tr><tr><td>3</td><td>27745</td><td>0.116</td> <td>Reforma</td><td> El Presidente Andrés Manuel López Obrador propuso al Gobierno de #NuevoLeon acordar con empresarios que produzcan menos, usen menos #agua, y que así vaya más líquido a la gente.\n",
       "https://t.co/9kW1cPZBmj</td> </tr><tr><td>4</td><td>27380</td><td>0.116</td> <td>El_Universal_Mx</td><td> #LaMañaneraDeAMLO López Obrador a los oaxaqueños: “Seguimos atendiendo este problema originado por el huracán, vamos a seguir apoyando y ese es el propósito de la visita que va a llevar a cabo el secretario Sandoval para estar con ustedes con todo el apoyo del gobierno federal” https://t.co/kX0AbGi96u</td> </tr><tr><td>5</td><td>19047</td><td>0.119</td> <td>SinEmbargoMX</td><td> El Secretario de Gobernación, Adán Augusto López, informó que el Gobierno federal y las aerolíneas llegaron a acuerdos para que los vuelos de carga doméstica y las operaciones tipo chárter migren “casi de inmediato” al AIFA https://t.co/LOJTQIPLxG https://t.co/41PU4vxjFX</td> </tr><tr><td>6</td><td>4318</td><td>0.119</td> <td>El_Universal_Mx</td><td> #LaMañaneraDeAMLO “Pues va bien, no ha habido ninguna notificación del gobierno de España”, dice López Obrador sobre el proceso de ratificación de Quirino Ordaz, exgobernador de Sinaloa, como embajador en ese país  https://t.co/c0Pl5eHt5d https://t.co/QuyLegNxMZ</td> </tr><tr><td>7</td><td>3093</td><td>0.119</td> <td>RicardoAlemanMx</td><td> Si tenían duda, el @TEPJF_informa también está sometido por el gobierno de @lopezobrador_ !\n",
       "Por eso hoy voto contra la decisión del @INEMexico !\n",
       "Tienen razón Vargas Llosa y Ernesto Zedillo; con López, México vive la destrucción de su democracia!\n",
       "Al tiempo!</td> </tr>\n",
       "</table>\n"
      ]
     },
     "metadata": {},
     "output_type": "display_data"
    },
    {
     "name": "stdout",
     "output_type": "stream",
     "text": [
      "  0.042159 seconds (119.95 k allocations: 2.745 MiB)\n"
     ]
    },
    {
     "data": {
      "text/html": [
       "<h2>resultados para \"trafico de drogas\"</h2>\n",
       "<table>\n",
       "<th>  <td>id</td> <td>dist</td> <td>user</td> </td>message<td> </th>\n",
       "    <tr><td>1</td><td>19869</td><td>0.038</td> <td>epigmenioibarra</td><td> 29 JoseE\n",
       "30 JoseLuisL\n",
       "31 Jhosivani\n",
       "32 JulioCesarL\n",
       "El GIEI solicitó investigar el tráfico de drogas escondidas en autobuses como probable motivo del ataque a los normalistas, ya que un quinto autobús que apareció quemado fue omitido en la investigación oficial.\n",
       "#Ayotzinapa80Meses https://t.co/jbAcSdIuPI</td> </tr><tr><td>2</td><td>10449</td><td>0.038</td> <td>epigmenioibarra</td><td> 29 JoseE\n",
       "30 JoseLuisL\n",
       "31 Jhosivani\n",
       "32 JulioCesarL\n",
       "El GIEI solicitó investigar el tráfico de drogas escondidas en autobuses como probable motivo del ataque a los normalistas, ya que un quinto autobús que apareció quemado fue omitido en la investigación oficial.\n",
       "#Ayotzinapa80Meses https://t.co/BNAdU3bp0n</td> </tr><tr><td>3</td><td>14765</td><td>0.038</td> <td>epigmenioibarra</td><td> 29 JoseE\n",
       "30 JoseLuisL\n",
       "31 Jhosivani\n",
       "32 JulioCesarL\n",
       "El GIEI solicitó investigar el tráfico de drogas escondidas en autobuses como probable motivo del ataque a los normalistas, ya que un quinto autobús que apareció quemado fue omitido en la investigación oficial.\n",
       "#Ayotzinapa80Meses https://t.co/cR2d88sSeF</td> </tr><tr><td>4</td><td>10549</td><td>0.038</td> <td>epigmenioibarra</td><td> 29 JoseE\n",
       "30 JoseLuisL\n",
       "31 Jhosivani\n",
       "32 JulioCesarL\n",
       "El GIEI solicitó investigar el tráfico de drogas escondidas en autobuses como probable motivo del ataque a los normalistas, ya que un quinto autobús que apareció quemado fue omitido en la investigación oficial.\n",
       "#Ayotzinapa88meses https://t.co/Yg7Rf8yDoS</td> </tr><tr><td>5</td><td>26176</td><td>0.038</td> <td>epigmenioibarra</td><td> 29 JoseE\n",
       "30 JoseLuisL\n",
       "31 Jhosivani\n",
       "32 JulioCesarL\n",
       "El GIEI solicitó investigar el tráfico de drogas escondidas en autobuses como probable motivo del ataque a los normalistas, ya que un quinto autobús que apareció quemado fue omitido en la investigación oficial.\n",
       "#Ayotzinapa81Meses https://t.co/cxi6tlCTMA</td> </tr><tr><td>6</td><td>9256</td><td>0.038</td> <td>epigmenioibarra</td><td> 29 JoseE\n",
       "30 JoseLuisL\n",
       "31 Jhosivani\n",
       "32 JulioCesarL\n",
       "El GIEI solicitó investigar el tráfico de drogas escondidas en autobuses como probable motivo del ataque a los normalistas, ya que un quinto autobús que apareció quemado fue omitido en la investigación oficial.\n",
       "#Ayotzinapa81Meses https://t.co/jOhSMS35Z5</td> </tr><tr><td>7</td><td>13983</td><td>0.038</td> <td>epigmenioibarra</td><td> 29 JoseE\n",
       "30 JoseLuisL\n",
       "31 Jhosivani\n",
       "32 JulioCesarL\n",
       "El GIEI solicitó investigar el tráfico de drogas escondidas en autobuses como probable motivo del ataque a los normalistas, ya que un quinto autobús que apareció quemado fue omitido en la investigación oficial.\n",
       "#Ayotzinapa81Meses https://t.co/V6gw7dw6ZX</td> </tr>\n",
       "</table>\n"
      ],
      "text/plain": [
       "<h2>resultados para \"trafico de drogas\"</h2>\n",
       "<table>\n",
       "<th>  <td>id</td> <td>dist</td> <td>user</td> </td>message<td> </th>\n",
       "    <tr><td>1</td><td>19869</td><td>0.038</td> <td>epigmenioibarra</td><td> 29 JoseE\n",
       "30 JoseLuisL\n",
       "31 Jhosivani\n",
       "32 JulioCesarL\n",
       "El GIEI solicitó investigar el tráfico de drogas escondidas en autobuses como probable motivo del ataque a los normalistas, ya que un quinto autobús que apareció quemado fue omitido en la investigación oficial.\n",
       "#Ayotzinapa80Meses https://t.co/jbAcSdIuPI</td> </tr><tr><td>2</td><td>10449</td><td>0.038</td> <td>epigmenioibarra</td><td> 29 JoseE\n",
       "30 JoseLuisL\n",
       "31 Jhosivani\n",
       "32 JulioCesarL\n",
       "El GIEI solicitó investigar el tráfico de drogas escondidas en autobuses como probable motivo del ataque a los normalistas, ya que un quinto autobús que apareció quemado fue omitido en la investigación oficial.\n",
       "#Ayotzinapa80Meses https://t.co/BNAdU3bp0n</td> </tr><tr><td>3</td><td>14765</td><td>0.038</td> <td>epigmenioibarra</td><td> 29 JoseE\n",
       "30 JoseLuisL\n",
       "31 Jhosivani\n",
       "32 JulioCesarL\n",
       "El GIEI solicitó investigar el tráfico de drogas escondidas en autobuses como probable motivo del ataque a los normalistas, ya que un quinto autobús que apareció quemado fue omitido en la investigación oficial.\n",
       "#Ayotzinapa80Meses https://t.co/cR2d88sSeF</td> </tr><tr><td>4</td><td>10549</td><td>0.038</td> <td>epigmenioibarra</td><td> 29 JoseE\n",
       "30 JoseLuisL\n",
       "31 Jhosivani\n",
       "32 JulioCesarL\n",
       "El GIEI solicitó investigar el tráfico de drogas escondidas en autobuses como probable motivo del ataque a los normalistas, ya que un quinto autobús que apareció quemado fue omitido en la investigación oficial.\n",
       "#Ayotzinapa88meses https://t.co/Yg7Rf8yDoS</td> </tr><tr><td>5</td><td>26176</td><td>0.038</td> <td>epigmenioibarra</td><td> 29 JoseE\n",
       "30 JoseLuisL\n",
       "31 Jhosivani\n",
       "32 JulioCesarL\n",
       "El GIEI solicitó investigar el tráfico de drogas escondidas en autobuses como probable motivo del ataque a los normalistas, ya que un quinto autobús que apareció quemado fue omitido en la investigación oficial.\n",
       "#Ayotzinapa81Meses https://t.co/cxi6tlCTMA</td> </tr><tr><td>6</td><td>9256</td><td>0.038</td> <td>epigmenioibarra</td><td> 29 JoseE\n",
       "30 JoseLuisL\n",
       "31 Jhosivani\n",
       "32 JulioCesarL\n",
       "El GIEI solicitó investigar el tráfico de drogas escondidas en autobuses como probable motivo del ataque a los normalistas, ya que un quinto autobús que apareció quemado fue omitido en la investigación oficial.\n",
       "#Ayotzinapa81Meses https://t.co/jOhSMS35Z5</td> </tr><tr><td>7</td><td>13983</td><td>0.038</td> <td>epigmenioibarra</td><td> 29 JoseE\n",
       "30 JoseLuisL\n",
       "31 Jhosivani\n",
       "32 JulioCesarL\n",
       "El GIEI solicitó investigar el tráfico de drogas escondidas en autobuses como probable motivo del ataque a los normalistas, ya que un quinto autobús que apareció quemado fue omitido en la investigación oficial.\n",
       "#Ayotzinapa81Meses https://t.co/V6gw7dw6ZX</td> </tr>\n",
       "</table>\n"
      ]
     },
     "metadata": {},
     "output_type": "display_data"
    },
    {
     "name": "stdout",
     "output_type": "stream",
     "text": [
      "  0.025442 seconds (119.95 k allocations: 2.745 MiB)\n"
     ]
    },
    {
     "data": {
      "text/html": [
       "<h2>resultados para \"calentamiento global\"</h2>\n",
       "<table>\n",
       "<th>  <td>id</td> <td>dist</td> <td>user</td> </td>message<td> </th>\n",
       "    <tr><td>1</td><td>6080</td><td>0.046</td> <td>SinEmbargoMX</td><td> #Opinión | Ana Ortega de @THL_Latino\n",
       "\n",
       "&quot;El consumo de carne o lo que no se habla del calentamiento global&quot;\n",
       "\n",
       "Si no adoptamos una postura más firme ante el calentamiento global, el panorama de México está a punto de ponerse sombrío\n",
       "https://t.co/HL8v7EBp2x https://t.co/k8Az8hDr5y</td> </tr><tr><td>2</td><td>639</td><td>0.079</td> <td>bbcmundo</td><td> Cambio climático: 5 buenas noticias sobre la lucha contra el calentamiento global (contadas por científicos y expertos) https://t.co/VOKUupHVGN</td> </tr><tr><td>3</td><td>2189</td><td>0.088</td> <td>CNNEE</td><td> ▶ Todavía podemos mitigar el daño al planeta por el calentamiento global si exigimos políticas públicas a gobiernos, dicen expertas. https://t.co/7eoc24sboY</td> </tr><tr><td>4</td><td>27948</td><td>0.113</td> <td>bbcmundo</td><td> El calentamiento global avanza y los países parecen incapaces de cumplir con los objetivos de emisiones.\n",
       "\n",
       "https://t.co/xW9mKglT2u</td> </tr><tr><td>5</td><td>13719</td><td>0.126</td> <td>Milenio</td><td> ▶ ¿Era fuera de lugar? El polémico gol de Aldo Rocha en la final Atlas vs León \n",
       "\n",
       "La anotación se dio por válida y los Zorros empataron el marcador global\n",
       "https://t.co/5QCSfdz0YW https://t.co/omdW15uzOI</td> </tr><tr><td>6</td><td>26946</td><td>0.126</td> <td>CNNEE</td><td> CNN se enorgullece de transmitir en vivo la primera celebración global de Juneteenth desde que se convirtió en un feriado federal en EE.UU. Únete a algunas de las estrellas más famosas mientras juntos alzan sus voces para &quot;Juneteenth: una celebración mundial por la libertad&quot;. https://t.co/NiFlTlGbTz</td> </tr><tr><td>7</td><td>12</td><td>0.126</td> <td>CNNEE</td><td> Esta variante de covid-19 detectada por primera vez en la India en febrero se ha vuelto global. Analizamos lo que se sabe hasta ahora y por qué es tan peligrosa. Muy pronto en &apos;Coronavirus, variante delta: amenaza mundial&apos;, un especial presentado por @DonFranciscoTV https://t.co/bqEvLSDWbK</td> </tr>\n",
       "</table>\n"
      ],
      "text/plain": [
       "<h2>resultados para \"calentamiento global\"</h2>\n",
       "<table>\n",
       "<th>  <td>id</td> <td>dist</td> <td>user</td> </td>message<td> </th>\n",
       "    <tr><td>1</td><td>6080</td><td>0.046</td> <td>SinEmbargoMX</td><td> #Opinión | Ana Ortega de @THL_Latino\n",
       "\n",
       "&quot;El consumo de carne o lo que no se habla del calentamiento global&quot;\n",
       "\n",
       "Si no adoptamos una postura más firme ante el calentamiento global, el panorama de México está a punto de ponerse sombrío\n",
       "https://t.co/HL8v7EBp2x https://t.co/k8Az8hDr5y</td> </tr><tr><td>2</td><td>639</td><td>0.079</td> <td>bbcmundo</td><td> Cambio climático: 5 buenas noticias sobre la lucha contra el calentamiento global (contadas por científicos y expertos) https://t.co/VOKUupHVGN</td> </tr><tr><td>3</td><td>2189</td><td>0.088</td> <td>CNNEE</td><td> ▶ Todavía podemos mitigar el daño al planeta por el calentamiento global si exigimos políticas públicas a gobiernos, dicen expertas. https://t.co/7eoc24sboY</td> </tr><tr><td>4</td><td>27948</td><td>0.113</td> <td>bbcmundo</td><td> El calentamiento global avanza y los países parecen incapaces de cumplir con los objetivos de emisiones.\n",
       "\n",
       "https://t.co/xW9mKglT2u</td> </tr><tr><td>5</td><td>13719</td><td>0.126</td> <td>Milenio</td><td> ▶ ¿Era fuera de lugar? El polémico gol de Aldo Rocha en la final Atlas vs León \n",
       "\n",
       "La anotación se dio por válida y los Zorros empataron el marcador global\n",
       "https://t.co/5QCSfdz0YW https://t.co/omdW15uzOI</td> </tr><tr><td>6</td><td>26946</td><td>0.126</td> <td>CNNEE</td><td> CNN se enorgullece de transmitir en vivo la primera celebración global de Juneteenth desde que se convirtió en un feriado federal en EE.UU. Únete a algunas de las estrellas más famosas mientras juntos alzan sus voces para &quot;Juneteenth: una celebración mundial por la libertad&quot;. https://t.co/NiFlTlGbTz</td> </tr><tr><td>7</td><td>12</td><td>0.126</td> <td>CNNEE</td><td> Esta variante de covid-19 detectada por primera vez en la India en febrero se ha vuelto global. Analizamos lo que se sabe hasta ahora y por qué es tan peligrosa. Muy pronto en &apos;Coronavirus, variante delta: amenaza mundial&apos;, un especial presentado por @DonFranciscoTV https://t.co/bqEvLSDWbK</td> </tr>\n",
       "</table>\n"
      ]
     },
     "metadata": {},
     "output_type": "display_data"
    },
    {
     "name": "stdout",
     "output_type": "stream",
     "text": [
      "  0.029511 seconds (119.95 k allocations: 2.745 MiB)\n"
     ]
    },
    {
     "data": {
      "text/html": [
       "<h2>resultados para \"covid corona virus\"</h2>\n",
       "<table>\n",
       "<th>  <td>id</td> <td>dist</td> <td>user</td> </td>message<td> </th>\n",
       "    <tr><td>1</td><td>24587</td><td>0.101</td> <td>AristeguiOnline</td><td> Castillo con coronavirus como corona rompe récord mundial Guinness | #Video\n",
       "https://t.co/SaJIKYierX https://t.co/FmV7YOWKEX</td> </tr><tr><td>2</td><td>22527</td><td>0.123</td> <td>abc_es</td><td> 🔴 #ÚLTIMAHORA Don Juan Carlos da negativo en la PCR, tras el positivo en Covid de Rafa Nadal https://t.co/P9Li2qJubQ</td> </tr><tr><td>3</td><td>20429</td><td>0.124</td> <td>AristeguiOnline</td><td> Graves disturbios en Roma durante una manifestación contra el pasaporte Covid https://t.co/CwtlGxCtGs https://t.co/WBz0an5Qc0</td> </tr><tr><td>4</td><td>1801</td><td>0.124</td> <td>NTN24</td><td> Cientos de personas protestaron este #27Jul en Roma en contra del certificado sanitario obligatorio en Italia para ingresar a los establecimientos https://t.co/xuE7B2ihz6 https://t.co/tEBwAq7h5h</td> </tr><tr><td>5</td><td>15536</td><td>0.13</td> <td>El_Universal_Mx</td><td> Jorge Carranza dijo estar conforme con la vacuna Sinovac, pues se debe respetar el biológico que le corresponde a cada alcaldía #Video: Salvador Corona https://t.co/OOSopRhLnt</td> </tr><tr><td>6</td><td>7984</td><td>0.131</td> <td>Milenio</td><td> ¿Se contagió a propósito? Marco Melandri, ex piloto italiano, reveló que buscó enfermarse de covid\n",
       "\n",
       "https://t.co/ebB90aGcfP https://t.co/aHCVDb6E0S</td> </tr><tr><td>7</td><td>16604</td><td>0.132</td> <td>EFEnoticias</td><td> Carlo Ancelotti, técnico italiano del Real Madrid, sigue dando positivo en coronavirus y no integra la expedición a Londres. #UCL\n",
       "\n",
       "https://t.co/m8dp8nJVVu</td> </tr>\n",
       "</table>\n"
      ],
      "text/plain": [
       "<h2>resultados para \"covid corona virus\"</h2>\n",
       "<table>\n",
       "<th>  <td>id</td> <td>dist</td> <td>user</td> </td>message<td> </th>\n",
       "    <tr><td>1</td><td>24587</td><td>0.101</td> <td>AristeguiOnline</td><td> Castillo con coronavirus como corona rompe récord mundial Guinness | #Video\n",
       "https://t.co/SaJIKYierX https://t.co/FmV7YOWKEX</td> </tr><tr><td>2</td><td>22527</td><td>0.123</td> <td>abc_es</td><td> 🔴 #ÚLTIMAHORA Don Juan Carlos da negativo en la PCR, tras el positivo en Covid de Rafa Nadal https://t.co/P9Li2qJubQ</td> </tr><tr><td>3</td><td>20429</td><td>0.124</td> <td>AristeguiOnline</td><td> Graves disturbios en Roma durante una manifestación contra el pasaporte Covid https://t.co/CwtlGxCtGs https://t.co/WBz0an5Qc0</td> </tr><tr><td>4</td><td>1801</td><td>0.124</td> <td>NTN24</td><td> Cientos de personas protestaron este #27Jul en Roma en contra del certificado sanitario obligatorio en Italia para ingresar a los establecimientos https://t.co/xuE7B2ihz6 https://t.co/tEBwAq7h5h</td> </tr><tr><td>5</td><td>15536</td><td>0.13</td> <td>El_Universal_Mx</td><td> Jorge Carranza dijo estar conforme con la vacuna Sinovac, pues se debe respetar el biológico que le corresponde a cada alcaldía #Video: Salvador Corona https://t.co/OOSopRhLnt</td> </tr><tr><td>6</td><td>7984</td><td>0.131</td> <td>Milenio</td><td> ¿Se contagió a propósito? Marco Melandri, ex piloto italiano, reveló que buscó enfermarse de covid\n",
       "\n",
       "https://t.co/ebB90aGcfP https://t.co/aHCVDb6E0S</td> </tr><tr><td>7</td><td>16604</td><td>0.132</td> <td>EFEnoticias</td><td> Carlo Ancelotti, técnico italiano del Real Madrid, sigue dando positivo en coronavirus y no integra la expedición a Londres. #UCL\n",
       "\n",
       "https://t.co/m8dp8nJVVu</td> </tr>\n",
       "</table>\n"
      ]
     },
     "metadata": {},
     "output_type": "display_data"
    }
   ],
   "source": [
    "\n",
    "display(@htl \"<h1>Ejemplos de búsqueda</h1>\")\n",
    "search_and_display(index, \"el gobierno de andres manuel lopez\", 7, D, E, T)\n",
    "search_and_display(index, \"trafico de drogas\", 7, D, E, T)\n",
    "search_and_display(index, \"calentamiento global\", 7, D, E, T)\n",
    "search_and_display(index, \"covid corona virus\", 7, D, E, T)\n"
   ]
  },
  {
   "cell_type": "code",
   "execution_count": 15,
   "id": "b4028733-5dd7-46e0-addb-5f7959766695",
   "metadata": {},
   "outputs": [
    {
     "data": {
      "text/html": [
       "<h1>Ejemplos de búsqueda (mensajes aleatorios)</h1>"
      ],
      "text/plain": [
       "<h1>Ejemplos de búsqueda (mensajes aleatorios)</h1>"
      ]
     },
     "metadata": {},
     "output_type": "display_data"
    },
    {
     "name": "stdout",
     "output_type": "stream",
     "text": [
      "  0.092270 seconds (119.95 k allocations: 2.745 MiB)\n"
     ]
    },
    {
     "data": {
      "text/html": [
       "<h2>resultados para \"RT @Planeta_Futuro: Opinión | Parece más fácil devolver a su estado inicial de riqueza a una región que ha sido desarrollada y que, por gue…\"</h2>\n",
       "<table>\n",
       "<th>  <td>id</td> <td>dist</td> <td>user</td> </td>message<td> </th>\n",
       "    <tr><td>1</td><td>2448</td><td>0.0</td> <td>el_pais</td><td> RT @Planeta_Futuro: Opinión | Parece más fácil devolver a su estado inicial de riqueza a una región que ha sido desarrollada y que, por gue…</td> </tr><tr><td>2</td><td>28531</td><td>0.069</td> <td>epigmenioibarra</td><td> Indecentes y suicidas me parecen aquellos que, apegados al dogma neoliberal y conservador, pontifican y se oponen a los programas sociales. ¿Qué quieren, perpetuar en la condición de “condenados de la tierra” a quienes han sido históricamente marginados?\n",
       "https://t.co/BfQhgG9BmC</td> </tr><tr><td>3</td><td>7070</td><td>0.069</td> <td>el_pais</td><td> —¿Cuál ha sido el desahucio más doloroso?\n",
       "\n",
       "—Paco, de 85 años, era un vecino de Lavapiés que llevaba ahí toda la vida, con una pensión de 392 euros, un cáncer terminal y de repente le iban a echar de casa. Acabó siendo muy bonito porque lo paramos https://t.co/hj0nSOH6nT</td> </tr><tr><td>4</td><td>10072</td><td>0.07</td> <td>el_pais</td><td> Eli se recuerda con 21 años rodando camino a una de las zonas más empobrecidas y violentas de la ciudad. Buscaba al artesano gruñón que le enseño el oficio. Se ha convertido en algo único en México: una mujer que hace bicicletas. No ha sido un camino fácil https://t.co/MueHoIwj6M</td> </tr><tr><td>5</td><td>25867</td><td>0.071</td> <td>azucenau</td><td> Sobre la emboscada en Nuevo León donde mataron a 6 elementos de Fuerza Civil el presidente informa que hay apoyo federal para buscar a los responsables de un grupo ya identificado\n",
       "\n",
       "Sobre la crisis del agua,dice, que ya se ha transferido buena cantidad de recursos al estado</td> </tr><tr><td>6</td><td>1071</td><td>0.071</td> <td>Milenio</td><td> #PolíticaCero | Con la llegada de la satrapía macuspánica hemos visto a los sectores más conservadores, panistas y priistas unirse para salvar al país del comunismo cubanizante y venezolanizado 🎙 Lee y escucha la columna de @jairocalixto https://t.co/pw8Vi5lkmp https://t.co/05jdWFCm9L</td> </tr><tr><td>7</td><td>17865</td><td>0.071</td> <td>Reforma</td><td> México es el único país del #G20 que no ha anunciado planes para alcanzar las cero emisiones netas para 2050, alertó @WRIMexico.\n",
       "\n",
       "Checa cómo influye esta meta en combatir la #CrisisClimática.\n",
       "\n",
       "https://t.co/5l5vODPHBC</td> </tr>\n",
       "</table>\n"
      ],
      "text/plain": [
       "<h2>resultados para \"RT @Planeta_Futuro: Opinión | Parece más fácil devolver a su estado inicial de riqueza a una región que ha sido desarrollada y que, por gue…\"</h2>\n",
       "<table>\n",
       "<th>  <td>id</td> <td>dist</td> <td>user</td> </td>message<td> </th>\n",
       "    <tr><td>1</td><td>2448</td><td>0.0</td> <td>el_pais</td><td> RT @Planeta_Futuro: Opinión | Parece más fácil devolver a su estado inicial de riqueza a una región que ha sido desarrollada y que, por gue…</td> </tr><tr><td>2</td><td>28531</td><td>0.069</td> <td>epigmenioibarra</td><td> Indecentes y suicidas me parecen aquellos que, apegados al dogma neoliberal y conservador, pontifican y se oponen a los programas sociales. ¿Qué quieren, perpetuar en la condición de “condenados de la tierra” a quienes han sido históricamente marginados?\n",
       "https://t.co/BfQhgG9BmC</td> </tr><tr><td>3</td><td>7070</td><td>0.069</td> <td>el_pais</td><td> —¿Cuál ha sido el desahucio más doloroso?\n",
       "\n",
       "—Paco, de 85 años, era un vecino de Lavapiés que llevaba ahí toda la vida, con una pensión de 392 euros, un cáncer terminal y de repente le iban a echar de casa. Acabó siendo muy bonito porque lo paramos https://t.co/hj0nSOH6nT</td> </tr><tr><td>4</td><td>10072</td><td>0.07</td> <td>el_pais</td><td> Eli se recuerda con 21 años rodando camino a una de las zonas más empobrecidas y violentas de la ciudad. Buscaba al artesano gruñón que le enseño el oficio. Se ha convertido en algo único en México: una mujer que hace bicicletas. No ha sido un camino fácil https://t.co/MueHoIwj6M</td> </tr><tr><td>5</td><td>25867</td><td>0.071</td> <td>azucenau</td><td> Sobre la emboscada en Nuevo León donde mataron a 6 elementos de Fuerza Civil el presidente informa que hay apoyo federal para buscar a los responsables de un grupo ya identificado\n",
       "\n",
       "Sobre la crisis del agua,dice, que ya se ha transferido buena cantidad de recursos al estado</td> </tr><tr><td>6</td><td>1071</td><td>0.071</td> <td>Milenio</td><td> #PolíticaCero | Con la llegada de la satrapía macuspánica hemos visto a los sectores más conservadores, panistas y priistas unirse para salvar al país del comunismo cubanizante y venezolanizado 🎙 Lee y escucha la columna de @jairocalixto https://t.co/pw8Vi5lkmp https://t.co/05jdWFCm9L</td> </tr><tr><td>7</td><td>17865</td><td>0.071</td> <td>Reforma</td><td> México es el único país del #G20 que no ha anunciado planes para alcanzar las cero emisiones netas para 2050, alertó @WRIMexico.\n",
       "\n",
       "Checa cómo influye esta meta en combatir la #CrisisClimática.\n",
       "\n",
       "https://t.co/5l5vODPHBC</td> </tr>\n",
       "</table>\n"
      ]
     },
     "metadata": {},
     "output_type": "display_data"
    },
    {
     "name": "stdout",
     "output_type": "stream",
     "text": [
      "  0.109603 seconds (119.95 k allocations: 2.745 MiB)\n"
     ]
    },
    {
     "data": {
      "text/html": [
       "<h2>resultados para \"Tras concretar la caída de Afganistán en manos de los insurgentes, corren rumores de una nueva era para este país, en el que ya habrían iniciado los asesinatos por venganza y la radio local fue rebautizada como “Voz de la Sharía”\n",
       "https://t.co/ESTiD1r8ke https://t.co/tw1Mdxwk87\"</h2>\n",
       "<table>\n",
       "<th>  <td>id</td> <td>dist</td> <td>user</td> </td>message<td> </th>\n",
       "    <tr><td>1</td><td>2426</td><td>0.0</td> <td>SinEmbargoMX</td><td> Tras concretar la caída de Afganistán en manos de los insurgentes, corren rumores de una nueva era para este país, en el que ya habrían iniciado los asesinatos por venganza y la radio local fue rebautizada como “Voz de la Sharía”\n",
       "https://t.co/ESTiD1r8ke https://t.co/tw1Mdxwk87</td> </tr><tr><td>2</td><td>25734</td><td>0.035</td> <td>el_pais</td><td> La UEFA ordena el cierre parcial del Metropolitano por la exhibición de una bandera con simbología nazi en el estadio del City. Comunica al Atlético que debe dejar vació un espacio de 5.000 personas cuando ya tenía todas las localidades vendidas https://t.co/sNi8zY7JCT</td> </tr><tr><td>3</td><td>14777</td><td>0.036</td> <td>CNNEE</td><td> 📢 TWITTER SPACE | Gabriel Herrera es venezolano y viaja por el mundo grabando videos para su canal de YouTube. Estaba trabajando en Kyiv cuando comenzaron los ataques rusas y logró salir del país en auto con su pareja y un amigo hacia Rumania. \n",
       "https://t.co/4y3q87Oa6Y</td> </tr><tr><td>4</td><td>4244</td><td>0.036</td> <td>TelemundoNews</td><td> Velan los restos de Debanhi Escobar, la joven de 18 años que desapareció en Nuevo León, México, en medio de teorías que sugieren que fue abusada sexualmente antes de morir.\n",
       "\n",
       "Este es el resumen de lo que ha sucedido hasta el momento 👇🏻 https://t.co/WSXil3ABsq</td> </tr><tr><td>5</td><td>20019</td><td>0.036</td> <td>teleSURtv</td><td> En #Bolivia 🇧🇴 un grupo de personas lanzó la #LíneaLila, un servicio de transporte operativo exclusivamente por mujeres. Si quieres conocer la historia detrás de esta iniciativa original, mira este video 🎥 . https://t.co/4iyYMVimQV</td> </tr><tr><td>6</td><td>18279</td><td>0.036</td> <td>EFEnoticias</td><td> La tensión creció en Perú ante la definición de las presidenciales, con Pedro Castillo, quien según sus cuentas ya es el ganador, y con Keiko Fujimori enfocada en intentar demostrar un supuesto &quot;fraude sistemático&quot; y anular así miles de votos de su rival.\n",
       "\n",
       "https://t.co/8WmG191btM</td> </tr><tr><td>7</td><td>13263</td><td>0.036</td> <td>SinEmbargoMX</td><td> Morena arrasa en 4 años | El partido del Presidente logró consolidarse como la principal fuerza política de México y luego de la jornada electoral de este domingo quedó con el poder de 20 entidades, seguido del PAN que tiene bajo su control cinco estados https://t.co/61hfaW1kCJ https://t.co/ZhoVC6EMOA</td> </tr>\n",
       "</table>\n"
      ],
      "text/plain": [
       "<h2>resultados para \"Tras concretar la caída de Afganistán en manos de los insurgentes, corren rumores de una nueva era para este país, en el que ya habrían iniciado los asesinatos por venganza y la radio local fue rebautizada como “Voz de la Sharía”\n",
       "https://t.co/ESTiD1r8ke https://t.co/tw1Mdxwk87\"</h2>\n",
       "<table>\n",
       "<th>  <td>id</td> <td>dist</td> <td>user</td> </td>message<td> </th>\n",
       "    <tr><td>1</td><td>2426</td><td>0.0</td> <td>SinEmbargoMX</td><td> Tras concretar la caída de Afganistán en manos de los insurgentes, corren rumores de una nueva era para este país, en el que ya habrían iniciado los asesinatos por venganza y la radio local fue rebautizada como “Voz de la Sharía”\n",
       "https://t.co/ESTiD1r8ke https://t.co/tw1Mdxwk87</td> </tr><tr><td>2</td><td>25734</td><td>0.035</td> <td>el_pais</td><td> La UEFA ordena el cierre parcial del Metropolitano por la exhibición de una bandera con simbología nazi en el estadio del City. Comunica al Atlético que debe dejar vació un espacio de 5.000 personas cuando ya tenía todas las localidades vendidas https://t.co/sNi8zY7JCT</td> </tr><tr><td>3</td><td>14777</td><td>0.036</td> <td>CNNEE</td><td> 📢 TWITTER SPACE | Gabriel Herrera es venezolano y viaja por el mundo grabando videos para su canal de YouTube. Estaba trabajando en Kyiv cuando comenzaron los ataques rusas y logró salir del país en auto con su pareja y un amigo hacia Rumania. \n",
       "https://t.co/4y3q87Oa6Y</td> </tr><tr><td>4</td><td>4244</td><td>0.036</td> <td>TelemundoNews</td><td> Velan los restos de Debanhi Escobar, la joven de 18 años que desapareció en Nuevo León, México, en medio de teorías que sugieren que fue abusada sexualmente antes de morir.\n",
       "\n",
       "Este es el resumen de lo que ha sucedido hasta el momento 👇🏻 https://t.co/WSXil3ABsq</td> </tr><tr><td>5</td><td>20019</td><td>0.036</td> <td>teleSURtv</td><td> En #Bolivia 🇧🇴 un grupo de personas lanzó la #LíneaLila, un servicio de transporte operativo exclusivamente por mujeres. Si quieres conocer la historia detrás de esta iniciativa original, mira este video 🎥 . https://t.co/4iyYMVimQV</td> </tr><tr><td>6</td><td>18279</td><td>0.036</td> <td>EFEnoticias</td><td> La tensión creció en Perú ante la definición de las presidenciales, con Pedro Castillo, quien según sus cuentas ya es el ganador, y con Keiko Fujimori enfocada en intentar demostrar un supuesto &quot;fraude sistemático&quot; y anular así miles de votos de su rival.\n",
       "\n",
       "https://t.co/8WmG191btM</td> </tr><tr><td>7</td><td>13263</td><td>0.036</td> <td>SinEmbargoMX</td><td> Morena arrasa en 4 años | El partido del Presidente logró consolidarse como la principal fuerza política de México y luego de la jornada electoral de este domingo quedó con el poder de 20 entidades, seguido del PAN que tiene bajo su control cinco estados https://t.co/61hfaW1kCJ https://t.co/ZhoVC6EMOA</td> </tr>\n",
       "</table>\n"
      ]
     },
     "metadata": {},
     "output_type": "display_data"
    },
    {
     "name": "stdout",
     "output_type": "stream",
     "text": [
      "  0.080658 seconds (119.95 k allocations: 2.745 MiB)\n"
     ]
    },
    {
     "data": {
      "text/html": [
       "<h2>resultados para \"RT @epigmenioibarra: ¿A qué hora va a empezar a cantar Genaro García Luna? https://t.co/Z5aKeaciar\"</h2>\n",
       "<table>\n",
       "<th>  <td>id</td> <td>dist</td> <td>user</td> </td>message<td> </th>\n",
       "    <tr><td>1</td><td>28546</td><td>0.0</td> <td>epigmenioibarra</td><td> RT @epigmenioibarra: ¿A qué hora va a empezar a cantar Genaro García Luna? https://t.co/Z5aKeaciar</td> </tr><tr><td>2</td><td>20380</td><td>0.08</td> <td>EFEnoticias</td><td> El líder del PP, Pablo Casado, asegura que la guerra abierta en el PP se puede zanjar hoy mismo con una condición: que Isabel Díaz Ayuso explique en concepto de qué su hermano cobró alrededor de 300.000 euros por un contrato otorgado por su Gobierno.\n",
       "\n",
       "https://t.co/FVI8zPYKHo</td> </tr><tr><td>3</td><td>8029</td><td>0.081</td> <td>SinEmbargoMX</td><td> @alvaro_delgado @paezvarela @DanyBarraganG @RomiinaGandara @MartinFazMora @INEMexico 🔴 #EnVivo | Martin Faz Mora\n",
       "(@MartinFazMora) Consejero Electoral en @INEMexico \n",
       "\n",
       "&quot;El elector encontrará los logotipos de todos los partidos políticos, debe tener mucha claridad de quien forma alguna coalición...hay 18 formas de votar&quot;\n",
       "\n",
       "#LosPeriodistas \n",
       "https://t.co/nqaVgV1vh5 https://t.co/ro1wDYfk0z</td> </tr><tr><td>4</td><td>27462</td><td>0.085</td> <td>el_pais</td><td> OPINIÓN |  &quot;Mark Zuckerberg ha hecho la cosa más Zuckerberg que se podía esperar: anunciar la pretensión de que vivamos inmersos en un universo paralelo que él pueda controlar&quot;. Por Noelia Ramírez https://t.co/I9OscYovmj</td> </tr><tr><td>5</td><td>19102</td><td>0.085</td> <td>CNNEE</td><td> Cuando Messi salga al campo en la final de la Copa América el sábado, podría ser su última oportunidad de ganar un trofeo con Argentina. ¿Crees que lo logrará?\n",
       "https://t.co/ZUKgctgjRm</td> </tr><tr><td>6</td><td>29139</td><td>0.085</td> <td>el_pais</td><td> &quot;Estamos en Europa y vivimos muy tranquilos, pero esto puede acabar de la noche a la mañana&quot;, cuenta Roberto, colombiano que vive desde hace solo tres meses en Barcelona. Es una de las personas que ha acudido al Consulado de Ucrania para alistarse  https://t.co/F3hvD5bVXE</td> </tr><tr><td>7</td><td>22824</td><td>0.085</td> <td>CNNEE</td><td> 🍕 Malas noticias para los amantes de la pizza: la clásica Hot-N-Ready de US$ 5 de Little Caesars ahora cuesta un 11% más. Es su primer aumento de precio en casi 25 años. https://t.co/6zcoOzc1qw</td> </tr>\n",
       "</table>\n"
      ],
      "text/plain": [
       "<h2>resultados para \"RT @epigmenioibarra: ¿A qué hora va a empezar a cantar Genaro García Luna? https://t.co/Z5aKeaciar\"</h2>\n",
       "<table>\n",
       "<th>  <td>id</td> <td>dist</td> <td>user</td> </td>message<td> </th>\n",
       "    <tr><td>1</td><td>28546</td><td>0.0</td> <td>epigmenioibarra</td><td> RT @epigmenioibarra: ¿A qué hora va a empezar a cantar Genaro García Luna? https://t.co/Z5aKeaciar</td> </tr><tr><td>2</td><td>20380</td><td>0.08</td> <td>EFEnoticias</td><td> El líder del PP, Pablo Casado, asegura que la guerra abierta en el PP se puede zanjar hoy mismo con una condición: que Isabel Díaz Ayuso explique en concepto de qué su hermano cobró alrededor de 300.000 euros por un contrato otorgado por su Gobierno.\n",
       "\n",
       "https://t.co/FVI8zPYKHo</td> </tr><tr><td>3</td><td>8029</td><td>0.081</td> <td>SinEmbargoMX</td><td> @alvaro_delgado @paezvarela @DanyBarraganG @RomiinaGandara @MartinFazMora @INEMexico 🔴 #EnVivo | Martin Faz Mora\n",
       "(@MartinFazMora) Consejero Electoral en @INEMexico \n",
       "\n",
       "&quot;El elector encontrará los logotipos de todos los partidos políticos, debe tener mucha claridad de quien forma alguna coalición...hay 18 formas de votar&quot;\n",
       "\n",
       "#LosPeriodistas \n",
       "https://t.co/nqaVgV1vh5 https://t.co/ro1wDYfk0z</td> </tr><tr><td>4</td><td>27462</td><td>0.085</td> <td>el_pais</td><td> OPINIÓN |  &quot;Mark Zuckerberg ha hecho la cosa más Zuckerberg que se podía esperar: anunciar la pretensión de que vivamos inmersos en un universo paralelo que él pueda controlar&quot;. Por Noelia Ramírez https://t.co/I9OscYovmj</td> </tr><tr><td>5</td><td>19102</td><td>0.085</td> <td>CNNEE</td><td> Cuando Messi salga al campo en la final de la Copa América el sábado, podría ser su última oportunidad de ganar un trofeo con Argentina. ¿Crees que lo logrará?\n",
       "https://t.co/ZUKgctgjRm</td> </tr><tr><td>6</td><td>29139</td><td>0.085</td> <td>el_pais</td><td> &quot;Estamos en Europa y vivimos muy tranquilos, pero esto puede acabar de la noche a la mañana&quot;, cuenta Roberto, colombiano que vive desde hace solo tres meses en Barcelona. Es una de las personas que ha acudido al Consulado de Ucrania para alistarse  https://t.co/F3hvD5bVXE</td> </tr><tr><td>7</td><td>22824</td><td>0.085</td> <td>CNNEE</td><td> 🍕 Malas noticias para los amantes de la pizza: la clásica Hot-N-Ready de US$ 5 de Little Caesars ahora cuesta un 11% más. Es su primer aumento de precio en casi 25 años. https://t.co/6zcoOzc1qw</td> </tr>\n",
       "</table>\n"
      ]
     },
     "metadata": {},
     "output_type": "display_data"
    }
   ],
   "source": [
    "display(@htl \"<h1>Ejemplos de búsqueda (mensajes aleatorios)</h1>\")\n",
    "\n",
    "for i in 1:3\n",
    "    for qid in rand(1:length(D.corpus))\n",
    "        search_and_display(index, D.corpus[qid], 7, D, E, T)\n",
    "    end\n",
    "end"
   ]
  },
  {
   "cell_type": "markdown",
   "id": "1e8f09a9-75aa-49c5-9e35-4c486defa289",
   "metadata": {},
   "source": [
    "# Actividades\n",
    "- Reproduzca el ejercicio de este notebook, use embeddings para español, cambié los ejemplos. Se sugiere el uso de <https://ingeotec.github.io/regional-spanish-models/> donde encontrará modelos fastText regionalizados del español, pero puede usar otros embeddings.\n",
    "- ¿Qué piensa de las diferencias de tamaño entre los documentos y las consultas? esto como afecta a la representación semántica.\n",
    "- ¿Cuál sería el símil de bigramas y trigramas para este esquema de representación semántica? Implementelo.\n",
    "- Defina $H^\\textsf{pt}_d$, donde $pt$ es la probabilidad de ocurrencia de término.\n",
    "- Defina $H^\\textsf{TF}_d$, donde $TF$ es la frecuencia de término normalizada.\n",
    "- Implemente $H^\\textsf{TF}_d$ y $H^\\textsf{pt}_d$ de manera secuencial y con un índice métrico. Si usa Julia considere `SimilaritySearch.jl` y si usa Python considere `faiss`.\n",
    "- Reporte su notebook y anote sus soluciones a las preguntas planteadas. El reporte deberá contener un ensayo de [@KSKW2015] como introducción. Reporte los resultados de sus implementaciones, compare contra las alternativas presentadas en este reporte. Discuta sus resultados. Finalice el reporte  con reflexiones sobre el uso de nubes de puntos en lugar de bolsas de palabras tradicionales. Anoté sus conclusiones.\n",
    "\n",
    "# Bibliografía\n",
    "- [KSKW2015] Kusner, M., Sun, Y., Kolkin, N., & Weinberger, K. (2015, June). From word embeddings to document distances. In International conference on machine learning (pp. 957-966). PMLR.\n",
    "- [PW2009] Pele, O., & Werman, M. (2009, September). Fast and robust earth mover's distances. In 2009 IEEE 12th international conference on computer vision (pp. 460-467). IEEE.\n"
   ]
  }
 ],
 "metadata": {
  "kernelspec": {
   "display_name": "Julia 1.7.2",
   "language": "julia",
   "name": "julia-1.7"
  },
  "language_info": {
   "file_extension": ".jl",
   "mimetype": "application/julia",
   "name": "julia",
   "version": "1.7.2"
  }
 },
 "nbformat": 4,
 "nbformat_minor": 5
}
