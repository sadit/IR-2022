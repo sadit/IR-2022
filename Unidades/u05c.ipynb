{
 "cells": [
  {
   "cell_type": "markdown",
   "id": "9fc189d2-656e-41d4-be84-dcf6ccf9537b",
   "metadata": {},
   "source": [
    "# Representación semántica y búsqueda\n",
    "Autor: Eric S. Tellez <eric.tellez@infotec.mx>\n",
    "\n",
    "## Usando la nube de puntos\n",
    "\n",
    "La representación de nube de puntos puede usarse directamente sin realizar prototipos, sin embargo, es posible que dada su complejidad, dimensión intrinseca, tenga poca utilidad en grandes volumenes de información. Por ejemplo, es posible utilizar la distancia de [Hausdorff](https://en.wikipedia.org/wiki/Hausdorff_distance); que entre dos nubes de puntos (documentos para este caso) esta definida como sigue:\n",
    "\n",
    "$$ H_d(U, V) = \\max \\left\\{ \\max_{u \\in U} \\min_{x \\in V} d(u, x), \\max_{v \\in V} \\min_{x \\in U} d(v, x) \\right\\} $$\n",
    "\n",
    "Donde $\\textsf{nn}$ encuentra el vecino cercano del primer argumento en el segundo. Podemos ver la intuición de esta distancia, analizando las partes de la expresión. \n",
    "La diferencia entre ambos conjuntos se representa con el máximo de las distancias mínimas. Note que esta parte es idéntica a resolver una búsqueda de vecinos cercanos. La parte más externa de la expresión se repite para los dos conjuntos para preservar la simétria de la función.\n",
    "\n",
    "De la misma forma, es posible obtener variaciones de interés como considerar todas las distancias cercanas en lugar de solo las máximas, lo cual puede reducir formas caprichosas de _outlayers_.\n",
    "\n",
    "$$ H^+_d(U, V) = \\frac{1}{2|U|} \\sum_{u \\in U} \\min_{x \\in V} d(u, x) + \\frac{1}{2|V|}\\sum_{v \\in V} \\min_{x \\in U} d(v, x) $$\n",
    "\n",
    "La información local de una representación de bolsa de palabras también puede ser aprovechada, por ejemplo, añadiendo información de $\\textsf{tp}$\n",
    "\n",
    "$$ H^\\textsf{pt}_d(U, V) = \\max \\left\\{\n",
    "        \\max_{u \\in U} \\left\\{\\textsf{pt}(u, U) \\min_{x \\in V} d(u, x)\\right\\},\n",
    "        \\max_{v \\in V} \\left\\{\\textsf{pt}(v, V) \\min_{x \\in U} d(v, x)\\right\\}\n",
    "     \\right\\} $$\n",
    "\n",
    "# Notas adicionales\n",
    "La versión de $H^\\textsf{pt}_d$ que usa la probabilidad de término $\\textsf{pt}$ es similar a la aproximación 2 listada en [@KSKW2015]. Los prototipos son similares a la aproximación 1 del mismo artículo. En el artículo se presenta la función de distancia _word mover's distance_ (WMD) que es una adecuación de la Earths mover's distance (EMD) [PW2009]. EMD es la solución óptima a un problema de transportación, la WMD es la adaptación teniendo en cuenta embeddings de palabras.\n",
    "\n",
    "# Ejemplo\n"
   ]
  },
  {
   "cell_type": "code",
   "execution_count": 1,
   "id": "cd04785e-aa4e-493c-9aa8-5c54c8e1f322",
   "metadata": {},
   "outputs": [
    {
     "name": "stderr",
     "output_type": "stream",
     "text": [
      "\u001b[32m\u001b[1m  Activating\u001b[22m\u001b[39m project at `~/IR-2022/Unidades`\n"
     ]
    }
   ],
   "source": [
    "using Pkg\n",
    "Pkg.activate(\".\")\n",
    "!isfile(\"Manifest.toml\") && Pkg.add([\n",
    "    PackageSpec(name=\"SimilaritySearch\", version=\"0.9\"),\n",
    "    PackageSpec(name=\"TextSearch\", version=\"0.13\"),\n",
    "    PackageSpec(name=\"Plots\"),\n",
    "    PackageSpec(name=\"KNearestCenters\"),\n",
    "    PackageSpec(name=\"HypertextLiteral\"),\n",
    "    PackageSpec(name=\"CSV\"),\n",
    "    PackageSpec(name=\"DataFrames\"),\n",
    "    PackageSpec(name=\"Word2Vec\"),\n",
    "    PackageSpec(name=\"Embeddings\"),\n",
    "])\n",
    "\n",
    "using SimilaritySearch, TextSearch, Plots, Word2Vec, KNearestCenters, LinearAlgebra, HypertextLiteral, CSV, DataFrames, Base64, Random\n",
    "using Embeddings: load_embeddings, FastText_Text\n",
    "using Downloads: download"
   ]
  },
  {
   "cell_type": "code",
   "execution_count": 2,
   "id": "dc9f7f49-5c32-41ea-95f5-b8f1670c2842",
   "metadata": {},
   "outputs": [
    {
     "name": "stdout",
     "output_type": "stream",
     "text": [
      "\u001b[32m\u001b[1m      Status\u001b[22m\u001b[39m `~/IR-2022/Unidades/Project.toml`\n",
      " \u001b[90m [944b1d66] \u001b[39mCodecZlib v0.7.0\n",
      " \u001b[90m [ac1192a8] \u001b[39mHypertextLiteral v0.9.4\n",
      " \u001b[90m [b20bd276] \u001b[39mInvertedFiles v0.4.2 `../../Research/InvertedFiles.jl`\n",
      " \u001b[90m [682c06a0] \u001b[39mJSON v0.21.3\n",
      " \u001b[90m [4dca28ae] \u001b[39mKNearestCenters v0.7.1\n",
      " \u001b[90m [8ef0a80b] \u001b[39mLanguages v0.4.3\n",
      " \u001b[90m [eb30cadb] \u001b[39mMLDatasets v0.7.3\n",
      " \u001b[90m [053f045d] \u001b[39mSimilaritySearch v0.9.4 `../../Research/SimilaritySearch.jl`\n",
      " \u001b[90m [fb8f903a] \u001b[39mSnowball v0.1.0\n",
      " \u001b[90m [2913bbd2] \u001b[39mStatsBase v0.33.18\n",
      " \u001b[90m [7f6f6c8a] \u001b[39mTextSearch v0.13.0 `../../Research/TextSearch.jl`\n",
      " \u001b[90m [c64b6f0f] \u001b[39mWord2Vec v0.5.3\n"
     ]
    }
   ],
   "source": [
    "]status"
   ]
  },
  {
   "cell_type": "code",
   "execution_count": null,
   "id": "95d9bcb8-60f5-42d5-adb3-dca1f1b480b3",
   "metadata": {},
   "outputs": [],
   "source": []
  },
  {
   "cell_type": "code",
   "execution_count": 3,
   "id": "9fe195c4-8f5a-4b8f-bde9-8be620397ba1",
   "metadata": {},
   "outputs": [
    {
     "data": {
      "text/plain": [
       "word2vec_embeddings (generic function with 1 method)"
      ]
     },
     "execution_count": 3,
     "metadata": {},
     "output_type": "execute_result"
    }
   ],
   "source": [
    "function word2vec_embeddings(textconfig, corpus, embfile; dim=32, w2vtmp=tempfile(pwd()))\n",
    "    isfile(embfile) && return\n",
    "    tcorpus = tokenize_corpus(textconfig, corpus)\n",
    "    voc = Vocabulary(textconfig, tcorpus)\n",
    "    fvoc = filter_tokens(voc) do t\n",
    "        5 <= t.ndocs <= 2000\n",
    "    end\n",
    "    valid = Set(fvoc.token)\n",
    "\n",
    "    open(w2vtmp, \"w\") do f\n",
    "        for tokens in tcorpus\n",
    "            tokens = filter!(t -> t in valid, tokens)\n",
    "            if length(tokens) > 7 # minimum number of tokens in a message\n",
    "                println(f, join(tokens, ' '))\n",
    "            end\n",
    "        end\n",
    "    end\n",
    "\n",
    "    word2vec(w2vtmp, embfile, size=dim, iter=15, threads=Threads.nthreads()-1)\n",
    "end\n"
   ]
  },
  {
   "cell_type": "code",
   "execution_count": 4,
   "id": "67d4602c-c9d6-4a52-a451-1d482fa5413a",
   "metadata": {},
   "outputs": [
    {
     "name": "stdout",
     "output_type": "stream",
     "text": [
      " 12.754743 seconds (19.95 M allocations: 1.540 GiB, 4.16% gc time, 99.52% compilation time)\n",
      "  0.411904 seconds (1.72 M allocations: 125.889 MiB, 8.06% gc time, 71.98% compilation time)\n",
      "Starting training using file /home/sadit/IR-2022/Unidades/w2v.tmp\n",
      "Vocab size: 12135\n",
      "Words in train file: 442523\n"
     ]
    },
    {
     "data": {
      "text/plain": [
       "Embeddings.EmbeddingTable{Matrix{Float32}, Vector{String}}(Float32[0.006254 -0.001177 … -0.005999 0.006102; 0.006905 0.001611 … 0.007287 0.005898; … ; -0.003277 0.001377 … 0.001926 -0.005139; 0.003372 0.002838 … 0.000214 0.003586], [\"</s>\", \"ha\", \"sus\", \"presidente\", \"contra\", \"anos\", \"fue\", \"tras\", \"pero\", \"gobierno\"  …  \"#ondasdelpodcast\", \"🤢\", \"#premiosortegaygasset\", \"infiel\", \"indigenista\", \"contenedores\", \"#cerocahui\", \"chueco\", \"yrma\", \"lydya\"])"
      ]
     },
     "execution_count": 4,
     "metadata": {},
     "output_type": "execute_result"
    }
   ],
   "source": [
    "textconfig = TextConfig(; nlist=[1], qlist=[], slist=[], lc=true,\n",
    "    group_usr=true, group_url=true, group_num=true, del_diac=true, del_punc=true)\n",
    "\n",
    "filename = \"../data/spanish-news-in-twitter.csv\"\n",
    "embfile = filename * \".w2v.vec\"\n",
    "@time D = CSV.read(filename, DataFrame; delim=',', missingstring=\"XXXX\")\n",
    "@time D[:, :text] = String.(base64decode.(D.text))\n",
    "rm(embfile)\n",
    "word2vec_embeddings(textconfig, D.text, embfile; dim=64, w2vtmp=joinpath(pwd(), \"w2v.tmp\"))\n",
    "E = load_embeddings(FastText_Text, embfile)\n"
   ]
  },
  {
   "cell_type": "code",
   "execution_count": 5,
   "id": "dd9ccc0b-aacb-4bc8-b36e-7effdb3647dd",
   "metadata": {},
   "outputs": [
    {
     "data": {
      "text/plain": [
       "(textconfig = TextConfig(true, false, true, true, true, true, false, true, Int8[], Int8[1], Skipgram[], IdentityTokenTransformation()), model = {VectorModel global_weighting=BinaryGlobalWeighting(), local_weighting=TpWeighting(), train-voc=12135, train-n=41999, maxoccs=1987}, voc = Vocabulary([\"</s>\", \"ha\", \"sus\", \"presidente\", \"contra\", \"anos\", \"fue\", \"tras\", \"pero\", \"gobierno\"  …  \"#ondasdelpodcast\", \"🤢\", \"#premiosortegaygasset\", \"infiel\", \"indigenista\", \"contenedores\", \"#cerocahui\", \"chueco\", \"yrma\", \"lydya\"], Int32[0, 1987, 1953, 1926, 1954, 1956, 1614, 1411, 1361, 1359  …  5, 6, 5, 5, 6, 6, 5, 5, 6, 6], Int32[0, 1987, 1953, 1926, 1954, 1956, 1614, 1411, 1361, 1359  …  5, 6, 5, 5, 6, 6, 5, 5, 6, 6], Dict{String, UInt32}(\"focos\" => 0x0000225f, \"#videos\" => 0x00001754, \"libertad\" => 0x000001be, \"ayudas\" => 0x00000f6f, \"henry\" => 0x00001fb4, \"islamico\" => 0x0000163b, \"directivos\" => 0x00001625, \"soporte\" => 0x000013bb, \"astronautas\" => 0x00002584, \"advirtieron\" => 0x0000234f…), 41999))"
      ]
     },
     "execution_count": 5,
     "metadata": {},
     "output_type": "execute_result"
    }
   ],
   "source": [
    "T = let corpus=D.text\n",
    "    voc = Vocabulary(textconfig, corpus; thesaurus=E.vocab)\n",
    "    model = VectorModel(BinaryGlobalWeighting(), TpWeighting(), voc)\n",
    "    (; textconfig, model, voc)\n",
    "end"
   ]
  },
  {
   "cell_type": "code",
   "execution_count": null,
   "id": "a5bba498-56a8-4445-a028-f03c629601df",
   "metadata": {},
   "outputs": [],
   "source": []
  },
  {
   "cell_type": "code",
   "execution_count": 6,
   "id": "479b2661-122c-412b-afe8-ac0ec4c4b03d",
   "metadata": {},
   "outputs": [
    {
     "data": {
      "text/plain": [
       "cloud_corpus (generic function with 1 method)"
      ]
     },
     "execution_count": 6,
     "metadata": {},
     "output_type": "execute_result"
    }
   ],
   "source": [
    "cloud(text, E, T) = vectorize(T.model, T.textconfig, text; normalize=false)\n",
    "cloud_corpus(corpus, E, T) = vectorize_corpus(T.model, T.textconfig, corpus; normalize=false)"
   ]
  },
  {
   "cell_type": "code",
   "execution_count": 7,
   "id": "e4fcb23f-9564-4910-9a4f-1f5d4a582d5f",
   "metadata": {},
   "outputs": [],
   "source": [
    "struct AWMD <: SemiMetric\n",
    "    X::MatrixDatabase\n",
    "    results::Vector{KnnResult}\n",
    "    dcos::NormalizedCosineDistance\n",
    "end\n",
    "\n",
    "AWMD(X) = AWMD(X, [KnnResult(1) for _ in 1:Threads.nthreads()], NormalizedCosineDistance())\n",
    "\n",
    "const PI_2 = convert(Float32, pi / 2)\n",
    "\n",
    "\n",
    "@inline function nn_(X, res, dcos, u, V)\n",
    "    res = reuse!(res)\n",
    "\n",
    "    for (vid, _) in V\n",
    "        push!(res, vid, evaluate(dcos, u, X[vid]))\n",
    "    end\n",
    "    \n",
    "    minimum(res)\n",
    "end\n",
    "\n",
    "function onesidewmd(X, res, dcos, U, V)\n",
    "    d::Float32 = zero(Float32)\n",
    "    @fastmath for (uid, w) in U\n",
    "        if !haskey(V, uid) # evaluates to zero\n",
    "            d = max(d, w * nn_(X, res, dcos, X[uid], V))\n",
    "        end\n",
    "    end\n",
    "    \n",
    "    d\n",
    "end\n",
    "\n",
    "function SimilaritySearch.evaluate(wmd::AWMD, U::T, V::T) where T\n",
    "    length(U) == 1 && haskey(U, 0) && return PI_2\n",
    "    length(V) == 1 && haskey(V, 0) && return PI_2\n",
    "    res = wmd.results[Threads.threadid()]\n",
    "    dcos = wmd.dcos\n",
    "\n",
    "    max(onesidewmd(wmd.X, res, dcos, U, V), onesidewmd(wmd.X, res, dcos, V, U))\n",
    "end\n"
   ]
  },
  {
   "cell_type": "code",
   "execution_count": 8,
   "id": "af8bad4e-c31b-4506-8341-47c4130d664a",
   "metadata": {},
   "outputs": [
    {
     "data": {
      "text/plain": [
       "AWMD(MatrixDatabase{Matrix{Float32}}(Float32[0.17953031 -0.033541206 … -0.16976508 0.16736586; 0.19821823 0.045908995 … 0.20621407 0.16177055; … ; -0.09407112 0.039240647 … 0.05450368 -0.14095266; 0.09679824 0.08087506 … 0.006055964 0.09835693]), KnnResult[KnnResult(Int32[], Float32[], 1)], NormalizedCosineDistance())"
      ]
     },
     "execution_count": 8,
     "metadata": {},
     "output_type": "execute_result"
    }
   ],
   "source": [
    "db = VectorDatabase(cloud_corpus(D.text, E, T))\n",
    "for c in eachcol(E.embeddings)\n",
    "    normalize!(c)\n",
    "end\n",
    "\n",
    "dist = AWMD(MatrixDatabase(E.embeddings))"
   ]
  },
  {
   "cell_type": "code",
   "execution_count": 9,
   "id": "9d1dc14b-02cb-45ab-8466-5783251ef877",
   "metadata": {
    "tags": []
   },
   "outputs": [],
   "source": [
    "#=recall = 0.8\n",
    "index = SearchGraph(; dist, db, verbose=true)\n",
    "#index!(index; callbacks=SearchGraphCallbacks(MinRecall(recall)))\n",
    "index!(index)\n",
    "optimize!(index, MinRecall(recall))\n",
    "=#"
   ]
  },
  {
   "cell_type": "code",
   "execution_count": 10,
   "id": "61fded63-d4ca-42f6-b69e-b0a044c4396b",
   "metadata": {},
   "outputs": [],
   "source": [
    "index = ParallelExhaustiveSearch(; db, dist);"
   ]
  },
  {
   "cell_type": "code",
   "execution_count": 11,
   "id": "03eaad27-034e-437a-92e1-0d7a54500823",
   "metadata": {},
   "outputs": [
    {
     "data": {
      "text/plain": [
       "1"
      ]
     },
     "execution_count": 11,
     "metadata": {},
     "output_type": "execute_result"
    }
   ],
   "source": [
    "Threads.nthreads()"
   ]
  },
  {
   "cell_type": "code",
   "execution_count": 12,
   "id": "e4c515d9-d81d-4d91-9087-df312a117242",
   "metadata": {},
   "outputs": [],
   "source": [
    "#@time res, _ = search(ex, db[111], KnnResult(10))\n",
    "#=@time res, _ = search(ex, cloud(\"covid en México\", E, T), KnnResult(10))\n",
    "\n",
    "for (id_, dist_) in res\n",
    "    display(@htl \"\"\"<div style=\"padding: 0.5em;\">\n",
    "        <span style=\"width: 25%; margin: 0.25em;\"> $(id_ => round(dist_; digits=3))</span>\n",
    "        <span style=\"background-color: rgb(120, 60, 60); margin: 0.2em;\">$(D.text[id_])</span>\n",
    "    </div>\"\"\")\n",
    "end\n",
    "=#"
   ]
  },
  {
   "cell_type": "markdown",
   "id": "51b68d72-5256-49ad-b22b-e896f58bc29f",
   "metadata": {},
   "source": [
    "### Búsqueda y presentación de los resultados"
   ]
  },
  {
   "cell_type": "code",
   "execution_count": 13,
   "id": "e045135e-4189-47cc-9513-72a5000527f6",
   "metadata": {},
   "outputs": [
    {
     "data": {
      "text/plain": [
       "search_and_display (generic function with 1 method)"
      ]
     },
     "execution_count": 13,
     "metadata": {},
     "output_type": "execute_result"
    }
   ],
   "source": [
    "function search_and_display(index, qtext, k, D, E, T)\n",
    "    res = KnnResult(k)\n",
    "    q = cloud(qtext, E, T)\n",
    "    @time search(index, q, res)\n",
    "    \n",
    "    L = []\n",
    "    for (j, (id, d)) in enumerate(res)\n",
    "        push!(L, @htl \"<tr><td>$j</td><td>$id</td><td>$(round(d, digits=3))</td> <td>$(D.screen_name[id])</td><td> $(D.text[id])</td> </tr>\")\n",
    "    end\n",
    "\n",
    "    display(@htl \"\"\"<h2>resultados para \"$qtext\"</h2>\n",
    "    <table>\n",
    "    <th>  <td>id</td> <td>dist</td> <td>user</td> </td>message<td> </th>\n",
    "        $L\n",
    "    </table>\n",
    "    \"\"\")\n",
    "end\n"
   ]
  },
  {
   "cell_type": "code",
   "execution_count": 14,
   "id": "b1123924-05b2-4799-b2f7-18b3d2c46f4d",
   "metadata": {},
   "outputs": [
    {
     "data": {
      "text/html": [
       "<h1>Ejemplos de búsqueda</h1>"
      ],
      "text/plain": [
       "<h1>Ejemplos de búsqueda</h1>"
      ]
     },
     "metadata": {},
     "output_type": "display_data"
    },
    {
     "name": "stdout",
     "output_type": "stream",
     "text": [
      "  0.982184 seconds (1.98 M allocations: 196.451 MiB, 7.43% gc time, 70.39% compilation time)\n"
     ]
    },
    {
     "data": {
      "text/html": [
       "<h2>resultados para \"el gobierno de andres manuel lopez\"</h2>\n",
       "<table>\n",
       "<th>  <td>id</td> <td>dist</td> <td>user</td> </td>message<td> </th>\n",
       "    <tr><td>1</td><td>30139</td><td>0.06</td> <td>EFEnoticias</td><td> El presidente de México, Andrés Manuel López Obrador, celebró la aprobación de la reforma que permite a los funcionarios públicos manifestarse sobre el proceso de consulta de revocación de mandato, a celebrarse el 10 de abril. https://t.co/CR4WSfihEO</td> </tr><tr><td>2</td><td>16524</td><td>0.072</td> <td>azucenau</td><td> La jefa de gobierno de la Ciudad de México, Claudia Sheinbaum, aseguró que ella y el presidente de la República, Andrés Manuel López Obrador, “somos parte del mismo movimiento”, y que jamás será líder de oposición, pues “somos parte de la Cuarta Transformación”. https://t.co/FYoh0GuROr</td> </tr><tr><td>3</td><td>41283</td><td>0.087</td> <td>Reforma</td><td> El Presidente Andrés Manuel López Obrador propuso al Gobierno de #NuevoLeon acordar con empresarios que produzcan menos, usen menos #agua, y que así vaya más líquido a la gente.\n",
       "https://t.co/9kW1cPZBmj</td> </tr><tr><td>4</td><td>4111</td><td>0.101</td> <td>PedroFerriz</td><td> RT @CentralFM_: #CentralFmEquilibrio \n",
       "\n",
       "Estados Unidos urgió al Gobierno de Andrés Manuel López Obrador a reanudar la autorización de import…</td> </tr><tr><td>5</td><td>9801</td><td>0.133</td> <td>JoseCardenas1</td><td> RT @JoseCardenas1: Sigue minuto a minuto el 3er informe de gobierno del presidente Andrés Manuel López Obrador (@lopezobrador_ )👉 https://t…</td> </tr><tr><td>6</td><td>20826</td><td>0.164</td> <td>El_Universal_Mx</td><td> RT @ElUniversal_SLP: #Entérate El gobernador Ricardo Gallardo Cardona pidió al presidente Andrés Manuel López Obrador apoyo para reforzar l…</td> </tr><tr><td>7</td><td>35523</td><td>0.164</td> <td>JoseCardenas1</td><td> El Presidente Andrés Manuel López Obrador arribó esta tarde al Aeropuerto de La Habana, Cuba, para comenzar su gira de trabajo y sostener encuentros con el mandatario de la isla, Miguel Díaz-Canel https://t.co/GiBHboPAIG</td> </tr>\n",
       "</table>\n"
      ],
      "text/plain": [
       "<h2>resultados para \"el gobierno de andres manuel lopez\"</h2>\n",
       "<table>\n",
       "<th>  <td>id</td> <td>dist</td> <td>user</td> </td>message<td> </th>\n",
       "    <tr><td>1</td><td>30139</td><td>0.06</td> <td>EFEnoticias</td><td> El presidente de México, Andrés Manuel López Obrador, celebró la aprobación de la reforma que permite a los funcionarios públicos manifestarse sobre el proceso de consulta de revocación de mandato, a celebrarse el 10 de abril. https://t.co/CR4WSfihEO</td> </tr><tr><td>2</td><td>16524</td><td>0.072</td> <td>azucenau</td><td> La jefa de gobierno de la Ciudad de México, Claudia Sheinbaum, aseguró que ella y el presidente de la República, Andrés Manuel López Obrador, “somos parte del mismo movimiento”, y que jamás será líder de oposición, pues “somos parte de la Cuarta Transformación”. https://t.co/FYoh0GuROr</td> </tr><tr><td>3</td><td>41283</td><td>0.087</td> <td>Reforma</td><td> El Presidente Andrés Manuel López Obrador propuso al Gobierno de #NuevoLeon acordar con empresarios que produzcan menos, usen menos #agua, y que así vaya más líquido a la gente.\n",
       "https://t.co/9kW1cPZBmj</td> </tr><tr><td>4</td><td>4111</td><td>0.101</td> <td>PedroFerriz</td><td> RT @CentralFM_: #CentralFmEquilibrio \n",
       "\n",
       "Estados Unidos urgió al Gobierno de Andrés Manuel López Obrador a reanudar la autorización de import…</td> </tr><tr><td>5</td><td>9801</td><td>0.133</td> <td>JoseCardenas1</td><td> RT @JoseCardenas1: Sigue minuto a minuto el 3er informe de gobierno del presidente Andrés Manuel López Obrador (@lopezobrador_ )👉 https://t…</td> </tr><tr><td>6</td><td>20826</td><td>0.164</td> <td>El_Universal_Mx</td><td> RT @ElUniversal_SLP: #Entérate El gobernador Ricardo Gallardo Cardona pidió al presidente Andrés Manuel López Obrador apoyo para reforzar l…</td> </tr><tr><td>7</td><td>35523</td><td>0.164</td> <td>JoseCardenas1</td><td> El Presidente Andrés Manuel López Obrador arribó esta tarde al Aeropuerto de La Habana, Cuba, para comenzar su gira de trabajo y sostener encuentros con el mandatario de la isla, Miguel Díaz-Canel https://t.co/GiBHboPAIG</td> </tr>\n",
       "</table>\n"
      ]
     },
     "metadata": {},
     "output_type": "display_data"
    },
    {
     "name": "stdout",
     "output_type": "stream",
     "text": [
      "  0.200157 seconds (166.64 k allocations: 3.814 MiB)\n"
     ]
    },
    {
     "data": {
      "text/html": [
       "<h2>resultados para \"trafico de drogas\"</h2>\n",
       "<table>\n",
       "<th>  <td>id</td> <td>dist</td> <td>user</td> </td>message<td> </th>\n",
       "    <tr><td>1</td><td>1361</td><td>0.041</td> <td>epigmenioibarra</td><td> 29 JoseE\n",
       "30 JoseLuisL\n",
       "31 Jhosivani\n",
       "32 JulioCesarL\n",
       "El GIEI solicitó investigar el tráfico de drogas escondidas en autobuses como probable motivo del ataque a los normalistas, ya que un quinto autobús que apareció quemado fue omitido en la investigación oficial.\n",
       "#Ayotzinapa80Meses https://t.co/jbAcSdIuPI</td> </tr><tr><td>2</td><td>2113</td><td>0.041</td> <td>epigmenioibarra</td><td> 29 JoseE\n",
       "30 JoseLuisL\n",
       "31 Jhosivani\n",
       "32 JulioCesarL\n",
       "El GIEI solicitó investigar el tráfico de drogas escondidas en autobuses como probable motivo del ataque a los normalistas, ya que un quinto autobús que apareció quemado fue omitido en la investigación oficial.\n",
       "#Ayotzinapa80Meses https://t.co/BNAdU3bp0n</td> </tr><tr><td>3</td><td>3780</td><td>0.041</td> <td>epigmenioibarra</td><td> 29 JoseE\n",
       "30 JoseLuisL\n",
       "31 Jhosivani\n",
       "32 JulioCesarL\n",
       "El GIEI solicitó investigar el tráfico de drogas escondidas en autobuses como probable motivo del ataque a los normalistas, ya que un quinto autobús que apareció quemado fue omitido en la investigación oficial.\n",
       "#Ayotzinapa80Meses https://t.co/cR2d88sSeF</td> </tr><tr><td>4</td><td>4164</td><td>0.041</td> <td>epigmenioibarra</td><td> 29 JoseE\n",
       "30 JoseLuisL\n",
       "31 Jhosivani\n",
       "32 JulioCesarL\n",
       "El GIEI solicitó investigar el tráfico de drogas escondidas en autobuses como probable motivo del ataque a los normalistas, ya que un quinto autobús que apareció quemado fue omitido en la investigación oficial.\n",
       "#Ayotzinapa81Meses https://t.co/jOhSMS35Z5</td> </tr><tr><td>5</td><td>5391</td><td>0.041</td> <td>epigmenioibarra</td><td> 29 JoseE\n",
       "30 JoseLuisL\n",
       "31 Jhosivani\n",
       "32 JulioCesarL\n",
       "El GIEI solicitó investigar el tráfico de drogas escondidas en autobuses como probable motivo del ataque a los normalistas, ya que un quinto autobús que apareció quemado fue omitido en la investigación oficial.\n",
       "#Ayotzinapa81Meses https://t.co/cxi6tlCTMA</td> </tr><tr><td>6</td><td>5645</td><td>0.041</td> <td>epigmenioibarra</td><td> 29 JoseE\n",
       "30 JoseLuisL\n",
       "31 Jhosivani\n",
       "32 JulioCesarL\n",
       "El GIEI solicitó investigar el tráfico de drogas escondidas en autobuses como probable motivo del ataque a los normalistas, ya que un quinto autobús que apareció quemado fue omitido en la investigación oficial.\n",
       "#Ayotzinapa81Meses https://t.co/V6gw7dw6ZX</td> </tr><tr><td>7</td><td>18648</td><td>0.041</td> <td>epigmenioibarra</td><td> 29 JoseE\n",
       "30 JoseLuisL\n",
       "31 Jhosivani\n",
       "32 JulioCesarL\n",
       "El GIEI solicitó investigar el tráfico de drogas escondidas en autobuses como probable motivo del ataque a los normalistas, ya que un quinto autobús que apareció quemado fue omitido en la investigación oficial.\n",
       "#Ayotzinapa85meses https://t.co/KH0xDLkhWz</td> </tr>\n",
       "</table>\n"
      ],
      "text/plain": [
       "<h2>resultados para \"trafico de drogas\"</h2>\n",
       "<table>\n",
       "<th>  <td>id</td> <td>dist</td> <td>user</td> </td>message<td> </th>\n",
       "    <tr><td>1</td><td>1361</td><td>0.041</td> <td>epigmenioibarra</td><td> 29 JoseE\n",
       "30 JoseLuisL\n",
       "31 Jhosivani\n",
       "32 JulioCesarL\n",
       "El GIEI solicitó investigar el tráfico de drogas escondidas en autobuses como probable motivo del ataque a los normalistas, ya que un quinto autobús que apareció quemado fue omitido en la investigación oficial.\n",
       "#Ayotzinapa80Meses https://t.co/jbAcSdIuPI</td> </tr><tr><td>2</td><td>2113</td><td>0.041</td> <td>epigmenioibarra</td><td> 29 JoseE\n",
       "30 JoseLuisL\n",
       "31 Jhosivani\n",
       "32 JulioCesarL\n",
       "El GIEI solicitó investigar el tráfico de drogas escondidas en autobuses como probable motivo del ataque a los normalistas, ya que un quinto autobús que apareció quemado fue omitido en la investigación oficial.\n",
       "#Ayotzinapa80Meses https://t.co/BNAdU3bp0n</td> </tr><tr><td>3</td><td>3780</td><td>0.041</td> <td>epigmenioibarra</td><td> 29 JoseE\n",
       "30 JoseLuisL\n",
       "31 Jhosivani\n",
       "32 JulioCesarL\n",
       "El GIEI solicitó investigar el tráfico de drogas escondidas en autobuses como probable motivo del ataque a los normalistas, ya que un quinto autobús que apareció quemado fue omitido en la investigación oficial.\n",
       "#Ayotzinapa80Meses https://t.co/cR2d88sSeF</td> </tr><tr><td>4</td><td>4164</td><td>0.041</td> <td>epigmenioibarra</td><td> 29 JoseE\n",
       "30 JoseLuisL\n",
       "31 Jhosivani\n",
       "32 JulioCesarL\n",
       "El GIEI solicitó investigar el tráfico de drogas escondidas en autobuses como probable motivo del ataque a los normalistas, ya que un quinto autobús que apareció quemado fue omitido en la investigación oficial.\n",
       "#Ayotzinapa81Meses https://t.co/jOhSMS35Z5</td> </tr><tr><td>5</td><td>5391</td><td>0.041</td> <td>epigmenioibarra</td><td> 29 JoseE\n",
       "30 JoseLuisL\n",
       "31 Jhosivani\n",
       "32 JulioCesarL\n",
       "El GIEI solicitó investigar el tráfico de drogas escondidas en autobuses como probable motivo del ataque a los normalistas, ya que un quinto autobús que apareció quemado fue omitido en la investigación oficial.\n",
       "#Ayotzinapa81Meses https://t.co/cxi6tlCTMA</td> </tr><tr><td>6</td><td>5645</td><td>0.041</td> <td>epigmenioibarra</td><td> 29 JoseE\n",
       "30 JoseLuisL\n",
       "31 Jhosivani\n",
       "32 JulioCesarL\n",
       "El GIEI solicitó investigar el tráfico de drogas escondidas en autobuses como probable motivo del ataque a los normalistas, ya que un quinto autobús que apareció quemado fue omitido en la investigación oficial.\n",
       "#Ayotzinapa81Meses https://t.co/V6gw7dw6ZX</td> </tr><tr><td>7</td><td>18648</td><td>0.041</td> <td>epigmenioibarra</td><td> 29 JoseE\n",
       "30 JoseLuisL\n",
       "31 Jhosivani\n",
       "32 JulioCesarL\n",
       "El GIEI solicitó investigar el tráfico de drogas escondidas en autobuses como probable motivo del ataque a los normalistas, ya que un quinto autobús que apareció quemado fue omitido en la investigación oficial.\n",
       "#Ayotzinapa85meses https://t.co/KH0xDLkhWz</td> </tr>\n",
       "</table>\n"
      ]
     },
     "metadata": {},
     "output_type": "display_data"
    },
    {
     "name": "stdout",
     "output_type": "stream",
     "text": [
      "  0.224001 seconds (166.64 k allocations: 3.814 MiB)\n"
     ]
    },
    {
     "data": {
      "text/html": [
       "<h2>resultados para \"calentamiento global\"</h2>\n",
       "<table>\n",
       "<th>  <td>id</td> <td>dist</td> <td>user</td> </td>message<td> </th>\n",
       "    <tr><td>1</td><td>17410</td><td>0.047</td> <td>TelemundoNews</td><td> El acuerdo incluye promesas clave, entre ellas la de reducir la energía del carbón y las subvenciones a los combustibles fósiles, pero muchos críticos dicen que no ofrece suficiente apoyo a las naciones en desarrollo afectadas por el calentamiento global. https://t.co/foBCgxRNVT</td> </tr><tr><td>2</td><td>7442</td><td>0.051</td> <td>patriciajaniot</td><td> El calentamiento global es más rápido y grave de lo pensado. Unos diez años antes de lo estimado, se puede alcanzar el umbral de un incremento de la temperatura en 34.7 °F (1.5 ºC), con riesgos de desastres &quot;sin precedentes&quot; para la humanidad\n",
       "https://t.co/iQVOG3eVyZ</td> </tr><tr><td>3</td><td>10955</td><td>0.051</td> <td>EFEnoticias</td><td> El papa Francisco llegó hoy a Budapest, donde celebrará este domingo la misa de clausura del Congreso Eucarístico Internacional y se reunirá con los líderes del país centroeuropeo, para después continuar su visita de tres días a Eslovaquia.\n",
       "\n",
       "https://t.co/SE0e5IK4h7</td> </tr><tr><td>4</td><td>11613</td><td>0.061</td> <td>EFEnoticias</td><td> El Reino Unido presionó al resto de Gobiernos para que anuncien más medidas contra el calentamiento global, apenas cinco semanas antes de la próxima cumbre del clima (COP26) que acogerá su país. https://t.co/bmKjR0hXRm</td> </tr><tr><td>5</td><td>10963</td><td>0.063</td> <td>SinEmbargoMX</td><td> #Opinión | Ana Ortega de @THL_Latino\n",
       "\n",
       "&quot;El consumo de carne o lo que no se habla del calentamiento global&quot;\n",
       "\n",
       "Si no adoptamos una postura más firme ante el calentamiento global, el panorama de México está a punto de ponerse sombrío\n",
       "https://t.co/HL8v7EBp2x https://t.co/k8Az8hDr5y</td> </tr><tr><td>6</td><td>7766</td><td>0.073</td> <td>CNNEE</td><td> ▶ Todavía podemos mitigar el daño al planeta por el calentamiento global si exigimos políticas públicas a gobiernos, dicen expertas. https://t.co/7eoc24sboY</td> </tr><tr><td>7</td><td>7410</td><td>0.103</td> <td>AFPespanol</td><td> #ÚLTIMAHORA El calentamiento global llegará a +1,5 °C hacia 2030, 10 años antes de lo previsto (ONU) #AFP https://t.co/KJT1ESxU2S</td> </tr>\n",
       "</table>\n"
      ],
      "text/plain": [
       "<h2>resultados para \"calentamiento global\"</h2>\n",
       "<table>\n",
       "<th>  <td>id</td> <td>dist</td> <td>user</td> </td>message<td> </th>\n",
       "    <tr><td>1</td><td>17410</td><td>0.047</td> <td>TelemundoNews</td><td> El acuerdo incluye promesas clave, entre ellas la de reducir la energía del carbón y las subvenciones a los combustibles fósiles, pero muchos críticos dicen que no ofrece suficiente apoyo a las naciones en desarrollo afectadas por el calentamiento global. https://t.co/foBCgxRNVT</td> </tr><tr><td>2</td><td>7442</td><td>0.051</td> <td>patriciajaniot</td><td> El calentamiento global es más rápido y grave de lo pensado. Unos diez años antes de lo estimado, se puede alcanzar el umbral de un incremento de la temperatura en 34.7 °F (1.5 ºC), con riesgos de desastres &quot;sin precedentes&quot; para la humanidad\n",
       "https://t.co/iQVOG3eVyZ</td> </tr><tr><td>3</td><td>10955</td><td>0.051</td> <td>EFEnoticias</td><td> El papa Francisco llegó hoy a Budapest, donde celebrará este domingo la misa de clausura del Congreso Eucarístico Internacional y se reunirá con los líderes del país centroeuropeo, para después continuar su visita de tres días a Eslovaquia.\n",
       "\n",
       "https://t.co/SE0e5IK4h7</td> </tr><tr><td>4</td><td>11613</td><td>0.061</td> <td>EFEnoticias</td><td> El Reino Unido presionó al resto de Gobiernos para que anuncien más medidas contra el calentamiento global, apenas cinco semanas antes de la próxima cumbre del clima (COP26) que acogerá su país. https://t.co/bmKjR0hXRm</td> </tr><tr><td>5</td><td>10963</td><td>0.063</td> <td>SinEmbargoMX</td><td> #Opinión | Ana Ortega de @THL_Latino\n",
       "\n",
       "&quot;El consumo de carne o lo que no se habla del calentamiento global&quot;\n",
       "\n",
       "Si no adoptamos una postura más firme ante el calentamiento global, el panorama de México está a punto de ponerse sombrío\n",
       "https://t.co/HL8v7EBp2x https://t.co/k8Az8hDr5y</td> </tr><tr><td>6</td><td>7766</td><td>0.073</td> <td>CNNEE</td><td> ▶ Todavía podemos mitigar el daño al planeta por el calentamiento global si exigimos políticas públicas a gobiernos, dicen expertas. https://t.co/7eoc24sboY</td> </tr><tr><td>7</td><td>7410</td><td>0.103</td> <td>AFPespanol</td><td> #ÚLTIMAHORA El calentamiento global llegará a +1,5 °C hacia 2030, 10 años antes de lo previsto (ONU) #AFP https://t.co/KJT1ESxU2S</td> </tr>\n",
       "</table>\n"
      ]
     },
     "metadata": {},
     "output_type": "display_data"
    },
    {
     "name": "stdout",
     "output_type": "stream",
     "text": [
      "  0.203944 seconds (166.64 k allocations: 3.814 MiB)\n"
     ]
    },
    {
     "data": {
      "text/html": [
       "<h2>resultados para \"covid corona virus\"</h2>\n",
       "<table>\n",
       "<th>  <td>id</td> <td>dist</td> <td>user</td> </td>message<td> </th>\n",
       "    <tr><td>1</td><td>18569</td><td>0.051</td> <td>EFEnoticias</td><td> La Comisión Europea (CE) propuso este jueves limitar a 9 meses la validez del certificado digital covid y seguir respetando las medidas destinadas a frenar la propagación del virus, incluido el uso de las mascarillas, ante el aumento de los contagios.\n",
       "\n",
       "https://t.co/RswfZ609kt</td> </tr><tr><td>2</td><td>25138</td><td>0.051</td> <td>galvanochoa</td><td> Debe ser duro admitir que el primer gobernador de Morena es un infractor. Pasó por encima de la ley para intentar quedarse en el gobierno más allá de los dos años para los que fue elegido y está relacionado con el asesinato de Lourdes Maldonado\n",
       "\n",
       "👉🏼 https://t.co/cNrm71fiUF https://t.co/VilyLvZXOg</td> </tr><tr><td>3</td><td>17234</td><td>0.053</td> <td>EFEnoticias</td><td> Cataluña vuelve a entrar en la zona de riesgo alto de rebrote de la pandemia, con un EPG por encima de los 100 puntos. \n",
       "\n",
       "Se descarta recuperar las restricciones de aforo y horarios aunque sí ampliar el uso del certificado covid.\n",
       "\n",
       "https://t.co/Z2aY8v42HD</td> </tr><tr><td>4</td><td>17815</td><td>0.062</td> <td>EFEnoticias</td><td> El presidente de la Xunta, Alberto Núñez Feijóo, ha avanzado este jueves que la comunidad estudia volver a pedir el certificado covid en la hostelería y también en otras actividades que se celebren en interiores.\n",
       "\n",
       "https://t.co/QI3Hg5vIxG</td> </tr><tr><td>5</td><td>24265</td><td>0.067</td> <td>dw_espanol</td><td> &quot;Mi #boda no se realizará&quot;, confirmó #JacindaArdern a periodistas el sábado, después de anunciar las nuevas #restricciones contra el #Coronavirus que incluyen un tope de 100 personas con vacunación completa en los eventos. (gs)\n",
       "https://t.co/b3gTYyUM0F</td> </tr><tr><td>6</td><td>6114</td><td>0.068</td> <td>EFEnoticias</td><td> Diecinueve municipios del Cantabria han escalado este martes al nivel 3 de alerta covid (alto), lo que obligará al cierre del interior de sus establecimientos de hostelería a partir del jueves.\n",
       "\n",
       "https://t.co/EcDB3VmJuu</td> </tr><tr><td>7</td><td>9060</td><td>0.083</td> <td>MarioBeteta</td><td> &quot;Todos estamos con la idea de que la inflación va a ser temporal y pasajera. A mi me preocupa que la recuperación es totalmente dispareja a causa del COVID y no sabemos si todos se van a recuperar al mismo tiempo, viene la escasez de productos... &quot;</td> </tr>\n",
       "</table>\n"
      ],
      "text/plain": [
       "<h2>resultados para \"covid corona virus\"</h2>\n",
       "<table>\n",
       "<th>  <td>id</td> <td>dist</td> <td>user</td> </td>message<td> </th>\n",
       "    <tr><td>1</td><td>18569</td><td>0.051</td> <td>EFEnoticias</td><td> La Comisión Europea (CE) propuso este jueves limitar a 9 meses la validez del certificado digital covid y seguir respetando las medidas destinadas a frenar la propagación del virus, incluido el uso de las mascarillas, ante el aumento de los contagios.\n",
       "\n",
       "https://t.co/RswfZ609kt</td> </tr><tr><td>2</td><td>25138</td><td>0.051</td> <td>galvanochoa</td><td> Debe ser duro admitir que el primer gobernador de Morena es un infractor. Pasó por encima de la ley para intentar quedarse en el gobierno más allá de los dos años para los que fue elegido y está relacionado con el asesinato de Lourdes Maldonado\n",
       "\n",
       "👉🏼 https://t.co/cNrm71fiUF https://t.co/VilyLvZXOg</td> </tr><tr><td>3</td><td>17234</td><td>0.053</td> <td>EFEnoticias</td><td> Cataluña vuelve a entrar en la zona de riesgo alto de rebrote de la pandemia, con un EPG por encima de los 100 puntos. \n",
       "\n",
       "Se descarta recuperar las restricciones de aforo y horarios aunque sí ampliar el uso del certificado covid.\n",
       "\n",
       "https://t.co/Z2aY8v42HD</td> </tr><tr><td>4</td><td>17815</td><td>0.062</td> <td>EFEnoticias</td><td> El presidente de la Xunta, Alberto Núñez Feijóo, ha avanzado este jueves que la comunidad estudia volver a pedir el certificado covid en la hostelería y también en otras actividades que se celebren en interiores.\n",
       "\n",
       "https://t.co/QI3Hg5vIxG</td> </tr><tr><td>5</td><td>24265</td><td>0.067</td> <td>dw_espanol</td><td> &quot;Mi #boda no se realizará&quot;, confirmó #JacindaArdern a periodistas el sábado, después de anunciar las nuevas #restricciones contra el #Coronavirus que incluyen un tope de 100 personas con vacunación completa en los eventos. (gs)\n",
       "https://t.co/b3gTYyUM0F</td> </tr><tr><td>6</td><td>6114</td><td>0.068</td> <td>EFEnoticias</td><td> Diecinueve municipios del Cantabria han escalado este martes al nivel 3 de alerta covid (alto), lo que obligará al cierre del interior de sus establecimientos de hostelería a partir del jueves.\n",
       "\n",
       "https://t.co/EcDB3VmJuu</td> </tr><tr><td>7</td><td>9060</td><td>0.083</td> <td>MarioBeteta</td><td> &quot;Todos estamos con la idea de que la inflación va a ser temporal y pasajera. A mi me preocupa que la recuperación es totalmente dispareja a causa del COVID y no sabemos si todos se van a recuperar al mismo tiempo, viene la escasez de productos... &quot;</td> </tr>\n",
       "</table>\n"
      ]
     },
     "metadata": {},
     "output_type": "display_data"
    }
   ],
   "source": [
    "\n",
    "display(@htl \"<h1>Ejemplos de búsqueda</h1>\")\n",
    "search_and_display(index, \"el gobierno de andres manuel lopez\", 7, D, E, T)\n",
    "search_and_display(index, \"trafico de drogas\", 7, D, E, T)\n",
    "search_and_display(index, \"calentamiento global\", 7, D, E, T)\n",
    "search_and_display(index, \"covid corona virus\", 7, D, E, T)\n"
   ]
  },
  {
   "cell_type": "code",
   "execution_count": 15,
   "id": "b4028733-5dd7-46e0-addb-5f7959766695",
   "metadata": {},
   "outputs": [
    {
     "data": {
      "text/html": [
       "<h1>Ejemplos de búsqueda (mensajes aleatorios)</h1>"
      ],
      "text/plain": [
       "<h1>Ejemplos de búsqueda (mensajes aleatorios)</h1>"
      ]
     },
     "metadata": {},
     "output_type": "display_data"
    },
    {
     "name": "stdout",
     "output_type": "stream",
     "text": [
      "  0.558570 seconds (166.64 k allocations: 3.814 MiB)\n"
     ]
    },
    {
     "data": {
      "text/html": [
       "<h2>resultados para \"La dramaturga Estela Leñero &apos;libera&apos; a cinco mujeres presas del machismo; sucede en &quot;Mujeres en fuga&quot;, una serie de radiomonólogos que se transmiten a partir de este lunes en @radioUANL.  https://t.co/Ka3D4LZU4d\"</h2>\n",
       "<table>\n",
       "<th>  <td>id</td> <td>dist</td> <td>user</td> </td>message<td> </th>\n",
       "    <tr><td>1</td><td>28909</td><td>0.0</td> <td>Reforma</td><td> La dramaturga Estela Leñero &apos;libera&apos; a cinco mujeres presas del machismo; sucede en &quot;Mujeres en fuga&quot;, una serie de radiomonólogos que se transmiten a partir de este lunes en @radioUANL.  https://t.co/Ka3D4LZU4d</td> </tr><tr><td>2</td><td>26641</td><td>0.066</td> <td>Milenio</td><td> ▶️ &apos;El Mijis&apos; cumple 14 días desaparecido; aunque hay algunas pistas, siguen sin tener certeza de dónde podría estar\n",
       "\n",
       "En #LaMañanera, la activista Frida Guerrera leyó una carta al Presidente enviada por la esposa del exdiputado\n",
       "\n",
       "📺 La historia con @azucenau #AzucenaALas10 https://t.co/EeIx7ST67S</td> </tr><tr><td>3</td><td>29367</td><td>0.066</td> <td>Milenio</td><td> #PolíticaCero | Si una celebridad como Sasha, con todas las herramientas monetarias y legales, guarda silencio durante 35 años, pensemos en mujeres que sufrieron la misma situación pero desprovistas de información y apoyos 🎙 La columna de @jairocalixto\n",
       "\n",
       "https://t.co/TzUAcbNUC2</td> </tr><tr><td>4</td><td>34187</td><td>0.067</td> <td>azucenau</td><td> #Relevante | La @FiscaliaCDMX lleva a proceso a tres mujeres, por su posible participación en robo agravado calificado y daño a la propiedad doloso en pandilla.\n",
       "\n",
       "Son las mujeres que fueron detenidas tras la recuperación del inmueble de la #CNDH https://t.co/sk29DlBFHl</td> </tr><tr><td>5</td><td>29201</td><td>0.068</td> <td>azucenau</td><td> #AzucenaALas10 | En #Atlixco, #Puebla, 10 personas fueron ejecutadas, siete  hombres y tres mujeres, presuntamente, según la fiscalía del estado, se trató a un ajuste de cuentas entre narcomenudistas https://t.co/uhMFqLewPW</td> </tr><tr><td>6</td><td>28618</td><td>0.068</td> <td>El_Universal_Mx</td><td> Las autoridades capitalinas instalaron vallas metálicas frente a la Catedral Metropolitana, localizada a un costado de Palacio Nacional, debido a la próxima marcha que se realizará con motivo del Día Internacional de las Mujeres #Video @Alberx666 https://t.co/0XERzbTfdu</td> </tr><tr><td>7</td><td>6151</td><td>0.068</td> <td>AdriDelgadoRuiz</td><td> No se pierdan la entrevista #Exclusiva que vamos a tener en #ElDedoEnLaLlaga con @LorenaCuellar, gobernadora electa de #Tlaxcala, quien nos hablará de sus primeras acciones de gobierno con perspectiva de género  @PartidoMorenaMx \n",
       "3PM por la 98.5FM\n",
       "#ElHerladoRadio @heraldodemexico https://t.co/NkzgEYWxsT</td> </tr>\n",
       "</table>\n"
      ],
      "text/plain": [
       "<h2>resultados para \"La dramaturga Estela Leñero &apos;libera&apos; a cinco mujeres presas del machismo; sucede en &quot;Mujeres en fuga&quot;, una serie de radiomonólogos que se transmiten a partir de este lunes en @radioUANL.  https://t.co/Ka3D4LZU4d\"</h2>\n",
       "<table>\n",
       "<th>  <td>id</td> <td>dist</td> <td>user</td> </td>message<td> </th>\n",
       "    <tr><td>1</td><td>28909</td><td>0.0</td> <td>Reforma</td><td> La dramaturga Estela Leñero &apos;libera&apos; a cinco mujeres presas del machismo; sucede en &quot;Mujeres en fuga&quot;, una serie de radiomonólogos que se transmiten a partir de este lunes en @radioUANL.  https://t.co/Ka3D4LZU4d</td> </tr><tr><td>2</td><td>26641</td><td>0.066</td> <td>Milenio</td><td> ▶️ &apos;El Mijis&apos; cumple 14 días desaparecido; aunque hay algunas pistas, siguen sin tener certeza de dónde podría estar\n",
       "\n",
       "En #LaMañanera, la activista Frida Guerrera leyó una carta al Presidente enviada por la esposa del exdiputado\n",
       "\n",
       "📺 La historia con @azucenau #AzucenaALas10 https://t.co/EeIx7ST67S</td> </tr><tr><td>3</td><td>29367</td><td>0.066</td> <td>Milenio</td><td> #PolíticaCero | Si una celebridad como Sasha, con todas las herramientas monetarias y legales, guarda silencio durante 35 años, pensemos en mujeres que sufrieron la misma situación pero desprovistas de información y apoyos 🎙 La columna de @jairocalixto\n",
       "\n",
       "https://t.co/TzUAcbNUC2</td> </tr><tr><td>4</td><td>34187</td><td>0.067</td> <td>azucenau</td><td> #Relevante | La @FiscaliaCDMX lleva a proceso a tres mujeres, por su posible participación en robo agravado calificado y daño a la propiedad doloso en pandilla.\n",
       "\n",
       "Son las mujeres que fueron detenidas tras la recuperación del inmueble de la #CNDH https://t.co/sk29DlBFHl</td> </tr><tr><td>5</td><td>29201</td><td>0.068</td> <td>azucenau</td><td> #AzucenaALas10 | En #Atlixco, #Puebla, 10 personas fueron ejecutadas, siete  hombres y tres mujeres, presuntamente, según la fiscalía del estado, se trató a un ajuste de cuentas entre narcomenudistas https://t.co/uhMFqLewPW</td> </tr><tr><td>6</td><td>28618</td><td>0.068</td> <td>El_Universal_Mx</td><td> Las autoridades capitalinas instalaron vallas metálicas frente a la Catedral Metropolitana, localizada a un costado de Palacio Nacional, debido a la próxima marcha que se realizará con motivo del Día Internacional de las Mujeres #Video @Alberx666 https://t.co/0XERzbTfdu</td> </tr><tr><td>7</td><td>6151</td><td>0.068</td> <td>AdriDelgadoRuiz</td><td> No se pierdan la entrevista #Exclusiva que vamos a tener en #ElDedoEnLaLlaga con @LorenaCuellar, gobernadora electa de #Tlaxcala, quien nos hablará de sus primeras acciones de gobierno con perspectiva de género  @PartidoMorenaMx \n",
       "3PM por la 98.5FM\n",
       "#ElHerladoRadio @heraldodemexico https://t.co/NkzgEYWxsT</td> </tr>\n",
       "</table>\n"
      ]
     },
     "metadata": {},
     "output_type": "display_data"
    },
    {
     "name": "stdout",
     "output_type": "stream",
     "text": [
      "  0.526811 seconds (166.64 k allocations: 3.814 MiB)\n"
     ]
    },
    {
     "data": {
      "text/html": [
       "<h2>resultados para \"🇨🇴 Se salvó de milagro: un soldado colombiano se lanzó desde un helicóptero y su paracaídas no se abrió\n",
       "\n",
       "https://t.co/yIMwtGi4JO\"</h2>\n",
       "<table>\n",
       "<th>  <td>id</td> <td>dist</td> <td>user</td> </td>message<td> </th>\n",
       "    <tr><td>1</td><td>13894</td><td>0.0</td> <td>TelemundoNews</td><td> 🇨🇴 Se salvó de milagro: un soldado colombiano se lanzó desde un helicóptero y su paracaídas no se abrió\n",
       "\n",
       "https://t.co/yIMwtGi4JO</td> </tr><tr><td>2</td><td>1098</td><td>0.077</td> <td>teleSURtv</td><td> En el marco de las tensiones que vive #China 🇨🇳 con #EEUU 🇺🇸 en diversos ámbitos la Asamblea Popular Nacional #China 🇨🇳 aprobó una ley que protege a compañías nacionales de las sanciones unilaterales de gobiernos extranjeros.\n",
       "\n",
       "https://t.co/V7GkFLJzmm</td> </tr><tr><td>3</td><td>11866</td><td>0.077</td> <td>Reforma</td><td> ¡Fueron una pesadilla!\n",
       "\n",
       "Marco Asensio anotó un hat-trick y Karim Benzema un doblete en la goleada del Real Madrid 6-1 ante Mallorca. El conjunto de Ancelotti se mantiene como líder del campeonato. https://t.co/4QaMZyEeCk</td> </tr><tr><td>4</td><td>28271</td><td>0.077</td> <td>UniNoticias</td><td> 🇺🇸 #SOTU22: El tuit de Biden antes de su discurso.\n",
       "\n",
       "&quot;Amigos, voy a dar mi primer discurso sobre el Estado de la Unión esta noche. Hablaré sobre el progreso que hemos logrado juntos durante el último año y mi visión para construir una América mejor&quot;.\n",
       "\n",
       " Más👉https://t.co/4NA7gkcDzz</td> </tr><tr><td>5</td><td>33842</td><td>0.078</td> <td>dw_espanol</td><td> El 51% de la población quiere que Canadá🇨🇦 deje de ser #monarquía, mientras que 26% quiere mantenerla, según el Instituto Angus Reid \n",
       "\n",
       "Además, 50% de quienes participaron dijo que la familia real británica🇬🇧 no tiene ningún papel relevante en #Canadá (ama)\n",
       "https://t.co/HKdMbTXAPO</td> </tr><tr><td>6</td><td>30859</td><td>0.078</td> <td>el_pais</td><td> Putin se compara con J. K. Rowling ante el intento, dice, de &quot;cancelar&quot; a la cultura rusa&quot;, pero la escritora de Harry Potter rechaza ser puesta como ejemplo por el presidente ruso de la &quot;cultura de la cancelación occidental&quot; https://t.co/VabgzYgi18\n",
       "https://t.co/wxTEcBgrAc</td> </tr><tr><td>7</td><td>6291</td><td>0.078</td> <td>teleSURtv</td><td> El primer encuentro en materia nuclear⚛️ entre #EEUU🇺🇸y #Rusia🇷🇺 mantenido en Ginebra, #Suiza🇨🇭tuvo la finalidad de alcanzar en el futuro un ambiente de estabilidad alrededor del mundo y de reducir los riesgos, de acuerdo con fuentes de ambas cancillerías\n",
       "https://t.co/1SherLjw2D</td> </tr>\n",
       "</table>\n"
      ],
      "text/plain": [
       "<h2>resultados para \"🇨🇴 Se salvó de milagro: un soldado colombiano se lanzó desde un helicóptero y su paracaídas no se abrió\n",
       "\n",
       "https://t.co/yIMwtGi4JO\"</h2>\n",
       "<table>\n",
       "<th>  <td>id</td> <td>dist</td> <td>user</td> </td>message<td> </th>\n",
       "    <tr><td>1</td><td>13894</td><td>0.0</td> <td>TelemundoNews</td><td> 🇨🇴 Se salvó de milagro: un soldado colombiano se lanzó desde un helicóptero y su paracaídas no se abrió\n",
       "\n",
       "https://t.co/yIMwtGi4JO</td> </tr><tr><td>2</td><td>1098</td><td>0.077</td> <td>teleSURtv</td><td> En el marco de las tensiones que vive #China 🇨🇳 con #EEUU 🇺🇸 en diversos ámbitos la Asamblea Popular Nacional #China 🇨🇳 aprobó una ley que protege a compañías nacionales de las sanciones unilaterales de gobiernos extranjeros.\n",
       "\n",
       "https://t.co/V7GkFLJzmm</td> </tr><tr><td>3</td><td>11866</td><td>0.077</td> <td>Reforma</td><td> ¡Fueron una pesadilla!\n",
       "\n",
       "Marco Asensio anotó un hat-trick y Karim Benzema un doblete en la goleada del Real Madrid 6-1 ante Mallorca. El conjunto de Ancelotti se mantiene como líder del campeonato. https://t.co/4QaMZyEeCk</td> </tr><tr><td>4</td><td>28271</td><td>0.077</td> <td>UniNoticias</td><td> 🇺🇸 #SOTU22: El tuit de Biden antes de su discurso.\n",
       "\n",
       "&quot;Amigos, voy a dar mi primer discurso sobre el Estado de la Unión esta noche. Hablaré sobre el progreso que hemos logrado juntos durante el último año y mi visión para construir una América mejor&quot;.\n",
       "\n",
       " Más👉https://t.co/4NA7gkcDzz</td> </tr><tr><td>5</td><td>33842</td><td>0.078</td> <td>dw_espanol</td><td> El 51% de la población quiere que Canadá🇨🇦 deje de ser #monarquía, mientras que 26% quiere mantenerla, según el Instituto Angus Reid \n",
       "\n",
       "Además, 50% de quienes participaron dijo que la familia real británica🇬🇧 no tiene ningún papel relevante en #Canadá (ama)\n",
       "https://t.co/HKdMbTXAPO</td> </tr><tr><td>6</td><td>30859</td><td>0.078</td> <td>el_pais</td><td> Putin se compara con J. K. Rowling ante el intento, dice, de &quot;cancelar&quot; a la cultura rusa&quot;, pero la escritora de Harry Potter rechaza ser puesta como ejemplo por el presidente ruso de la &quot;cultura de la cancelación occidental&quot; https://t.co/VabgzYgi18\n",
       "https://t.co/wxTEcBgrAc</td> </tr><tr><td>7</td><td>6291</td><td>0.078</td> <td>teleSURtv</td><td> El primer encuentro en materia nuclear⚛️ entre #EEUU🇺🇸y #Rusia🇷🇺 mantenido en Ginebra, #Suiza🇨🇭tuvo la finalidad de alcanzar en el futuro un ambiente de estabilidad alrededor del mundo y de reducir los riesgos, de acuerdo con fuentes de ambas cancillerías\n",
       "https://t.co/1SherLjw2D</td> </tr>\n",
       "</table>\n"
      ]
     },
     "metadata": {},
     "output_type": "display_data"
    },
    {
     "name": "stdout",
     "output_type": "stream",
     "text": [
      "  0.561001 seconds (166.64 k allocations: 3.814 MiB)\n"
     ]
    },
    {
     "data": {
      "text/html": [
       "<h2>resultados para \".@Sergeluna_S acusó a @lorenzocordovav de mentir por afirmar que denuncias penales contra los 6 consejeros del #INE fueron por pensar diferente  https://t.co/UBsAmSq9bo\"</h2>\n",
       "<table>\n",
       "<th>  <td>id</td> <td>dist</td> <td>user</td> </td>message<td> </th>\n",
       "    <tr><td>1</td><td>22273</td><td>0.0</td> <td>Reforma</td><td> .@Sergeluna_S acusó a @lorenzocordovav de mentir por afirmar que denuncias penales contra los 6 consejeros del #INE fueron por pensar diferente  https://t.co/UBsAmSq9bo</td> </tr><tr><td>2</td><td>7615</td><td>0.07</td> <td>Milenio</td><td> ▶ El gobierno de México finalmente se puso las pilas para bajar la violencia en el país y optó por la vía legal: puso una demanda civil contra los fabricantes de armas de Estados Unidos\n",
       "\n",
       "¿Qué significa esto para ambos países?\n",
       "\n",
       "@paobarquet nos explica #EnCorto https://t.co/AZgJLmwyTI</td> </tr><tr><td>3</td><td>7832</td><td>0.07</td> <td>Milenio</td><td> ▶ El gobierno de México finalmente se puso las pilas para bajar la violencia en el país y optó por la vía legal: puso una demanda civil contra los fabricantes de armas de Estados Unidos\n",
       "\n",
       "¿Qué significa esto para ambos países?\n",
       "\n",
       "@paobarquet ​nos explica #EnCorto https://t.co/dakOd6NjKl</td> </tr><tr><td>4</td><td>38079</td><td>0.07</td> <td>el_pais</td><td> 🔴 Villarejo, sobre Rajoy: “Hay que controlar a Correa, tiene información del Barbas”. El comisario hizo de agente doble en el ‘caso Gürtel’ para proteger a la vez al PP y al cabecilla de la red corrupta https://t.co/ArTirqhGpm</td> </tr><tr><td>5</td><td>22714</td><td>0.071</td> <td>el_pais</td><td> Alemania quiere acelerar el ritmo de la vacunación de refuerzo y restringir lo más posible los contactos, pero sin cerrar bares y restaurantes. Solo podrán acceder a ellos los vacunados que tengan la tercera dosis o que presenten un test negativo del día https://t.co/Q1srBseSYG</td> </tr><tr><td>6</td><td>38971</td><td>0.071</td> <td>SinEmbargoMX</td><td> Morena arrasa en 4 años | El partido del Presidente logró consolidarse como la principal fuerza política de México y luego de la jornada electoral de este domingo quedó con el poder de 20 entidades, seguido del PAN que tiene bajo su control cinco estados https://t.co/61hfaW1kCJ https://t.co/ZhoVC6EMOA</td> </tr><tr><td>7</td><td>27750</td><td>0.071</td> <td>Milenio</td><td> ▶️ Rusia inició el despliegue militar contra Ucrania que ya ha dejado más de 130 muertos durante el primer día: ¿cómo empezó todo?\n",
       "\n",
       "Talya Iscan, internacionalista, nos explica\n",
       "\n",
       "📺 La entrevista en #MILENIOTelevisión https://t.co/CCPvCfN1JE</td> </tr>\n",
       "</table>\n"
      ],
      "text/plain": [
       "<h2>resultados para \".@Sergeluna_S acusó a @lorenzocordovav de mentir por afirmar que denuncias penales contra los 6 consejeros del #INE fueron por pensar diferente  https://t.co/UBsAmSq9bo\"</h2>\n",
       "<table>\n",
       "<th>  <td>id</td> <td>dist</td> <td>user</td> </td>message<td> </th>\n",
       "    <tr><td>1</td><td>22273</td><td>0.0</td> <td>Reforma</td><td> .@Sergeluna_S acusó a @lorenzocordovav de mentir por afirmar que denuncias penales contra los 6 consejeros del #INE fueron por pensar diferente  https://t.co/UBsAmSq9bo</td> </tr><tr><td>2</td><td>7615</td><td>0.07</td> <td>Milenio</td><td> ▶ El gobierno de México finalmente se puso las pilas para bajar la violencia en el país y optó por la vía legal: puso una demanda civil contra los fabricantes de armas de Estados Unidos\n",
       "\n",
       "¿Qué significa esto para ambos países?\n",
       "\n",
       "@paobarquet nos explica #EnCorto https://t.co/AZgJLmwyTI</td> </tr><tr><td>3</td><td>7832</td><td>0.07</td> <td>Milenio</td><td> ▶ El gobierno de México finalmente se puso las pilas para bajar la violencia en el país y optó por la vía legal: puso una demanda civil contra los fabricantes de armas de Estados Unidos\n",
       "\n",
       "¿Qué significa esto para ambos países?\n",
       "\n",
       "@paobarquet ​nos explica #EnCorto https://t.co/dakOd6NjKl</td> </tr><tr><td>4</td><td>38079</td><td>0.07</td> <td>el_pais</td><td> 🔴 Villarejo, sobre Rajoy: “Hay que controlar a Correa, tiene información del Barbas”. El comisario hizo de agente doble en el ‘caso Gürtel’ para proteger a la vez al PP y al cabecilla de la red corrupta https://t.co/ArTirqhGpm</td> </tr><tr><td>5</td><td>22714</td><td>0.071</td> <td>el_pais</td><td> Alemania quiere acelerar el ritmo de la vacunación de refuerzo y restringir lo más posible los contactos, pero sin cerrar bares y restaurantes. Solo podrán acceder a ellos los vacunados que tengan la tercera dosis o que presenten un test negativo del día https://t.co/Q1srBseSYG</td> </tr><tr><td>6</td><td>38971</td><td>0.071</td> <td>SinEmbargoMX</td><td> Morena arrasa en 4 años | El partido del Presidente logró consolidarse como la principal fuerza política de México y luego de la jornada electoral de este domingo quedó con el poder de 20 entidades, seguido del PAN que tiene bajo su control cinco estados https://t.co/61hfaW1kCJ https://t.co/ZhoVC6EMOA</td> </tr><tr><td>7</td><td>27750</td><td>0.071</td> <td>Milenio</td><td> ▶️ Rusia inició el despliegue militar contra Ucrania que ya ha dejado más de 130 muertos durante el primer día: ¿cómo empezó todo?\n",
       "\n",
       "Talya Iscan, internacionalista, nos explica\n",
       "\n",
       "📺 La entrevista en #MILENIOTelevisión https://t.co/CCPvCfN1JE</td> </tr>\n",
       "</table>\n"
      ]
     },
     "metadata": {},
     "output_type": "display_data"
    }
   ],
   "source": [
    "display(@htl \"<h1>Ejemplos de búsqueda (mensajes aleatorios)</h1>\")\n",
    "\n",
    "for i in 1:3\n",
    "    for qid in rand(1:length(D.text))\n",
    "        search_and_display(index, D.text[qid], 7, D, E, T)\n",
    "    end\n",
    "end"
   ]
  },
  {
   "cell_type": "markdown",
   "id": "1e8f09a9-75aa-49c5-9e35-4c486defa289",
   "metadata": {},
   "source": [
    "# Actividades\n",
    "- Reproduzca el ejercicio de este notebook, use embeddings para español, cambié los ejemplos. Se sugiere el uso de <https://ingeotec.github.io/regional-spanish-models/> donde encontrará modelos fastText regionalizados del español, pero puede usar otros embeddings.\n",
    "- ¿Qué piensa de las diferencias de tamaño entre los documentos y las consultas? esto como afecta a la representación semántica.\n",
    "- ¿Cuál sería el símil de bigramas y trigramas para este esquema de representación semántica? Implementelo.\n",
    "- Defina $H^\\textsf{pt}_d$, donde $pt$ es la probabilidad de ocurrencia de término.\n",
    "- Defina $H^\\textsf{TF}_d$, donde $TF$ es la frecuencia de término normalizada.\n",
    "- Implemente $H^\\textsf{TF}_d$ y $H^\\textsf{pt}_d$ de manera secuencial y con un índice métrico. Si usa Julia considere `SimilaritySearch.jl` y si usa Python considere `faiss`.\n",
    "- Reporte su notebook y anote sus soluciones a las preguntas planteadas. El reporte deberá contener un ensayo de [@KSKW2015] como introducción. Reporte los resultados de sus implementaciones, compare contra las alternativas presentadas en este reporte. Discuta sus resultados. Finalice el reporte  con reflexiones sobre el uso de nubes de puntos en lugar de bolsas de palabras tradicionales. Anoté sus conclusiones.\n",
    "\n",
    "# Bibliografía\n",
    "- [KSKW2015] Kusner, M., Sun, Y., Kolkin, N., & Weinberger, K. (2015, June). From word embeddings to document distances. In International conference on machine learning (pp. 957-966). PMLR.\n",
    "- [PW2009] Pele, O., & Werman, M. (2009, September). Fast and robust earth mover's distances. In 2009 IEEE 12th international conference on computer vision (pp. 460-467). IEEE.\n"
   ]
  }
 ],
 "metadata": {
  "kernelspec": {
   "display_name": "Julia 1.7.2",
   "language": "julia",
   "name": "julia-1.7"
  },
  "language_info": {
   "file_extension": ".jl",
   "mimetype": "application/julia",
   "name": "julia",
   "version": "1.7.2"
  }
 },
 "nbformat": 4,
 "nbformat_minor": 5
}
