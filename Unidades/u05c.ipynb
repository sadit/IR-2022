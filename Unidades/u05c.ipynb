{
 "cells": [
  {
   "cell_type": "markdown",
   "id": "9fc189d2-656e-41d4-be84-dcf6ccf9537b",
   "metadata": {},
   "source": [
    "# Representación semántica y búsqueda\n",
    "Autor: Eric S. Tellez <eric.tellez@infotec.mx>\n",
    "\n",
    "## Usando la nube de puntos\n",
    "\n",
    "La representación de nube de puntos puede usarse directamente sin realizar prototipos, sin embargo, es posible que dada su complejidad, dimensión intrinseca, tenga poca utilidad en grandes volumenes de información. Por ejemplo, es posible utilizar la distancia de [Hausdorff](https://en.wikipedia.org/wiki/Hausdorff_distance); que entre dos nubes de puntos (documentos para este caso) esta definida como sigue:\n",
    "\n",
    "$$ H_d(U, V) = \\max \\left\\{ \\max_{u \\in U} \\min_{x \\in V} d(u, x), \\max_{v \\in V} \\min_{x \\in U} d(v, x) \\right\\} $$\n",
    "\n",
    "Donde $\\textsf{nn}$ encuentra el vecino cercano del primer argumento en el segundo. Podemos ver la intuición de esta distancia, analizando las partes de la expresión. \n",
    "La diferencia entre ambos conjuntos se representa con el máximo de las distancias mínimas. Note que esta parte es idéntica a resolver una búsqueda de vecinos cercanos. La parte más externa de la expresión se repite para los dos conjuntos para preservar la simétria de la función.\n",
    "\n",
    "De la misma forma, es posible obtener variaciones de interés como considerar todas las distancias cercanas en lugar de solo las máximas, lo cual puede reducir formas caprichosas de _outlayers_.\n",
    "\n",
    "$$ H^+_d(U, V) = \\frac{1}{2|U|} \\sum_{u \\in U} \\min_{x \\in V} d(u, x) + \\frac{1}{2|V|}\\sum_{v \\in V} \\min_{x \\in U} d(v, x) $$\n",
    "\n",
    "La información local de una representación de bolsa de palabras también puede ser aprovechada, por ejemplo, añadiendo información de $\\textsf{tp}$\n",
    "\n",
    "$$ H^\\textsf{pt}_d(U, V) = \\max \\left\\{\n",
    "        \\max_{u \\in U} \\left\\{\\textsf{pt}(u, U) \\min_{x \\in V} d(u, x)\\right\\},\n",
    "        \\max_{v \\in V} \\left\\{\\textsf{pt}(v, V) \\min_{x \\in U} d(v, x)\\right\\}\n",
    "     \\right\\} $$\n",
    "\n",
    "# Notas adicionales\n",
    "La versión de $H^\\textsf{pt}_d$ que usa la probabilidad de término $\\textsf{pt}$ es similar a la aproximación 2 listada en [@KSKW2015]. Los prototipos son similares a la aproximación 1 del mismo artículo. En el artículo se presenta la función de distancia _word mover's distance_ (WMD) que es una adecuación de la Earths mover's distance (EMD) [PW2009]. EMD es la solución óptima a un problema de transportación, la WMD es la adaptación teniendo en cuenta embeddings de palabras.\n",
    "\n",
    "# Ejemplo\n"
   ]
  },
  {
   "cell_type": "code",
   "execution_count": 1,
   "id": "cd04785e-aa4e-493c-9aa8-5c54c8e1f322",
   "metadata": {},
   "outputs": [
    {
     "name": "stderr",
     "output_type": "stream",
     "text": [
      "\u001b[32m\u001b[1m  Activating\u001b[22m\u001b[39m project at `~/IR-2022/Unidades`\n"
     ]
    }
   ],
   "source": [
    "using Pkg\n",
    "Pkg.activate(\".\")\n",
    "!isfile(\"Manifest.toml\") && Pkg.add([\n",
    "    PackageSpec(name=\"SimilaritySearch\", version=\"0.9\"),\n",
    "    PackageSpec(name=\"TextSearch\", version=\"0.13\"),\n",
    "    PackageSpec(name=\"Plots\"),\n",
    "    PackageSpec(name=\"KNearestCenters\"),\n",
    "    PackageSpec(name=\"HypertextLiteral\"),\n",
    "    PackageSpec(name=\"CSV\"),\n",
    "    PackageSpec(name=\"DataFrames\"),\n",
    "    PackageSpec(name=\"Word2Vec\"),\n",
    "    PackageSpec(name=\"Embeddings\"),\n",
    "])\n",
    "\n",
    "using SimilaritySearch, TextSearch, Plots, Word2Vec, KNearestCenters, LinearAlgebra, HypertextLiteral, CSV, DataFrames, Base64, Random\n",
    "using Embeddings: load_embeddings, FastText_Text\n",
    "using Downloads: download"
   ]
  },
  {
   "cell_type": "code",
   "execution_count": 2,
   "id": "dc9f7f49-5c32-41ea-95f5-b8f1670c2842",
   "metadata": {},
   "outputs": [
    {
     "name": "stdout",
     "output_type": "stream",
     "text": [
      "\u001b[32m\u001b[1m      Status\u001b[22m\u001b[39m `~/IR-2022/Unidades/Project.toml`\n",
      " \u001b[90m [944b1d66] \u001b[39mCodecZlib v0.7.0\n",
      " \u001b[90m [ac1192a8] \u001b[39mHypertextLiteral v0.9.4\n",
      " \u001b[90m [b20bd276] \u001b[39mInvertedFiles v0.4.2 `../../Research/InvertedFiles.jl`\n",
      " \u001b[90m [682c06a0] \u001b[39mJSON v0.21.3\n",
      " \u001b[90m [4dca28ae] \u001b[39mKNearestCenters v0.7.1\n",
      " \u001b[90m [8ef0a80b] \u001b[39mLanguages v0.4.3\n",
      " \u001b[90m [eb30cadb] \u001b[39mMLDatasets v0.7.3\n",
      " \u001b[90m [053f045d] \u001b[39mSimilaritySearch v0.9.4 `../../Research/SimilaritySearch.jl`\n",
      " \u001b[90m [fb8f903a] \u001b[39mSnowball v0.1.0\n",
      " \u001b[90m [2913bbd2] \u001b[39mStatsBase v0.33.18\n",
      " \u001b[90m [7f6f6c8a] \u001b[39mTextSearch v0.12.7 `../../Research/TextSearch.jl`\n",
      " \u001b[90m [c64b6f0f] \u001b[39mWord2Vec v0.5.3\n"
     ]
    }
   ],
   "source": [
    "]status"
   ]
  },
  {
   "cell_type": "code",
   "execution_count": null,
   "id": "95d9bcb8-60f5-42d5-adb3-dca1f1b480b3",
   "metadata": {},
   "outputs": [],
   "source": []
  },
  {
   "cell_type": "code",
   "execution_count": 3,
   "id": "9fe195c4-8f5a-4b8f-bde9-8be620397ba1",
   "metadata": {},
   "outputs": [
    {
     "data": {
      "text/plain": [
       "word2vec_embeddings (generic function with 1 method)"
      ]
     },
     "execution_count": 3,
     "metadata": {},
     "output_type": "execute_result"
    }
   ],
   "source": [
    "function word2vec_embeddings(textconfig, corpus, embfile; dim=32, w2vtmp=tempfile(pwd()))\n",
    "    isfile(embfile) && return\n",
    "    tcorpus = tokenize_corpus(textconfig, corpus)\n",
    "    voc = Vocabulary(textconfig, tcorpus)\n",
    "    fvoc = filter_tokens(voc) do t\n",
    "        5 <= t.ndocs <= 2000\n",
    "    end\n",
    "    valid = Set(fvoc.token)\n",
    "\n",
    "    open(w2vtmp, \"w\") do f\n",
    "        for tokens in tcorpus\n",
    "            tokens = filter!(t -> t in valid, tokens)\n",
    "            if length(tokens) > 7 # minimum number of tokens in a message\n",
    "                println(f, join(tokens, ' '))\n",
    "            end\n",
    "        end\n",
    "    end\n",
    "\n",
    "    word2vec(w2vtmp, embfile, size=dim, iter=15, threads=Threads.nthreads()-1)\n",
    "end\n"
   ]
  },
  {
   "cell_type": "code",
   "execution_count": 4,
   "id": "67d4602c-c9d6-4a52-a451-1d482fa5413a",
   "metadata": {},
   "outputs": [
    {
     "name": "stdout",
     "output_type": "stream",
     "text": [
      " 20.064970 seconds (33.39 M allocations: 2.553 GiB, 5.32% gc time, 99.84% compilation time)\n",
      "  0.960138 seconds (2.59 M allocations: 303.930 MiB, 7.98% gc time, 86.34% compilation time)\n",
      "Starting training using file /home/sadit/IR-2022/Unidades/w2v.tmp\n",
      "Vocab size: 12135\n",
      "Words in train file: 442523\n"
     ]
    },
    {
     "data": {
      "text/plain": [
       "Embeddings.EmbeddingTable{Matrix{Float32}, Vector{String}}(Float32[0.006254 0.408892 … -0.239267 -0.161472; 0.006905 -1.695412 … 0.777975 0.751166; … ; -0.003277 1.584423 … -0.032014 -0.018186; 0.003372 -0.658217 … 0.066842 0.010714], [\"</s>\", \"ha\", \"sus\", \"presidente\", \"contra\", \"anos\", \"fue\", \"tras\", \"pero\", \"gobierno\"  …  \"#ondasdelpodcast\", \"🤢\", \"#premiosortegaygasset\", \"infiel\", \"indigenista\", \"contenedores\", \"#cerocahui\", \"chueco\", \"yrma\", \"lydya\"])"
      ]
     },
     "execution_count": 4,
     "metadata": {},
     "output_type": "execute_result"
    }
   ],
   "source": [
    "textconfig = TextConfig(; nlist=[1], qlist=[], slist=[], lc=true,\n",
    "    group_usr=true, group_url=true, group_num=true, del_diac=true, del_punc=true)\n",
    "\n",
    "filename = \"../data/spanish-news-in-twitter.csv\"\n",
    "embfile = filename * \".w2v.vec\"\n",
    "@time D = CSV.read(filename, DataFrame; delim=',', missingstring=\"XXXX\")\n",
    "@time D[:, :text] = String.(base64decode.(D.text))\n",
    "rm(embfile)\n",
    "word2vec_embeddings(textconfig, D.text, embfile; dim=64, w2vtmp=joinpath(pwd(), \"w2v.tmp\"))\n",
    "E = load_embeddings(FastText_Text, embfile)\n"
   ]
  },
  {
   "cell_type": "code",
   "execution_count": 5,
   "id": "dd9ccc0b-aacb-4bc8-b36e-7effdb3647dd",
   "metadata": {},
   "outputs": [
    {
     "data": {
      "text/plain": [
       "(textconfig = TextConfig(true, false, true, true, true, true, false, true, Int8[], Int8[1], Skipgram[], IdentityTokenTransformation()), model = {VectorModel global_weighting=BinaryGlobalWeighting(), local_weighting=TpWeighting(), train-voc=12135, train-n=41999, maxoccs=1987}, voc = Vocabulary([\"</s>\", \"ha\", \"sus\", \"presidente\", \"contra\", \"anos\", \"fue\", \"tras\", \"pero\", \"gobierno\"  …  \"#ondasdelpodcast\", \"🤢\", \"#premiosortegaygasset\", \"infiel\", \"indigenista\", \"contenedores\", \"#cerocahui\", \"chueco\", \"yrma\", \"lydya\"], Int32[0, 1987, 1953, 1926, 1954, 1956, 1614, 1411, 1361, 1359  …  5, 6, 5, 5, 6, 6, 5, 5, 6, 6], Int32[0, 1987, 1953, 1926, 1954, 1956, 1614, 1411, 1361, 1359  …  5, 6, 5, 5, 6, 6, 5, 5, 6, 6], Dict{String, UInt32}(\"focos\" => 0x0000225f, \"#videos\" => 0x00001754, \"libertad\" => 0x000001be, \"ayudas\" => 0x00000f6f, \"henry\" => 0x00001fb4, \"islamico\" => 0x0000163b, \"directivos\" => 0x00001625, \"soporte\" => 0x000013bb, \"astronautas\" => 0x00002584, \"advirtieron\" => 0x0000234f…), 41999))"
      ]
     },
     "execution_count": 5,
     "metadata": {},
     "output_type": "execute_result"
    }
   ],
   "source": [
    "T = let corpus=D.text\n",
    "    voc = Vocabulary(textconfig, corpus; thesaurus=E.vocab)\n",
    "    model = VectorModel(BinaryGlobalWeighting(), TpWeighting(), voc)\n",
    "    (; textconfig, model, voc)\n",
    "end"
   ]
  },
  {
   "cell_type": "code",
   "execution_count": 6,
   "id": "479b2661-122c-412b-afe8-ac0ec4c4b03d",
   "metadata": {},
   "outputs": [
    {
     "data": {
      "text/plain": [
       "cloud_corpus (generic function with 1 method)"
      ]
     },
     "execution_count": 6,
     "metadata": {},
     "output_type": "execute_result"
    }
   ],
   "source": [
    "cloud(text, E, T) = vectorize(T.model, T.textconfig, text; normalize=false)\n",
    "cloud_corpus(corpus, E, T) = vectorize_corpus(T.model, T.textconfig, corpus; normalize=false)"
   ]
  },
  {
   "cell_type": "code",
   "execution_count": 7,
   "id": "e4fcb23f-9564-4910-9a4f-1f5d4a582d5f",
   "metadata": {},
   "outputs": [],
   "source": [
    "struct AWMD <: SemiMetric\n",
    "    X::MatrixDatabase\n",
    "    results::Vector{KnnResult}\n",
    "    dcos::NormalizedCosineDistance\n",
    "end\n",
    "\n",
    "AWMD(X) = AWMD(X, [KnnResult(1) for _ in 1:Threads.nthreads()], NormalizedCosineDistance())\n",
    "\n",
    "const PI_2 = convert(Float32, pi / 2)\n",
    "\n",
    "\n",
    "@inline function nn_(X, res, dcos, u, V)\n",
    "    res = reuse!(res)\n",
    "\n",
    "    for (vid, _) in V\n",
    "        push!(res, vid, evaluate(dcos, u, X[vid]))\n",
    "    end\n",
    "    \n",
    "    minimum(res)\n",
    "end\n",
    "\n",
    "function onesidewmd(X, res, dcos, U, V)\n",
    "    d::Float32 = zero(Float32)\n",
    "    @fastmath for (uid, w) in U\n",
    "        if !haskey(V, uid) # evaluates to zero\n",
    "            d = max(d, w * nn_(X, res, dcos, X[uid], V))\n",
    "        end\n",
    "    end\n",
    "    \n",
    "    d\n",
    "end\n",
    "\n",
    "function SimilaritySearch.evaluate(wmd::AWMD, U::T, V::T) where T\n",
    "    length(U) == 1 && haskey(U, 0) && return PI_2\n",
    "    length(V) == 1 && haskey(V, 0) && return PI_2\n",
    "    res = wmd.results[Threads.threadid()]\n",
    "    dcos = wmd.dcos\n",
    "\n",
    "    max(onesidewmd(wmd.X, res, dcos, U, V), onesidewmd(wmd.X, res, dcos, V, U))\n",
    "end\n"
   ]
  },
  {
   "cell_type": "code",
   "execution_count": 8,
   "id": "af8bad4e-c31b-4506-8341-47c4130d664a",
   "metadata": {},
   "outputs": [
    {
     "data": {
      "text/plain": [
       "AWMD(MatrixDatabase{Matrix{Float32}}(Float32[0.17953031 0.026101155 … -0.10653875 -0.07246646; 0.19821823 -0.1082247 … 0.34641 0.3371132; … ; -0.09407112 0.101139836 … -0.014254918 -0.008161632; 0.09679824 -0.042016536 … 0.029762829 0.0048082992]), KnnResult[KnnResult(Int32[], Float32[], 1), KnnResult(Int32[], Float32[], 1), KnnResult(Int32[], Float32[], 1), KnnResult(Int32[], Float32[], 1), KnnResult(Int32[], Float32[], 1), KnnResult(Int32[], Float32[], 1), KnnResult(Int32[], Float32[], 1), KnnResult(Int32[], Float32[], 1), KnnResult(Int32[], Float32[], 1), KnnResult(Int32[], Float32[], 1)  …  KnnResult(Int32[], Float32[], 1), KnnResult(Int32[], Float32[], 1), KnnResult(Int32[], Float32[], 1), KnnResult(Int32[], Float32[], 1), KnnResult(Int32[], Float32[], 1), KnnResult(Int32[], Float32[], 1), KnnResult(Int32[], Float32[], 1), KnnResult(Int32[], Float32[], 1), KnnResult(Int32[], Float32[], 1), KnnResult(Int32[], Float32[], 1)], NormalizedCosineDistance())"
      ]
     },
     "execution_count": 8,
     "metadata": {},
     "output_type": "execute_result"
    }
   ],
   "source": [
    "db = VectorDatabase(cloud_corpus(D.text, E, T))\n",
    "for c in eachcol(E.embeddings)\n",
    "    normalize!(c)\n",
    "end\n",
    "\n",
    "dist = AWMD(MatrixDatabase(E.embeddings))"
   ]
  },
  {
   "cell_type": "code",
   "execution_count": 9,
   "id": "9d1dc14b-02cb-45ab-8466-5783251ef877",
   "metadata": {
    "tags": []
   },
   "outputs": [],
   "source": [
    "#=recall = 0.8\n",
    "index = SearchGraph(; dist, db, verbose=true)\n",
    "#index!(index; callbacks=SearchGraphCallbacks(MinRecall(recall)))\n",
    "index!(index)\n",
    "optimize!(index, MinRecall(recall))\n",
    "=#"
   ]
  },
  {
   "cell_type": "code",
   "execution_count": 10,
   "id": "61fded63-d4ca-42f6-b69e-b0a044c4396b",
   "metadata": {},
   "outputs": [],
   "source": [
    "index = ParallelExhaustiveSearch(; db, dist);"
   ]
  },
  {
   "cell_type": "code",
   "execution_count": 11,
   "id": "03eaad27-034e-437a-92e1-0d7a54500823",
   "metadata": {},
   "outputs": [
    {
     "data": {
      "text/plain": [
       "64"
      ]
     },
     "execution_count": 11,
     "metadata": {},
     "output_type": "execute_result"
    }
   ],
   "source": [
    "Threads.nthreads()"
   ]
  },
  {
   "cell_type": "code",
   "execution_count": 12,
   "id": "e4c515d9-d81d-4d91-9087-df312a117242",
   "metadata": {},
   "outputs": [],
   "source": [
    "#@time res, _ = search(ex, db[111], KnnResult(10))\n",
    "#=@time res, _ = search(ex, cloud(\"covid en México\", E, T), KnnResult(10))\n",
    "\n",
    "for (id_, dist_) in res\n",
    "    display(@htl \"\"\"<div style=\"padding: 0.5em;\">\n",
    "        <span style=\"width: 25%; margin: 0.25em;\"> $(id_ => round(dist_; digits=3))</span>\n",
    "        <span style=\"background-color: rgb(120, 60, 60); margin: 0.2em;\">$(D.text[id_])</span>\n",
    "    </div>\"\"\")\n",
    "end\n",
    "=#"
   ]
  },
  {
   "cell_type": "markdown",
   "id": "51b68d72-5256-49ad-b22b-e896f58bc29f",
   "metadata": {},
   "source": [
    "### Búsqueda y presentación de los resultados"
   ]
  },
  {
   "cell_type": "code",
   "execution_count": 13,
   "id": "e045135e-4189-47cc-9513-72a5000527f6",
   "metadata": {},
   "outputs": [
    {
     "data": {
      "text/plain": [
       "search_and_display (generic function with 1 method)"
      ]
     },
     "execution_count": 13,
     "metadata": {},
     "output_type": "execute_result"
    }
   ],
   "source": [
    "function search_and_display(index, qtext, k, D, E, T)\n",
    "    res = KnnResult(k)\n",
    "    q = cloud(qtext, E, T)\n",
    "    @time search(index, q, res)\n",
    "    \n",
    "    L = []\n",
    "    for (j, (id, d)) in enumerate(res)\n",
    "        push!(L, @htl \"<tr><td>$j</td><td>$id</td><td>$(round(d, digits=3))</td> <td>$(D.screen_name[id])</td><td> $(D.text[id])</td> </tr>\")\n",
    "    end\n",
    "\n",
    "    display(@htl \"\"\"<h2>resultados para \"$qtext\"</h2>\n",
    "    <table>\n",
    "    <th>  <td>id</td> <td>dist</td> <td>user</td> </td>message<td> </th>\n",
    "        $L\n",
    "    </table>\n",
    "    \"\"\")\n",
    "end\n"
   ]
  },
  {
   "cell_type": "code",
   "execution_count": 16,
   "id": "b1123924-05b2-4799-b2f7-18b3d2c46f4d",
   "metadata": {},
   "outputs": [
    {
     "data": {
      "text/html": [
       "<h1>Ejemplos de búsqueda</h1>"
      ],
      "text/plain": [
       "<h1>Ejemplos de búsqueda</h1>"
      ]
     },
     "metadata": {},
     "output_type": "display_data"
    },
    {
     "name": "stdout",
     "output_type": "stream",
     "text": [
      "  0.088636 seconds (166.64 k allocations: 3.814 MiB)\n"
     ]
    },
    {
     "data": {
      "text/html": [
       "<h2>resultados para \"el gobierno de andres manuel lopez\"</h2>\n",
       "<table>\n",
       "<th>  <td>id</td> <td>dist</td> <td>user</td> </td>message<td> </th>\n",
       "    <tr><td>1</td><td>16524</td><td>0.072</td> <td>azucenau</td><td> La jefa de gobierno de la Ciudad de México, Claudia Sheinbaum, aseguró que ella y el presidente de la República, Andrés Manuel López Obrador, “somos parte del mismo movimiento”, y que jamás será líder de oposición, pues “somos parte de la Cuarta Transformación”. https://t.co/FYoh0GuROr</td> </tr><tr><td>2</td><td>4111</td><td>0.092</td> <td>PedroFerriz</td><td> RT @CentralFM_: #CentralFmEquilibrio \n",
       "\n",
       "Estados Unidos urgió al Gobierno de Andrés Manuel López Obrador a reanudar la autorización de import…</td> </tr><tr><td>3</td><td>41283</td><td>0.096</td> <td>Reforma</td><td> El Presidente Andrés Manuel López Obrador propuso al Gobierno de #NuevoLeon acordar con empresarios que produzcan menos, usen menos #agua, y que así vaya más líquido a la gente.\n",
       "https://t.co/9kW1cPZBmj</td> </tr><tr><td>4</td><td>35523</td><td>0.111</td> <td>JoseCardenas1</td><td> El Presidente Andrés Manuel López Obrador arribó esta tarde al Aeropuerto de La Habana, Cuba, para comenzar su gira de trabajo y sostener encuentros con el mandatario de la isla, Miguel Díaz-Canel https://t.co/GiBHboPAIG</td> </tr><tr><td>5</td><td>20587</td><td>0.124</td> <td>SinEmbargoMX</td><td> 🚨 #URGENTE |  El Gobierno de EU ofrece 5 millones de dólares por información que conduzca al arresto y condena de los mexicanos Ovidio Guzmán López, Iván Archivaldo Guzmán Salazar, Jesús Alfredo Guzmán Salazar y Joaquín Guzmán López, hijos de “El Chapo” https://t.co/S8eyJEDNTX https://t.co/YSXPkhUM7k</td> </tr><tr><td>6</td><td>20882</td><td>0.124</td> <td>CiroGomezL</td><td> El gobierno de #EU publicó los carteles de búsqueda de los 4 hijos de &quot;El Chapo&quot;, en donde ofrecen hasta 5 millones de dólares por Joaquín Guzmán López, Ovidio Guzmán López, Iván Archivaldo Guzmán Salazar y Jesús Alfredo Guzmán Salazar: https://t.co/hMfarnfA6f</td> </tr><tr><td>7</td><td>21911</td><td>0.136</td> <td>RicardoAlemanMx</td><td> Si tenían duda, el @TEPJF_informa también está sometido por el gobierno de @lopezobrador_ !\n",
       "Por eso hoy voto contra la decisión del @INEMexico !\n",
       "Tienen razón Vargas Llosa y Ernesto Zedillo; con López, México vive la destrucción de su democracia!\n",
       "Al tiempo!</td> </tr>\n",
       "</table>\n"
      ],
      "text/plain": [
       "<h2>resultados para \"el gobierno de andres manuel lopez\"</h2>\n",
       "<table>\n",
       "<th>  <td>id</td> <td>dist</td> <td>user</td> </td>message<td> </th>\n",
       "    <tr><td>1</td><td>16524</td><td>0.072</td> <td>azucenau</td><td> La jefa de gobierno de la Ciudad de México, Claudia Sheinbaum, aseguró que ella y el presidente de la República, Andrés Manuel López Obrador, “somos parte del mismo movimiento”, y que jamás será líder de oposición, pues “somos parte de la Cuarta Transformación”. https://t.co/FYoh0GuROr</td> </tr><tr><td>2</td><td>4111</td><td>0.092</td> <td>PedroFerriz</td><td> RT @CentralFM_: #CentralFmEquilibrio \n",
       "\n",
       "Estados Unidos urgió al Gobierno de Andrés Manuel López Obrador a reanudar la autorización de import…</td> </tr><tr><td>3</td><td>41283</td><td>0.096</td> <td>Reforma</td><td> El Presidente Andrés Manuel López Obrador propuso al Gobierno de #NuevoLeon acordar con empresarios que produzcan menos, usen menos #agua, y que así vaya más líquido a la gente.\n",
       "https://t.co/9kW1cPZBmj</td> </tr><tr><td>4</td><td>35523</td><td>0.111</td> <td>JoseCardenas1</td><td> El Presidente Andrés Manuel López Obrador arribó esta tarde al Aeropuerto de La Habana, Cuba, para comenzar su gira de trabajo y sostener encuentros con el mandatario de la isla, Miguel Díaz-Canel https://t.co/GiBHboPAIG</td> </tr><tr><td>5</td><td>20587</td><td>0.124</td> <td>SinEmbargoMX</td><td> 🚨 #URGENTE |  El Gobierno de EU ofrece 5 millones de dólares por información que conduzca al arresto y condena de los mexicanos Ovidio Guzmán López, Iván Archivaldo Guzmán Salazar, Jesús Alfredo Guzmán Salazar y Joaquín Guzmán López, hijos de “El Chapo” https://t.co/S8eyJEDNTX https://t.co/YSXPkhUM7k</td> </tr><tr><td>6</td><td>20882</td><td>0.124</td> <td>CiroGomezL</td><td> El gobierno de #EU publicó los carteles de búsqueda de los 4 hijos de &quot;El Chapo&quot;, en donde ofrecen hasta 5 millones de dólares por Joaquín Guzmán López, Ovidio Guzmán López, Iván Archivaldo Guzmán Salazar y Jesús Alfredo Guzmán Salazar: https://t.co/hMfarnfA6f</td> </tr><tr><td>7</td><td>21911</td><td>0.136</td> <td>RicardoAlemanMx</td><td> Si tenían duda, el @TEPJF_informa también está sometido por el gobierno de @lopezobrador_ !\n",
       "Por eso hoy voto contra la decisión del @INEMexico !\n",
       "Tienen razón Vargas Llosa y Ernesto Zedillo; con López, México vive la destrucción de su democracia!\n",
       "Al tiempo!</td> </tr>\n",
       "</table>\n"
      ]
     },
     "metadata": {},
     "output_type": "display_data"
    },
    {
     "name": "stdout",
     "output_type": "stream",
     "text": [
      "  0.062425 seconds (166.64 k allocations: 3.814 MiB)\n"
     ]
    },
    {
     "data": {
      "text/html": [
       "<h2>resultados para \"trafico de drogas\"</h2>\n",
       "<table>\n",
       "<th>  <td>id</td> <td>dist</td> <td>user</td> </td>message<td> </th>\n",
       "    <tr><td>1</td><td>1361</td><td>0.038</td> <td>epigmenioibarra</td><td> 29 JoseE\n",
       "30 JoseLuisL\n",
       "31 Jhosivani\n",
       "32 JulioCesarL\n",
       "El GIEI solicitó investigar el tráfico de drogas escondidas en autobuses como probable motivo del ataque a los normalistas, ya que un quinto autobús que apareció quemado fue omitido en la investigación oficial.\n",
       "#Ayotzinapa80Meses https://t.co/jbAcSdIuPI</td> </tr><tr><td>2</td><td>32852</td><td>0.038</td> <td>epigmenioibarra</td><td> 29 JoséE\n",
       "30 JoséLuisL\n",
       "31 Jhosivani\n",
       "32 JulioCésarL\n",
       "El GIEI solicitó investigar el tráfico de drogas escondidas en autobuses como probable motivo del ataque a los normalistas, ya que un quinto autobús que apareció quemado fue omitido en la investigación oficial.\n",
       "#Ayotzinapa90Meses https://t.co/oFlt1F32LI</td> </tr><tr><td>3</td><td>31559</td><td>0.038</td> <td>epigmenioibarra</td><td> 29 JoséE\n",
       "30 JoséLuisL\n",
       "31 Jhosivani\n",
       "32 JulioCésarL\n",
       "El GIEI solicitó investigar el tráfico de drogas escondidas en autobuses como probable motivo del ataque a los normalistas, ya que un quinto autobús que apareció quemado fue omitido en la investigación oficial.\n",
       "#Ayotzinapa90Meses https://t.co/43JRhtAr00</td> </tr><tr><td>4</td><td>19770</td><td>0.038</td> <td>epigmenioibarra</td><td> 29 JoseE\n",
       "30 JoseLuisL\n",
       "31 Jhosivani\n",
       "32 JulioCesarL\n",
       "El GIEI solicitó investigar el tráfico de drogas escondidas en autobuses como probable motivo del ataque a los normalistas, ya que un quinto autobús que apareció quemado fue omitido en la investigación oficial.\n",
       "#Ayotzinapa86meses https://t.co/yQV8oABngZ</td> </tr><tr><td>5</td><td>2113</td><td>0.038</td> <td>epigmenioibarra</td><td> 29 JoseE\n",
       "30 JoseLuisL\n",
       "31 Jhosivani\n",
       "32 JulioCesarL\n",
       "El GIEI solicitó investigar el tráfico de drogas escondidas en autobuses como probable motivo del ataque a los normalistas, ya que un quinto autobús que apareció quemado fue omitido en la investigación oficial.\n",
       "#Ayotzinapa80Meses https://t.co/BNAdU3bp0n</td> </tr><tr><td>6</td><td>5391</td><td>0.038</td> <td>epigmenioibarra</td><td> 29 JoseE\n",
       "30 JoseLuisL\n",
       "31 Jhosivani\n",
       "32 JulioCesarL\n",
       "El GIEI solicitó investigar el tráfico de drogas escondidas en autobuses como probable motivo del ataque a los normalistas, ya que un quinto autobús que apareció quemado fue omitido en la investigación oficial.\n",
       "#Ayotzinapa81Meses https://t.co/cxi6tlCTMA</td> </tr><tr><td>7</td><td>18648</td><td>0.038</td> <td>epigmenioibarra</td><td> 29 JoseE\n",
       "30 JoseLuisL\n",
       "31 Jhosivani\n",
       "32 JulioCesarL\n",
       "El GIEI solicitó investigar el tráfico de drogas escondidas en autobuses como probable motivo del ataque a los normalistas, ya que un quinto autobús que apareció quemado fue omitido en la investigación oficial.\n",
       "#Ayotzinapa85meses https://t.co/KH0xDLkhWz</td> </tr>\n",
       "</table>\n"
      ],
      "text/plain": [
       "<h2>resultados para \"trafico de drogas\"</h2>\n",
       "<table>\n",
       "<th>  <td>id</td> <td>dist</td> <td>user</td> </td>message<td> </th>\n",
       "    <tr><td>1</td><td>1361</td><td>0.038</td> <td>epigmenioibarra</td><td> 29 JoseE\n",
       "30 JoseLuisL\n",
       "31 Jhosivani\n",
       "32 JulioCesarL\n",
       "El GIEI solicitó investigar el tráfico de drogas escondidas en autobuses como probable motivo del ataque a los normalistas, ya que un quinto autobús que apareció quemado fue omitido en la investigación oficial.\n",
       "#Ayotzinapa80Meses https://t.co/jbAcSdIuPI</td> </tr><tr><td>2</td><td>32852</td><td>0.038</td> <td>epigmenioibarra</td><td> 29 JoséE\n",
       "30 JoséLuisL\n",
       "31 Jhosivani\n",
       "32 JulioCésarL\n",
       "El GIEI solicitó investigar el tráfico de drogas escondidas en autobuses como probable motivo del ataque a los normalistas, ya que un quinto autobús que apareció quemado fue omitido en la investigación oficial.\n",
       "#Ayotzinapa90Meses https://t.co/oFlt1F32LI</td> </tr><tr><td>3</td><td>31559</td><td>0.038</td> <td>epigmenioibarra</td><td> 29 JoséE\n",
       "30 JoséLuisL\n",
       "31 Jhosivani\n",
       "32 JulioCésarL\n",
       "El GIEI solicitó investigar el tráfico de drogas escondidas en autobuses como probable motivo del ataque a los normalistas, ya que un quinto autobús que apareció quemado fue omitido en la investigación oficial.\n",
       "#Ayotzinapa90Meses https://t.co/43JRhtAr00</td> </tr><tr><td>4</td><td>19770</td><td>0.038</td> <td>epigmenioibarra</td><td> 29 JoseE\n",
       "30 JoseLuisL\n",
       "31 Jhosivani\n",
       "32 JulioCesarL\n",
       "El GIEI solicitó investigar el tráfico de drogas escondidas en autobuses como probable motivo del ataque a los normalistas, ya que un quinto autobús que apareció quemado fue omitido en la investigación oficial.\n",
       "#Ayotzinapa86meses https://t.co/yQV8oABngZ</td> </tr><tr><td>5</td><td>2113</td><td>0.038</td> <td>epigmenioibarra</td><td> 29 JoseE\n",
       "30 JoseLuisL\n",
       "31 Jhosivani\n",
       "32 JulioCesarL\n",
       "El GIEI solicitó investigar el tráfico de drogas escondidas en autobuses como probable motivo del ataque a los normalistas, ya que un quinto autobús que apareció quemado fue omitido en la investigación oficial.\n",
       "#Ayotzinapa80Meses https://t.co/BNAdU3bp0n</td> </tr><tr><td>6</td><td>5391</td><td>0.038</td> <td>epigmenioibarra</td><td> 29 JoseE\n",
       "30 JoseLuisL\n",
       "31 Jhosivani\n",
       "32 JulioCesarL\n",
       "El GIEI solicitó investigar el tráfico de drogas escondidas en autobuses como probable motivo del ataque a los normalistas, ya que un quinto autobús que apareció quemado fue omitido en la investigación oficial.\n",
       "#Ayotzinapa81Meses https://t.co/cxi6tlCTMA</td> </tr><tr><td>7</td><td>18648</td><td>0.038</td> <td>epigmenioibarra</td><td> 29 JoseE\n",
       "30 JoseLuisL\n",
       "31 Jhosivani\n",
       "32 JulioCesarL\n",
       "El GIEI solicitó investigar el tráfico de drogas escondidas en autobuses como probable motivo del ataque a los normalistas, ya que un quinto autobús que apareció quemado fue omitido en la investigación oficial.\n",
       "#Ayotzinapa85meses https://t.co/KH0xDLkhWz</td> </tr>\n",
       "</table>\n"
      ]
     },
     "metadata": {},
     "output_type": "display_data"
    },
    {
     "name": "stdout",
     "output_type": "stream",
     "text": [
      "  0.084231 seconds (166.64 k allocations: 3.814 MiB)\n"
     ]
    },
    {
     "data": {
      "text/html": [
       "<h2>resultados para \"calentamiento global\"</h2>\n",
       "<table>\n",
       "<th>  <td>id</td> <td>dist</td> <td>user</td> </td>message<td> </th>\n",
       "    <tr><td>1</td><td>17410</td><td>0.046</td> <td>TelemundoNews</td><td> El acuerdo incluye promesas clave, entre ellas la de reducir la energía del carbón y las subvenciones a los combustibles fósiles, pero muchos críticos dicen que no ofrece suficiente apoyo a las naciones en desarrollo afectadas por el calentamiento global. https://t.co/foBCgxRNVT</td> </tr><tr><td>2</td><td>7442</td><td>0.052</td> <td>patriciajaniot</td><td> El calentamiento global es más rápido y grave de lo pensado. Unos diez años antes de lo estimado, se puede alcanzar el umbral de un incremento de la temperatura en 34.7 °F (1.5 ºC), con riesgos de desastres &quot;sin precedentes&quot; para la humanidad\n",
       "https://t.co/iQVOG3eVyZ</td> </tr><tr><td>3</td><td>10963</td><td>0.056</td> <td>SinEmbargoMX</td><td> #Opinión | Ana Ortega de @THL_Latino\n",
       "\n",
       "&quot;El consumo de carne o lo que no se habla del calentamiento global&quot;\n",
       "\n",
       "Si no adoptamos una postura más firme ante el calentamiento global, el panorama de México está a punto de ponerse sombrío\n",
       "https://t.co/HL8v7EBp2x https://t.co/k8Az8hDr5y</td> </tr><tr><td>4</td><td>11613</td><td>0.06</td> <td>EFEnoticias</td><td> El Reino Unido presionó al resto de Gobiernos para que anuncien más medidas contra el calentamiento global, apenas cinco semanas antes de la próxima cumbre del clima (COP26) que acogerá su país. https://t.co/bmKjR0hXRm</td> </tr><tr><td>5</td><td>7766</td><td>0.079</td> <td>CNNEE</td><td> ▶ Todavía podemos mitigar el daño al planeta por el calentamiento global si exigimos políticas públicas a gobiernos, dicen expertas. https://t.co/7eoc24sboY</td> </tr><tr><td>6</td><td>15809</td><td>0.096</td> <td>bbcmundo</td><td> Cambio climático: 5 buenas noticias sobre la lucha contra el calentamiento global (contadas por científicos y expertos) https://t.co/VOKUupHVGN</td> </tr><tr><td>7</td><td>7410</td><td>0.099</td> <td>AFPespanol</td><td> #ÚLTIMAHORA El calentamiento global llegará a +1,5 °C hacia 2030, 10 años antes de lo previsto (ONU) #AFP https://t.co/KJT1ESxU2S</td> </tr>\n",
       "</table>\n"
      ],
      "text/plain": [
       "<h2>resultados para \"calentamiento global\"</h2>\n",
       "<table>\n",
       "<th>  <td>id</td> <td>dist</td> <td>user</td> </td>message<td> </th>\n",
       "    <tr><td>1</td><td>17410</td><td>0.046</td> <td>TelemundoNews</td><td> El acuerdo incluye promesas clave, entre ellas la de reducir la energía del carbón y las subvenciones a los combustibles fósiles, pero muchos críticos dicen que no ofrece suficiente apoyo a las naciones en desarrollo afectadas por el calentamiento global. https://t.co/foBCgxRNVT</td> </tr><tr><td>2</td><td>7442</td><td>0.052</td> <td>patriciajaniot</td><td> El calentamiento global es más rápido y grave de lo pensado. Unos diez años antes de lo estimado, se puede alcanzar el umbral de un incremento de la temperatura en 34.7 °F (1.5 ºC), con riesgos de desastres &quot;sin precedentes&quot; para la humanidad\n",
       "https://t.co/iQVOG3eVyZ</td> </tr><tr><td>3</td><td>10963</td><td>0.056</td> <td>SinEmbargoMX</td><td> #Opinión | Ana Ortega de @THL_Latino\n",
       "\n",
       "&quot;El consumo de carne o lo que no se habla del calentamiento global&quot;\n",
       "\n",
       "Si no adoptamos una postura más firme ante el calentamiento global, el panorama de México está a punto de ponerse sombrío\n",
       "https://t.co/HL8v7EBp2x https://t.co/k8Az8hDr5y</td> </tr><tr><td>4</td><td>11613</td><td>0.06</td> <td>EFEnoticias</td><td> El Reino Unido presionó al resto de Gobiernos para que anuncien más medidas contra el calentamiento global, apenas cinco semanas antes de la próxima cumbre del clima (COP26) que acogerá su país. https://t.co/bmKjR0hXRm</td> </tr><tr><td>5</td><td>7766</td><td>0.079</td> <td>CNNEE</td><td> ▶ Todavía podemos mitigar el daño al planeta por el calentamiento global si exigimos políticas públicas a gobiernos, dicen expertas. https://t.co/7eoc24sboY</td> </tr><tr><td>6</td><td>15809</td><td>0.096</td> <td>bbcmundo</td><td> Cambio climático: 5 buenas noticias sobre la lucha contra el calentamiento global (contadas por científicos y expertos) https://t.co/VOKUupHVGN</td> </tr><tr><td>7</td><td>7410</td><td>0.099</td> <td>AFPespanol</td><td> #ÚLTIMAHORA El calentamiento global llegará a +1,5 °C hacia 2030, 10 años antes de lo previsto (ONU) #AFP https://t.co/KJT1ESxU2S</td> </tr>\n",
       "</table>\n"
      ]
     },
     "metadata": {},
     "output_type": "display_data"
    },
    {
     "name": "stdout",
     "output_type": "stream",
     "text": [
      "  0.068182 seconds (166.64 k allocations: 3.814 MiB)\n"
     ]
    },
    {
     "data": {
      "text/html": [
       "<h2>resultados para \"covid corona virus\"</h2>\n",
       "<table>\n",
       "<th>  <td>id</td> <td>dist</td> <td>user</td> </td>message<td> </th>\n",
       "    <tr><td>1</td><td>4169</td><td>0.121</td> <td>AristeguiOnline</td><td> Castillo con coronavirus como corona rompe récord mundial Guinness | #Video\n",
       "https://t.co/SaJIKYierX https://t.co/FmV7YOWKEX</td> </tr><tr><td>2</td><td>31951</td><td>0.121</td> <td>EFEnoticias</td><td> Carlo Ancelotti, técnico italiano del Real Madrid, sigue dando positivo en coronavirus y no integra la expedición a Londres. #UCL\n",
       "\n",
       "https://t.co/m8dp8nJVVu</td> </tr><tr><td>3</td><td>21053</td><td>0.13</td> <td>abc_es</td><td> 🔴 #ÚLTIMAHORA Don Juan Carlos da negativo en la PCR, tras el positivo en Covid de Rafa Nadal https://t.co/P9Li2qJubQ</td> </tr><tr><td>4</td><td>3004</td><td>0.133</td> <td>EFEnoticias</td><td> RT @EFEeconomia: 🗓️Algunas claves económicas para este lunes:\n",
       "\n",
       "▶️Comienza en Barcelona el primer MWC pos-Covid, con menos asistentes y sona…</td> </tr><tr><td>5</td><td>22797</td><td>0.133</td> <td>el_pais</td><td> Bruno Polo, un estudiante de Barcelona, se infectó de coronavirus por tercera vez estas Navidades. Los expertos admiten que casos como el suyo irán creciendo por la pérdida de efectividad de los anticuerpos con el paso del tiempo https://t.co/z6EERJl5iw</td> </tr><tr><td>6</td><td>23610</td><td>0.135</td> <td>AFPespanol</td><td> 🎾 .@DjokerNole, expulsado de Australia tras una batalla judicial sobre su situación en cuanto a la vacuna contra el #covid19, es esperado en Europa después de pasar por Dubái en tránsito, tras el inicio del Open de Australia que soñaba ganar por décima vez #AFP https://t.co/COYmevydpF</td> </tr><tr><td>7</td><td>5969</td><td>0.14</td> <td>AFPespanol</td><td> El covid-19 volvió a acaparar protagonismo en los #JuegosOlímpicos: después de aplazar un año @Tokyo2020es y dejar afuera a varios participantes, fue más lejos y se llevó a dos estrellas, los golfistas Jon Rahm, de España, y Bryson DeChambeau, de EEUU #AFP \n",
       "#AFPdeportes ⛳🤒 https://t.co/n3mfS66Okw</td> </tr>\n",
       "</table>\n"
      ],
      "text/plain": [
       "<h2>resultados para \"covid corona virus\"</h2>\n",
       "<table>\n",
       "<th>  <td>id</td> <td>dist</td> <td>user</td> </td>message<td> </th>\n",
       "    <tr><td>1</td><td>4169</td><td>0.121</td> <td>AristeguiOnline</td><td> Castillo con coronavirus como corona rompe récord mundial Guinness | #Video\n",
       "https://t.co/SaJIKYierX https://t.co/FmV7YOWKEX</td> </tr><tr><td>2</td><td>31951</td><td>0.121</td> <td>EFEnoticias</td><td> Carlo Ancelotti, técnico italiano del Real Madrid, sigue dando positivo en coronavirus y no integra la expedición a Londres. #UCL\n",
       "\n",
       "https://t.co/m8dp8nJVVu</td> </tr><tr><td>3</td><td>21053</td><td>0.13</td> <td>abc_es</td><td> 🔴 #ÚLTIMAHORA Don Juan Carlos da negativo en la PCR, tras el positivo en Covid de Rafa Nadal https://t.co/P9Li2qJubQ</td> </tr><tr><td>4</td><td>3004</td><td>0.133</td> <td>EFEnoticias</td><td> RT @EFEeconomia: 🗓️Algunas claves económicas para este lunes:\n",
       "\n",
       "▶️Comienza en Barcelona el primer MWC pos-Covid, con menos asistentes y sona…</td> </tr><tr><td>5</td><td>22797</td><td>0.133</td> <td>el_pais</td><td> Bruno Polo, un estudiante de Barcelona, se infectó de coronavirus por tercera vez estas Navidades. Los expertos admiten que casos como el suyo irán creciendo por la pérdida de efectividad de los anticuerpos con el paso del tiempo https://t.co/z6EERJl5iw</td> </tr><tr><td>6</td><td>23610</td><td>0.135</td> <td>AFPespanol</td><td> 🎾 .@DjokerNole, expulsado de Australia tras una batalla judicial sobre su situación en cuanto a la vacuna contra el #covid19, es esperado en Europa después de pasar por Dubái en tránsito, tras el inicio del Open de Australia que soñaba ganar por décima vez #AFP https://t.co/COYmevydpF</td> </tr><tr><td>7</td><td>5969</td><td>0.14</td> <td>AFPespanol</td><td> El covid-19 volvió a acaparar protagonismo en los #JuegosOlímpicos: después de aplazar un año @Tokyo2020es y dejar afuera a varios participantes, fue más lejos y se llevó a dos estrellas, los golfistas Jon Rahm, de España, y Bryson DeChambeau, de EEUU #AFP \n",
       "#AFPdeportes ⛳🤒 https://t.co/n3mfS66Okw</td> </tr>\n",
       "</table>\n"
      ]
     },
     "metadata": {},
     "output_type": "display_data"
    }
   ],
   "source": [
    "\n",
    "display(@htl \"<h1>Ejemplos de búsqueda</h1>\")\n",
    "search_and_display(index, \"el gobierno de andres manuel lopez\", 7, D, E, T)\n",
    "search_and_display(index, \"trafico de drogas\", 7, D, E, T)\n",
    "search_and_display(index, \"calentamiento global\", 7, D, E, T)\n",
    "search_and_display(index, \"covid corona virus\", 7, D, E, T)\n"
   ]
  },
  {
   "cell_type": "code",
   "execution_count": 18,
   "id": "b4028733-5dd7-46e0-addb-5f7959766695",
   "metadata": {},
   "outputs": [
    {
     "data": {
      "text/html": [
       "<h1>Ejemplos de búsqueda (mensajes aleatorios)</h1>"
      ],
      "text/plain": [
       "<h1>Ejemplos de búsqueda (mensajes aleatorios)</h1>"
      ]
     },
     "metadata": {},
     "output_type": "display_data"
    },
    {
     "name": "stdout",
     "output_type": "stream",
     "text": [
      "  0.041952 seconds (166.64 k allocations: 3.814 MiB)\n"
     ]
    },
    {
     "data": {
      "text/html": [
       "<h2>resultados para \"Ya son 2 millones 498 mil 357 casos positivos en el país.\n",
       "https://t.co/d2RUSlyB57\"</h2>\n",
       "<table>\n",
       "<th>  <td>id</td> <td>dist</td> <td>user</td> </td>message<td> </th>\n",
       "    <tr><td>1</td><td>2818</td><td>0.0</td> <td>Adela_Micha</td><td> Ya son 2 millones 498 mil 357 casos positivos en el país.\n",
       "https://t.co/d2RUSlyB57</td> </tr><tr><td>2</td><td>34105</td><td>0.078</td> <td>el_pais</td><td> Ya son 57 millones los estadounidenses (de un total de 331) los que usan el español como lengua de comunicación habitual o lo entienden correctamente. Este incremento está teniendo un claro reflejo en la Administración del país https://t.co/pKmhkL78ji</td> </tr><tr><td>3</td><td>31567</td><td>0.084</td> <td>SinEmbargoMX</td><td> El Gobierno federal anunció nuevas medidas para combatir la crisis forense en el país, ya que en México existen casi 100 mil casos de personas desaparecidas\n",
       "https://t.co/dgR9Qp9SY1 https://t.co/OPiVewLzY2</td> </tr><tr><td>4</td><td>28961</td><td>0.094</td> <td>azucenau</td><td> #AzucenaALas10 | No se tiene una certeza de la cantidad de personas que han fallecido en #Ucrania o el número de pobladores que lograron salir... lo que sí sabemos, es que un pequeño niño de solo 11 años tuvo que viajar solo para escapar de la guerra https://t.co/a0a9XpN1oX</td> </tr><tr><td>5</td><td>28202</td><td>0.094</td> <td>dw_espanol</td><td> Un pueblo desafía a invasores #rusos\n",
       "\n",
       "La población civil de #Ucrania está mostrando una feroz resistencia al avance de las tropas rusas, aun cuando sus efectivos son minoría en cantidad y tecnología. Este pueblo se enfrentó al avance de un tanque. 👇 /ft\n",
       "\n",
       "#DWNoticias https://t.co/tloLFPhEeN</td> </tr><tr><td>6</td><td>21986</td><td>0.094</td> <td>PublimetroMX</td><td> #PublimetroMX abordó una de las ambulancias de la @CruzRoja_CDMX, en donde se constató cómo este tipo de unidades circulan de forma constante entre vialidades primarias o secundarias. https://t.co/wdV5A9v3la\n",
       "https://t.co/6L3zZXzI2F</td> </tr><tr><td>7</td><td>34002</td><td>0.095</td> <td>Milenio</td><td> #CadenaDeMando | Es muy temprano para juzgar a las actuales Fuerzas Armadas. Lo que es un hecho es que este país, en definitiva, sería un caos total sin la participación de los soldados de las tres fuerzas 🖊 Lee la columna de @elibarrola \n",
       "\n",
       "https://t.co/rCg9CjzqcS https://t.co/sZ6OelxdmA</td> </tr>\n",
       "</table>\n"
      ],
      "text/plain": [
       "<h2>resultados para \"Ya son 2 millones 498 mil 357 casos positivos en el país.\n",
       "https://t.co/d2RUSlyB57\"</h2>\n",
       "<table>\n",
       "<th>  <td>id</td> <td>dist</td> <td>user</td> </td>message<td> </th>\n",
       "    <tr><td>1</td><td>2818</td><td>0.0</td> <td>Adela_Micha</td><td> Ya son 2 millones 498 mil 357 casos positivos en el país.\n",
       "https://t.co/d2RUSlyB57</td> </tr><tr><td>2</td><td>34105</td><td>0.078</td> <td>el_pais</td><td> Ya son 57 millones los estadounidenses (de un total de 331) los que usan el español como lengua de comunicación habitual o lo entienden correctamente. Este incremento está teniendo un claro reflejo en la Administración del país https://t.co/pKmhkL78ji</td> </tr><tr><td>3</td><td>31567</td><td>0.084</td> <td>SinEmbargoMX</td><td> El Gobierno federal anunció nuevas medidas para combatir la crisis forense en el país, ya que en México existen casi 100 mil casos de personas desaparecidas\n",
       "https://t.co/dgR9Qp9SY1 https://t.co/OPiVewLzY2</td> </tr><tr><td>4</td><td>28961</td><td>0.094</td> <td>azucenau</td><td> #AzucenaALas10 | No se tiene una certeza de la cantidad de personas que han fallecido en #Ucrania o el número de pobladores que lograron salir... lo que sí sabemos, es que un pequeño niño de solo 11 años tuvo que viajar solo para escapar de la guerra https://t.co/a0a9XpN1oX</td> </tr><tr><td>5</td><td>28202</td><td>0.094</td> <td>dw_espanol</td><td> Un pueblo desafía a invasores #rusos\n",
       "\n",
       "La población civil de #Ucrania está mostrando una feroz resistencia al avance de las tropas rusas, aun cuando sus efectivos son minoría en cantidad y tecnología. Este pueblo se enfrentó al avance de un tanque. 👇 /ft\n",
       "\n",
       "#DWNoticias https://t.co/tloLFPhEeN</td> </tr><tr><td>6</td><td>21986</td><td>0.094</td> <td>PublimetroMX</td><td> #PublimetroMX abordó una de las ambulancias de la @CruzRoja_CDMX, en donde se constató cómo este tipo de unidades circulan de forma constante entre vialidades primarias o secundarias. https://t.co/wdV5A9v3la\n",
       "https://t.co/6L3zZXzI2F</td> </tr><tr><td>7</td><td>34002</td><td>0.095</td> <td>Milenio</td><td> #CadenaDeMando | Es muy temprano para juzgar a las actuales Fuerzas Armadas. Lo que es un hecho es que este país, en definitiva, sería un caos total sin la participación de los soldados de las tres fuerzas 🖊 Lee la columna de @elibarrola \n",
       "\n",
       "https://t.co/rCg9CjzqcS https://t.co/sZ6OelxdmA</td> </tr>\n",
       "</table>\n"
      ]
     },
     "metadata": {},
     "output_type": "display_data"
    },
    {
     "name": "stdout",
     "output_type": "stream",
     "text": [
      "  0.104251 seconds (166.64 k allocations: 3.814 MiB)\n"
     ]
    },
    {
     "data": {
      "text/html": [
       "<h2>resultados para \"#EnVivo en @Radio_Formula 104.1 fm, 1500AM y Telefórmula. Sigue aquí la transmisión en vivo: \n",
       "https://t.co/YtTR04mr07\"</h2>\n",
       "<table>\n",
       "<th>  <td>id</td> <td>dist</td> <td>user</td> </td>message<td> </th>\n",
       "    <tr><td>1</td><td>22242</td><td>0.0</td> <td>CiroGomezL</td><td> #EnVivo en @Radio_Formula 104.1 fm, 1500AM y Telefórmula. Sigue aquí la transmisión en vivo: \n",
       "https://t.co/YtTR04mr07</td> </tr><tr><td>2</td><td>23026</td><td>0.073</td> <td>CiroGomezL</td><td> #CiroEnImagen\n",
       "\n",
       "Síguenos ahora en #TikTok a través de #ImagenNoticias \n",
       "\n",
       "Da clic aquí para vernos #EnVivo:\n",
       "https://t.co/lcQr4FeQHG https://t.co/wpLUFYxTiY</td> </tr><tr><td>3</td><td>11910</td><td>0.073</td> <td>CiroGomezL</td><td> #CiroEnImagen\n",
       "\n",
       "Síguenos ahora en #TikTok a través de #ImagenNoticias \n",
       "\n",
       "Da click aquí para vernos #EnVivo:\n",
       "https://t.co/ewEXzfqnRn</td> </tr><tr><td>4</td><td>12608</td><td>0.073</td> <td>CiroGomezL</td><td> #CiroEnImagen\n",
       "\n",
       "Síguenos ahora en #TikTok a través de #ImagenNoticias \n",
       "\n",
       "Da click aquí para vernos #EnVivo:\n",
       "https://t.co/t7iFAWuHQz</td> </tr><tr><td>5</td><td>31677</td><td>0.073</td> <td>CiroGomezL</td><td> #CiroEnImagen\n",
       "\n",
       "Síguenos ahora en #TikTok a través de #ImagenNoticias \n",
       "\n",
       "Da clic aquí para vernos #EnVivo:\n",
       "https://t.co/D5HpOAjTWt https://t.co/C8jcDzXh1u</td> </tr><tr><td>6</td><td>22520</td><td>0.073</td> <td>CiroGomezL</td><td> #CiroEnImagen\n",
       "\n",
       "Síguenos ahora en #TikTok a través de #ImagenNoticias \n",
       "\n",
       "Da clic aquí para vernos #EnVivo:\n",
       "https://t.co/UNxuKU6ikA https://t.co/qR2HRcByYy</td> </tr><tr><td>7</td><td>40330</td><td>0.073</td> <td>CiroGomezL</td><td> #CiroEnImagen\n",
       "\n",
       "Síguenos ahora en #TikTok a través de #ImagenNoticias \n",
       "\n",
       "Da clic aquí para vernos #EnVivo:\n",
       "https://t.co/mpQWecdvcT https://t.co/uCLEAdWWUA</td> </tr>\n",
       "</table>\n"
      ],
      "text/plain": [
       "<h2>resultados para \"#EnVivo en @Radio_Formula 104.1 fm, 1500AM y Telefórmula. Sigue aquí la transmisión en vivo: \n",
       "https://t.co/YtTR04mr07\"</h2>\n",
       "<table>\n",
       "<th>  <td>id</td> <td>dist</td> <td>user</td> </td>message<td> </th>\n",
       "    <tr><td>1</td><td>22242</td><td>0.0</td> <td>CiroGomezL</td><td> #EnVivo en @Radio_Formula 104.1 fm, 1500AM y Telefórmula. Sigue aquí la transmisión en vivo: \n",
       "https://t.co/YtTR04mr07</td> </tr><tr><td>2</td><td>23026</td><td>0.073</td> <td>CiroGomezL</td><td> #CiroEnImagen\n",
       "\n",
       "Síguenos ahora en #TikTok a través de #ImagenNoticias \n",
       "\n",
       "Da clic aquí para vernos #EnVivo:\n",
       "https://t.co/lcQr4FeQHG https://t.co/wpLUFYxTiY</td> </tr><tr><td>3</td><td>11910</td><td>0.073</td> <td>CiroGomezL</td><td> #CiroEnImagen\n",
       "\n",
       "Síguenos ahora en #TikTok a través de #ImagenNoticias \n",
       "\n",
       "Da click aquí para vernos #EnVivo:\n",
       "https://t.co/ewEXzfqnRn</td> </tr><tr><td>4</td><td>12608</td><td>0.073</td> <td>CiroGomezL</td><td> #CiroEnImagen\n",
       "\n",
       "Síguenos ahora en #TikTok a través de #ImagenNoticias \n",
       "\n",
       "Da click aquí para vernos #EnVivo:\n",
       "https://t.co/t7iFAWuHQz</td> </tr><tr><td>5</td><td>31677</td><td>0.073</td> <td>CiroGomezL</td><td> #CiroEnImagen\n",
       "\n",
       "Síguenos ahora en #TikTok a través de #ImagenNoticias \n",
       "\n",
       "Da clic aquí para vernos #EnVivo:\n",
       "https://t.co/D5HpOAjTWt https://t.co/C8jcDzXh1u</td> </tr><tr><td>6</td><td>22520</td><td>0.073</td> <td>CiroGomezL</td><td> #CiroEnImagen\n",
       "\n",
       "Síguenos ahora en #TikTok a través de #ImagenNoticias \n",
       "\n",
       "Da clic aquí para vernos #EnVivo:\n",
       "https://t.co/UNxuKU6ikA https://t.co/qR2HRcByYy</td> </tr><tr><td>7</td><td>40330</td><td>0.073</td> <td>CiroGomezL</td><td> #CiroEnImagen\n",
       "\n",
       "Síguenos ahora en #TikTok a través de #ImagenNoticias \n",
       "\n",
       "Da clic aquí para vernos #EnVivo:\n",
       "https://t.co/mpQWecdvcT https://t.co/uCLEAdWWUA</td> </tr>\n",
       "</table>\n"
      ]
     },
     "metadata": {},
     "output_type": "display_data"
    },
    {
     "name": "stdout",
     "output_type": "stream",
     "text": [
      "  0.146073 seconds (166.64 k allocations: 3.814 MiB)\n"
     ]
    },
    {
     "data": {
      "text/html": [
       "<h2>resultados para \"El mensaje de #KamalaHarris a los migrantes desata críticas contra la vicepresidenta.\n",
       "\n",
       "&quot;Que una mujer hija de inmigrantes diga esto a personas desesperadas es simplemente desgarrador&quot;, dijo una periodista hispana. \n",
       "\n",
       "https://t.co/upukAEeeal\"</h2>\n",
       "<table>\n",
       "<th>  <td>id</td> <td>dist</td> <td>user</td> </td>message<td> </th>\n",
       "    <tr><td>1</td><td>927</td><td>0.0</td> <td>TelemundoNews</td><td> El mensaje de #KamalaHarris a los migrantes desata críticas contra la vicepresidenta.\n",
       "\n",
       "&quot;Que una mujer hija de inmigrantes diga esto a personas desesperadas es simplemente desgarrador&quot;, dijo una periodista hispana. \n",
       "\n",
       "https://t.co/upukAEeeal</td> </tr><tr><td>2</td><td>16191</td><td>0.041</td> <td>CiroGomezL</td><td> Mañana está citado a comparecer el ex director de #Pemex, Emilio Lozoya, en el Centro de Justicia Federal del Reclusorio Norte. Tendrá que presentar las pruebas para sustentar la denuncia contra 17 personas a quienes acusó de haber recibido sobornos de Odebrecht https://t.co/b1HuToW6ea</td> </tr><tr><td>3</td><td>37608</td><td>0.041</td> <td>CiroGomezL</td><td> María Herrera, originaria de #Michoacán y madre de 4 desaparecidos, fue al #Vaticano a entregarle al papa Francisco una carta en la que le pidió rezar por las madres que no encuentran a sus hijos y que haga un llamado a los gobiernos para exigir justicia. https://t.co/E9RlYVCptg</td> </tr><tr><td>4</td><td>28872</td><td>0.042</td> <td>El_Universal_Mx</td><td> #LaMañaneraDeAMLO 🔴 Vamos a esperar porque el gobernador dijo que se iba a actuar conforme a la ley, responde López Obrador al ser cuestionado si en la riña Querétaro vs Atlas hubo presencia de integrantes del crimen organizado. https://t.co/SaqeBQ1lwt</td> </tr><tr><td>5</td><td>32767</td><td>0.042</td> <td>Milenio</td><td> Bukele afirma que sí recibió apoyo de Trump contra pandillas en #ElSalvador\n",
       "\n",
       "El presidente salvadoreño reclamó al gobierno de Biden de “apoyar a los pandilleros y sus libertades civiles”\n",
       "\n",
       "https://t.co/PkDZI943Ds https://t.co/0F02yDHvpa</td> </tr><tr><td>6</td><td>35442</td><td>0.042</td> <td>azucenau</td><td> #AzucenaALas10 | El presidente López Obrador continúo con su gira por Centroamérica, visitó El Salvador; felicitó a Nayib Bukele por tener el apoyo de su pueblo y recordó ese país fue el primero que aplicó los programas &quot;sembrando vida&quot; y &quot;jóvenes, construyendo el futuro&quot; https://t.co/U065nPUebf</td> </tr><tr><td>7</td><td>4763</td><td>0.043</td> <td>teleSURtv</td><td> #ENVIVO| El Presidente de #Cuba, Miguel Díaz- Canel,  hay una población joven e insatisfecha que en su legitimo derecho se alzaron para reclamar derechos, sin embargo, hubo una parte que su motivación es afectar a su pueblo.\n",
       "https://t.co/tqMKHfl0b4 https://t.co/rTG2ciMaMk</td> </tr>\n",
       "</table>\n"
      ],
      "text/plain": [
       "<h2>resultados para \"El mensaje de #KamalaHarris a los migrantes desata críticas contra la vicepresidenta.\n",
       "\n",
       "&quot;Que una mujer hija de inmigrantes diga esto a personas desesperadas es simplemente desgarrador&quot;, dijo una periodista hispana. \n",
       "\n",
       "https://t.co/upukAEeeal\"</h2>\n",
       "<table>\n",
       "<th>  <td>id</td> <td>dist</td> <td>user</td> </td>message<td> </th>\n",
       "    <tr><td>1</td><td>927</td><td>0.0</td> <td>TelemundoNews</td><td> El mensaje de #KamalaHarris a los migrantes desata críticas contra la vicepresidenta.\n",
       "\n",
       "&quot;Que una mujer hija de inmigrantes diga esto a personas desesperadas es simplemente desgarrador&quot;, dijo una periodista hispana. \n",
       "\n",
       "https://t.co/upukAEeeal</td> </tr><tr><td>2</td><td>16191</td><td>0.041</td> <td>CiroGomezL</td><td> Mañana está citado a comparecer el ex director de #Pemex, Emilio Lozoya, en el Centro de Justicia Federal del Reclusorio Norte. Tendrá que presentar las pruebas para sustentar la denuncia contra 17 personas a quienes acusó de haber recibido sobornos de Odebrecht https://t.co/b1HuToW6ea</td> </tr><tr><td>3</td><td>37608</td><td>0.041</td> <td>CiroGomezL</td><td> María Herrera, originaria de #Michoacán y madre de 4 desaparecidos, fue al #Vaticano a entregarle al papa Francisco una carta en la que le pidió rezar por las madres que no encuentran a sus hijos y que haga un llamado a los gobiernos para exigir justicia. https://t.co/E9RlYVCptg</td> </tr><tr><td>4</td><td>28872</td><td>0.042</td> <td>El_Universal_Mx</td><td> #LaMañaneraDeAMLO 🔴 Vamos a esperar porque el gobernador dijo que se iba a actuar conforme a la ley, responde López Obrador al ser cuestionado si en la riña Querétaro vs Atlas hubo presencia de integrantes del crimen organizado. https://t.co/SaqeBQ1lwt</td> </tr><tr><td>5</td><td>32767</td><td>0.042</td> <td>Milenio</td><td> Bukele afirma que sí recibió apoyo de Trump contra pandillas en #ElSalvador\n",
       "\n",
       "El presidente salvadoreño reclamó al gobierno de Biden de “apoyar a los pandilleros y sus libertades civiles”\n",
       "\n",
       "https://t.co/PkDZI943Ds https://t.co/0F02yDHvpa</td> </tr><tr><td>6</td><td>35442</td><td>0.042</td> <td>azucenau</td><td> #AzucenaALas10 | El presidente López Obrador continúo con su gira por Centroamérica, visitó El Salvador; felicitó a Nayib Bukele por tener el apoyo de su pueblo y recordó ese país fue el primero que aplicó los programas &quot;sembrando vida&quot; y &quot;jóvenes, construyendo el futuro&quot; https://t.co/U065nPUebf</td> </tr><tr><td>7</td><td>4763</td><td>0.043</td> <td>teleSURtv</td><td> #ENVIVO| El Presidente de #Cuba, Miguel Díaz- Canel,  hay una población joven e insatisfecha que en su legitimo derecho se alzaron para reclamar derechos, sin embargo, hubo una parte que su motivación es afectar a su pueblo.\n",
       "https://t.co/tqMKHfl0b4 https://t.co/rTG2ciMaMk</td> </tr>\n",
       "</table>\n"
      ]
     },
     "metadata": {},
     "output_type": "display_data"
    }
   ],
   "source": [
    "display(@htl \"<h1>Ejemplos de búsqueda (mensajes aleatorios)</h1>\")\n",
    "\n",
    "for i in 1:3\n",
    "    for qid in rand(1:length(D.text))\n",
    "        search_and_display(index, D.text[qid], 7, D, E, T)\n",
    "    end\n",
    "end"
   ]
  },
  {
   "cell_type": "markdown",
   "id": "1e8f09a9-75aa-49c5-9e35-4c486defa289",
   "metadata": {},
   "source": [
    "# Actividades\n",
    "- Reproduzca el ejercicio de este notebook, use embeddings para español, cambié los ejemplos. Se sugiere el uso de <https://ingeotec.github.io/regional-spanish-models/> donde encontrará modelos fastText regionalizados del español, pero puede usar otros embeddings.\n",
    "- ¿Qué piensa de las diferencias de tamaño entre los documentos y las consultas? esto como afecta a la representación semántica.\n",
    "- ¿Cuál sería el símil de bigramas y trigramas para este esquema de representación semántica? Implementelo.\n",
    "- Defina $H^{pt}_d$, donde $pt$ es la probabilidad de ocurrencia de término.- Defina $H^{TF}_d$, donde $TF$ es la frecuencia de término normalizada.\n",
    "- Implemente $H^\\textsf{TF}_d$ y $H^\\textsf{pt}_d$ de manera secuencial y con un índice métrico. Si usa Julia considere `SimilaritySearch.jl` y si usa Python considere `faiss`.\n",
    "- Reporte su notebook y anote sus soluciones a las preguntas planteadas. El reporte deberá contener un ensayo de [@KSKW2015] como introducción. Reporte los resultados de sus implementaciones, compare contra las alternativas presentadas en este reporte. Discuta sus resultados. Finalice el reporte  con reflexiones sobre el uso de nubes de puntos en lugar de bolsas de palabras tradicionales. Anoté sus conclusiones.\n",
    "\n",
    "# Bibliografía\n",
    "- [KSKW2015] Kusner, M., Sun, Y., Kolkin, N., & Weinberger, K. (2015, June). From word embeddings to document distances. In International conference on machine learning (pp. 957-966). PMLR.\n",
    "- [PW2009] Pele, O., & Werman, M. (2009, September). Fast and robust earth mover's distances. In 2009 IEEE 12th international conference on computer vision (pp. 460-467). IEEE.\n"
   ]
  }
 ],
 "metadata": {
  "kernelspec": {
   "display_name": "Julia 1.7.2",
   "language": "julia",
   "name": "julia-1.7"
  },
  "language_info": {
   "file_extension": ".jl",
   "mimetype": "application/julia",
   "name": "julia",
   "version": "1.7.2"
  }
 },
 "nbformat": 4,
 "nbformat_minor": 5
}
