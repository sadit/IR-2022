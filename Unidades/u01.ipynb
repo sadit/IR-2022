{
 "cells": [
  {
   "cell_type": "markdown",
   "id": "b606b63e-967d-4d4d-85e4-e02a32020425",
   "metadata": {},
   "source": [
    "# Introducción a la recuperación de información\n",
    "Autor: Eric S. Tellez <eric.tellez@infotec.mx><br/>\n",
    "\n",
    "La recuperación de información se crea a partir de la necesidad de simplificar el acceso y revisión de documentos en grandes colecciones. Estas colecciones pueden ser homogeneas o heterogeneas, tanto en su contenido como en su formato. En su inicio, se consideraban colecciones unicamente de texto pero las necesidades de información se han diversificado, y ahora es común encontrar sistemas de recuperación de información sobre otros datos como imagenes o videos, o include multimodales, esto es que puedan usar diferentes tipos de objetos. Un objeto puede ser un documento de texto, una imagen, o cualquier otro tipo de datos que se desee tener acceso. \n",
    "\n",
    "Mantener un sistema de información homogeneo puede simplificar su mantenimiento enormemente, por lo que si es posible, se puede intentar mantener cierta homegeneidad. Para sistemas de fuentes abiertas como puede ser la web, esto será posible.\n",
    "\n",
    "En general, se puede ver un sistema de recuperación de información en tres grandes partes:\n",
    "\n",
    "1. Recolección de datos, normalización y modelado matemático.\n",
    "2. Indexamiento, interpretación de consultas y optimización\n",
    "3. Agregación y filtrado de resultados, presentación de los mismos\n",
    "\n",
    "\n",
    "En este curso se visitarán parcialmente todas estas partes. En general se usaran conjuntos de datos previamente recolecados, aunque se invita a usar sus propias colecciones de tal forma que puedan sacar provecho de los temas de manera más amplia. La normalización puede ir desde el simple preprocesamiento de los datos hasta manipulaciones y transformaciones dependientes del dominio. Una vez aplicado el modelado adecuado a las colecciones, las representaciones matemáticas suelen ser vectores de alta dimensión para cada objeto.\n",
    "\n",
    "En cuanto al indexamiento se utilizarán dos tipos de algoritmos, búsqueda mediante índices invertidos y búsqueda por índices métricos. Ambas tienen sus nichos de aplicación y usarlas adecuadamente requiere conocer los problemas y sus modelados.\n",
    "\n",
    "La presentación de los resultados puede ser tan simple como una lista de resultados más relevantes y una pequeña muestra del objeto, o más complejo que requiera alguna técnica de visualización. Todo esto dependerá del dominio de aplicación y la naturaleza del sistema de recuperación de información.\n",
    "\n",
    "\n",
    "# Ejemplos de sistemas de recuperación información\n",
    "\n",
    "- Google,scholar google, google images, google news, youtube...\n",
    "- Bing!\n",
    "- Yahoo search\n",
    "- Yandex\n",
    "- DuckDuckGo\n",
    "- ...\n",
    "\n",
    "También es común que el sistema de recuperación de información no sea el principal producto, si no más bien un complemento imperdible\n",
    "como es el caso de los sistemas de streaming de videos, películas, música, redes sociales, etc.\n",
    "\n",
    "# Ejemplos de implementación de search engines open source\n",
    "- [Apache Lucene](https://lucene.apache.org/)\n",
    "- [Apache SOLR](https://solr.apache.org/)\n",
    "- [ElasticSearch](https://www.elastic.co/es/what-is/elasticsearch)\n",
    "- [hnswlib](https://github.com/nmslib/hnswlib)\n",
    "- [FAISS](https://github.com/facebookresearch/faiss)\n",
    "- [TextSearch.jl](https://github.com/sadit/TextSearch.jl)\n",
    "- [InvertedFiles.jl](https://github.com/sadit/InvertedFiles.jl)\n",
    "- [SimilaritySearch.jl](https://github.com/sadit/SimilaritySearch.jl)\n",
    "\n",
    "\n",
    "# Ejemplo\n",
    "\n",
    "\n",
    "Construcción de un índice de búsqueda para una colección de mensajes de Twitter. Los mensajes se pueden ver como documentos cortos. Se preprocesan y se modalen en vectores mediante un vocabulario. Después se construye el índice con dichos vectores y se hace posible la búsqueda eficiente. Note que existen etiquetas que se pueden usar para otras tareas; de manera más genérica, se pueden ver como metadatos asociados a los elementos del corpus.\n",
    "\n",
    "Nota: La primera vez que se corra este notebook los paquetes necesarios se instalaran de manera automática, es posible que tome un tiempo considerable.\n",
    "\n"
   ]
  },
  {
   "cell_type": "code",
   "execution_count": 1,
   "id": "bb11ca12-b635-45bb-ac02-14523674ded8",
   "metadata": {},
   "outputs": [
    {
     "name": "stderr",
     "output_type": "stream",
     "text": [
      "\u001b[32m\u001b[1m  Activating\u001b[22m\u001b[39m project at `~/IR-2022/Unidades`\n",
      "┌ Info: Precompiling TextSearch [7f6f6c8a-3b03-11e9-223d-e7d88259bd6c]\n",
      "└ @ Base loading.jl:1423\n"
     ]
    }
   ],
   "source": [
    "using Pkg\n",
    "Pkg.activate(\".\")\n",
    "\n",
    "using TextSearch, InvertedFiles, SimilaritySearch, TextSearch, CodecZlib, JSON, LinearAlgebra, HypertextLiteral\n",
    "using Downloads: download"
   ]
  },
  {
   "cell_type": "markdown",
   "id": "f3fd994e-6be8-45c8-a0fc-8f05dfcf2636",
   "metadata": {},
   "source": [
    "## Funciones para leer y modelar el corpus"
   ]
  },
  {
   "cell_type": "code",
   "execution_count": 2,
   "id": "d9482f05-8d88-4896-9b9e-646bc1da2abb",
   "metadata": {},
   "outputs": [
    {
     "data": {
      "text/plain": [
       "create_dataset (generic function with 1 method)"
      ]
     },
     "execution_count": 2,
     "metadata": {},
     "output_type": "execute_result"
    }
   ],
   "source": [
    "function parse_corpus(corpusfile)\n",
    "    corpus, labels = String[], String[]\n",
    "    open(corpusfile) do f\n",
    "        for line in eachline(GzipDecompressorStream(f))\n",
    "            r = JSON.parse(line)\n",
    "            push!(labels, r[\"klass\"])\n",
    "            push!(corpus, r[\"text\"])    \n",
    "        end\n",
    "    end\n",
    "    \n",
    "    corpus, labels\n",
    "end\n",
    "\n",
    "function text_model_and_vectors(corpus)\n",
    "    textconfig = TextConfig(group_usr=true, group_url=true, del_diac=true, lc=true, group_num=true, nlist=[1], qlist=[])\n",
    "    model = VectorModel(IdfWeighting(), TfWeighting(), textconfig, corpus)    \n",
    "    vectors = vectorize_corpus(model, textconfig, corpus)\n",
    "\n",
    "    (; textconfig, model, vectors)\n",
    "end\n",
    "\n",
    "function create_dataset(corpusfile)\n",
    "    corpus, labels = parse_corpus(corpusfile)\n",
    "    (; labels, corpus)\n",
    "end"
   ]
  },
  {
   "cell_type": "code",
   "execution_count": 3,
   "id": "1176ef00-1153-4cba-bb89-354d634c857e",
   "metadata": {},
   "outputs": [
    {
     "data": {
      "text/html": [
       "<h1>Cargando el corpus</h1>"
      ],
      "text/plain": [
       "<h1>Cargando el corpus</h1>"
      ]
     },
     "metadata": {},
     "output_type": "display_data"
    },
    {
     "name": "stdout",
     "output_type": "stream",
     "text": [
      "(unique(D.labels), T.model) = ([\"♡\", \"😒\", \"💖\", \"😴\", \"😍\", \"😓\", \"😬\", \"💙\", \"😃\", \"😡\", \"🤓\", \"🙂\", \"❤\", \"😠\", \"😳\", \"😭\", \"👌\", \"🌚\", \"😅\", \"😐\", \"😋\", \"😕\", \"😉\", \"😢\", \"😱\", \"💕\", \"🤣\", \"😪\", \"😎\", \"😏\", \"😻\", \"🤭\", \"💜\", \"🙈\", \"🙏\", \"😥\", \"😀\", \"😤\", \"😩\", \"😘\", \"😊\", \"🙄\", \"🤗\", \"😜\", \"😑\", \"✨\", \"😰\", \"😂\", \"🎶\", \"🙃\", \"🙊\", \"🤤\", \"👏\", \"😁\", \"😞\", \"😣\", \"😌\", \"🤔\", \"♥\", \"💔\", \"👀\", \"😔\", \"😈\", \"😫\"], {VectorModel global_weighting=IdfWeighting(), local_weighting=TfWeighting(), train-voc=42613, train-n=45000, maxoccs=84698})\n"
     ]
    },
    {
     "data": {
      "text/plain": [
       "([\"♡\", \"😒\", \"💖\", \"😴\", \"😍\", \"😓\", \"😬\", \"💙\", \"😃\", \"😡\"  …  \"😞\", \"😣\", \"😌\", \"🤔\", \"♥\", \"💔\", \"👀\", \"😔\", \"😈\", \"😫\"], {VectorModel global_weighting=IdfWeighting(), local_weighting=TfWeighting(), train-voc=42613, train-n=45000, maxoccs=84698})"
      ]
     },
     "execution_count": 3,
     "metadata": {},
     "output_type": "execute_result"
    }
   ],
   "source": [
    "display(@htl \"<h1>Cargando el corpus</h1>\")\n",
    "dbname = \"emojispace.train.json.gz\"\n",
    "dbfile = \"../data/$dbname\"\n",
    "baseurl = \"https://github.com/sadit/TextClassificationTutorial/blob/main/data\"\n",
    "\n",
    "!isfile(dbfile) && download(\"$baseurl/$dbname?raw=true\", dbfile)\n",
    "D = create_dataset(dbfile)\n",
    "T = text_model_and_vectors(D.corpus)\n",
    "\n",
    "@show unique(D.labels), T.model"
   ]
  },
  {
   "cell_type": "markdown",
   "id": "e6ab564f-f90b-4b18-a090-ed3ecb4ec717",
   "metadata": {},
   "source": [
    "### Note que las etiquetas son emojis, que hay 45k ejemplos y un vocabulario de más de 42k tokens. A continuación se construirá el índice invertido usando el paquete <https://github.com/sadit/TextSearch.jl>, claramente, el código solo funcionará con dicha implementación, pero el procedimiento general aplicaría a otras implementaciones."
   ]
  },
  {
   "cell_type": "code",
   "execution_count": 4,
   "id": "cd7ccd91-c1c2-4a04-b792-d38a8c65342a",
   "metadata": {},
   "outputs": [
    {
     "data": {
      "text/plain": [
       "{WeightedInvertedFile vocsize=42613, n=45000}"
      ]
     },
     "execution_count": 4,
     "metadata": {},
     "output_type": "execute_result"
    }
   ],
   "source": [
    "invfile = WeightedInvertedFile(length(T.model.voc))\n",
    "append!(invfile, VectorDatabase(T.vectors))"
   ]
  },
  {
   "cell_type": "code",
   "execution_count": 5,
   "id": "c0f207f2-ed09-4fec-9da6-2ad625c21801",
   "metadata": {},
   "outputs": [
    {
     "data": {
      "text/plain": [
       "search_and_display (generic function with 1 method)"
      ]
     },
     "execution_count": 5,
     "metadata": {},
     "output_type": "execute_result"
    }
   ],
   "source": [
    "function search_and_display(invfile, q, k, D, T)\n",
    "    res = KnnResult(k)\n",
    "    @time search(invfile, vectorize(T.model, T.textconfig, q), res)\n",
    "    L = []\n",
    "    for (i, (id, dist)) in enumerate(res)\n",
    "        dist = round(dist, digits=2)\n",
    "        push!(L, @htl \"\"\"<tr><td>$i</td> <td>$id => $dist</td> <td>$(D.labels[id])</td> <td>$(D.corpus[id])</td> </tr>\"\"\")\n",
    "       # println(i, \" \", id => round(dist, digits=2), \" \", D.labels[i], \" \", D.corpus[id])\n",
    "    end\n",
    "\n",
    "    display(@htl \"\"\"\n",
    "    <h3>Resultados para la consulta \"$q\"</h3>\n",
    "    <table>\n",
    "    $L\n",
    "    </table>\n",
    "    \"\"\")\n",
    "end"
   ]
  },
  {
   "cell_type": "code",
   "execution_count": 6,
   "id": "046760fa-03d2-4bc9-a6cd-418c4f655b43",
   "metadata": {},
   "outputs": [
    {
     "name": "stdout",
     "output_type": "stream",
     "text": [
      "  0.000324 seconds (18 allocations: 3.344 KiB)\n"
     ]
    },
    {
     "data": {
      "text/html": [
       "<h3>Resultados para la consulta \"no importa distancia\"</h3>\n",
       "<table>\n",
       "<tr><td>1</td> <td>35343 => 0.03</td> <td>💕</td> <td>No importa la distancia _emo _usr _url</td> </tr><tr><td>2</td> <td>24815 => 0.38</td> <td>😓</td> <td>Me caga la distancia _emo</td> </tr><tr><td>3</td> <td>37163 => 0.52</td> <td>😃</td> <td>No importa cuando...  _emo _emo _url</td> </tr><tr><td>4</td> <td>36425 => 0.57</td> <td>😑</td> <td>_usr A ti no te importa _emo</td> </tr><tr><td>5</td> <td>1288 => 0.57</td> <td>😥</td> <td>tiempo y distancia, quizás sea eso... _emo</td> </tr>\n",
       "</table>\n"
      ],
      "text/plain": [
       "<h3>Resultados para la consulta \"no importa distancia\"</h3>\n",
       "<table>\n",
       "<tr><td>1</td> <td>35343 => 0.03</td> <td>💕</td> <td>No importa la distancia _emo _usr _url</td> </tr><tr><td>2</td> <td>24815 => 0.38</td> <td>😓</td> <td>Me caga la distancia _emo</td> </tr><tr><td>3</td> <td>37163 => 0.52</td> <td>😃</td> <td>No importa cuando...  _emo _emo _url</td> </tr><tr><td>4</td> <td>36425 => 0.57</td> <td>😑</td> <td>_usr A ti no te importa _emo</td> </tr><tr><td>5</td> <td>1288 => 0.57</td> <td>😥</td> <td>tiempo y distancia, quizás sea eso... _emo</td> </tr>\n",
       "</table>\n"
      ]
     },
     "metadata": {},
     "output_type": "display_data"
    },
    {
     "name": "stdout",
     "output_type": "stream",
     "text": [
      "  0.000256 seconds (19 allocations: 3.359 KiB)\n"
     ]
    },
    {
     "data": {
      "text/html": [
       "<h3>Resultados para la consulta \"cuando nos vemos?\"</h3>\n",
       "<table>\n",
       "<tr><td>1</td> <td>30054 => 0.22</td> <td>😂</td> <td>Nos vemos!! _emo _emo _emo _emo _url</td> </tr><tr><td>2</td> <td>21749 => 0.3</td> <td>😜</td> <td>_usr En la tarde nos vemos _emo _emo _emo</td> </tr><tr><td>3</td> <td>9076 => 0.32</td> <td>😻</td> <td>Nos vemos pronto _usr _usr _emo _emo _url</td> </tr><tr><td>4</td> <td>24169 => 0.43</td> <td>😍</td> <td>_usr Pronto nos vemos hermana _emo _emo</td> </tr><tr><td>5</td> <td>37158 => 0.45</td> <td>😕</td> <td>Apenas van _num días que no nos vemos _emo</td> </tr>\n",
       "</table>\n"
      ],
      "text/plain": [
       "<h3>Resultados para la consulta \"cuando nos vemos?\"</h3>\n",
       "<table>\n",
       "<tr><td>1</td> <td>30054 => 0.22</td> <td>😂</td> <td>Nos vemos!! _emo _emo _emo _emo _url</td> </tr><tr><td>2</td> <td>21749 => 0.3</td> <td>😜</td> <td>_usr En la tarde nos vemos _emo _emo _emo</td> </tr><tr><td>3</td> <td>9076 => 0.32</td> <td>😻</td> <td>Nos vemos pronto _usr _usr _emo _emo _url</td> </tr><tr><td>4</td> <td>24169 => 0.43</td> <td>😍</td> <td>_usr Pronto nos vemos hermana _emo _emo</td> </tr><tr><td>5</td> <td>37158 => 0.45</td> <td>😕</td> <td>Apenas van _num días que no nos vemos _emo</td> </tr>\n",
       "</table>\n"
      ]
     },
     "metadata": {},
     "output_type": "display_data"
    },
    {
     "name": "stdout",
     "output_type": "stream",
     "text": [
      "  0.000137 seconds (18 allocations: 3.328 KiB)\n"
     ]
    },
    {
     "data": {
      "text/html": [
       "<h3>Resultados para la consulta \"feliz cumpleaños?\"</h3>\n",
       "<table>\n",
       "<tr><td>1</td> <td>8772 => 0.09</td> <td>🙊</td> <td>Feliz Cumpleaños _usr _emo _emo _emo _emo _emo</td> </tr><tr><td>2</td> <td>26556 => 0.09</td> <td>❤</td> <td>_usr Feliz Cumpleaños _emo</td> </tr><tr><td>3</td> <td>40229 => 0.09</td> <td>😁</td> <td>Feliz Cumpleaños _emo _emo _usr</td> </tr>\n",
       "</table>\n"
      ],
      "text/plain": [
       "<h3>Resultados para la consulta \"feliz cumpleaños?\"</h3>\n",
       "<table>\n",
       "<tr><td>1</td> <td>8772 => 0.09</td> <td>🙊</td> <td>Feliz Cumpleaños _usr _emo _emo _emo _emo _emo</td> </tr><tr><td>2</td> <td>26556 => 0.09</td> <td>❤</td> <td>_usr Feliz Cumpleaños _emo</td> </tr><tr><td>3</td> <td>40229 => 0.09</td> <td>😁</td> <td>Feliz Cumpleaños _emo _emo _usr</td> </tr>\n",
       "</table>\n"
      ]
     },
     "metadata": {},
     "output_type": "display_data"
    },
    {
     "name": "stdout",
     "output_type": "stream",
     "text": [
      "  0.000037 seconds (17 allocations: 3.172 KiB)\n"
     ]
    },
    {
     "data": {
      "text/html": [
       "<h3>Resultados para la consulta \"ola k ase\"</h3>\n",
       "<table>\n",
       "<tr><td>1</td> <td>43663 => 0.65</td> <td>😎</td> <td>_usr _usr Siempre, todo y todos los días de la semana desde ase muchoooooossss años _emo _emo</td> </tr><tr><td>2</td> <td>23585 => 0.7</td> <td>😤</td> <td>_usr k bueno k tu mizmo lo reconozcAszzzz _emo</td> </tr><tr><td>3</td> <td>38425 => 0.71</td> <td>😃</td> <td>Despertares!! (By OLA) # _emo _emo en Distrito Federal, Mexico _url</td> </tr>\n",
       "</table>\n"
      ],
      "text/plain": [
       "<h3>Resultados para la consulta \"ola k ase\"</h3>\n",
       "<table>\n",
       "<tr><td>1</td> <td>43663 => 0.65</td> <td>😎</td> <td>_usr _usr Siempre, todo y todos los días de la semana desde ase muchoooooossss años _emo _emo</td> </tr><tr><td>2</td> <td>23585 => 0.7</td> <td>😤</td> <td>_usr k bueno k tu mizmo lo reconozcAszzzz _emo</td> </tr><tr><td>3</td> <td>38425 => 0.71</td> <td>😃</td> <td>Despertares!! (By OLA) # _emo _emo en Distrito Federal, Mexico _url</td> </tr>\n",
       "</table>\n"
      ]
     },
     "metadata": {},
     "output_type": "display_data"
    },
    {
     "name": "stdout",
     "output_type": "stream",
     "text": [
      "  0.000170 seconds (17 allocations: 3.266 KiB)\n"
     ]
    },
    {
     "data": {
      "text/html": [
       "<h3>Resultados para la consulta \"mi humilde opinión\"</h3>\n",
       "<table>\n",
       "<tr><td>1</td> <td>2148 => 0.32</td> <td>🙏</td> <td>Bueno, cada quien su vida, ya se, solo es una humilde opinión !! _emo _emo _emo</td> </tr><tr><td>2</td> <td>35818 => 0.51</td> <td>😍</td> <td>_usr es la persona más humilde que conozco _emo</td> </tr><tr><td>3</td> <td>32858 => 0.62</td> <td>🤔</td> <td>_usr Bajo tu opinión fue o no falta? _emo</td> </tr><tr><td>4</td> <td>28393 => 0.62</td> <td>😊</td> <td>Gracias por compartir la información y tu opinión _emo _url</td> </tr><tr><td>5</td> <td>31667 => 0.64</td> <td>😉</td> <td>Cuantos Likes para mi humilde oficina _usr  _emo _emo @ CocoBongo _url</td> </tr><tr><td>6</td> <td>5532 => 0.66</td> <td>🤗</td> <td>Para ser feliz, no escuches la opinión de los demás _emo</td> </tr><tr><td>7</td> <td>12713 => 0.67</td> <td>👏</td> <td>_usr Totalmente de acuerdo contigo en todo. Comparto tu opinión _emo _emo _emo _emo</td> </tr><tr><td>8</td> <td>990 => 0.72</td> <td>😌</td> <td>Tu opinión no me interesa más. No tengo nada que demostrarte, y si piensas lo peor de mi, MEJOR! _emo</td> </tr><tr><td>9</td> <td>39601 => 0.73</td> <td>😑</td> <td>Lo siento pero mi tez humilde no me deja ser guapo y estar bueno, eso sin mencionar la rodilla que me chingue! _emo _emo</td> </tr><tr><td>10</td> <td>11589 => 0.74</td> <td>😃</td> <td>Interesante opinión y espero que sigas escribiendo _usr en mejores espacios  !suerte!! _emo _emo _emo _url</td> </tr>\n",
       "</table>\n"
      ],
      "text/plain": [
       "<h3>Resultados para la consulta \"mi humilde opinión\"</h3>\n",
       "<table>\n",
       "<tr><td>1</td> <td>2148 => 0.32</td> <td>🙏</td> <td>Bueno, cada quien su vida, ya se, solo es una humilde opinión !! _emo _emo _emo</td> </tr><tr><td>2</td> <td>35818 => 0.51</td> <td>😍</td> <td>_usr es la persona más humilde que conozco _emo</td> </tr><tr><td>3</td> <td>32858 => 0.62</td> <td>🤔</td> <td>_usr Bajo tu opinión fue o no falta? _emo</td> </tr><tr><td>4</td> <td>28393 => 0.62</td> <td>😊</td> <td>Gracias por compartir la información y tu opinión _emo _url</td> </tr><tr><td>5</td> <td>31667 => 0.64</td> <td>😉</td> <td>Cuantos Likes para mi humilde oficina _usr  _emo _emo @ CocoBongo _url</td> </tr><tr><td>6</td> <td>5532 => 0.66</td> <td>🤗</td> <td>Para ser feliz, no escuches la opinión de los demás _emo</td> </tr><tr><td>7</td> <td>12713 => 0.67</td> <td>👏</td> <td>_usr Totalmente de acuerdo contigo en todo. Comparto tu opinión _emo _emo _emo _emo</td> </tr><tr><td>8</td> <td>990 => 0.72</td> <td>😌</td> <td>Tu opinión no me interesa más. No tengo nada que demostrarte, y si piensas lo peor de mi, MEJOR! _emo</td> </tr><tr><td>9</td> <td>39601 => 0.73</td> <td>😑</td> <td>Lo siento pero mi tez humilde no me deja ser guapo y estar bueno, eso sin mencionar la rodilla que me chingue! _emo _emo</td> </tr><tr><td>10</td> <td>11589 => 0.74</td> <td>😃</td> <td>Interesante opinión y espero que sigas escribiendo _usr en mejores espacios  !suerte!! _emo _emo _emo _url</td> </tr>\n",
       "</table>\n"
      ]
     },
     "metadata": {},
     "output_type": "display_data"
    }
   ],
   "source": [
    "search_and_display(invfile, \"no importa distancia\", 5, D, T)\n",
    "search_and_display(invfile, \"cuando nos vemos?\", 5, D, T)\n",
    "search_and_display(invfile, \"feliz cumpleaños?\", 3, D, T)\n",
    "search_and_display(invfile, \"ola k ase\", 3, D, T)\n",
    "search_and_display(invfile, \"mi humilde opinión\", 10, D, T)"
   ]
  },
  {
   "cell_type": "markdown",
   "id": "33ad823b-70c0-447d-bfe0-8a920525ca12",
   "metadata": {},
   "source": [
    "### También es posible consultar elementos del mismo corpus, lo cual permité inspeccionar la estructura interna de la colección. Esto será de utilidad más adelante en el curso."
   ]
  },
  {
   "cell_type": "code",
   "execution_count": 7,
   "id": "bde30ad5-8c2d-4622-b0c2-994802b64e9d",
   "metadata": {},
   "outputs": [
    {
     "name": "stdout",
     "output_type": "stream",
     "text": [
      "  0.001901 seconds (35 allocations: 4.578 KiB)\n"
     ]
    },
    {
     "data": {
      "text/html": [
       "<h3>Resultados para la consulta \"Qué rollo con algunas niñas de segundo que son bien _emo _emo\"</h3>\n",
       "<table>\n",
       "<tr><td>1</td> <td>4820 => -0.0</td> <td>😳</td> <td>Qué rollo con algunas niñas de segundo que son bien _emo _emo</td> </tr><tr><td>2</td> <td>24916 => 0.5</td> <td>😓</td> <td>Que rollo _emo</td> </tr><tr><td>3</td> <td>19943 => 0.51</td> <td>😰</td> <td>Que rollo. _emo _emo</td> </tr><tr><td>4</td> <td>26203 => 0.55</td> <td>🤭</td> <td>Son bien cool niñas _emo</td> </tr><tr><td>5</td> <td>28020 => 0.61</td> <td>🤤</td> <td>Qué rollo con lo guapo que está _emo</td> </tr><tr><td>6</td> <td>5071 => 0.61</td> <td>😳</td> <td>Qué rollo con mis sueños _emo</td> </tr><tr><td>7</td> <td>16162 => 0.7</td> <td>👀</td> <td>Que rollo con mis momentos cursis _emo</td> </tr>\n",
       "</table>\n"
      ],
      "text/plain": [
       "<h3>Resultados para la consulta \"Qué rollo con algunas niñas de segundo que son bien _emo _emo\"</h3>\n",
       "<table>\n",
       "<tr><td>1</td> <td>4820 => -0.0</td> <td>😳</td> <td>Qué rollo con algunas niñas de segundo que son bien _emo _emo</td> </tr><tr><td>2</td> <td>24916 => 0.5</td> <td>😓</td> <td>Que rollo _emo</td> </tr><tr><td>3</td> <td>19943 => 0.51</td> <td>😰</td> <td>Que rollo. _emo _emo</td> </tr><tr><td>4</td> <td>26203 => 0.55</td> <td>🤭</td> <td>Son bien cool niñas _emo</td> </tr><tr><td>5</td> <td>28020 => 0.61</td> <td>🤤</td> <td>Qué rollo con lo guapo que está _emo</td> </tr><tr><td>6</td> <td>5071 => 0.61</td> <td>😳</td> <td>Qué rollo con mis sueños _emo</td> </tr><tr><td>7</td> <td>16162 => 0.7</td> <td>👀</td> <td>Que rollo con mis momentos cursis _emo</td> </tr>\n",
       "</table>\n"
      ]
     },
     "metadata": {},
     "output_type": "display_data"
    },
    {
     "name": "stdout",
     "output_type": "stream",
     "text": [
      "  0.005880 seconds (53 allocations: 6.688 KiB)\n"
     ]
    },
    {
     "data": {
      "text/html": [
       "<h3>Resultados para la consulta \"_usr a mi no me queda de otra soy PCD y sin carro no voy a trabajar... _emo _emo\"</h3>\n",
       "<table>\n",
       "<tr><td>1</td> <td>17985 => -0.0</td> <td>😞</td> <td>_usr a mi no me queda de otra soy PCD y sin carro no voy a trabajar... _emo _emo</td> </tr><tr><td>2</td> <td>13563 => 0.61</td> <td>😣</td> <td>Ya voy a trabajar _emo</td> </tr><tr><td>3</td> <td>33267 => 0.69</td> <td>🙃</td> <td>Necesito trabajar otra vez _emo</td> </tr><tr><td>4</td> <td>14559 => 0.71</td> <td>😫</td> <td>No quiero ir a trabajar _emo _emo _emo _emo</td> </tr><tr><td>5</td> <td>24556 => 0.71</td> <td>🙊</td> <td>O a trabajar _emo _url</td> </tr><tr><td>6</td> <td>10944 => 0.73</td> <td>😔</td> <td>Quiero TRABAJAR _emo</td> </tr><tr><td>7</td> <td>13382 => 0.74</td> <td>🤤</td> <td>Sin palabras, solo queda reproducirlo una y otra vez más.. _emo _url</td> </tr>\n",
       "</table>\n"
      ],
      "text/plain": [
       "<h3>Resultados para la consulta \"_usr a mi no me queda de otra soy PCD y sin carro no voy a trabajar... _emo _emo\"</h3>\n",
       "<table>\n",
       "<tr><td>1</td> <td>17985 => -0.0</td> <td>😞</td> <td>_usr a mi no me queda de otra soy PCD y sin carro no voy a trabajar... _emo _emo</td> </tr><tr><td>2</td> <td>13563 => 0.61</td> <td>😣</td> <td>Ya voy a trabajar _emo</td> </tr><tr><td>3</td> <td>33267 => 0.69</td> <td>🙃</td> <td>Necesito trabajar otra vez _emo</td> </tr><tr><td>4</td> <td>14559 => 0.71</td> <td>😫</td> <td>No quiero ir a trabajar _emo _emo _emo _emo</td> </tr><tr><td>5</td> <td>24556 => 0.71</td> <td>🙊</td> <td>O a trabajar _emo _url</td> </tr><tr><td>6</td> <td>10944 => 0.73</td> <td>😔</td> <td>Quiero TRABAJAR _emo</td> </tr><tr><td>7</td> <td>13382 => 0.74</td> <td>🤤</td> <td>Sin palabras, solo queda reproducirlo una y otra vez más.. _emo _url</td> </tr>\n",
       "</table>\n"
      ]
     },
     "metadata": {},
     "output_type": "display_data"
    },
    {
     "name": "stdout",
     "output_type": "stream",
     "text": [
      "  0.000840 seconds (23 allocations: 3.578 KiB)\n"
     ]
    },
    {
     "data": {
      "text/html": [
       "<h3>Resultados para la consulta \"Extraño a mi friend! _emo\"</h3>\n",
       "<table>\n",
       "<tr><td>1</td> <td>34699 => 0.0</td> <td>😰</td> <td>Extraño a mi friend! _emo</td> </tr><tr><td>2</td> <td>26955 => 0.51</td> <td>😣</td> <td>Me extraño ! _emo</td> </tr><tr><td>3</td> <td>8114 => 0.53</td> <td>😢</td> <td>Extraño a mi _num _emo</td> </tr><tr><td>4</td> <td>29285 => 0.54</td> <td>😊</td> <td>_usr _usr voy contigo friend.! _emo _emo _emo _emo _emo _emo _emo noches buenas.</td> </tr><tr><td>5</td> <td>11544 => 0.54</td> <td>😔</td> <td>_usr Te Extraño! _emo</td> </tr><tr><td>6</td> <td>15815 => 0.59</td> <td>😔</td> <td>Te extraño _emo</td> </tr><tr><td>7</td> <td>31404 => 0.59</td> <td>😕</td> <td>_usr jamás my friend aunque me tengas olvidada _emo</td> </tr>\n",
       "</table>\n"
      ],
      "text/plain": [
       "<h3>Resultados para la consulta \"Extraño a mi friend! _emo\"</h3>\n",
       "<table>\n",
       "<tr><td>1</td> <td>34699 => 0.0</td> <td>😰</td> <td>Extraño a mi friend! _emo</td> </tr><tr><td>2</td> <td>26955 => 0.51</td> <td>😣</td> <td>Me extraño ! _emo</td> </tr><tr><td>3</td> <td>8114 => 0.53</td> <td>😢</td> <td>Extraño a mi _num _emo</td> </tr><tr><td>4</td> <td>29285 => 0.54</td> <td>😊</td> <td>_usr _usr voy contigo friend.! _emo _emo _emo _emo _emo _emo _emo noches buenas.</td> </tr><tr><td>5</td> <td>11544 => 0.54</td> <td>😔</td> <td>_usr Te Extraño! _emo</td> </tr><tr><td>6</td> <td>15815 => 0.59</td> <td>😔</td> <td>Te extraño _emo</td> </tr><tr><td>7</td> <td>31404 => 0.59</td> <td>😕</td> <td>_usr jamás my friend aunque me tengas olvidada _emo</td> </tr>\n",
       "</table>\n"
      ]
     },
     "metadata": {},
     "output_type": "display_data"
    },
    {
     "name": "stdout",
     "output_type": "stream",
     "text": [
      "  0.001243 seconds (25 allocations: 3.797 KiB)\n"
     ]
    },
    {
     "data": {
      "text/html": [
       "<h3>Resultados para la consulta \"_usr a ver enséñame los demás _emo\"</h3>\n",
       "<table>\n",
       "<tr><td>1</td> <td>29220 => 0.0</td> <td>😏</td> <td>_usr a ver enséñame los demás _emo</td> </tr><tr><td>2</td> <td>1655 => 0.55</td> <td>🤣</td> <td>_usr _usr A mi también enséñame a hacerlo posoye _emo _emo _emo _emo _emo _emo _url</td> </tr><tr><td>3</td> <td>39962 => 0.58</td> <td>😏</td> <td>Regalame tu risa, enseñame a volar! _emo _url</td> </tr><tr><td>4</td> <td>19727 => 0.63</td> <td>😓</td> <td>Por qué con el todo lo que con los demás nunca _emo</td> </tr><tr><td>5</td> <td>33825 => 0.71</td> <td>😀</td> <td>Que padre conocer a la demás Familia _emo</td> </tr><tr><td>6</td> <td>44354 => 0.71</td> <td>👀</td> <td>_usr A ver lo _emo</td> </tr><tr><td>7</td> <td>2562 => 0.72</td> <td>😠</td> <td>_usr y los que no abren la conversación y le contestan a los demás _emo</td> </tr>\n",
       "</table>\n"
      ],
      "text/plain": [
       "<h3>Resultados para la consulta \"_usr a ver enséñame los demás _emo\"</h3>\n",
       "<table>\n",
       "<tr><td>1</td> <td>29220 => 0.0</td> <td>😏</td> <td>_usr a ver enséñame los demás _emo</td> </tr><tr><td>2</td> <td>1655 => 0.55</td> <td>🤣</td> <td>_usr _usr A mi también enséñame a hacerlo posoye _emo _emo _emo _emo _emo _emo _url</td> </tr><tr><td>3</td> <td>39962 => 0.58</td> <td>😏</td> <td>Regalame tu risa, enseñame a volar! _emo _url</td> </tr><tr><td>4</td> <td>19727 => 0.63</td> <td>😓</td> <td>Por qué con el todo lo que con los demás nunca _emo</td> </tr><tr><td>5</td> <td>33825 => 0.71</td> <td>😀</td> <td>Que padre conocer a la demás Familia _emo</td> </tr><tr><td>6</td> <td>44354 => 0.71</td> <td>👀</td> <td>_usr A ver lo _emo</td> </tr><tr><td>7</td> <td>2562 => 0.72</td> <td>😠</td> <td>_usr y los que no abren la conversación y le contestan a los demás _emo</td> </tr>\n",
       "</table>\n"
      ]
     },
     "metadata": {},
     "output_type": "display_data"
    },
    {
     "name": "stdout",
     "output_type": "stream",
     "text": [
      "  0.002421 seconds (37 allocations: 4.734 KiB)\n"
     ]
    },
    {
     "data": {
      "text/html": [
       "<h3>Resultados para la consulta \"Que bonito se siente tomar una súper siesta después de mucho tiempo _emo\"</h3>\n",
       "<table>\n",
       "<tr><td>1</td> <td>33637 => -0.0</td> <td>🤤</td> <td>Que bonito se siente tomar una súper siesta después de mucho tiempo _emo</td> </tr><tr><td>2</td> <td>6023 => 0.53</td> <td>😴</td> <td>Ya se me volvió una necesidad tomar una siesta _emo</td> </tr><tr><td>3</td> <td>24879 => 0.53</td> <td>😴</td> <td>Necesito una siesta _emo</td> </tr><tr><td>4</td> <td>24980 => 0.55</td> <td>💜</td> <td>Y se siente bien bonito _emo _emo _emo _url</td> </tr><tr><td>5</td> <td>25437 => 0.57</td> <td>🙂</td> <td>Que buena siesta _emo</td> </tr><tr><td>6</td> <td>43427 => 0.61</td> <td>🙃</td> <td>Que rico se siente tomar agua. _emo _emo _emo _emo</td> </tr><tr><td>7</td> <td>38188 => 0.65</td> <td>😊</td> <td>Una siesta antes del gran momento! _emo</td> </tr>\n",
       "</table>\n"
      ],
      "text/plain": [
       "<h3>Resultados para la consulta \"Que bonito se siente tomar una súper siesta después de mucho tiempo _emo\"</h3>\n",
       "<table>\n",
       "<tr><td>1</td> <td>33637 => -0.0</td> <td>🤤</td> <td>Que bonito se siente tomar una súper siesta después de mucho tiempo _emo</td> </tr><tr><td>2</td> <td>6023 => 0.53</td> <td>😴</td> <td>Ya se me volvió una necesidad tomar una siesta _emo</td> </tr><tr><td>3</td> <td>24879 => 0.53</td> <td>😴</td> <td>Necesito una siesta _emo</td> </tr><tr><td>4</td> <td>24980 => 0.55</td> <td>💜</td> <td>Y se siente bien bonito _emo _emo _emo _url</td> </tr><tr><td>5</td> <td>25437 => 0.57</td> <td>🙂</td> <td>Que buena siesta _emo</td> </tr><tr><td>6</td> <td>43427 => 0.61</td> <td>🙃</td> <td>Que rico se siente tomar agua. _emo _emo _emo _emo</td> </tr><tr><td>7</td> <td>38188 => 0.65</td> <td>😊</td> <td>Una siesta antes del gran momento! _emo</td> </tr>\n",
       "</table>\n"
      ]
     },
     "metadata": {},
     "output_type": "display_data"
    },
    {
     "name": "stdout",
     "output_type": "stream",
     "text": [
      "  0.011425 seconds (92 allocations: 8.516 KiB)\n"
     ]
    },
    {
     "data": {
      "text/html": [
       "<h3>Resultados para la consulta \"Me puse a buscar algunas fotos viejas, encontré muchísimas _emo _emo _emoFeliz cumpleaños _emo _emo _emo _usr #_numCumpleaños me haz dejado estar contigo y #festejarte (a ti que no te gusta hacerlo). Las… _url\"</h3>\n",
       "<table>\n",
       "<tr><td>1</td> <td>16863 => 0.0</td> <td>😅</td> <td>Me puse a buscar algunas fotos viejas, encontré muchísimas _emo _emo _emoFeliz cumpleaños _emo _emo _emo _usr #_numCumpleaños me haz dejado estar contigo y #festejarte (a ti que no te gusta hacerlo). Las… _url</td> </tr><tr><td>2</td> <td>2204 => 0.79</td> <td>🤗</td> <td>_usr Muchísimas gracias _emo</td> </tr><tr><td>3</td> <td>43217 => 0.79</td> <td>🤗</td> <td>_usr Muchísimas gracias _emo _emo _emo</td> </tr><tr><td>4</td> <td>29063 => 0.81</td> <td>💖</td> <td>Todo me gusta de ti. _emo</td> </tr><tr><td>5</td> <td>35731 => 0.81</td> <td>🙈</td> <td>_usr Muchísimas gracias!! _emo</td> </tr><tr><td>6</td> <td>22208 => 0.82</td> <td>🤗</td> <td>_usr _usr ¡Muchísimas gracias! _emo</td> </tr><tr><td>7</td> <td>30253 => 0.82</td> <td>😀</td> <td>_usr haz una en Monterrey _emo</td> </tr>\n",
       "</table>\n"
      ],
      "text/plain": [
       "<h3>Resultados para la consulta \"Me puse a buscar algunas fotos viejas, encontré muchísimas _emo _emo _emoFeliz cumpleaños _emo _emo _emo _usr #_numCumpleaños me haz dejado estar contigo y #festejarte (a ti que no te gusta hacerlo). Las… _url\"</h3>\n",
       "<table>\n",
       "<tr><td>1</td> <td>16863 => 0.0</td> <td>😅</td> <td>Me puse a buscar algunas fotos viejas, encontré muchísimas _emo _emo _emoFeliz cumpleaños _emo _emo _emo _usr #_numCumpleaños me haz dejado estar contigo y #festejarte (a ti que no te gusta hacerlo). Las… _url</td> </tr><tr><td>2</td> <td>2204 => 0.79</td> <td>🤗</td> <td>_usr Muchísimas gracias _emo</td> </tr><tr><td>3</td> <td>43217 => 0.79</td> <td>🤗</td> <td>_usr Muchísimas gracias _emo _emo _emo</td> </tr><tr><td>4</td> <td>29063 => 0.81</td> <td>💖</td> <td>Todo me gusta de ti. _emo</td> </tr><tr><td>5</td> <td>35731 => 0.81</td> <td>🙈</td> <td>_usr Muchísimas gracias!! _emo</td> </tr><tr><td>6</td> <td>22208 => 0.82</td> <td>🤗</td> <td>_usr _usr ¡Muchísimas gracias! _emo</td> </tr><tr><td>7</td> <td>30253 => 0.82</td> <td>😀</td> <td>_usr haz una en Monterrey _emo</td> </tr>\n",
       "</table>\n"
      ]
     },
     "metadata": {},
     "output_type": "display_data"
    },
    {
     "name": "stdout",
     "output_type": "stream",
     "text": [
      "  0.004263 seconds (45 allocations: 5.062 KiB)\n"
     ]
    },
    {
     "data": {
      "text/html": [
       "<h3>Resultados para la consulta \"Pa _usr ¿Ya le subiste al mame de &quot;me enjotece&quot; en facebook? _emo\"</h3>\n",
       "<table>\n",
       "<tr><td>1</td> <td>17738 => -0.0</td> <td>😜</td> <td>Pa _usr ¿Ya le subiste al mame de &quot;me enjotece&quot; en facebook? _emo</td> </tr><tr><td>2</td> <td>26054 => 0.64</td> <td>😩</td> <td>¿Qué le pasa a mi Facebook? _emo _emo _emo</td> </tr><tr><td>3</td> <td>26573 => 0.7</td> <td>👀</td> <td>_usr ¿qué le pasó a tu página en Facebook? _emo</td> </tr><tr><td>4</td> <td>36493 => 0.7</td> <td>🙄</td> <td>Mi roomie como Facebook, apenas le llegó el mame de #LadyHeraclia. _emo</td> </tr><tr><td>5</td> <td>20455 => 0.7</td> <td>😪</td> <td>Aaaaay pero bien que están ahí mame y mame _emo</td> </tr><tr><td>6</td> <td>44498 => 0.74</td> <td>🤔</td> <td>_usr Cómo pa cuando? _emo</td> </tr><tr><td>7</td> <td>12342 => 0.74</td> <td>😂</td> <td>Este mame es demasiado bueno _emo _url</td> </tr>\n",
       "</table>\n"
      ],
      "text/plain": [
       "<h3>Resultados para la consulta \"Pa _usr ¿Ya le subiste al mame de &quot;me enjotece&quot; en facebook? _emo\"</h3>\n",
       "<table>\n",
       "<tr><td>1</td> <td>17738 => -0.0</td> <td>😜</td> <td>Pa _usr ¿Ya le subiste al mame de &quot;me enjotece&quot; en facebook? _emo</td> </tr><tr><td>2</td> <td>26054 => 0.64</td> <td>😩</td> <td>¿Qué le pasa a mi Facebook? _emo _emo _emo</td> </tr><tr><td>3</td> <td>26573 => 0.7</td> <td>👀</td> <td>_usr ¿qué le pasó a tu página en Facebook? _emo</td> </tr><tr><td>4</td> <td>36493 => 0.7</td> <td>🙄</td> <td>Mi roomie como Facebook, apenas le llegó el mame de #LadyHeraclia. _emo</td> </tr><tr><td>5</td> <td>20455 => 0.7</td> <td>😪</td> <td>Aaaaay pero bien que están ahí mame y mame _emo</td> </tr><tr><td>6</td> <td>44498 => 0.74</td> <td>🤔</td> <td>_usr Cómo pa cuando? _emo</td> </tr><tr><td>7</td> <td>12342 => 0.74</td> <td>😂</td> <td>Este mame es demasiado bueno _emo _url</td> </tr>\n",
       "</table>\n"
      ]
     },
     "metadata": {},
     "output_type": "display_data"
    },
    {
     "name": "stdout",
     "output_type": "stream",
     "text": [
      "  0.006943 seconds (78 allocations: 7.594 KiB)\n"
     ]
    },
    {
     "data": {
      "text/html": [
       "<h3>Resultados para la consulta \"_usr _usr _usr _usr Voy a utilizar tus “tweets” para poner ejemplos a la clase de cómo puedes evidenciar tu ignorancia inventando y escribiendo tonterías! Gracias ! _emo\"</h3>\n",
       "<table>\n",
       "<tr><td>1</td> <td>19699 => -0.0</td> <td>🤤</td> <td>_usr _usr _usr _usr Voy a utilizar tus “tweets” para poner ejemplos a la clase de cómo puedes evidenciar tu ignorancia inventando y escribiendo tonterías! Gracias ! _emo</td> </tr><tr><td>2</td> <td>7195 => 0.77</td> <td>😘</td> <td>Las mamás en WhatsApp:  escribiendo... escribiendo... escribiendo... escribiendo... escribiendo... escribiendo...  - Mete   sla ro.pa _emo</td> </tr><tr><td>3</td> <td>29113 => 0.78</td> <td>🌚</td> <td>_usr _usr Gracias! _emo _emo</td> </tr><tr><td>4</td> <td>28143 => 0.79</td> <td>🤗</td> <td>_usr Gracias! _emo _emo</td> </tr><tr><td>5</td> <td>30175 => 0.79</td> <td>🙏</td> <td>_usr gracias! _emo</td> </tr><tr><td>6</td> <td>36749 => 0.79</td> <td>😀</td> <td>_usr gracias! _emo</td> </tr><tr><td>7</td> <td>14085 => 0.8</td> <td>🤗</td> <td>_usr _usr _usr Más como tú! _emo</td> </tr>\n",
       "</table>\n"
      ],
      "text/plain": [
       "<h3>Resultados para la consulta \"_usr _usr _usr _usr Voy a utilizar tus “tweets” para poner ejemplos a la clase de cómo puedes evidenciar tu ignorancia inventando y escribiendo tonterías! Gracias ! _emo\"</h3>\n",
       "<table>\n",
       "<tr><td>1</td> <td>19699 => -0.0</td> <td>🤤</td> <td>_usr _usr _usr _usr Voy a utilizar tus “tweets” para poner ejemplos a la clase de cómo puedes evidenciar tu ignorancia inventando y escribiendo tonterías! Gracias ! _emo</td> </tr><tr><td>2</td> <td>7195 => 0.77</td> <td>😘</td> <td>Las mamás en WhatsApp:  escribiendo... escribiendo... escribiendo... escribiendo... escribiendo... escribiendo...  - Mete   sla ro.pa _emo</td> </tr><tr><td>3</td> <td>29113 => 0.78</td> <td>🌚</td> <td>_usr _usr Gracias! _emo _emo</td> </tr><tr><td>4</td> <td>28143 => 0.79</td> <td>🤗</td> <td>_usr Gracias! _emo _emo</td> </tr><tr><td>5</td> <td>30175 => 0.79</td> <td>🙏</td> <td>_usr gracias! _emo</td> </tr><tr><td>6</td> <td>36749 => 0.79</td> <td>😀</td> <td>_usr gracias! _emo</td> </tr><tr><td>7</td> <td>14085 => 0.8</td> <td>🤗</td> <td>_usr _usr _usr Más como tú! _emo</td> </tr>\n",
       "</table>\n"
      ]
     },
     "metadata": {},
     "output_type": "display_data"
    },
    {
     "name": "stdout",
     "output_type": "stream",
     "text": [
      "  0.005243 seconds (56 allocations: 6.000 KiB)\n"
     ]
    },
    {
     "data": {
      "text/html": [
       "<h3>Resultados para la consulta \"Para los que viven en Solidaridad ni salgan ... así la contaminación _emo Muy mala calidad del aire _emo #Monterrey _url\"</h3>\n",
       "<table>\n",
       "<tr><td>1</td> <td>8429 => -0.0</td> <td>😡</td> <td>Para los que viven en Solidaridad ni salgan ... así la contaminación _emo Muy mala calidad del aire _emo #Monterrey _url</td> </tr><tr><td>2</td> <td>6596 => 0.73</td> <td>😅</td> <td>Cómo viven con eso? _emo _url</td> </tr><tr><td>3</td> <td>34252 => 0.73</td> <td>😔</td> <td>_usr soy muy mala _emo _url</td> </tr><tr><td>4</td> <td>20336 => 0.76</td> <td>💔</td> <td>Yo pensaba que no podía existir algo más sucio y marrano que mi ex, hasta que vi la contaminación de #Monterrey _emo _url</td> </tr><tr><td>5</td> <td>33901 => 0.77</td> <td>😳</td> <td>Ya quiero llegar #monterrey _emo</td> </tr><tr><td>6</td> <td>4751 => 0.78</td> <td>🙏</td> <td>En calidad de URGENCIA _emo _emo _url</td> </tr><tr><td>7</td> <td>44933 => 0.78</td> <td>😭</td> <td>Que mala soy _emo _emo</td> </tr>\n",
       "</table>\n"
      ],
      "text/plain": [
       "<h3>Resultados para la consulta \"Para los que viven en Solidaridad ni salgan ... así la contaminación _emo Muy mala calidad del aire _emo #Monterrey _url\"</h3>\n",
       "<table>\n",
       "<tr><td>1</td> <td>8429 => -0.0</td> <td>😡</td> <td>Para los que viven en Solidaridad ni salgan ... así la contaminación _emo Muy mala calidad del aire _emo #Monterrey _url</td> </tr><tr><td>2</td> <td>6596 => 0.73</td> <td>😅</td> <td>Cómo viven con eso? _emo _url</td> </tr><tr><td>3</td> <td>34252 => 0.73</td> <td>😔</td> <td>_usr soy muy mala _emo _url</td> </tr><tr><td>4</td> <td>20336 => 0.76</td> <td>💔</td> <td>Yo pensaba que no podía existir algo más sucio y marrano que mi ex, hasta que vi la contaminación de #Monterrey _emo _url</td> </tr><tr><td>5</td> <td>33901 => 0.77</td> <td>😳</td> <td>Ya quiero llegar #monterrey _emo</td> </tr><tr><td>6</td> <td>4751 => 0.78</td> <td>🙏</td> <td>En calidad de URGENCIA _emo _emo _url</td> </tr><tr><td>7</td> <td>44933 => 0.78</td> <td>😭</td> <td>Que mala soy _emo _emo</td> </tr>\n",
       "</table>\n"
      ]
     },
     "metadata": {},
     "output_type": "display_data"
    },
    {
     "name": "stdout",
     "output_type": "stream",
     "text": [
      "  0.005058 seconds (57 allocations: 5.953 KiB)\n"
     ]
    },
    {
     "data": {
      "text/html": [
       "<h3>Resultados para la consulta \"_usr Pues Don cangrejo muy educado Ale, ¿tú también le diste las buenas noches?. Besito de buenas noches _emo.\"</h3>\n",
       "<table>\n",
       "<tr><td>1</td> <td>29819 => -0.0</td> <td>😘</td> <td>_usr Pues Don cangrejo muy educado Ale, ¿tú también le diste las buenas noches?. Besito de buenas noches _emo.</td> </tr><tr><td>2</td> <td>10562 => 0.48</td> <td>🌚</td> <td>Noches buenas. _emo</td> </tr><tr><td>3</td> <td>32639 => 0.48</td> <td>✨</td> <td>Buenas noches. _emo</td> </tr><tr><td>4</td> <td>6771 => 0.48</td> <td>💜</td> <td>_usr Buenas noches _emo</td> </tr><tr><td>5</td> <td>8861 => 0.48</td> <td>😴</td> <td>_usr Buenas noches _emo</td> </tr><tr><td>6</td> <td>11397 => 0.48</td> <td>♡</td> <td>_usr Buenas noches _emo</td> </tr><tr><td>7</td> <td>6485 => 0.48</td> <td>😴</td> <td>Buenas noches _emo</td> </tr>\n",
       "</table>\n"
      ],
      "text/plain": [
       "<h3>Resultados para la consulta \"_usr Pues Don cangrejo muy educado Ale, ¿tú también le diste las buenas noches?. Besito de buenas noches _emo.\"</h3>\n",
       "<table>\n",
       "<tr><td>1</td> <td>29819 => -0.0</td> <td>😘</td> <td>_usr Pues Don cangrejo muy educado Ale, ¿tú también le diste las buenas noches?. Besito de buenas noches _emo.</td> </tr><tr><td>2</td> <td>10562 => 0.48</td> <td>🌚</td> <td>Noches buenas. _emo</td> </tr><tr><td>3</td> <td>32639 => 0.48</td> <td>✨</td> <td>Buenas noches. _emo</td> </tr><tr><td>4</td> <td>6771 => 0.48</td> <td>💜</td> <td>_usr Buenas noches _emo</td> </tr><tr><td>5</td> <td>8861 => 0.48</td> <td>😴</td> <td>_usr Buenas noches _emo</td> </tr><tr><td>6</td> <td>11397 => 0.48</td> <td>♡</td> <td>_usr Buenas noches _emo</td> </tr><tr><td>7</td> <td>6485 => 0.48</td> <td>😴</td> <td>Buenas noches _emo</td> </tr>\n",
       "</table>\n"
      ]
     },
     "metadata": {},
     "output_type": "display_data"
    }
   ],
   "source": [
    "for i in 1:10\n",
    "    qID = rand(1:length(D.corpus))\n",
    "    search_and_display(invfile, D.corpus[qID], 7, D, T)\n",
    "end"
   ]
  },
  {
   "cell_type": "markdown",
   "id": "5403b789-c8d3-4a86-957d-e7500efefe9d",
   "metadata": {},
   "source": [
    "# Actividades\n",
    "\n",
    "- Revisión de los servicios y empresas mencionados \n",
    "- Revisión de los proyectos open source mencionados\n",
    "- Cargue este notebook y modifique las consultas (necesita Jupyter y el kernel de Julia <https://github.com/JuliaLang/IJulia.jl>)\n",
    "- Revise la bibliografía sobre recuperación de información, en especial [^SMR2008] se encuentra libre desde <https://nlp.stanford.edu/IR-book/pdf/irbookonlinereading.pdf>"
   ]
  },
  {
   "cell_type": "markdown",
   "id": "f558a317-b84c-45b2-a185-36af24741ace",
   "metadata": {},
   "source": [
    "# Bibliografía\n",
    "- [SMR2008] Schütze, H., Manning, C. D., & Raghavan, P. (2008). Introduction to information retrieval (Vol. 39, pp. 234-65). Cambridge: Cambridge University Press.\n",
    "- [BYN1999] Baeza-Yates, R., & Ribeiro-Neto, B. (1999). Modern information retrieval (Vol. 463). New York: ACM press."
   ]
  }
 ],
 "metadata": {
  "kernelspec": {
   "display_name": "Julia 1.7.2",
   "language": "julia",
   "name": "julia-1.7"
  },
  "language_info": {
   "file_extension": ".jl",
   "mimetype": "application/julia",
   "name": "julia",
   "version": "1.7.2"
  }
 },
 "nbformat": 4,
 "nbformat_minor": 5
}
