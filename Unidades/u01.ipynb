{
 "cells": [
  {
   "cell_type": "markdown",
   "id": "b606b63e-967d-4d4d-85e4-e02a32020425",
   "metadata": {},
   "source": [
    "# Introducción a la recuperación de información\n",
    "Autor: Eric S. Tellez <eric.tellez@infotec.mx><br/>\n",
    "\n",
    "La recuperación de información se crea a partir de la necesidad de simplificar el acceso y revisión de documentos en grandes colecciones. Estas colecciones pueden ser homogeneas o heterogeneas, tanto en su contenido como en su formato. En su inicio, se consideraban colecciones unicamente de texto pero las necesidades de información se han diversificado, y ahora es común encontrar sistemas de recuperación de información sobre otros datos como imagenes o videos, o include multimodales, esto es que puedan usar diferentes tipos de objetos. Un objeto puede ser un documento de texto, una imagen, o cualquier otro tipo de datos que se desee tener acceso. \n",
    "\n",
    "Mantener un sistema de información homogeneo puede simplificar su mantenimiento enormemente, por lo que si es posible, se puede intentar mantener cierta homegeneidad. Para sistemas de fuentes abiertas como puede ser la web, esto será posible.\n",
    "\n",
    "En general, se puede ver un sistema de recuperación de información en tres grandes partes:\n",
    "\n",
    "1. Recolección de datos, normalización y modelado matemático.\n",
    "2. Indexamiento, interpretación de consultas y optimización\n",
    "3. Agregación y filtrado de resultados, presentación de los mismos\n",
    "\n",
    "\n",
    "En este curso se visitarán parcialmente todas estas partes. En general se usaran conjuntos de datos previamente recolecados, aunque se invita a usar sus propias colecciones de tal forma que puedan sacar provecho de los temas de manera más amplia. La normalización puede ir desde el simple preprocesamiento de los datos hasta manipulaciones y transformaciones dependientes del dominio. Una vez aplicado el modelado adecuado a las colecciones, las representaciones matemáticas suelen ser vectores de alta dimensión para cada objeto.\n",
    "\n",
    "En cuanto al indexamiento se utilizarán dos tipos de algoritmos, búsqueda mediante índices invertidos y búsqueda por índices métricos. Ambas tienen sus nichos de aplicación y usarlas adecuadamente requiere conocer los problemas y sus modelados.\n",
    "\n",
    "La presentación de los resultados puede ser tan simple como una lista de resultados más relevantes y una pequeña muestra del objeto, o más complejo que requiera alguna técnica de visualización. Todo esto dependerá del dominio de aplicación y la naturaleza del sistema de recuperación de información.\n",
    "\n",
    "\n",
    "# Ejemplos de sistemas de recuperación información\n",
    "\n",
    "- Google,scholar google, google images, google news, youtube...\n",
    "- Bing!\n",
    "- Yahoo search\n",
    "- Yandex\n",
    "- DuckDuckGo\n",
    "- ...\n",
    "\n",
    "También es común que el sistema de recuperación de información no sea el principal producto, si no más bien un complemento imperdible\n",
    "como es el caso de los sistemas de streaming de videos, películas, música, redes sociales, etc.\n",
    "\n",
    "# Ejemplos de implementación de search engines open source\n",
    "- [Apache Lucene](https://lucene.apache.org/)\n",
    "- [Apache SOLR](https://solr.apache.org/)\n",
    "- [ElasticSearch](https://www.elastic.co/es/what-is/elasticsearch)\n",
    "- [hnswlib](https://github.com/nmslib/hnswlib)\n",
    "- [FAISS](https://github.com/facebookresearch/faiss)\n",
    "- [TextSearch.jl](https://github.com/sadit/TextSearch.jl)\n",
    "- [InvertedFiles.jl](https://github.com/sadit/InvertedFiles.jl)\n",
    "- [SimilaritySearch.jl](https://github.com/sadit/SimilaritySearch.jl)\n",
    "\n",
    "\n",
    "# Ejemplo\n",
    "\n",
    "\n",
    "Construcción de un índice de búsqueda para una colección de mensajes de Twitter. Los mensajes se pueden ver como documentos cortos. Se preprocesan y se modalen en vectores mediante un vocabulario. Después se construye el índice con dichos vectores y se hace posible la búsqueda eficiente. Note que existen etiquetas que se pueden usar para otras tareas; de manera más genérica, se pueden ver como metadatos asociados a los elementos del corpus.\n",
    "\n",
    "Nota: La primera vez que se corra este notebook los paquetes necesarios se instalaran de manera automática, es posible que tome un tiempo considerable.\n",
    "\n"
   ]
  },
  {
   "cell_type": "code",
   "execution_count": 1,
   "id": "bb11ca12-b635-45bb-ac02-14523674ded8",
   "metadata": {},
   "outputs": [
    {
     "name": "stderr",
     "output_type": "stream",
     "text": [
      "\u001b[32m\u001b[1m  Activating\u001b[22m\u001b[39m project at `~/IR-2022/Unidades`\n"
     ]
    }
   ],
   "source": [
    "using Pkg\n",
    "Pkg.activate(\".\")\n",
    "\n",
    "using TextSearch, InvertedFiles, SimilaritySearch, TextSearch, CodecZlib, JSON, LinearAlgebra, HypertextLiteral\n",
    "\n",
    "using Downloads: download"
   ]
  },
  {
   "cell_type": "markdown",
   "id": "f3fd994e-6be8-45c8-a0fc-8f05dfcf2636",
   "metadata": {},
   "source": [
    "## Funciones para leer y modelar el corpus"
   ]
  },
  {
   "cell_type": "code",
   "execution_count": 2,
   "id": "d9482f05-8d88-4896-9b9e-646bc1da2abb",
   "metadata": {},
   "outputs": [
    {
     "data": {
      "text/plain": [
       "create_dataset (generic function with 1 method)"
      ]
     },
     "execution_count": 2,
     "metadata": {},
     "output_type": "execute_result"
    }
   ],
   "source": [
    "function parse_corpus(corpusfile)\n",
    "    corpus, labels = String[], String[]\n",
    "    open(corpusfile) do f\n",
    "        for line in eachline(GzipDecompressorStream(f))\n",
    "            r = JSON.parse(line)\n",
    "            push!(labels, r[\"klass\"])\n",
    "            push!(corpus, r[\"text\"])    \n",
    "        end\n",
    "    end\n",
    "    \n",
    "    corpus, labels\n",
    "end\n",
    "\n",
    "function text_model_and_vectors(corpus)\n",
    "    textconfig = TextConfig(group_usr=true, group_url=true, del_diac=true, lc=true, group_num=true, nlist=[1], qlist=[])\n",
    "    model = VectorModel(IdfWeighting(), TfWeighting(), textconfig, corpus)    \n",
    "    vectors = vectorize_corpus(model, textconfig, corpus)\n",
    "    for v in vectors\n",
    "        normalize!(v)\n",
    "    end\n",
    "\n",
    "    (; textconfig, model, vectors)\n",
    "end\n",
    "\n",
    "function create_dataset(corpusfile)\n",
    "    corpus, labels = parse_corpus(corpusfile)\n",
    "    (; labels, corpus, text_model_and_vectors(corpus)...)\n",
    "end"
   ]
  },
  {
   "cell_type": "code",
   "execution_count": 3,
   "id": "1176ef00-1153-4cba-bb89-354d634c857e",
   "metadata": {},
   "outputs": [
    {
     "data": {
      "text/html": [
       "<h1>Cargando el corpus</h1>"
      ],
      "text/plain": [
       "<h1>Cargando el corpus</h1>"
      ]
     },
     "metadata": {},
     "output_type": "display_data"
    },
    {
     "name": "stdout",
     "output_type": "stream",
     "text": [
      "(unique(D.labels), D.model) = ([\"😰\", \"😥\", \"😊\", \"😏\", \"♡\", \"💔\", \"🙂\", \"😋\", \"😌\", \"🌚\", \"👌\", \"😪\", \"😤\", \"🙃\", \"🤤\", \"😴\", \"😢\", \"😅\", \"😑\", \"😠\", \"😂\", \"😜\", \"🤓\", \"💙\", \"😀\", \"🤗\", \"🤣\", \"😒\", \"✨\", \"😐\", \"😞\", \"😁\", \"😱\", \"👏\", \"😫\", \"😍\", \"❤\", \"😣\", \"🙊\", \"🙏\", \"🙄\", \"🤭\", \"💜\", \"🤔\", \"😬\", \"👀\", \"😉\", \"😈\", \"😡\", \"😳\", \"🙈\", \"😻\", \"😔\", \"😓\", \"💕\", \"🎶\", \"😭\", \"😕\", \"♥\", \"💖\", \"😎\", \"😘\", \"😃\", \"😩\"], {VectorModel global_weighting=IdfWeighting(), local_weighting=TfWeighting(), train-voc=45374, train-n=50000, maxoccs=93991})\n"
     ]
    },
    {
     "data": {
      "text/plain": [
       "([\"😰\", \"😥\", \"😊\", \"😏\", \"♡\", \"💔\", \"🙂\", \"😋\", \"😌\", \"🌚\"  …  \"💕\", \"🎶\", \"😭\", \"😕\", \"♥\", \"💖\", \"😎\", \"😘\", \"😃\", \"😩\"], {VectorModel global_weighting=IdfWeighting(), local_weighting=TfWeighting(), train-voc=45374, train-n=50000, maxoccs=93991})"
      ]
     },
     "execution_count": 3,
     "metadata": {},
     "output_type": "execute_result"
    }
   ],
   "source": [
    "display(@htl \"<h1>Cargando el corpus</h1>\")\n",
    "dbname = \"emo50k.json.gz\"\n",
    "dbfile = \"../data/$dbname\"\n",
    "baseurl = \"https://github.com/sadit/TextClassificationTutorial/blob/main/data\"\n",
    "\n",
    "!isfile(dbfile) && download(\"$baseurl/$dbname?raw=true\", dbfile)\n",
    "D = create_dataset(dbfile)\n",
    "\n",
    "@show unique(D.labels), D.model"
   ]
  },
  {
   "cell_type": "markdown",
   "id": "e6ab564f-f90b-4b18-a090-ed3ecb4ec717",
   "metadata": {},
   "source": [
    "### Note que las etiquetas son emojis, que hay 50k ejemplos y un vocabulario de más de 45k tokens. A continuación se construirá el índice invertido usando el paquete <https://github.com/sadit/TextSearch.jl>, claramente, el código solo funcionará con dicha implementación, pero el procedimiento general aplicaría a otras implementaciones."
   ]
  },
  {
   "cell_type": "code",
   "execution_count": 4,
   "id": "cd7ccd91-c1c2-4a04-b792-d38a8c65342a",
   "metadata": {},
   "outputs": [
    {
     "data": {
      "text/plain": [
       "{WeightedInvertedFile vocsize=45374, n=50000}"
      ]
     },
     "execution_count": 4,
     "metadata": {},
     "output_type": "execute_result"
    }
   ],
   "source": [
    "invfile = WeightedInvertedFile(length(D.model.voc))\n",
    "append!(invfile, VectorDatabase(D.vectors))"
   ]
  },
  {
   "cell_type": "code",
   "execution_count": 5,
   "id": "c0f207f2-ed09-4fec-9da6-2ad625c21801",
   "metadata": {},
   "outputs": [
    {
     "data": {
      "text/plain": [
       "search_and_display (generic function with 1 method)"
      ]
     },
     "execution_count": 5,
     "metadata": {},
     "output_type": "execute_result"
    }
   ],
   "source": [
    "function search_and_display(invfile, D, q, k)\n",
    "    res = KnnResult(k)\n",
    "    @time search(invfile, vectorize(D.model, D.textconfig, q), res)\n",
    "    L = []\n",
    "    for (i, (id, dist)) in enumerate(res)\n",
    "        dist = round(dist, digits=2)\n",
    "        push!(L, @htl \"\"\"<tr><td>$i</td> <td>$id => $dist</td> <td>$(D.labels[id])</td> <td>$(D.corpus[id])</td> </tr>\"\"\")\n",
    "       # println(i, \" \", id => round(dist, digits=2), \" \", D.labels[i], \" \", D.corpus[id])\n",
    "    end\n",
    "\n",
    "    display(@htl \"\"\"\n",
    "    <h3>Resultados para la consulta \"$q\"</h3>\n",
    "    <table>\n",
    "    $L\n",
    "    </table>\n",
    "    \"\"\")\n",
    "end"
   ]
  },
  {
   "cell_type": "code",
   "execution_count": 6,
   "id": "046760fa-03d2-4bc9-a6cd-418c4f655b43",
   "metadata": {},
   "outputs": [
    {
     "name": "stdout",
     "output_type": "stream",
     "text": [
      "  0.000325 seconds (18 allocations: 3.344 KiB)\n"
     ]
    },
    {
     "data": {
      "text/html": [
       "<h3>Resultados para la consulta \"no importa distancia\"</h3>\n",
       "<table>\n",
       "<tr><td>1</td> <td>39550 => 0.03</td> <td>💕</td> <td>No importa la distancia _emo _usr _url</td> </tr><tr><td>2</td> <td>3870 => 0.38</td> <td>😓</td> <td>Me caga la distancia _emo</td> </tr><tr><td>3</td> <td>11115 => 0.52</td> <td>😃</td> <td>No importa cuando...  _emo _emo _url</td> </tr><tr><td>4</td> <td>38044 => 0.57</td> <td>😥</td> <td>tiempo y distancia, quizás sea eso... _emo</td> </tr><tr><td>5</td> <td>12728 => 0.57</td> <td>😑</td> <td>_usr A ti no te importa _emo</td> </tr>\n",
       "</table>\n"
      ],
      "text/plain": [
       "<h3>Resultados para la consulta \"no importa distancia\"</h3>\n",
       "<table>\n",
       "<tr><td>1</td> <td>39550 => 0.03</td> <td>💕</td> <td>No importa la distancia _emo _usr _url</td> </tr><tr><td>2</td> <td>3870 => 0.38</td> <td>😓</td> <td>Me caga la distancia _emo</td> </tr><tr><td>3</td> <td>11115 => 0.52</td> <td>😃</td> <td>No importa cuando...  _emo _emo _url</td> </tr><tr><td>4</td> <td>38044 => 0.57</td> <td>😥</td> <td>tiempo y distancia, quizás sea eso... _emo</td> </tr><tr><td>5</td> <td>12728 => 0.57</td> <td>😑</td> <td>_usr A ti no te importa _emo</td> </tr>\n",
       "</table>\n"
      ]
     },
     "metadata": {},
     "output_type": "display_data"
    },
    {
     "name": "stdout",
     "output_type": "stream",
     "text": [
      "  0.000257 seconds (19 allocations: 3.359 KiB)\n"
     ]
    },
    {
     "data": {
      "text/html": [
       "<h3>Resultados para la consulta \"cuando nos vemos?\"</h3>\n",
       "<table>\n",
       "<tr><td>1</td> <td>41790 => 0.22</td> <td>😂</td> <td>Nos vemos!! _emo _emo _emo _emo _url</td> </tr><tr><td>2</td> <td>27642 => 0.3</td> <td>😜</td> <td>_usr En la tarde nos vemos _emo _emo _emo</td> </tr><tr><td>3</td> <td>5656 => 0.32</td> <td>😻</td> <td>Nos vemos pronto _usr _usr _emo _emo _url</td> </tr><tr><td>4</td> <td>2835 => 0.43</td> <td>😘</td> <td>_usr Muchas gracias! Nos vemos pronto _emo</td> </tr><tr><td>5</td> <td>44970 => 0.43</td> <td>😍</td> <td>_usr Pronto nos vemos hermana _emo _emo</td> </tr>\n",
       "</table>\n"
      ],
      "text/plain": [
       "<h3>Resultados para la consulta \"cuando nos vemos?\"</h3>\n",
       "<table>\n",
       "<tr><td>1</td> <td>41790 => 0.22</td> <td>😂</td> <td>Nos vemos!! _emo _emo _emo _emo _url</td> </tr><tr><td>2</td> <td>27642 => 0.3</td> <td>😜</td> <td>_usr En la tarde nos vemos _emo _emo _emo</td> </tr><tr><td>3</td> <td>5656 => 0.32</td> <td>😻</td> <td>Nos vemos pronto _usr _usr _emo _emo _url</td> </tr><tr><td>4</td> <td>2835 => 0.43</td> <td>😘</td> <td>_usr Muchas gracias! Nos vemos pronto _emo</td> </tr><tr><td>5</td> <td>44970 => 0.43</td> <td>😍</td> <td>_usr Pronto nos vemos hermana _emo _emo</td> </tr>\n",
       "</table>\n"
      ]
     },
     "metadata": {},
     "output_type": "display_data"
    },
    {
     "name": "stdout",
     "output_type": "stream",
     "text": [
      "  0.000143 seconds (18 allocations: 3.328 KiB)\n"
     ]
    },
    {
     "data": {
      "text/html": [
       "<h3>Resultados para la consulta \"feliz cumpleaños?\"</h3>\n",
       "<table>\n",
       "<tr><td>1</td> <td>37575 => 0.09</td> <td>❤</td> <td>_usr Feliz Cumpleaños _emo</td> </tr><tr><td>2</td> <td>41849 => 0.09</td> <td>😁</td> <td>Feliz Cumpleaños _emo _emo _usr</td> </tr><tr><td>3</td> <td>12769 => 0.09</td> <td>🙊</td> <td>Feliz Cumpleaños _usr _emo _emo _emo _emo _emo</td> </tr>\n",
       "</table>\n"
      ],
      "text/plain": [
       "<h3>Resultados para la consulta \"feliz cumpleaños?\"</h3>\n",
       "<table>\n",
       "<tr><td>1</td> <td>37575 => 0.09</td> <td>❤</td> <td>_usr Feliz Cumpleaños _emo</td> </tr><tr><td>2</td> <td>41849 => 0.09</td> <td>😁</td> <td>Feliz Cumpleaños _emo _emo _usr</td> </tr><tr><td>3</td> <td>12769 => 0.09</td> <td>🙊</td> <td>Feliz Cumpleaños _usr _emo _emo _emo _emo _emo</td> </tr>\n",
       "</table>\n"
      ]
     },
     "metadata": {},
     "output_type": "display_data"
    },
    {
     "name": "stdout",
     "output_type": "stream",
     "text": [
      "  0.000017 seconds (17 allocations: 3.172 KiB)\n"
     ]
    },
    {
     "data": {
      "text/html": [
       "<h3>Resultados para la consulta \"ola k ase\"</h3>\n",
       "<table>\n",
       "<tr><td>1</td> <td>23340 => 0.64</td> <td>😎</td> <td>_usr _usr Siempre, todo y todos los días de la semana desde ase muchoooooossss años _emo _emo</td> </tr><tr><td>2</td> <td>6952 => 0.7</td> <td>😤</td> <td>_usr k bueno k tu mizmo lo reconozcAszzzz _emo</td> </tr><tr><td>3</td> <td>1874 => 0.72</td> <td>😃</td> <td>Despertares!! (By OLA) # _emo _emo en Distrito Federal, Mexico _url</td> </tr>\n",
       "</table>\n"
      ],
      "text/plain": [
       "<h3>Resultados para la consulta \"ola k ase\"</h3>\n",
       "<table>\n",
       "<tr><td>1</td> <td>23340 => 0.64</td> <td>😎</td> <td>_usr _usr Siempre, todo y todos los días de la semana desde ase muchoooooossss años _emo _emo</td> </tr><tr><td>2</td> <td>6952 => 0.7</td> <td>😤</td> <td>_usr k bueno k tu mizmo lo reconozcAszzzz _emo</td> </tr><tr><td>3</td> <td>1874 => 0.72</td> <td>😃</td> <td>Despertares!! (By OLA) # _emo _emo en Distrito Federal, Mexico _url</td> </tr>\n",
       "</table>\n"
      ]
     },
     "metadata": {},
     "output_type": "display_data"
    },
    {
     "name": "stdout",
     "output_type": "stream",
     "text": [
      "  0.000188 seconds (17 allocations: 3.266 KiB)\n"
     ]
    },
    {
     "data": {
      "text/html": [
       "<h3>Resultados para la consulta \"mi humilde opinión\"</h3>\n",
       "<table>\n",
       "<tr><td>1</td> <td>19966 => 0.32</td> <td>🙏</td> <td>Bueno, cada quien su vida, ya se, solo es una humilde opinión !! _emo _emo _emo</td> </tr><tr><td>2</td> <td>7756 => 0.5</td> <td>😍</td> <td>_usr es la persona más humilde que conozco _emo</td> </tr><tr><td>3</td> <td>4755 => 0.62</td> <td>🤔</td> <td>_usr Bajo tu opinión fue o no falta? _emo</td> </tr><tr><td>4</td> <td>24948 => 0.62</td> <td>😊</td> <td>Gracias por compartir la información y tu opinión _emo _url</td> </tr><tr><td>5</td> <td>20021 => 0.64</td> <td>😉</td> <td>Cuantos Likes para mi humilde oficina _usr  _emo _emo @ CocoBongo _url</td> </tr><tr><td>6</td> <td>34164 => 0.66</td> <td>🤗</td> <td>Para ser feliz, no escuches la opinión de los demás _emo</td> </tr><tr><td>7</td> <td>47417 => 0.68</td> <td>👏</td> <td>_usr Totalmente de acuerdo contigo en todo. Comparto tu opinión _emo _emo _emo _emo</td> </tr><tr><td>8</td> <td>846 => 0.69</td> <td>😌</td> <td>Cambie de opinión quiero seguir siendo rubia _emo _emo _emo _emo _emo _emo</td> </tr><tr><td>9</td> <td>15711 => 0.72</td> <td>😌</td> <td>Tu opinión no me interesa más. No tengo nada que demostrarte, y si piensas lo peor de mi, MEJOR! _emo</td> </tr><tr><td>10</td> <td>9033 => 0.72</td> <td>😑</td> <td>Lo siento pero mi tez humilde no me deja ser guapo y estar bueno, eso sin mencionar la rodilla que me chingue! _emo _emo</td> </tr>\n",
       "</table>\n"
      ],
      "text/plain": [
       "<h3>Resultados para la consulta \"mi humilde opinión\"</h3>\n",
       "<table>\n",
       "<tr><td>1</td> <td>19966 => 0.32</td> <td>🙏</td> <td>Bueno, cada quien su vida, ya se, solo es una humilde opinión !! _emo _emo _emo</td> </tr><tr><td>2</td> <td>7756 => 0.5</td> <td>😍</td> <td>_usr es la persona más humilde que conozco _emo</td> </tr><tr><td>3</td> <td>4755 => 0.62</td> <td>🤔</td> <td>_usr Bajo tu opinión fue o no falta? _emo</td> </tr><tr><td>4</td> <td>24948 => 0.62</td> <td>😊</td> <td>Gracias por compartir la información y tu opinión _emo _url</td> </tr><tr><td>5</td> <td>20021 => 0.64</td> <td>😉</td> <td>Cuantos Likes para mi humilde oficina _usr  _emo _emo @ CocoBongo _url</td> </tr><tr><td>6</td> <td>34164 => 0.66</td> <td>🤗</td> <td>Para ser feliz, no escuches la opinión de los demás _emo</td> </tr><tr><td>7</td> <td>47417 => 0.68</td> <td>👏</td> <td>_usr Totalmente de acuerdo contigo en todo. Comparto tu opinión _emo _emo _emo _emo</td> </tr><tr><td>8</td> <td>846 => 0.69</td> <td>😌</td> <td>Cambie de opinión quiero seguir siendo rubia _emo _emo _emo _emo _emo _emo</td> </tr><tr><td>9</td> <td>15711 => 0.72</td> <td>😌</td> <td>Tu opinión no me interesa más. No tengo nada que demostrarte, y si piensas lo peor de mi, MEJOR! _emo</td> </tr><tr><td>10</td> <td>9033 => 0.72</td> <td>😑</td> <td>Lo siento pero mi tez humilde no me deja ser guapo y estar bueno, eso sin mencionar la rodilla que me chingue! _emo _emo</td> </tr>\n",
       "</table>\n"
      ]
     },
     "metadata": {},
     "output_type": "display_data"
    }
   ],
   "source": [
    "search_and_display(invfile, D, \"no importa distancia\", 5)\n",
    "search_and_display(invfile, D, \"cuando nos vemos?\", 5)\n",
    "search_and_display(invfile, D, \"feliz cumpleaños?\", 3)\n",
    "search_and_display(invfile, D, \"ola k ase\", 3)\n",
    "search_and_display(invfile, D, \"mi humilde opinión\", 10)"
   ]
  },
  {
   "cell_type": "markdown",
   "id": "33ad823b-70c0-447d-bfe0-8a920525ca12",
   "metadata": {},
   "source": [
    "### También es posible consultar elementos del mismo corpus, lo cual permité inspeccionar la estructura interna de la colección. Esto será de utilidad más adelante en el curso."
   ]
  },
  {
   "cell_type": "code",
   "execution_count": 7,
   "id": "bde30ad5-8c2d-4622-b0c2-994802b64e9d",
   "metadata": {},
   "outputs": [
    {
     "name": "stdout",
     "output_type": "stream",
     "text": [
      "  0.001288 seconds (43 allocations: 5.016 KiB)\n"
     ]
    },
    {
     "data": {
      "text/html": [
       "<h3>Resultados para la consulta \"Bills vs Jets... _emo no pueden perder los dos? _emo _emo _emo _emo _emo\"</h3>\n",
       "<table>\n",
       "<tr><td>1</td> <td>25424 => -0.0</td> <td>🤔</td> <td>Bills vs Jets... _emo no pueden perder los dos? _emo _emo _emo _emo _emo</td> </tr><tr><td>2</td> <td>14016 => 0.62</td> <td>😳</td> <td>No pueden ir los dos _emo</td> </tr><tr><td>3</td> <td>23327 => 0.72</td> <td>😬</td> <td>_usr Ganara Jets por un Gol de campo _emo</td> </tr><tr><td>4</td> <td>778 => 0.73</td> <td>🙃</td> <td>_usr De los dos _emo</td> </tr><tr><td>5</td> <td>36818 => 0.74</td> <td>😡</td> <td>No tengo miedo a perder _emo</td> </tr><tr><td>6</td> <td>44664 => 0.74</td> <td>😋</td> <td>Pueden ser dos si si?? _emo</td> </tr><tr><td>7</td> <td>48226 => 0.74</td> <td>🙄</td> <td>_usr los dos! _emo</td> </tr>\n",
       "</table>\n"
      ],
      "text/plain": [
       "<h3>Resultados para la consulta \"Bills vs Jets... _emo no pueden perder los dos? _emo _emo _emo _emo _emo\"</h3>\n",
       "<table>\n",
       "<tr><td>1</td> <td>25424 => -0.0</td> <td>🤔</td> <td>Bills vs Jets... _emo no pueden perder los dos? _emo _emo _emo _emo _emo</td> </tr><tr><td>2</td> <td>14016 => 0.62</td> <td>😳</td> <td>No pueden ir los dos _emo</td> </tr><tr><td>3</td> <td>23327 => 0.72</td> <td>😬</td> <td>_usr Ganara Jets por un Gol de campo _emo</td> </tr><tr><td>4</td> <td>778 => 0.73</td> <td>🙃</td> <td>_usr De los dos _emo</td> </tr><tr><td>5</td> <td>36818 => 0.74</td> <td>😡</td> <td>No tengo miedo a perder _emo</td> </tr><tr><td>6</td> <td>44664 => 0.74</td> <td>😋</td> <td>Pueden ser dos si si?? _emo</td> </tr><tr><td>7</td> <td>48226 => 0.74</td> <td>🙄</td> <td>_usr los dos! _emo</td> </tr>\n",
       "</table>\n"
      ]
     },
     "metadata": {},
     "output_type": "display_data"
    },
    {
     "name": "stdout",
     "output_type": "stream",
     "text": [
      "  0.005938 seconds (49 allocations: 6.625 KiB)\n"
     ]
    },
    {
     "data": {
      "text/html": [
       "<h3>Resultados para la consulta \"Que se agarren las _usr mi estimado David si entramos como octavo a liguilla _emo _emo _emo _url\"</h3>\n",
       "<table>\n",
       "<tr><td>1</td> <td>22509 => -0.0</td> <td>😎</td> <td>Que se agarren las _usr mi estimado David si entramos como octavo a liguilla _emo _emo _emo _url</td> </tr><tr><td>2</td> <td>33967 => 0.71</td> <td>😜</td> <td>_usr  jajajjajaja que se agarren _emo</td> </tr><tr><td>3</td> <td>34332 => 0.72</td> <td>😞</td> <td>Adiós liguilla _emo _emo</td> </tr><tr><td>4</td> <td>40481 => 0.73</td> <td>😻</td> <td>me encanta que me agarren el pelo _emo</td> </tr><tr><td>5</td> <td>25965 => 0.73</td> <td>🙈</td> <td>Y así queremos liguilla _emo _emo _emo _emo _emo _emo _emo _emo</td> </tr><tr><td>6</td> <td>14822 => 0.75</td> <td>😉</td> <td>_usr _usr _usr Solo que se aplique en la liguilla _emo _emo _emo</td> </tr><tr><td>7</td> <td>15561 => 0.75</td> <td>🤤</td> <td>HABEMUS LIGUILLA _emo _emo _emo _emo</td> </tr>\n",
       "</table>\n"
      ],
      "text/plain": [
       "<h3>Resultados para la consulta \"Que se agarren las _usr mi estimado David si entramos como octavo a liguilla _emo _emo _emo _url\"</h3>\n",
       "<table>\n",
       "<tr><td>1</td> <td>22509 => -0.0</td> <td>😎</td> <td>Que se agarren las _usr mi estimado David si entramos como octavo a liguilla _emo _emo _emo _url</td> </tr><tr><td>2</td> <td>33967 => 0.71</td> <td>😜</td> <td>_usr  jajajjajaja que se agarren _emo</td> </tr><tr><td>3</td> <td>34332 => 0.72</td> <td>😞</td> <td>Adiós liguilla _emo _emo</td> </tr><tr><td>4</td> <td>40481 => 0.73</td> <td>😻</td> <td>me encanta que me agarren el pelo _emo</td> </tr><tr><td>5</td> <td>25965 => 0.73</td> <td>🙈</td> <td>Y así queremos liguilla _emo _emo _emo _emo _emo _emo _emo _emo</td> </tr><tr><td>6</td> <td>14822 => 0.75</td> <td>😉</td> <td>_usr _usr _usr Solo que se aplique en la liguilla _emo _emo _emo</td> </tr><tr><td>7</td> <td>15561 => 0.75</td> <td>🤤</td> <td>HABEMUS LIGUILLA _emo _emo _emo _emo</td> </tr>\n",
       "</table>\n"
      ]
     },
     "metadata": {},
     "output_type": "display_data"
    },
    {
     "name": "stdout",
     "output_type": "stream",
     "text": [
      "  0.002510 seconds (29 allocations: 4.047 KiB)\n"
     ]
    },
    {
     "data": {
      "text/html": [
       "<h3>Resultados para la consulta \"_usr _usr _usr Dice que se eliminó _emo _url\"</h3>\n",
       "<table>\n",
       "<tr><td>1</td> <td>4792 => -0.0</td> <td>💔</td> <td>_usr _usr _usr Dice que se eliminó _emo _url</td> </tr><tr><td>2</td> <td>6563 => 0.47</td> <td>🙏</td> <td>Si gana _usr eliminó a mi ex de fb _emo _emo _emo</td> </tr><tr><td>3</td> <td>35232 => 0.65</td> <td>👀</td> <td>A ver que dice _emo</td> </tr><tr><td>4</td> <td>43030 => 0.68</td> <td>😈</td> <td>Cuando mi papá dice no, mi mamá dice sí _emo _emo</td> </tr><tr><td>5</td> <td>27895 => 0.68</td> <td>😒</td> <td>Siempre dice eso _emo _url</td> </tr><tr><td>6</td> <td>13112 => 0.72</td> <td>😐</td> <td>Dice mi mamá que siempre no _emo</td> </tr><tr><td>7</td> <td>18917 => 0.72</td> <td>😔</td> <td>Te dice te odio _emo _url</td> </tr>\n",
       "</table>\n"
      ],
      "text/plain": [
       "<h3>Resultados para la consulta \"_usr _usr _usr Dice que se eliminó _emo _url\"</h3>\n",
       "<table>\n",
       "<tr><td>1</td> <td>4792 => -0.0</td> <td>💔</td> <td>_usr _usr _usr Dice que se eliminó _emo _url</td> </tr><tr><td>2</td> <td>6563 => 0.47</td> <td>🙏</td> <td>Si gana _usr eliminó a mi ex de fb _emo _emo _emo</td> </tr><tr><td>3</td> <td>35232 => 0.65</td> <td>👀</td> <td>A ver que dice _emo</td> </tr><tr><td>4</td> <td>43030 => 0.68</td> <td>😈</td> <td>Cuando mi papá dice no, mi mamá dice sí _emo _emo</td> </tr><tr><td>5</td> <td>27895 => 0.68</td> <td>😒</td> <td>Siempre dice eso _emo _url</td> </tr><tr><td>6</td> <td>13112 => 0.72</td> <td>😐</td> <td>Dice mi mamá que siempre no _emo</td> </tr><tr><td>7</td> <td>18917 => 0.72</td> <td>😔</td> <td>Te dice te odio _emo _url</td> </tr>\n",
       "</table>\n"
      ]
     },
     "metadata": {},
     "output_type": "display_data"
    },
    {
     "name": "stdout",
     "output_type": "stream",
     "text": [
      "  0.000398 seconds (21 allocations: 3.484 KiB)\n"
     ]
    },
    {
     "data": {
      "text/html": [
       "<h3>Resultados para la consulta \"A celebrar hasta luego _emo\"</h3>\n",
       "<table>\n",
       "<tr><td>1</td> <td>25092 => 0.0</td> <td>😃</td> <td>A celebrar hasta luego _emo</td> </tr><tr><td>2</td> <td>2406 => 0.38</td> <td>😋</td> <td>_usr Hasta luego... _emo</td> </tr><tr><td>3</td> <td>14984 => 0.58</td> <td>🙃</td> <td>Ya me está dando flojera celebrar mi cumpleaños _emo</td> </tr><tr><td>4</td> <td>38417 => 0.61</td> <td>💖</td> <td>Ya por fin mañana a celebrar el cumpleaños de mi BBF _emo _emo _emo</td> </tr><tr><td>5</td> <td>11956 => 0.63</td> <td>👏</td> <td>Luego, luego se nota la buena vibra _emo _emo _emo _emo</td> </tr><tr><td>6</td> <td>29383 => 0.65</td> <td>✨</td> <td>#MéxicoRadiante siempre tenemos motivos para celebrar! _emo _emo _emo _emo _emo _emo _emo _emo _url</td> </tr><tr><td>7</td> <td>11922 => 0.66</td> <td>😜</td> <td>Pues hay que celebrar La Independencia noo?? Jaja _emo _emo _emo _url</td> </tr>\n",
       "</table>\n"
      ],
      "text/plain": [
       "<h3>Resultados para la consulta \"A celebrar hasta luego _emo\"</h3>\n",
       "<table>\n",
       "<tr><td>1</td> <td>25092 => 0.0</td> <td>😃</td> <td>A celebrar hasta luego _emo</td> </tr><tr><td>2</td> <td>2406 => 0.38</td> <td>😋</td> <td>_usr Hasta luego... _emo</td> </tr><tr><td>3</td> <td>14984 => 0.58</td> <td>🙃</td> <td>Ya me está dando flojera celebrar mi cumpleaños _emo</td> </tr><tr><td>4</td> <td>38417 => 0.61</td> <td>💖</td> <td>Ya por fin mañana a celebrar el cumpleaños de mi BBF _emo _emo _emo</td> </tr><tr><td>5</td> <td>11956 => 0.63</td> <td>👏</td> <td>Luego, luego se nota la buena vibra _emo _emo _emo _emo</td> </tr><tr><td>6</td> <td>29383 => 0.65</td> <td>✨</td> <td>#MéxicoRadiante siempre tenemos motivos para celebrar! _emo _emo _emo _emo _emo _emo _emo _emo _url</td> </tr><tr><td>7</td> <td>11922 => 0.66</td> <td>😜</td> <td>Pues hay que celebrar La Independencia noo?? Jaja _emo _emo _emo _url</td> </tr>\n",
       "</table>\n"
      ]
     },
     "metadata": {},
     "output_type": "display_data"
    },
    {
     "name": "stdout",
     "output_type": "stream",
     "text": [
      "  0.001481 seconds (25 allocations: 3.703 KiB)\n"
     ]
    },
    {
     "data": {
      "text/html": [
       "<h3>Resultados para la consulta \"Ya nadie valora nada. _emo _url\"</h3>\n",
       "<table>\n",
       "<tr><td>1</td> <td>13448 => 0.0</td> <td>😔</td> <td>Ya nadie valora nada. _emo _url</td> </tr><tr><td>2</td> <td>4377 => 0.57</td> <td>🙃</td> <td>#EmpiezaAbrilY pienso: que no vale la pena aferrarse, solo ama a quien te ama y valora a quien te valora. _emo</td> </tr><tr><td>3</td> <td>828 => 0.59</td> <td>❤</td> <td>Hay regalos que uno valora más que nada... _emo #SoyMaestraRural #AmoMiTrabajo _url</td> </tr><tr><td>4</td> <td>8761 => 0.59</td> <td>😌</td> <td>Nada ni nadie es para siempre _emo</td> </tr><tr><td>5</td> <td>7972 => 0.63</td> <td>😔</td> <td>Ya nadie valora los Institucionales, el siguiente semestre ya no va a haber un examen donde si lo pasas pases la materia, más que el extra _emo</td> </tr><tr><td>6</td> <td>46549 => 0.63</td> <td>😏</td> <td>No esperar nada de nadie es mejor _emo</td> </tr><tr><td>7</td> <td>14234 => 0.64</td> <td>🎶</td> <td>Valora lo que tienes, porque hay quien no tiene nada no hablo de lo material, va más allá de las miradas _emo</td> </tr>\n",
       "</table>\n"
      ],
      "text/plain": [
       "<h3>Resultados para la consulta \"Ya nadie valora nada. _emo _url\"</h3>\n",
       "<table>\n",
       "<tr><td>1</td> <td>13448 => 0.0</td> <td>😔</td> <td>Ya nadie valora nada. _emo _url</td> </tr><tr><td>2</td> <td>4377 => 0.57</td> <td>🙃</td> <td>#EmpiezaAbrilY pienso: que no vale la pena aferrarse, solo ama a quien te ama y valora a quien te valora. _emo</td> </tr><tr><td>3</td> <td>828 => 0.59</td> <td>❤</td> <td>Hay regalos que uno valora más que nada... _emo #SoyMaestraRural #AmoMiTrabajo _url</td> </tr><tr><td>4</td> <td>8761 => 0.59</td> <td>😌</td> <td>Nada ni nadie es para siempre _emo</td> </tr><tr><td>5</td> <td>7972 => 0.63</td> <td>😔</td> <td>Ya nadie valora los Institucionales, el siguiente semestre ya no va a haber un examen donde si lo pasas pases la materia, más que el extra _emo</td> </tr><tr><td>6</td> <td>46549 => 0.63</td> <td>😏</td> <td>No esperar nada de nadie es mejor _emo</td> </tr><tr><td>7</td> <td>14234 => 0.64</td> <td>🎶</td> <td>Valora lo que tienes, porque hay quien no tiene nada no hablo de lo material, va más allá de las miradas _emo</td> </tr>\n",
       "</table>\n"
      ]
     },
     "metadata": {},
     "output_type": "display_data"
    },
    {
     "name": "stdout",
     "output_type": "stream",
     "text": [
      "  0.001807 seconds (29 allocations: 4.016 KiB)\n"
     ]
    },
    {
     "data": {
      "text/html": [
       "<h3>Resultados para la consulta \"Puedes ir a formarte al estadio! _emo _url\"</h3>\n",
       "<table>\n",
       "<tr><td>1</td> <td>37583 => 0.0</td> <td>🙂</td> <td>Puedes ir a formarte al estadio! _emo _url</td> </tr><tr><td>2</td> <td>48927 => 0.54</td> <td>💙</td> <td>Hoy al estadio _emo _emo</td> </tr><tr><td>3</td> <td>15015 => 0.71</td> <td>😎</td> <td>Todos quieren el mejor estadio _emo _emo _emo _url</td> </tr><tr><td>4</td> <td>11637 => 0.71</td> <td>😢</td> <td>No se imaginan cuantas ganas tengo de ir al Estadio Azul. _emo</td> </tr><tr><td>5</td> <td>26873 => 0.72</td> <td>🙏</td> <td>_usr mañana en el estadio Jalisco ne puedes regalar tu jersey _emo _emo _emo _emo _emo _emo _emo _emo</td> </tr><tr><td>6</td> <td>18240 => 0.73</td> <td>😔</td> <td>Le está haciendo daño al club que no vaya al estadio _emo</td> </tr><tr><td>7</td> <td>32921 => 0.73</td> <td>😃</td> <td>_usr Ánimo, tú puedes! _emo</td> </tr>\n",
       "</table>\n"
      ],
      "text/plain": [
       "<h3>Resultados para la consulta \"Puedes ir a formarte al estadio! _emo _url\"</h3>\n",
       "<table>\n",
       "<tr><td>1</td> <td>37583 => 0.0</td> <td>🙂</td> <td>Puedes ir a formarte al estadio! _emo _url</td> </tr><tr><td>2</td> <td>48927 => 0.54</td> <td>💙</td> <td>Hoy al estadio _emo _emo</td> </tr><tr><td>3</td> <td>15015 => 0.71</td> <td>😎</td> <td>Todos quieren el mejor estadio _emo _emo _emo _url</td> </tr><tr><td>4</td> <td>11637 => 0.71</td> <td>😢</td> <td>No se imaginan cuantas ganas tengo de ir al Estadio Azul. _emo</td> </tr><tr><td>5</td> <td>26873 => 0.72</td> <td>🙏</td> <td>_usr mañana en el estadio Jalisco ne puedes regalar tu jersey _emo _emo _emo _emo _emo _emo _emo _emo</td> </tr><tr><td>6</td> <td>18240 => 0.73</td> <td>😔</td> <td>Le está haciendo daño al club que no vaya al estadio _emo</td> </tr><tr><td>7</td> <td>32921 => 0.73</td> <td>😃</td> <td>_usr Ánimo, tú puedes! _emo</td> </tr>\n",
       "</table>\n"
      ]
     },
     "metadata": {},
     "output_type": "display_data"
    },
    {
     "name": "stdout",
     "output_type": "stream",
     "text": [
      "  0.001235 seconds (24 allocations: 3.766 KiB)\n"
     ]
    },
    {
     "data": {
      "text/html": [
       "<h3>Resultados para la consulta \"Que antojo de unos bonneless _emo\"</h3>\n",
       "<table>\n",
       "<tr><td>1</td> <td>7251 => 0.0</td> <td>😣</td> <td>Que antojo de unos bonneless _emo</td> </tr><tr><td>2</td> <td>23977 => 0.49</td> <td>😋</td> <td>_usr Yo también tengo antojo de unos _emo</td> </tr><tr><td>3</td> <td>49843 => 0.55</td> <td>🤤</td> <td>Neta prefiero mil veces unas popusas a unos bonneless o sushi _emo _emo _emo _emo _emo</td> </tr><tr><td>4</td> <td>14542 => 0.57</td> <td>😬</td> <td>Tengo antojo _emo</td> </tr><tr><td>5</td> <td>1948 => 0.7</td> <td>🤤</td> <td>Que antojo de unos platanitos fritos con queso. _emo</td> </tr><tr><td>6</td> <td>4394 => 0.71</td> <td>🙈</td> <td>Tengo antojo de un elote. _emo</td> </tr><tr><td>7</td> <td>46829 => 0.71</td> <td>😋</td> <td>Otro pequeño antojo _emo _url</td> </tr>\n",
       "</table>\n"
      ],
      "text/plain": [
       "<h3>Resultados para la consulta \"Que antojo de unos bonneless _emo\"</h3>\n",
       "<table>\n",
       "<tr><td>1</td> <td>7251 => 0.0</td> <td>😣</td> <td>Que antojo de unos bonneless _emo</td> </tr><tr><td>2</td> <td>23977 => 0.49</td> <td>😋</td> <td>_usr Yo también tengo antojo de unos _emo</td> </tr><tr><td>3</td> <td>49843 => 0.55</td> <td>🤤</td> <td>Neta prefiero mil veces unas popusas a unos bonneless o sushi _emo _emo _emo _emo _emo</td> </tr><tr><td>4</td> <td>14542 => 0.57</td> <td>😬</td> <td>Tengo antojo _emo</td> </tr><tr><td>5</td> <td>1948 => 0.7</td> <td>🤤</td> <td>Que antojo de unos platanitos fritos con queso. _emo</td> </tr><tr><td>6</td> <td>4394 => 0.71</td> <td>🙈</td> <td>Tengo antojo de un elote. _emo</td> </tr><tr><td>7</td> <td>46829 => 0.71</td> <td>😋</td> <td>Otro pequeño antojo _emo _url</td> </tr>\n",
       "</table>\n"
      ]
     },
     "metadata": {},
     "output_type": "display_data"
    },
    {
     "name": "stdout",
     "output_type": "stream",
     "text": [
      "  0.001019 seconds (39 allocations: 4.828 KiB)\n"
     ]
    },
    {
     "data": {
      "text/html": [
       "<h3>Resultados para la consulta \"Pinches ratas me tienen hasta la madre _emo _emo _emo _emo _emo _emo _emo\"</h3>\n",
       "<table>\n",
       "<tr><td>1</td> <td>8494 => 0.0</td> <td>😠</td> <td>Pinches ratas me tienen hasta la madre _emo _emo _emo _emo _emo _emo _emo</td> </tr><tr><td>2</td> <td>8813 => 0.41</td> <td>😡</td> <td>_usr _usr Pinches ratas de mierda! _emo_usr _usr _usr _usr</td> </tr><tr><td>3</td> <td>37926 => 0.6</td> <td>😤</td> <td>Estoy hasta la madre de todo _emo _emo _emo</td> </tr><tr><td>4</td> <td>5248 => 0.6</td> <td>😠</td> <td>_usr siiii par ratas!!! _emo</td> </tr><tr><td>5</td> <td>37737 => 0.63</td> <td>😤</td> <td>Ya estoy hasta la madre de esto _emo</td> </tr><tr><td>6</td> <td>12270 => 0.64</td> <td>😰</td> <td>En la madre _emo _url</td> </tr><tr><td>7</td> <td>16631 => 0.65</td> <td>😍</td> <td>Mi madre la madre de todo mexico la madre del mundo _emo _emo _emo _url</td> </tr>\n",
       "</table>\n"
      ],
      "text/plain": [
       "<h3>Resultados para la consulta \"Pinches ratas me tienen hasta la madre _emo _emo _emo _emo _emo _emo _emo\"</h3>\n",
       "<table>\n",
       "<tr><td>1</td> <td>8494 => 0.0</td> <td>😠</td> <td>Pinches ratas me tienen hasta la madre _emo _emo _emo _emo _emo _emo _emo</td> </tr><tr><td>2</td> <td>8813 => 0.41</td> <td>😡</td> <td>_usr _usr Pinches ratas de mierda! _emo_usr _usr _usr _usr</td> </tr><tr><td>3</td> <td>37926 => 0.6</td> <td>😤</td> <td>Estoy hasta la madre de todo _emo _emo _emo</td> </tr><tr><td>4</td> <td>5248 => 0.6</td> <td>😠</td> <td>_usr siiii par ratas!!! _emo</td> </tr><tr><td>5</td> <td>37737 => 0.63</td> <td>😤</td> <td>Ya estoy hasta la madre de esto _emo</td> </tr><tr><td>6</td> <td>12270 => 0.64</td> <td>😰</td> <td>En la madre _emo _url</td> </tr><tr><td>7</td> <td>16631 => 0.65</td> <td>😍</td> <td>Mi madre la madre de todo mexico la madre del mundo _emo _emo _emo _url</td> </tr>\n",
       "</table>\n"
      ]
     },
     "metadata": {},
     "output_type": "display_data"
    },
    {
     "name": "stdout",
     "output_type": "stream",
     "text": [
      "  0.000823 seconds (29 allocations: 4.078 KiB)\n"
     ]
    },
    {
     "data": {
      "text/html": [
       "<h3>Resultados para la consulta \"Necesito un llavero para las llaves del carro _emo\"</h3>\n",
       "<table>\n",
       "<tr><td>1</td> <td>1563 => 0.0</td> <td>😪</td> <td>Necesito un llavero para las llaves del carro _emo</td> </tr><tr><td>2</td> <td>154 => 0.67</td> <td>😤</td> <td>No jodas, neta como necesito un carro _emo</td> </tr><tr><td>3</td> <td>222 => 0.69</td> <td>😩</td> <td>Necesito _emo _emo _emo _emo _emo _emo _emo _emo _emo _emo</td> </tr><tr><td>4</td> <td>35530 => 0.7</td> <td>🙂</td> <td>Mi mama me escondió las llaves desde ayer _emo</td> </tr><tr><td>5</td> <td>41844 => 0.71</td> <td>😢</td> <td>Pues ya no me fui a Cancún, ya encontramos las llaves. _emo _emo</td> </tr><tr><td>6</td> <td>47466 => 0.72</td> <td>😞</td> <td>Te necesito _emo</td> </tr><tr><td>7</td> <td>11272 => 0.73</td> <td>😞</td> <td>Lo necesito _emo</td> </tr>\n",
       "</table>\n"
      ],
      "text/plain": [
       "<h3>Resultados para la consulta \"Necesito un llavero para las llaves del carro _emo\"</h3>\n",
       "<table>\n",
       "<tr><td>1</td> <td>1563 => 0.0</td> <td>😪</td> <td>Necesito un llavero para las llaves del carro _emo</td> </tr><tr><td>2</td> <td>154 => 0.67</td> <td>😤</td> <td>No jodas, neta como necesito un carro _emo</td> </tr><tr><td>3</td> <td>222 => 0.69</td> <td>😩</td> <td>Necesito _emo _emo _emo _emo _emo _emo _emo _emo _emo _emo</td> </tr><tr><td>4</td> <td>35530 => 0.7</td> <td>🙂</td> <td>Mi mama me escondió las llaves desde ayer _emo</td> </tr><tr><td>5</td> <td>41844 => 0.71</td> <td>😢</td> <td>Pues ya no me fui a Cancún, ya encontramos las llaves. _emo _emo</td> </tr><tr><td>6</td> <td>47466 => 0.72</td> <td>😞</td> <td>Te necesito _emo</td> </tr><tr><td>7</td> <td>11272 => 0.73</td> <td>😞</td> <td>Lo necesito _emo</td> </tr>\n",
       "</table>\n"
      ]
     },
     "metadata": {},
     "output_type": "display_data"
    },
    {
     "name": "stdout",
     "output_type": "stream",
     "text": [
      "  0.005221 seconds (47 allocations: 5.344 KiB)\n"
     ]
    },
    {
     "data": {
      "text/html": [
       "<h3>Resultados para la consulta \"JAJAJAJAJA que puto asco pero a la vez está cute hacer pendejadas nacas en familia _emo _url\"</h3>\n",
       "<table>\n",
       "<tr><td>1</td> <td>18635 => 0.0</td> <td>❤</td> <td>JAJAJAJAJA que puto asco pero a la vez está cute hacer pendejadas nacas en familia _emo _url</td> </tr><tr><td>2</td> <td>1316 => 0.67</td> <td>✨</td> <td>el lugar más cute _emo _url</td> </tr><tr><td>3</td> <td>37843 => 0.69</td> <td>😠</td> <td>Que asco de persona _emo _url</td> </tr><tr><td>4</td> <td>22647 => 0.7</td> <td>😎</td> <td>_usr Puto _emo</td> </tr><tr><td>5</td> <td>35578 => 0.71</td> <td>🌚</td> <td>_usr Puto. _emo</td> </tr><tr><td>6</td> <td>752 => 0.73</td> <td>👀</td> <td>JAJAJAJAJA _emo _url</td> </tr><tr><td>7</td> <td>10613 => 0.73</td> <td>😌</td> <td>Jajajajaja _emo _url</td> </tr>\n",
       "</table>\n"
      ],
      "text/plain": [
       "<h3>Resultados para la consulta \"JAJAJAJAJA que puto asco pero a la vez está cute hacer pendejadas nacas en familia _emo _url\"</h3>\n",
       "<table>\n",
       "<tr><td>1</td> <td>18635 => 0.0</td> <td>❤</td> <td>JAJAJAJAJA que puto asco pero a la vez está cute hacer pendejadas nacas en familia _emo _url</td> </tr><tr><td>2</td> <td>1316 => 0.67</td> <td>✨</td> <td>el lugar más cute _emo _url</td> </tr><tr><td>3</td> <td>37843 => 0.69</td> <td>😠</td> <td>Que asco de persona _emo _url</td> </tr><tr><td>4</td> <td>22647 => 0.7</td> <td>😎</td> <td>_usr Puto _emo</td> </tr><tr><td>5</td> <td>35578 => 0.71</td> <td>🌚</td> <td>_usr Puto. _emo</td> </tr><tr><td>6</td> <td>752 => 0.73</td> <td>👀</td> <td>JAJAJAJAJA _emo _url</td> </tr><tr><td>7</td> <td>10613 => 0.73</td> <td>😌</td> <td>Jajajajaja _emo _url</td> </tr>\n",
       "</table>\n"
      ]
     },
     "metadata": {},
     "output_type": "display_data"
    }
   ],
   "source": [
    "for i in 1:10\n",
    "    qID = rand(1:length(D.corpus))\n",
    "    search_and_display(invfile, D, D.corpus[qID], 7)\n",
    "end"
   ]
  },
  {
   "cell_type": "markdown",
   "id": "5403b789-c8d3-4a86-957d-e7500efefe9d",
   "metadata": {},
   "source": [
    "# Actividades\n",
    "\n",
    "- Revisión de los servicios y empresas mencionados \n",
    "- Revisión de los proyectos open source mencionados\n",
    "- Cargue este notebook y modifique las consultas (necesita Jupyter y el kernel de Julia <https://github.com/JuliaLang/IJulia.jl>)\n",
    "- Revise la bibliografía sobre recuperación de información, en especial [^SMR2008] se encuentra libre desde <https://nlp.stanford.edu/IR-book/pdf/irbookonlinereading.pdf>"
   ]
  },
  {
   "cell_type": "markdown",
   "id": "f558a317-b84c-45b2-a185-36af24741ace",
   "metadata": {},
   "source": [
    "# Bibliografía\n",
    "- [SMR2008] Schütze, H., Manning, C. D., & Raghavan, P. (2008). Introduction to information retrieval (Vol. 39, pp. 234-65). Cambridge: Cambridge University Press.\n",
    "- [BYN1999] Baeza-Yates, R., & Ribeiro-Neto, B. (1999). Modern information retrieval (Vol. 463). New York: ACM press."
   ]
  }
 ],
 "metadata": {
  "kernelspec": {
   "display_name": "Julia 1.7.2",
   "language": "julia",
   "name": "julia-1.7"
  },
  "language_info": {
   "file_extension": ".jl",
   "mimetype": "application/julia",
   "name": "julia",
   "version": "1.7.2"
  }
 },
 "nbformat": 4,
 "nbformat_minor": 5
}
