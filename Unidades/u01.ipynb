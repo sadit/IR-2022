{
 "cells": [
  {
   "cell_type": "markdown",
   "id": "b606b63e-967d-4d4d-85e4-e02a32020425",
   "metadata": {},
   "source": [
    "# Introducción a la recuperación de información\n",
    "Autor: Eric S. Tellez <eric.tellez@infotec.mx><br/>\n",
    "\n",
    "La recuperación de información se crea a partir de la necesidad de simplificar el acceso y revisión de documentos en grandes colecciones. Estas colecciones pueden ser homogeneas o heterogeneas, tanto en su contenido como en su formato. En su inicio, se consideraban colecciones unicamente de texto pero las necesidades de información se han diversificado, y ahora es común encontrar sistemas de recuperación de información sobre otros datos como imagenes o videos, o include multimodales, esto es que puedan usar diferentes tipos de objetos. Un objeto puede ser un documento de texto, una imagen, o cualquier otro tipo de datos que se desee tener acceso. \n",
    "\n",
    "Mantener un sistema de información homogeneo puede simplificar su mantenimiento enormemente, por lo que si es posible, se puede intentar mantener cierta homegeneidad. Para sistemas de fuentes abiertas como puede ser la web, esto será posible.\n",
    "\n",
    "En general, se puede ver un sistema de recuperación de información en tres grandes partes:\n",
    "\n",
    "1. Recolección de datos, normalización y modelado matemático.\n",
    "2. Indexamiento, interpretación de consultas y optimización\n",
    "3. Agregación y filtrado de resultados, presentación de los mismos\n",
    "\n",
    "\n",
    "En este curso se visitarán parcialmente todas estas partes. En general se usaran conjuntos de datos previamente recolecados, aunque se invita a usar sus propias colecciones de tal forma que puedan sacar provecho de los temas de manera más amplia. La normalización puede ir desde el simple preprocesamiento de los datos hasta manipulaciones y transformaciones dependientes del dominio. Una vez aplicado el modelado adecuado a las colecciones, las representaciones matemáticas suelen ser vectores de alta dimensión para cada objeto.\n",
    "\n",
    "En cuanto al indexamiento se utilizarán dos tipos de algoritmos, búsqueda mediante índices invertidos y búsqueda por índices métricos. Ambas tienen sus nichos de aplicación y usarlas adecuadamente requiere conocer los problemas y sus modelados.\n",
    "\n",
    "La presentación de los resultados puede ser tan simple como una lista de resultados más relevantes y una pequeña muestra del objeto, o más complejo que requiera alguna técnica de visualización. Todo esto dependerá del dominio de aplicación y la naturaleza del sistema de recuperación de información.\n",
    "\n",
    "\n",
    "# Ejemplos de sistemas de recuperación información\n",
    "\n",
    "- Google,scholar google, google images, google news, youtube...\n",
    "- Bing!\n",
    "- Yahoo search\n",
    "- Yandex\n",
    "- DuckDuckGo\n",
    "- ...\n",
    "\n",
    "También es común que el sistema de recuperación de información no sea el principal producto, si no más bien un complemento imperdible\n",
    "como es el caso de los sistemas de streaming de videos, películas, música, redes sociales, etc.\n",
    "\n",
    "# Ejemplos de implementación de search engines open source\n",
    "- [Apache Lucene](https://lucene.apache.org/)\n",
    "- [Apache SOLR](https://solr.apache.org/)\n",
    "- [ElasticSearch](https://www.elastic.co/es/what-is/elasticsearch)\n",
    "- [hnswlib](https://github.com/nmslib/hnswlib)\n",
    "- [FAISS](https://github.com/facebookresearch/faiss)\n",
    "- [TextSearch.jl](https://github.com/sadit/TextSearch.jl)\n",
    "- [InvertedFiles.jl](https://github.com/sadit/InvertedFiles.jl)\n",
    "- [SimilaritySearch.jl](https://github.com/sadit/SimilaritySearch.jl)\n",
    "\n",
    "\n",
    "# Ejemplo\n",
    "\n",
    "\n",
    "Construcción de un índice de búsqueda para una colección de mensajes de Twitter. Los mensajes se pueden ver como documentos cortos. Se preprocesan y se modalen en vectores mediante un vocabulario. Después se construye el índice con dichos vectores y se hace posible la búsqueda eficiente. Note que existen etiquetas que se pueden usar para otras tareas; de manera más genérica, se pueden ver como metadatos asociados a los elementos del corpus.\n",
    "\n",
    "Nota: La primera vez que se corra este notebook los paquetes necesarios se instalaran de manera automática, es posible que tome un tiempo considerable.\n",
    "\n"
   ]
  },
  {
   "cell_type": "code",
   "execution_count": 1,
   "id": "bb11ca12-b635-45bb-ac02-14523674ded8",
   "metadata": {},
   "outputs": [
    {
     "name": "stderr",
     "output_type": "stream",
     "text": [
      "\u001b[32m\u001b[1m  Activating\u001b[22m\u001b[39m project at `~/IR-2022/Unidades`\n"
     ]
    }
   ],
   "source": [
    "using Pkg\n",
    "Pkg.activate(\".\")\n",
    "\n",
    "!isfile(\"Manifest.toml\") && Pkg.add([\n",
    "    PackageSpec(name=\"TextSearch\", version=\"0.12\"),\n",
    "    PackageSpec(name=\"InvertedFiles\", version=\"0.4\"),\n",
    "    PackageSpec(name=\"CodecZlib\", version=\"0.7\"),\n",
    "    PackageSpec(name=\"JSON\", version=\"0.21\"),\n",
    "    PackageSpec(name=\"HypertextLiteral\", version=\"0.9\")\n",
    "])\n",
    "\n",
    "using TextSearch, InvertedFiles, SimilaritySearch, TextSearch, CodecZlib, JSON, LinearAlgebra, HypertextLiteral\n",
    "\n",
    "using Downloads: download"
   ]
  },
  {
   "cell_type": "markdown",
   "id": "f3fd994e-6be8-45c8-a0fc-8f05dfcf2636",
   "metadata": {},
   "source": [
    "## Funciones para leer y modelar el corpus"
   ]
  },
  {
   "cell_type": "code",
   "execution_count": 3,
   "id": "d9482f05-8d88-4896-9b9e-646bc1da2abb",
   "metadata": {},
   "outputs": [
    {
     "data": {
      "text/plain": [
       "create_dataset (generic function with 1 method)"
      ]
     },
     "execution_count": 3,
     "metadata": {},
     "output_type": "execute_result"
    }
   ],
   "source": [
    "function parse_corpus(corpusfile)\n",
    "    corpus, labels = String[], String[]\n",
    "    open(corpusfile) do f\n",
    "        for line in eachline(GzipDecompressorStream(f))\n",
    "            r = JSON.parse(line)\n",
    "            push!(labels, r[\"klass\"])\n",
    "            push!(corpus, r[\"text\"])    \n",
    "        end\n",
    "    end\n",
    "    \n",
    "    corpus, labels\n",
    "end\n",
    "\n",
    "function text_model_and_vectors(corpus)\n",
    "    textconfig = TextConfig(group_usr=true, group_url=true, del_diac=true, lc=true, group_num=true, nlist=[1], qlist=[])\n",
    "    model = VectorModel(IdfWeighting(), TfWeighting(), textconfig, corpus)    \n",
    "    vectors = vectorize_corpus(model, textconfig, corpus)\n",
    "    for v in vectors\n",
    "        normalize!(v)\n",
    "    end\n",
    "\n",
    "    (; textconfig, model, vectors)\n",
    "end\n",
    "\n",
    "function create_dataset(corpusfile)\n",
    "    corpus, labels = parse_corpus(corpusfile)\n",
    "    (; labels, corpus, text_model_and_vectors(corpus)...)\n",
    "end"
   ]
  },
  {
   "cell_type": "code",
   "execution_count": 4,
   "id": "1176ef00-1153-4cba-bb89-354d634c857e",
   "metadata": {},
   "outputs": [
    {
     "data": {
      "text/html": [
       "<h1>Cargando el corpus</h1>"
      ],
      "text/plain": [
       "<h1>Cargando el corpus</h1>"
      ]
     },
     "metadata": {},
     "output_type": "display_data"
    },
    {
     "name": "stdout",
     "output_type": "stream",
     "text": [
      "(unique(D.labels), D.model) = ([\"😰\", \"😥\", \"😊\", \"😏\", \"♡\", \"💔\", \"🙂\", \"😋\", \"😌\", \"🌚\", \"👌\", \"😪\", \"😤\", \"🙃\", \"🤤\", \"😴\", \"😢\", \"😅\", \"😑\", \"😠\", \"😂\", \"😜\", \"🤓\", \"💙\", \"😀\", \"🤗\", \"🤣\", \"😒\", \"✨\", \"😐\", \"😞\", \"😁\", \"😱\", \"👏\", \"😫\", \"😍\", \"❤\", \"😣\", \"🙊\", \"🙏\", \"🙄\", \"🤭\", \"💜\", \"🤔\", \"😬\", \"👀\", \"😉\", \"😈\", \"😡\", \"😳\", \"🙈\", \"😻\", \"😔\", \"😓\", \"💕\", \"🎶\", \"😭\", \"😕\", \"♥\", \"💖\", \"😎\", \"😘\", \"😃\", \"😩\"], {VectorModel global_weighting=IdfWeighting(), local_weighting=TfWeighting(), train-voc=45374, train-n=50000, maxoccs=93991})\n"
     ]
    },
    {
     "data": {
      "text/plain": [
       "([\"😰\", \"😥\", \"😊\", \"😏\", \"♡\", \"💔\", \"🙂\", \"😋\", \"😌\", \"🌚\"  …  \"💕\", \"🎶\", \"😭\", \"😕\", \"♥\", \"💖\", \"😎\", \"😘\", \"😃\", \"😩\"], {VectorModel global_weighting=IdfWeighting(), local_weighting=TfWeighting(), train-voc=45374, train-n=50000, maxoccs=93991})"
      ]
     },
     "execution_count": 4,
     "metadata": {},
     "output_type": "execute_result"
    }
   ],
   "source": [
    "display(@htl \"<h1>Cargando el corpus</h1>\")\n",
    "dbname = \"emo50k.json.gz\"\n",
    "dbfile = \"../data/$dbname\"\n",
    "baseurl = \"https://github.com/sadit/TextClassificationTutorial/blob/main/data\"\n",
    "\n",
    "!isfile(dbfile) && download(\"$baseurl/$dbname?raw=true\", dbfile)\n",
    "D = create_dataset(dbfile)\n",
    "\n",
    "@show unique(D.labels), D.model"
   ]
  },
  {
   "cell_type": "markdown",
   "id": "e6ab564f-f90b-4b18-a090-ed3ecb4ec717",
   "metadata": {},
   "source": [
    "### Note que las etiquetas son emojis, que hay 50k ejemplos y un vocabulario de más de 45k tokens. A continuación se construirá el índice invertido usando el paquete <https://github.com/sadit/TextSearch.jl>, claramente, el código solo funcionará con dicha implementación, pero el procedimiento general aplicaría a otras implementaciones."
   ]
  },
  {
   "cell_type": "code",
   "execution_count": 4,
   "id": "cd7ccd91-c1c2-4a04-b792-d38a8c65342a",
   "metadata": {},
   "outputs": [
    {
     "data": {
      "text/plain": [
       "{WeightedInvertedFile vocsize=45374, n=50000}"
      ]
     },
     "execution_count": 4,
     "metadata": {},
     "output_type": "execute_result"
    }
   ],
   "source": [
    "invfile = WeightedInvertedFile(length(D.model.voc))\n",
    "append!(invfile, VectorDatabase(D.vectors))"
   ]
  },
  {
   "cell_type": "code",
   "execution_count": 5,
   "id": "c0f207f2-ed09-4fec-9da6-2ad625c21801",
   "metadata": {},
   "outputs": [
    {
     "data": {
      "text/plain": [
       "search_and_display (generic function with 1 method)"
      ]
     },
     "execution_count": 5,
     "metadata": {},
     "output_type": "execute_result"
    }
   ],
   "source": [
    "function search_and_display(invfile, D, q, k)\n",
    "    res = KnnResult(k)\n",
    "    @time search(invfile, vectorize(D.model, D.textconfig, q), res)\n",
    "    L = []\n",
    "    for (i, (id, dist)) in enumerate(res)\n",
    "        dist = round(dist, digits=2)\n",
    "        push!(L, @htl \"\"\"<tr><td>$i</td> <td>$id => $dist</td> <td>$(D.labels[id])</td> <td>$(D.corpus[id])</td> </tr>\"\"\")\n",
    "       # println(i, \" \", id => round(dist, digits=2), \" \", D.labels[i], \" \", D.corpus[id])\n",
    "    end\n",
    "\n",
    "    display(@htl \"\"\"\n",
    "    <h3>Resultados para la consulta \"$q\"</h3>\n",
    "    <table>\n",
    "    $L\n",
    "    </table>\n",
    "    \"\"\")\n",
    "end"
   ]
  },
  {
   "cell_type": "code",
   "execution_count": 6,
   "id": "046760fa-03d2-4bc9-a6cd-418c4f655b43",
   "metadata": {},
   "outputs": [
    {
     "name": "stdout",
     "output_type": "stream",
     "text": [
      "  0.000301 seconds (21 allocations: 1.594 KiB)\n"
     ]
    },
    {
     "data": {
      "text/html": [
       "<h3>Resultados para la consulta \"no importa distancia\"</h3>\n",
       "<table>\n",
       "<tr><td>1</td> <td>39550 => 0.03</td> <td>💕</td> <td>No importa la distancia _emo _usr _url</td> </tr><tr><td>2</td> <td>3870 => 0.38</td> <td>😓</td> <td>Me caga la distancia _emo</td> </tr><tr><td>3</td> <td>11115 => 0.52</td> <td>😃</td> <td>No importa cuando...  _emo _emo _url</td> </tr><tr><td>4</td> <td>38044 => 0.57</td> <td>😥</td> <td>tiempo y distancia, quizás sea eso... _emo</td> </tr><tr><td>5</td> <td>12728 => 0.57</td> <td>😑</td> <td>_usr A ti no te importa _emo</td> </tr>\n",
       "</table>\n"
      ],
      "text/plain": [
       "<h3>Resultados para la consulta \"no importa distancia\"</h3>\n",
       "<table>\n",
       "<tr><td>1</td> <td>39550 => 0.03</td> <td>💕</td> <td>No importa la distancia _emo _usr _url</td> </tr><tr><td>2</td> <td>3870 => 0.38</td> <td>😓</td> <td>Me caga la distancia _emo</td> </tr><tr><td>3</td> <td>11115 => 0.52</td> <td>😃</td> <td>No importa cuando...  _emo _emo _url</td> </tr><tr><td>4</td> <td>38044 => 0.57</td> <td>😥</td> <td>tiempo y distancia, quizás sea eso... _emo</td> </tr><tr><td>5</td> <td>12728 => 0.57</td> <td>😑</td> <td>_usr A ti no te importa _emo</td> </tr>\n",
       "</table>\n"
      ]
     },
     "metadata": {},
     "output_type": "display_data"
    },
    {
     "name": "stdout",
     "output_type": "stream",
     "text": [
      "  0.000332 seconds (22 allocations: 1.609 KiB)\n"
     ]
    },
    {
     "data": {
      "text/html": [
       "<h3>Resultados para la consulta \"cuando nos vemos?\"</h3>\n",
       "<table>\n",
       "<tr><td>1</td> <td>41790 => 0.22</td> <td>😂</td> <td>Nos vemos!! _emo _emo _emo _emo _url</td> </tr><tr><td>2</td> <td>27642 => 0.3</td> <td>😜</td> <td>_usr En la tarde nos vemos _emo _emo _emo</td> </tr><tr><td>3</td> <td>5656 => 0.32</td> <td>😻</td> <td>Nos vemos pronto _usr _usr _emo _emo _url</td> </tr><tr><td>4</td> <td>2835 => 0.43</td> <td>😘</td> <td>_usr Muchas gracias! Nos vemos pronto _emo</td> </tr><tr><td>5</td> <td>44970 => 0.43</td> <td>😍</td> <td>_usr Pronto nos vemos hermana _emo _emo</td> </tr>\n",
       "</table>\n"
      ],
      "text/plain": [
       "<h3>Resultados para la consulta \"cuando nos vemos?\"</h3>\n",
       "<table>\n",
       "<tr><td>1</td> <td>41790 => 0.22</td> <td>😂</td> <td>Nos vemos!! _emo _emo _emo _emo _url</td> </tr><tr><td>2</td> <td>27642 => 0.3</td> <td>😜</td> <td>_usr En la tarde nos vemos _emo _emo _emo</td> </tr><tr><td>3</td> <td>5656 => 0.32</td> <td>😻</td> <td>Nos vemos pronto _usr _usr _emo _emo _url</td> </tr><tr><td>4</td> <td>2835 => 0.43</td> <td>😘</td> <td>_usr Muchas gracias! Nos vemos pronto _emo</td> </tr><tr><td>5</td> <td>44970 => 0.43</td> <td>😍</td> <td>_usr Pronto nos vemos hermana _emo _emo</td> </tr>\n",
       "</table>\n"
      ]
     },
     "metadata": {},
     "output_type": "display_data"
    },
    {
     "name": "stdout",
     "output_type": "stream",
     "text": [
      "  0.000162 seconds (21 allocations: 1.578 KiB)\n"
     ]
    },
    {
     "data": {
      "text/html": [
       "<h3>Resultados para la consulta \"feliz cumpleaños?\"</h3>\n",
       "<table>\n",
       "<tr><td>1</td> <td>37575 => 0.09</td> <td>❤</td> <td>_usr Feliz Cumpleaños _emo</td> </tr><tr><td>2</td> <td>41849 => 0.09</td> <td>😁</td> <td>Feliz Cumpleaños _emo _emo _usr</td> </tr><tr><td>3</td> <td>12769 => 0.09</td> <td>🙊</td> <td>Feliz Cumpleaños _usr _emo _emo _emo _emo _emo</td> </tr>\n",
       "</table>\n"
      ],
      "text/plain": [
       "<h3>Resultados para la consulta \"feliz cumpleaños?\"</h3>\n",
       "<table>\n",
       "<tr><td>1</td> <td>37575 => 0.09</td> <td>❤</td> <td>_usr Feliz Cumpleaños _emo</td> </tr><tr><td>2</td> <td>41849 => 0.09</td> <td>😁</td> <td>Feliz Cumpleaños _emo _emo _usr</td> </tr><tr><td>3</td> <td>12769 => 0.09</td> <td>🙊</td> <td>Feliz Cumpleaños _usr _emo _emo _emo _emo _emo</td> </tr>\n",
       "</table>\n"
      ]
     },
     "metadata": {},
     "output_type": "display_data"
    },
    {
     "name": "stdout",
     "output_type": "stream",
     "text": [
      "  0.000026 seconds (20 allocations: 1.422 KiB)\n"
     ]
    },
    {
     "data": {
      "text/html": [
       "<h3>Resultados para la consulta \"ola k ase\"</h3>\n",
       "<table>\n",
       "<tr><td>1</td> <td>23340 => 0.64</td> <td>😎</td> <td>_usr _usr Siempre, todo y todos los días de la semana desde ase muchoooooossss años _emo _emo</td> </tr><tr><td>2</td> <td>6952 => 0.7</td> <td>😤</td> <td>_usr k bueno k tu mizmo lo reconozcAszzzz _emo</td> </tr><tr><td>3</td> <td>1874 => 0.72</td> <td>😃</td> <td>Despertares!! (By OLA) # _emo _emo en Distrito Federal, Mexico _url</td> </tr>\n",
       "</table>\n"
      ],
      "text/plain": [
       "<h3>Resultados para la consulta \"ola k ase\"</h3>\n",
       "<table>\n",
       "<tr><td>1</td> <td>23340 => 0.64</td> <td>😎</td> <td>_usr _usr Siempre, todo y todos los días de la semana desde ase muchoooooossss años _emo _emo</td> </tr><tr><td>2</td> <td>6952 => 0.7</td> <td>😤</td> <td>_usr k bueno k tu mizmo lo reconozcAszzzz _emo</td> </tr><tr><td>3</td> <td>1874 => 0.72</td> <td>😃</td> <td>Despertares!! (By OLA) # _emo _emo en Distrito Federal, Mexico _url</td> </tr>\n",
       "</table>\n"
      ]
     },
     "metadata": {},
     "output_type": "display_data"
    },
    {
     "name": "stdout",
     "output_type": "stream",
     "text": [
      "  0.000275 seconds (20 allocations: 1.516 KiB)\n"
     ]
    },
    {
     "data": {
      "text/html": [
       "<h3>Resultados para la consulta \"mi humilde opinión\"</h3>\n",
       "<table>\n",
       "<tr><td>1</td> <td>19966 => 0.32</td> <td>🙏</td> <td>Bueno, cada quien su vida, ya se, solo es una humilde opinión !! _emo _emo _emo</td> </tr><tr><td>2</td> <td>7756 => 0.5</td> <td>😍</td> <td>_usr es la persona más humilde que conozco _emo</td> </tr><tr><td>3</td> <td>4755 => 0.62</td> <td>🤔</td> <td>_usr Bajo tu opinión fue o no falta? _emo</td> </tr><tr><td>4</td> <td>24948 => 0.62</td> <td>😊</td> <td>Gracias por compartir la información y tu opinión _emo _url</td> </tr><tr><td>5</td> <td>20021 => 0.64</td> <td>😉</td> <td>Cuantos Likes para mi humilde oficina _usr  _emo _emo @ CocoBongo _url</td> </tr><tr><td>6</td> <td>34164 => 0.66</td> <td>🤗</td> <td>Para ser feliz, no escuches la opinión de los demás _emo</td> </tr><tr><td>7</td> <td>47417 => 0.68</td> <td>👏</td> <td>_usr Totalmente de acuerdo contigo en todo. Comparto tu opinión _emo _emo _emo _emo</td> </tr><tr><td>8</td> <td>846 => 0.69</td> <td>😌</td> <td>Cambie de opinión quiero seguir siendo rubia _emo _emo _emo _emo _emo _emo</td> </tr><tr><td>9</td> <td>15711 => 0.72</td> <td>😌</td> <td>Tu opinión no me interesa más. No tengo nada que demostrarte, y si piensas lo peor de mi, MEJOR! _emo</td> </tr><tr><td>10</td> <td>9033 => 0.72</td> <td>😑</td> <td>Lo siento pero mi tez humilde no me deja ser guapo y estar bueno, eso sin mencionar la rodilla que me chingue! _emo _emo</td> </tr>\n",
       "</table>\n"
      ],
      "text/plain": [
       "<h3>Resultados para la consulta \"mi humilde opinión\"</h3>\n",
       "<table>\n",
       "<tr><td>1</td> <td>19966 => 0.32</td> <td>🙏</td> <td>Bueno, cada quien su vida, ya se, solo es una humilde opinión !! _emo _emo _emo</td> </tr><tr><td>2</td> <td>7756 => 0.5</td> <td>😍</td> <td>_usr es la persona más humilde que conozco _emo</td> </tr><tr><td>3</td> <td>4755 => 0.62</td> <td>🤔</td> <td>_usr Bajo tu opinión fue o no falta? _emo</td> </tr><tr><td>4</td> <td>24948 => 0.62</td> <td>😊</td> <td>Gracias por compartir la información y tu opinión _emo _url</td> </tr><tr><td>5</td> <td>20021 => 0.64</td> <td>😉</td> <td>Cuantos Likes para mi humilde oficina _usr  _emo _emo @ CocoBongo _url</td> </tr><tr><td>6</td> <td>34164 => 0.66</td> <td>🤗</td> <td>Para ser feliz, no escuches la opinión de los demás _emo</td> </tr><tr><td>7</td> <td>47417 => 0.68</td> <td>👏</td> <td>_usr Totalmente de acuerdo contigo en todo. Comparto tu opinión _emo _emo _emo _emo</td> </tr><tr><td>8</td> <td>846 => 0.69</td> <td>😌</td> <td>Cambie de opinión quiero seguir siendo rubia _emo _emo _emo _emo _emo _emo</td> </tr><tr><td>9</td> <td>15711 => 0.72</td> <td>😌</td> <td>Tu opinión no me interesa más. No tengo nada que demostrarte, y si piensas lo peor de mi, MEJOR! _emo</td> </tr><tr><td>10</td> <td>9033 => 0.72</td> <td>😑</td> <td>Lo siento pero mi tez humilde no me deja ser guapo y estar bueno, eso sin mencionar la rodilla que me chingue! _emo _emo</td> </tr>\n",
       "</table>\n"
      ]
     },
     "metadata": {},
     "output_type": "display_data"
    }
   ],
   "source": [
    "search_and_display(invfile, D, \"no importa distancia\", 5)\n",
    "search_and_display(invfile, D, \"cuando nos vemos?\", 5)\n",
    "search_and_display(invfile, D, \"feliz cumpleaños?\", 3)\n",
    "search_and_display(invfile, D, \"ola k ase\", 3)\n",
    "search_and_display(invfile, D, \"mi humilde opinión\", 10)"
   ]
  },
  {
   "cell_type": "markdown",
   "id": "33ad823b-70c0-447d-bfe0-8a920525ca12",
   "metadata": {},
   "source": [
    "### También es posible consultar elementos del mismo corpus, lo cual permité inspeccionar la estructura interna de la colección. Esto será de utilidad más adelante en el curso."
   ]
  },
  {
   "cell_type": "code",
   "execution_count": 7,
   "id": "bde30ad5-8c2d-4622-b0c2-994802b64e9d",
   "metadata": {},
   "outputs": [
    {
     "name": "stdout",
     "output_type": "stream",
     "text": [
      "  0.007163 seconds (66 allocations: 6.750 KiB)\n"
     ]
    },
    {
     "data": {
      "text/html": [
       "<h3>Resultados para la consulta \"KISSme comparte tus selfies y selcas hoy y mañana con el tag #KISSmeSelcaDay en corea ya es _num de Agosto ~ _emo _url\"</h3>\n",
       "<table>\n",
       "<tr><td>1</td> <td>15937 => -0.0</td> <td>♡</td> <td>KISSme comparte tus selfies y selcas hoy y mañana con el tag #KISSmeSelcaDay en corea ya es _num de Agosto ~ _emo _url</td> </tr><tr><td>2</td> <td>32835 => 0.77</td> <td>🌚</td> <td>Ya quiero que sea agosto _emo</td> </tr><tr><td>3</td> <td>41635 => 0.8</td> <td>😜</td> <td>Selfies con el Hermoso _usr Osmar y _usr _emo _emo _emo _emo _emo _emo _emo _emo _emo _emo _usr _usr _url</td> </tr><tr><td>4</td> <td>26382 => 0.81</td> <td>😳</td> <td>Me encanta meterme en las selfies _emo</td> </tr><tr><td>5</td> <td>31373 => 0.83</td> <td>😢</td> <td>_num de Agosto. Días gris. Día triste _emo</td> </tr><tr><td>6</td> <td>32337 => 0.84</td> <td>🙃</td> <td>Y aquí las _num cosas sobre mi.  Tag by _usr  (No tengo a quien etiquetar, así que YOLO _emo) _url</td> </tr><tr><td>7</td> <td>31160 => 0.84</td> <td>😊</td> <td>Que bonito cuando se comparte una de mis ilustraciones... _emo _url</td> </tr>\n",
       "</table>\n"
      ],
      "text/plain": [
       "<h3>Resultados para la consulta \"KISSme comparte tus selfies y selcas hoy y mañana con el tag #KISSmeSelcaDay en corea ya es _num de Agosto ~ _emo _url\"</h3>\n",
       "<table>\n",
       "<tr><td>1</td> <td>15937 => -0.0</td> <td>♡</td> <td>KISSme comparte tus selfies y selcas hoy y mañana con el tag #KISSmeSelcaDay en corea ya es _num de Agosto ~ _emo _url</td> </tr><tr><td>2</td> <td>32835 => 0.77</td> <td>🌚</td> <td>Ya quiero que sea agosto _emo</td> </tr><tr><td>3</td> <td>41635 => 0.8</td> <td>😜</td> <td>Selfies con el Hermoso _usr Osmar y _usr _emo _emo _emo _emo _emo _emo _emo _emo _emo _emo _usr _usr _url</td> </tr><tr><td>4</td> <td>26382 => 0.81</td> <td>😳</td> <td>Me encanta meterme en las selfies _emo</td> </tr><tr><td>5</td> <td>31373 => 0.83</td> <td>😢</td> <td>_num de Agosto. Días gris. Día triste _emo</td> </tr><tr><td>6</td> <td>32337 => 0.84</td> <td>🙃</td> <td>Y aquí las _num cosas sobre mi.  Tag by _usr  (No tengo a quien etiquetar, así que YOLO _emo) _url</td> </tr><tr><td>7</td> <td>31160 => 0.84</td> <td>😊</td> <td>Que bonito cuando se comparte una de mis ilustraciones... _emo _url</td> </tr>\n",
       "</table>\n"
      ]
     },
     "metadata": {},
     "output_type": "display_data"
    },
    {
     "name": "stdout",
     "output_type": "stream",
     "text": [
      "  0.000053 seconds (22 allocations: 1.641 KiB)\n"
     ]
    },
    {
     "data": {
      "text/html": [
       "<h3>Resultados para la consulta \"Hagamos esto realidad _emo\"</h3>\n",
       "<table>\n",
       "<tr><td>1</td> <td>19231 => -0.0</td> <td>🙈</td> <td>Hagamos esto realidad _emo</td> </tr><tr><td>2</td> <td>14163 => 0.36</td> <td>🎶</td> <td>Hagamos el amor _emo _emo</td> </tr><tr><td>3</td> <td>22248 => 0.56</td> <td>😅</td> <td>_usr Jajaja en realidad no _emo</td> </tr><tr><td>4</td> <td>30533 => 0.58</td> <td>😥</td> <td>Triste realidad _emo _url</td> </tr><tr><td>5</td> <td>43612 => 0.63</td> <td>😎</td> <td>_usr Jeje hagamos excursión prima _emo</td> </tr><tr><td>6</td> <td>30024 => 0.63</td> <td>😪</td> <td>De vuelta a mi realidad _emo</td> </tr><tr><td>7</td> <td>25983 => 0.64</td> <td>💙</td> <td>Hagamos TT! _emo _emo _emo #TelcelConFormulaE _usr _usr x_num _url</td> </tr>\n",
       "</table>\n"
      ],
      "text/plain": [
       "<h3>Resultados para la consulta \"Hagamos esto realidad _emo\"</h3>\n",
       "<table>\n",
       "<tr><td>1</td> <td>19231 => -0.0</td> <td>🙈</td> <td>Hagamos esto realidad _emo</td> </tr><tr><td>2</td> <td>14163 => 0.36</td> <td>🎶</td> <td>Hagamos el amor _emo _emo</td> </tr><tr><td>3</td> <td>22248 => 0.56</td> <td>😅</td> <td>_usr Jajaja en realidad no _emo</td> </tr><tr><td>4</td> <td>30533 => 0.58</td> <td>😥</td> <td>Triste realidad _emo _url</td> </tr><tr><td>5</td> <td>43612 => 0.63</td> <td>😎</td> <td>_usr Jeje hagamos excursión prima _emo</td> </tr><tr><td>6</td> <td>30024 => 0.63</td> <td>😪</td> <td>De vuelta a mi realidad _emo</td> </tr><tr><td>7</td> <td>25983 => 0.64</td> <td>💙</td> <td>Hagamos TT! _emo _emo _emo #TelcelConFormulaE _usr _usr x_num _url</td> </tr>\n",
       "</table>\n"
      ]
     },
     "metadata": {},
     "output_type": "display_data"
    },
    {
     "name": "stdout",
     "output_type": "stream",
     "text": [
      "  0.003726 seconds (49 allocations: 4.453 KiB)\n"
     ]
    },
    {
     "data": {
      "text/html": [
       "<h3>Resultados para la consulta \"Algo estoy haciendo mal con mi vida... . . . . Desde que nací _emo\"</h3>\n",
       "<table>\n",
       "<tr><td>1</td> <td>21313 => 0.0</td> <td>😐</td> <td>Algo estoy haciendo mal con mi vida... . . . . Desde que nací _emo</td> </tr><tr><td>2</td> <td>29003 => 0.0</td> <td>😐</td> <td>Algo estoy haciendo mal con mi vida... . . . . Desde que nací _emo</td> </tr><tr><td>3</td> <td>38401 => 0.56</td> <td>😬</td> <td>Algo estoy haciendo muy bien _emo</td> </tr><tr><td>4</td> <td>42379 => 0.59</td> <td>😴</td> <td>Yo nací cansada _emo.</td> </tr><tr><td>5</td> <td>16749 => 0.59</td> <td>💔</td> <td>No se que estoy haciendo mal con la vida que todo lo que quiero me lo quita _emo</td> </tr><tr><td>6</td> <td>41095 => 0.63</td> <td>😕</td> <td>Tenia meses sin tener insomnio _emo algo estoy haciendo mal _emo</td> </tr><tr><td>7</td> <td>25776 => 0.63</td> <td>😌</td> <td>Algo estás haciendo bien _emo _emo _emo</td> </tr>\n",
       "</table>\n"
      ],
      "text/plain": [
       "<h3>Resultados para la consulta \"Algo estoy haciendo mal con mi vida... . . . . Desde que nací _emo\"</h3>\n",
       "<table>\n",
       "<tr><td>1</td> <td>21313 => 0.0</td> <td>😐</td> <td>Algo estoy haciendo mal con mi vida... . . . . Desde que nací _emo</td> </tr><tr><td>2</td> <td>29003 => 0.0</td> <td>😐</td> <td>Algo estoy haciendo mal con mi vida... . . . . Desde que nací _emo</td> </tr><tr><td>3</td> <td>38401 => 0.56</td> <td>😬</td> <td>Algo estoy haciendo muy bien _emo</td> </tr><tr><td>4</td> <td>42379 => 0.59</td> <td>😴</td> <td>Yo nací cansada _emo.</td> </tr><tr><td>5</td> <td>16749 => 0.59</td> <td>💔</td> <td>No se que estoy haciendo mal con la vida que todo lo que quiero me lo quita _emo</td> </tr><tr><td>6</td> <td>41095 => 0.63</td> <td>😕</td> <td>Tenia meses sin tener insomnio _emo algo estoy haciendo mal _emo</td> </tr><tr><td>7</td> <td>25776 => 0.63</td> <td>😌</td> <td>Algo estás haciendo bien _emo _emo _emo</td> </tr>\n",
       "</table>\n"
      ]
     },
     "metadata": {},
     "output_type": "display_data"
    },
    {
     "name": "stdout",
     "output_type": "stream",
     "text": [
      "  0.000837 seconds (36 allocations: 2.578 KiB)\n"
     ]
    },
    {
     "data": {
      "text/html": [
       "<h3>Resultados para la consulta \"Se me antojaron unas donas glaseadas _emo _emo _emo _emo\"</h3>\n",
       "<table>\n",
       "<tr><td>1</td> <td>31128 => -0.0</td> <td>😋</td> <td>Se me antojaron unas donas glaseadas _emo _emo _emo _emo</td> </tr><tr><td>2</td> <td>34027 => 0.54</td> <td>😃</td> <td>Se me antojaron unas papitas _emo</td> </tr><tr><td>3</td> <td>49547 => 0.62</td> <td>😰</td> <td>Ya se antojaron los tacos _emo</td> </tr><tr><td>4</td> <td>25285 => 0.67</td> <td>😕</td> <td>No me jodan, si se me antojaron _emo</td> </tr><tr><td>5</td> <td>22065 => 0.71</td> <td>🤓</td> <td>No puedo comer donas, pero la caja está cool _emo _url</td> </tr><tr><td>6</td> <td>45004 => 0.72</td> <td>🌚</td> <td>_usr _usr Jajajaja también se me antojaron. Es muy buena idea esa _emo.</td> </tr><tr><td>7</td> <td>30896 => 0.72</td> <td>😩</td> <td>Se me antojaròn unos tacos de chistorra _emo _emo _emo _emo _emo</td> </tr>\n",
       "</table>\n"
      ],
      "text/plain": [
       "<h3>Resultados para la consulta \"Se me antojaron unas donas glaseadas _emo _emo _emo _emo\"</h3>\n",
       "<table>\n",
       "<tr><td>1</td> <td>31128 => -0.0</td> <td>😋</td> <td>Se me antojaron unas donas glaseadas _emo _emo _emo _emo</td> </tr><tr><td>2</td> <td>34027 => 0.54</td> <td>😃</td> <td>Se me antojaron unas papitas _emo</td> </tr><tr><td>3</td> <td>49547 => 0.62</td> <td>😰</td> <td>Ya se antojaron los tacos _emo</td> </tr><tr><td>4</td> <td>25285 => 0.67</td> <td>😕</td> <td>No me jodan, si se me antojaron _emo</td> </tr><tr><td>5</td> <td>22065 => 0.71</td> <td>🤓</td> <td>No puedo comer donas, pero la caja está cool _emo _url</td> </tr><tr><td>6</td> <td>45004 => 0.72</td> <td>🌚</td> <td>_usr _usr Jajajaja también se me antojaron. Es muy buena idea esa _emo.</td> </tr><tr><td>7</td> <td>30896 => 0.72</td> <td>😩</td> <td>Se me antojaròn unos tacos de chistorra _emo _emo _emo _emo _emo</td> </tr>\n",
       "</table>\n"
      ]
     },
     "metadata": {},
     "output_type": "display_data"
    },
    {
     "name": "stdout",
     "output_type": "stream",
     "text": [
      "  0.001408 seconds (27 allocations: 2.031 KiB)\n"
     ]
    },
    {
     "data": {
      "text/html": [
       "<h3>Resultados para la consulta \"_usr Jajajajaja siiiii _emo que triste\"</h3>\n",
       "<table>\n",
       "<tr><td>1</td> <td>32982 => -0.0</td> <td>😑</td> <td>_usr Jajajajaja siiiii _emo que triste</td> </tr><tr><td>2</td> <td>11146 => 0.4</td> <td>👏</td> <td>_usr _usr siiiii...mucho!!! _emo _emo</td> </tr><tr><td>3</td> <td>1782 => 0.51</td> <td>🤣</td> <td>_usr _emo _emo _emo _emo Jajajajaja</td> </tr><tr><td>4</td> <td>6295 => 0.51</td> <td>😉</td> <td>_usr jajajajaja _emo</td> </tr><tr><td>5</td> <td>9055 => 0.51</td> <td>🤣</td> <td>_usr Jajajajaja _emo</td> </tr><tr><td>6</td> <td>22061 => 0.51</td> <td>😋</td> <td>_usr jajajajaja _emo</td> </tr><tr><td>7</td> <td>46703 => 0.51</td> <td>😉</td> <td>_usr jajajajaja _emo</td> </tr>\n",
       "</table>\n"
      ],
      "text/plain": [
       "<h3>Resultados para la consulta \"_usr Jajajajaja siiiii _emo que triste\"</h3>\n",
       "<table>\n",
       "<tr><td>1</td> <td>32982 => -0.0</td> <td>😑</td> <td>_usr Jajajajaja siiiii _emo que triste</td> </tr><tr><td>2</td> <td>11146 => 0.4</td> <td>👏</td> <td>_usr _usr siiiii...mucho!!! _emo _emo</td> </tr><tr><td>3</td> <td>1782 => 0.51</td> <td>🤣</td> <td>_usr _emo _emo _emo _emo Jajajajaja</td> </tr><tr><td>4</td> <td>6295 => 0.51</td> <td>😉</td> <td>_usr jajajajaja _emo</td> </tr><tr><td>5</td> <td>9055 => 0.51</td> <td>🤣</td> <td>_usr Jajajajaja _emo</td> </tr><tr><td>6</td> <td>22061 => 0.51</td> <td>😋</td> <td>_usr jajajajaja _emo</td> </tr><tr><td>7</td> <td>46703 => 0.51</td> <td>😉</td> <td>_usr jajajajaja _emo</td> </tr>\n",
       "</table>\n"
      ]
     },
     "metadata": {},
     "output_type": "display_data"
    },
    {
     "name": "stdout",
     "output_type": "stream",
     "text": [
      "  0.001264 seconds (31 allocations: 2.234 KiB)\n"
     ]
    },
    {
     "data": {
      "text/html": [
       "<h3>Resultados para la consulta \"Soy una diabla disfrazada de mujer... _emo\"</h3>\n",
       "<table>\n",
       "<tr><td>1</td> <td>16723 => 0.0</td> <td>🤭</td> <td>Soy una diabla disfrazada de mujer... _emo</td> </tr><tr><td>2</td> <td>43332 => 0.0</td> <td>🤭</td> <td>Soy una diabla disfrazada de mujer... _emo</td> </tr><tr><td>3</td> <td>24271 => 0.56</td> <td>😈</td> <td>Quiero hacerte una diabla! _emo</td> </tr><tr><td>4</td> <td>28529 => 0.62</td> <td>😏</td> <td>Es una diabla, ella no siente temor... _emo</td> </tr><tr><td>5</td> <td>40261 => 0.64</td> <td>🌚</td> <td>Que mujer. _emo _emo _url</td> </tr><tr><td>6</td> <td>48754 => 0.65</td> <td>🎶</td> <td>Porque tú ere una diabla dentro de una mujer y cuando se esconde el sol tú quiere beber _emo _emo _emo _emo</td> </tr><tr><td>7</td> <td>48239 => 0.68</td> <td>😍</td> <td>Si porque soy de esta hermosa mujer _emo _emo _emo _emo _emo _url</td> </tr>\n",
       "</table>\n"
      ],
      "text/plain": [
       "<h3>Resultados para la consulta \"Soy una diabla disfrazada de mujer... _emo\"</h3>\n",
       "<table>\n",
       "<tr><td>1</td> <td>16723 => 0.0</td> <td>🤭</td> <td>Soy una diabla disfrazada de mujer... _emo</td> </tr><tr><td>2</td> <td>43332 => 0.0</td> <td>🤭</td> <td>Soy una diabla disfrazada de mujer... _emo</td> </tr><tr><td>3</td> <td>24271 => 0.56</td> <td>😈</td> <td>Quiero hacerte una diabla! _emo</td> </tr><tr><td>4</td> <td>28529 => 0.62</td> <td>😏</td> <td>Es una diabla, ella no siente temor... _emo</td> </tr><tr><td>5</td> <td>40261 => 0.64</td> <td>🌚</td> <td>Que mujer. _emo _emo _url</td> </tr><tr><td>6</td> <td>48754 => 0.65</td> <td>🎶</td> <td>Porque tú ere una diabla dentro de una mujer y cuando se esconde el sol tú quiere beber _emo _emo _emo _emo</td> </tr><tr><td>7</td> <td>48239 => 0.68</td> <td>😍</td> <td>Si porque soy de esta hermosa mujer _emo _emo _emo _emo _emo _url</td> </tr>\n",
       "</table>\n"
      ]
     },
     "metadata": {},
     "output_type": "display_data"
    },
    {
     "name": "stdout",
     "output_type": "stream",
     "text": [
      "  0.001006 seconds (30 allocations: 2.266 KiB)\n"
     ]
    },
    {
     "data": {
      "text/html": [
       "<h3>Resultados para la consulta \"#SoyTanRebeldeQue todo me vale. Incluyéndote _emo\"</h3>\n",
       "<table>\n",
       "<tr><td>1</td> <td>18960 => -0.0</td> <td>😈</td> <td>#SoyTanRebeldeQue todo me vale. Incluyéndote _emo</td> </tr><tr><td>2</td> <td>9386 => 0.61</td> <td>😉</td> <td>_usr vale _emo.</td> </tr><tr><td>3</td> <td>19732 => 0.66</td> <td>😢</td> <td>No se vale _emo</td> </tr><tr><td>4</td> <td>10664 => 0.7</td> <td>😠</td> <td>No se vale!! _emo _url</td> </tr><tr><td>5</td> <td>11507 => 0.75</td> <td>🙄</td> <td>_usr Más te vale Jajajajajaja _emo</td> </tr><tr><td>6</td> <td>15523 => 0.76</td> <td>🙊</td> <td>_usr Más te vale que nadie.. _emo</td> </tr><tr><td>7</td> <td>42196 => 0.77</td> <td>😅</td> <td>_usr se vale soñar! _emo _emo</td> </tr>\n",
       "</table>\n"
      ],
      "text/plain": [
       "<h3>Resultados para la consulta \"#SoyTanRebeldeQue todo me vale. Incluyéndote _emo\"</h3>\n",
       "<table>\n",
       "<tr><td>1</td> <td>18960 => -0.0</td> <td>😈</td> <td>#SoyTanRebeldeQue todo me vale. Incluyéndote _emo</td> </tr><tr><td>2</td> <td>9386 => 0.61</td> <td>😉</td> <td>_usr vale _emo.</td> </tr><tr><td>3</td> <td>19732 => 0.66</td> <td>😢</td> <td>No se vale _emo</td> </tr><tr><td>4</td> <td>10664 => 0.7</td> <td>😠</td> <td>No se vale!! _emo _url</td> </tr><tr><td>5</td> <td>11507 => 0.75</td> <td>🙄</td> <td>_usr Más te vale Jajajajajaja _emo</td> </tr><tr><td>6</td> <td>15523 => 0.76</td> <td>🙊</td> <td>_usr Más te vale que nadie.. _emo</td> </tr><tr><td>7</td> <td>42196 => 0.77</td> <td>😅</td> <td>_usr se vale soñar! _emo _emo</td> </tr>\n",
       "</table>\n"
      ]
     },
     "metadata": {},
     "output_type": "display_data"
    },
    {
     "name": "stdout",
     "output_type": "stream",
     "text": [
      "  0.003789 seconds (42 allocations: 4.141 KiB)\n"
     ]
    },
    {
     "data": {
      "text/html": [
       "<h3>Resultados para la consulta \"_usr Como estoy de vacaciones creo que yo tampoco dormiré bro _emo\"</h3>\n",
       "<table>\n",
       "<tr><td>1</td> <td>2268 => 0.0</td> <td>😂</td> <td>_usr Como estoy de vacaciones creo que yo tampoco dormiré bro _emo</td> </tr><tr><td>2</td> <td>21338 => 0.53</td> <td>😴</td> <td>Dormiré _emo...</td> </tr><tr><td>3</td> <td>30831 => 0.53</td> <td>😳</td> <td>Ya dormire _emo _emo</td> </tr><tr><td>4</td> <td>11157 => 0.54</td> <td>😩</td> <td>yo tampoco _emo</td> </tr><tr><td>5</td> <td>19377 => 0.55</td> <td>😰</td> <td>_usr entonces creo que yo tampoco _emo</td> </tr><tr><td>6</td> <td>30257 => 0.55</td> <td>😕</td> <td>no puedo dormir y creo que no dormiré _emo</td> </tr><tr><td>7</td> <td>970 => 0.55</td> <td>😬</td> <td>Ya no dormiré. _emo</td> </tr>\n",
       "</table>\n"
      ],
      "text/plain": [
       "<h3>Resultados para la consulta \"_usr Como estoy de vacaciones creo que yo tampoco dormiré bro _emo\"</h3>\n",
       "<table>\n",
       "<tr><td>1</td> <td>2268 => 0.0</td> <td>😂</td> <td>_usr Como estoy de vacaciones creo que yo tampoco dormiré bro _emo</td> </tr><tr><td>2</td> <td>21338 => 0.53</td> <td>😴</td> <td>Dormiré _emo...</td> </tr><tr><td>3</td> <td>30831 => 0.53</td> <td>😳</td> <td>Ya dormire _emo _emo</td> </tr><tr><td>4</td> <td>11157 => 0.54</td> <td>😩</td> <td>yo tampoco _emo</td> </tr><tr><td>5</td> <td>19377 => 0.55</td> <td>😰</td> <td>_usr entonces creo que yo tampoco _emo</td> </tr><tr><td>6</td> <td>30257 => 0.55</td> <td>😕</td> <td>no puedo dormir y creo que no dormiré _emo</td> </tr><tr><td>7</td> <td>970 => 0.55</td> <td>😬</td> <td>Ya no dormiré. _emo</td> </tr>\n",
       "</table>\n"
      ]
     },
     "metadata": {},
     "output_type": "display_data"
    },
    {
     "name": "stdout",
     "output_type": "stream",
     "text": [
      "  0.005434 seconds (57 allocations: 4.984 KiB)\n"
     ]
    },
    {
     "data": {
      "text/html": [
       "<h3>Resultados para la consulta \"No planeo ser tu otra mitad, quiero ser el que te recuerde que estas completa! _emo _emo _emo\"</h3>\n",
       "<table>\n",
       "<tr><td>1</td> <td>33246 => -0.0</td> <td>😏</td> <td>No planeo ser tu otra mitad, quiero ser el que te recuerde que estas completa! _emo _emo _emo</td> </tr><tr><td>2</td> <td>23958 => 0.64</td> <td>💜</td> <td>Quiero ser tú todo _emo.</td> </tr><tr><td>3</td> <td>40822 => 0.68</td> <td>💔</td> <td>Y tú eras la otra mitad _emo</td> </tr><tr><td>4</td> <td>27262 => 0.69</td> <td>♥</td> <td>Ya la quiero escuchar completa. _usr _emo _emo _url</td> </tr><tr><td>5</td> <td>13505 => 0.7</td> <td>😰</td> <td>Familia completa _emo</td> </tr><tr><td>6</td> <td>49825 => 0.7</td> <td>😉</td> <td>No quiero ser un capítulo, quiero ser una historia. _emo</td> </tr><tr><td>7</td> <td>25533 => 0.7</td> <td>😋</td> <td>_usr Pero no a la mitad _emo</td> </tr>\n",
       "</table>\n"
      ],
      "text/plain": [
       "<h3>Resultados para la consulta \"No planeo ser tu otra mitad, quiero ser el que te recuerde que estas completa! _emo _emo _emo\"</h3>\n",
       "<table>\n",
       "<tr><td>1</td> <td>33246 => -0.0</td> <td>😏</td> <td>No planeo ser tu otra mitad, quiero ser el que te recuerde que estas completa! _emo _emo _emo</td> </tr><tr><td>2</td> <td>23958 => 0.64</td> <td>💜</td> <td>Quiero ser tú todo _emo.</td> </tr><tr><td>3</td> <td>40822 => 0.68</td> <td>💔</td> <td>Y tú eras la otra mitad _emo</td> </tr><tr><td>4</td> <td>27262 => 0.69</td> <td>♥</td> <td>Ya la quiero escuchar completa. _usr _emo _emo _url</td> </tr><tr><td>5</td> <td>13505 => 0.7</td> <td>😰</td> <td>Familia completa _emo</td> </tr><tr><td>6</td> <td>49825 => 0.7</td> <td>😉</td> <td>No quiero ser un capítulo, quiero ser una historia. _emo</td> </tr><tr><td>7</td> <td>25533 => 0.7</td> <td>😋</td> <td>_usr Pero no a la mitad _emo</td> </tr>\n",
       "</table>\n"
      ]
     },
     "metadata": {},
     "output_type": "display_data"
    },
    {
     "name": "stdout",
     "output_type": "stream",
     "text": [
      "  0.001008 seconds (30 allocations: 2.156 KiB)\n"
     ]
    },
    {
     "data": {
      "text/html": [
       "<h3>Resultados para la consulta \"Amo las Prispas con todo mi cora _emo\"</h3>\n",
       "<table>\n",
       "<tr><td>1</td> <td>20483 => 0.0</td> <td>✨</td> <td>Amo las Prispas con todo mi cora _emo</td> </tr><tr><td>2</td> <td>22770 => 0.5</td> <td>💔</td> <td>En el cora _emo _url</td> </tr><tr><td>3</td> <td>45048 => 0.51</td> <td>❤</td> <td>_usr en el cora _emo _emo _url</td> </tr><tr><td>4</td> <td>3447 => 0.6</td> <td>💔</td> <td>Justo en el cora _emo</td> </tr><tr><td>5</td> <td>15155 => 0.6</td> <td>💔</td> <td>Justo en el cora _emo</td> </tr><tr><td>6</td> <td>24163 => 0.6</td> <td>💔</td> <td>Justo en el cora _emo</td> </tr><tr><td>7</td> <td>667 => 0.62</td> <td>😐</td> <td>Justo en el cora! _emo _url</td> </tr>\n",
       "</table>\n"
      ],
      "text/plain": [
       "<h3>Resultados para la consulta \"Amo las Prispas con todo mi cora _emo\"</h3>\n",
       "<table>\n",
       "<tr><td>1</td> <td>20483 => 0.0</td> <td>✨</td> <td>Amo las Prispas con todo mi cora _emo</td> </tr><tr><td>2</td> <td>22770 => 0.5</td> <td>💔</td> <td>En el cora _emo _url</td> </tr><tr><td>3</td> <td>45048 => 0.51</td> <td>❤</td> <td>_usr en el cora _emo _emo _url</td> </tr><tr><td>4</td> <td>3447 => 0.6</td> <td>💔</td> <td>Justo en el cora _emo</td> </tr><tr><td>5</td> <td>15155 => 0.6</td> <td>💔</td> <td>Justo en el cora _emo</td> </tr><tr><td>6</td> <td>24163 => 0.6</td> <td>💔</td> <td>Justo en el cora _emo</td> </tr><tr><td>7</td> <td>667 => 0.62</td> <td>😐</td> <td>Justo en el cora! _emo _url</td> </tr>\n",
       "</table>\n"
      ]
     },
     "metadata": {},
     "output_type": "display_data"
    }
   ],
   "source": [
    "for i in 1:10\n",
    "    qID = rand(1:length(D.corpus))\n",
    "    search_and_display(invfile, D, D.corpus[qID], 7)\n",
    "end"
   ]
  },
  {
   "cell_type": "markdown",
   "id": "5403b789-c8d3-4a86-957d-e7500efefe9d",
   "metadata": {},
   "source": [
    "# Actividades\n",
    "\n",
    "- Revisión de los servicios y empresas mencionados \n",
    "- Revisión de los proyectos open source mencionados\n",
    "- Cargue este notebook y modifique las consultas (necesita Jupyter y el kernel de Julia <https://github.com/JuliaLang/IJulia.jl>)\n",
    "- Revise la bibliografía sobre recuperación de información, en especial [^SMR2008] se encuentra libre desde <https://nlp.stanford.edu/IR-book/pdf/irbookonlinereading.pdf>"
   ]
  },
  {
   "cell_type": "markdown",
   "id": "f558a317-b84c-45b2-a185-36af24741ace",
   "metadata": {},
   "source": [
    "# Bibliografía\n",
    "- [SMR2008] Schütze, H., Manning, C. D., & Raghavan, P. (2008). Introduction to information retrieval (Vol. 39, pp. 234-65). Cambridge: Cambridge University Press.\n",
    "- [BYN1999] Baeza-Yates, R., & Ribeiro-Neto, B. (1999). Modern information retrieval (Vol. 463). New York: ACM press."
   ]
  }
 ],
 "metadata": {
  "kernelspec": {
   "display_name": "Julia 1.7.2",
   "language": "julia",
   "name": "julia-1.7"
  },
  "language_info": {
   "file_extension": ".jl",
   "mimetype": "application/julia",
   "name": "julia",
   "version": "1.7.2"
  }
 },
 "nbformat": 4,
 "nbformat_minor": 5
}
