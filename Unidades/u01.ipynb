{
 "cells": [
  {
   "cell_type": "markdown",
   "id": "b606b63e-967d-4d4d-85e4-e02a32020425",
   "metadata": {},
   "source": [
    "# Introducción a la recuperación de información\n",
    "Autor: Eric S. Tellez <eric.tellez@infotec.mx><br/>\n",
    "\n",
    "La recuperación de información se crea a partir de la necesidad de simplificar el acceso y revisión de documentos en grandes colecciones. Estas colecciones pueden ser homogeneas o heterogeneas, tanto en su contenido como en su formato. En su inicio, se consideraban colecciones unicamente de texto pero las necesidades de información se han diversificado, y ahora es común encontrar sistemas de recuperación de información sobre otros datos como imagenes o videos, o include multimodales, esto es que puedan usar diferentes tipos de objetos. Un objeto puede ser un documento de texto, una imagen, o cualquier otro tipo de datos que se desee tener acceso. \n",
    "\n",
    "Mantener un sistema de información homogeneo puede simplificar su mantenimiento enormemente, por lo que si es posible, se puede intentar mantener cierta homegeneidad. Para sistemas de fuentes abiertas como puede ser la web, esto será posible.\n",
    "\n",
    "En general, se puede ver un sistema de recuperación de información en tres grandes partes:\n",
    "\n",
    "1. Recolección de datos, normalización y modelado matemático.\n",
    "2. Indexamiento, interpretación de consultas y optimización\n",
    "3. Agregación y filtrado de resultados, presentación de los mismos\n",
    "\n",
    "\n",
    "En este curso se visitarán parcialmente todas estas partes. En general se usaran conjuntos de datos previamente recolecados, aunque se invita a usar sus propias colecciones de tal forma que puedan sacar provecho de los temas de manera más amplia. La normalización puede ir desde el simple preprocesamiento de los datos hasta manipulaciones y transformaciones dependientes del dominio. Una vez aplicado el modelado adecuado a las colecciones, las representaciones matemáticas suelen ser vectores de alta dimensión para cada objeto.\n",
    "\n",
    "En cuanto al indexamiento se utilizarán dos tipos de algoritmos, búsqueda mediante índices invertidos y búsqueda por índices métricos. Ambas tienen sus nichos de aplicación y usarlas adecuadamente requiere conocer los problemas y sus modelados.\n",
    "\n",
    "La presentación de los resultados puede ser tan simple como una lista de resultados más relevantes y una pequeña muestra del objeto, o más complejo que requiera alguna técnica de visualización. Todo esto dependerá del dominio de aplicación y la naturaleza del sistema de recuperación de información.\n",
    "\n",
    "\n",
    "# Ejemplos de sistemas de recuperación información\n",
    "\n",
    "- Google,scholar google, google images, google news, youtube...\n",
    "- Bing!\n",
    "- Yahoo search\n",
    "- Yandex\n",
    "- DuckDuckGo\n",
    "- ...\n",
    "\n",
    "También es común que el sistema de recuperación de información no sea el principal producto, si no más bien un complemento imperdible\n",
    "como es el caso de los sistemas de streaming de videos, películas, música, redes sociales, etc.\n",
    "\n",
    "# Ejemplos de implementación de search engines open source\n",
    "- [Apache Lucene](https://lucene.apache.org/)\n",
    "- [Apache SOLR](https://solr.apache.org/)\n",
    "- [ElasticSearch](https://www.elastic.co/es/what-is/elasticsearch)\n",
    "- [hnswlib](https://github.com/nmslib/hnswlib)\n",
    "- [FAISS](https://github.com/facebookresearch/faiss)\n",
    "- [TextSearch.jl](https://github.com/sadit/TextSearch.jl)\n",
    "- [InvertedFiles.jl](https://github.com/sadit/InvertedFiles.jl)\n",
    "- [SimilaritySearch.jl](https://github.com/sadit/SimilaritySearch.jl)\n",
    "\n",
    "\n",
    "# Ejemplo\n",
    "\n",
    "\n",
    "Construcción de un índice de búsqueda para una colección de mensajes de Twitter. Los mensajes se pueden ver como documentos cortos. Se preprocesan y se modalen en vectores mediante un vocabulario. Después se construye el índice con dichos vectores y se hace posible la búsqueda eficiente. Note que existen etiquetas que se pueden usar para otras tareas; de manera más genérica, se pueden ver como metadatos asociados a los elementos del corpus.\n",
    "\n",
    "Nota: La primera vez que se corra este notebook los paquetes necesarios se instalaran de manera automática, es posible que tome un tiempo considerable.\n",
    "\n"
   ]
  },
  {
   "cell_type": "code",
   "execution_count": 1,
   "id": "bb11ca12-b635-45bb-ac02-14523674ded8",
   "metadata": {},
   "outputs": [
    {
     "name": "stderr",
     "output_type": "stream",
     "text": [
      "\u001b[32m\u001b[1m  Activating\u001b[22m\u001b[39m project at `~/IR-2022/Unidades`\n"
     ]
    }
   ],
   "source": [
    "using Pkg\n",
    "Pkg.activate(\".\")\n",
    "\n",
    "using TextSearch, InvertedFiles, SimilaritySearch, TextSearch, LinearAlgebra, HypertextLiteral"
   ]
  },
  {
   "cell_type": "markdown",
   "id": "f3fd994e-6be8-45c8-a0fc-8f05dfcf2636",
   "metadata": {},
   "source": [
    "## Funciones para leer y modelar el corpus"
   ]
  },
  {
   "cell_type": "code",
   "execution_count": 2,
   "id": "d9482f05-8d88-4896-9b9e-646bc1da2abb",
   "metadata": {},
   "outputs": [
    {
     "data": {
      "text/plain": [
       "text_model_and_vectors (generic function with 1 method)"
      ]
     },
     "execution_count": 2,
     "metadata": {},
     "output_type": "execute_result"
    }
   ],
   "source": [
    "function text_model_and_vectors(corpus)\n",
    "    textconfig = TextConfig(group_usr=true, group_url=true, del_diac=true, lc=true, group_num=true, nlist=[1], qlist=[])\n",
    "    model = VectorModel(IdfWeighting(), TfWeighting(), textconfig, corpus)    \n",
    "    vectors = vectorize_corpus(model, textconfig, corpus)\n",
    "\n",
    "    (; textconfig, model, vectors)\n",
    "end\n"
   ]
  },
  {
   "cell_type": "code",
   "execution_count": 3,
   "id": "1176ef00-1153-4cba-bb89-354d634c857e",
   "metadata": {},
   "outputs": [
    {
     "data": {
      "text/html": [
       "<h1>Cargando el corpus</h1>"
      ],
      "text/plain": [
       "<h1>Cargando el corpus</h1>"
      ]
     },
     "metadata": {},
     "output_type": "display_data"
    },
    {
     "name": "stdout",
     "output_type": "stream",
     "text": [
      "(unique(D.labels), T.model) = ([\"♡\", \"😒\", \"💖\", \"😴\", \"😍\", \"😓\", \"😬\", \"💙\", \"😃\", \"😡\", \"🤓\", \"🙂\", \"❤\", \"😠\", \"😳\", \"😭\", \"👌\", \"🌚\", \"😅\", \"😐\", \"😋\", \"😕\", \"😉\", \"😢\", \"😱\", \"💕\", \"🤣\", \"😪\", \"😎\", \"😏\", \"😻\", \"🤭\", \"💜\", \"🙈\", \"🙏\", \"😥\", \"😀\", \"😤\", \"😩\", \"😘\", \"😊\", \"🙄\", \"🤗\", \"😜\", \"😑\", \"✨\", \"😰\", \"😂\", \"🎶\", \"🙃\", \"🙊\", \"🤤\", \"👏\", \"😁\", \"😞\", \"😣\", \"😌\", \"🤔\", \"♥\", \"💔\", \"👀\", \"😔\", \"😈\", \"😫\"], {VectorModel global_weighting=IdfWeighting(), local_weighting=TfWeighting(), train-voc=42613, train-n=45000, maxoccs=84698})\n"
     ]
    },
    {
     "data": {
      "text/plain": [
       "([\"♡\", \"😒\", \"💖\", \"😴\", \"😍\", \"😓\", \"😬\", \"💙\", \"😃\", \"😡\"  …  \"😞\", \"😣\", \"😌\", \"🤔\", \"♥\", \"💔\", \"👀\", \"😔\", \"😈\", \"😫\"], {VectorModel global_weighting=IdfWeighting(), local_weighting=TfWeighting(), train-voc=42613, train-n=45000, maxoccs=84698})"
      ]
     },
     "execution_count": 3,
     "metadata": {},
     "output_type": "execute_result"
    }
   ],
   "source": [
    "display(@htl \"<h1>Cargando el corpus</h1>\")\n",
    "\n",
    "include(\"read_datasets.jl\")\n",
    "D, _ = read_emojispace()\n",
    "T = text_model_and_vectors(D.corpus)\n",
    "\n",
    "@show unique(D.labels), T.model"
   ]
  },
  {
   "cell_type": "markdown",
   "id": "e6ab564f-f90b-4b18-a090-ed3ecb4ec717",
   "metadata": {},
   "source": [
    "### Note que las etiquetas son emojis, que hay 45k ejemplos y un vocabulario de más de 42k tokens. A continuación se construirá el índice invertido usando el paquete <https://github.com/sadit/TextSearch.jl>, claramente, el código solo funcionará con dicha implementación, pero el procedimiento general aplicaría a otras implementaciones."
   ]
  },
  {
   "cell_type": "code",
   "execution_count": 4,
   "id": "cd7ccd91-c1c2-4a04-b792-d38a8c65342a",
   "metadata": {},
   "outputs": [
    {
     "data": {
      "text/plain": [
       "{WeightedInvertedFile vocsize=42613, n=45000}"
      ]
     },
     "execution_count": 4,
     "metadata": {},
     "output_type": "execute_result"
    }
   ],
   "source": [
    "invfile = WeightedInvertedFile(length(T.model.voc))\n",
    "append!(invfile, VectorDatabase(T.vectors))"
   ]
  },
  {
   "cell_type": "code",
   "execution_count": 5,
   "id": "c0f207f2-ed09-4fec-9da6-2ad625c21801",
   "metadata": {},
   "outputs": [
    {
     "data": {
      "text/plain": [
       "search_and_display (generic function with 1 method)"
      ]
     },
     "execution_count": 5,
     "metadata": {},
     "output_type": "execute_result"
    }
   ],
   "source": [
    "function search_and_display(invfile, q, k, D, T)\n",
    "    res = KnnResult(k)\n",
    "    @time search(invfile, vectorize(T.model, T.textconfig, q), res)\n",
    "    L = []\n",
    "    for (i, (id, dist)) in enumerate(res)\n",
    "        dist = round(dist, digits=2)\n",
    "        push!(L, @htl \"\"\"<tr><td>$i</td> <td>$id => $dist</td> <td>$(D.labels[id])</td> <td>$(D.corpus[id])</td> </tr>\"\"\")\n",
    "       # println(i, \" \", id => round(dist, digits=2), \" \", D.labels[i], \" \", D.corpus[id])\n",
    "    end\n",
    "\n",
    "    display(@htl \"\"\"\n",
    "    <h3>Resultados para la consulta \"$q\"</h3>\n",
    "    <table>\n",
    "    $L\n",
    "    </table>\n",
    "    \"\"\")\n",
    "end"
   ]
  },
  {
   "cell_type": "code",
   "execution_count": 6,
   "id": "046760fa-03d2-4bc9-a6cd-418c4f655b43",
   "metadata": {},
   "outputs": [
    {
     "name": "stdout",
     "output_type": "stream",
     "text": [
      "  0.000307 seconds (18 allocations: 3.344 KiB)\n"
     ]
    },
    {
     "data": {
      "text/html": [
       "<h3>Resultados para la consulta \"no importa distancia\"</h3>\n",
       "<table>\n",
       "<tr><td>1</td> <td>35343 => 0.03</td> <td>💕</td> <td>No importa la distancia _emo _usr _url</td> </tr><tr><td>2</td> <td>24815 => 0.38</td> <td>😓</td> <td>Me caga la distancia _emo</td> </tr><tr><td>3</td> <td>37163 => 0.52</td> <td>😃</td> <td>No importa cuando...  _emo _emo _url</td> </tr><tr><td>4</td> <td>36425 => 0.57</td> <td>😑</td> <td>_usr A ti no te importa _emo</td> </tr><tr><td>5</td> <td>1288 => 0.57</td> <td>😥</td> <td>tiempo y distancia, quizás sea eso... _emo</td> </tr>\n",
       "</table>\n"
      ],
      "text/plain": [
       "<h3>Resultados para la consulta \"no importa distancia\"</h3>\n",
       "<table>\n",
       "<tr><td>1</td> <td>35343 => 0.03</td> <td>💕</td> <td>No importa la distancia _emo _usr _url</td> </tr><tr><td>2</td> <td>24815 => 0.38</td> <td>😓</td> <td>Me caga la distancia _emo</td> </tr><tr><td>3</td> <td>37163 => 0.52</td> <td>😃</td> <td>No importa cuando...  _emo _emo _url</td> </tr><tr><td>4</td> <td>36425 => 0.57</td> <td>😑</td> <td>_usr A ti no te importa _emo</td> </tr><tr><td>5</td> <td>1288 => 0.57</td> <td>😥</td> <td>tiempo y distancia, quizás sea eso... _emo</td> </tr>\n",
       "</table>\n"
      ]
     },
     "metadata": {},
     "output_type": "display_data"
    },
    {
     "name": "stdout",
     "output_type": "stream",
     "text": [
      "  0.000284 seconds (19 allocations: 3.359 KiB)\n"
     ]
    },
    {
     "data": {
      "text/html": [
       "<h3>Resultados para la consulta \"cuando nos vemos?\"</h3>\n",
       "<table>\n",
       "<tr><td>1</td> <td>30054 => 0.22</td> <td>😂</td> <td>Nos vemos!! _emo _emo _emo _emo _url</td> </tr><tr><td>2</td> <td>21749 => 0.3</td> <td>😜</td> <td>_usr En la tarde nos vemos _emo _emo _emo</td> </tr><tr><td>3</td> <td>9076 => 0.32</td> <td>😻</td> <td>Nos vemos pronto _usr _usr _emo _emo _url</td> </tr><tr><td>4</td> <td>24169 => 0.43</td> <td>😍</td> <td>_usr Pronto nos vemos hermana _emo _emo</td> </tr><tr><td>5</td> <td>37158 => 0.45</td> <td>😕</td> <td>Apenas van _num días que no nos vemos _emo</td> </tr>\n",
       "</table>\n"
      ],
      "text/plain": [
       "<h3>Resultados para la consulta \"cuando nos vemos?\"</h3>\n",
       "<table>\n",
       "<tr><td>1</td> <td>30054 => 0.22</td> <td>😂</td> <td>Nos vemos!! _emo _emo _emo _emo _url</td> </tr><tr><td>2</td> <td>21749 => 0.3</td> <td>😜</td> <td>_usr En la tarde nos vemos _emo _emo _emo</td> </tr><tr><td>3</td> <td>9076 => 0.32</td> <td>😻</td> <td>Nos vemos pronto _usr _usr _emo _emo _url</td> </tr><tr><td>4</td> <td>24169 => 0.43</td> <td>😍</td> <td>_usr Pronto nos vemos hermana _emo _emo</td> </tr><tr><td>5</td> <td>37158 => 0.45</td> <td>😕</td> <td>Apenas van _num días que no nos vemos _emo</td> </tr>\n",
       "</table>\n"
      ]
     },
     "metadata": {},
     "output_type": "display_data"
    },
    {
     "name": "stdout",
     "output_type": "stream",
     "text": [
      "  0.000144 seconds (18 allocations: 3.328 KiB)\n"
     ]
    },
    {
     "data": {
      "text/html": [
       "<h3>Resultados para la consulta \"feliz cumpleaños?\"</h3>\n",
       "<table>\n",
       "<tr><td>1</td> <td>8772 => 0.09</td> <td>🙊</td> <td>Feliz Cumpleaños _usr _emo _emo _emo _emo _emo</td> </tr><tr><td>2</td> <td>26556 => 0.09</td> <td>❤</td> <td>_usr Feliz Cumpleaños _emo</td> </tr><tr><td>3</td> <td>40229 => 0.09</td> <td>😁</td> <td>Feliz Cumpleaños _emo _emo _usr</td> </tr>\n",
       "</table>\n"
      ],
      "text/plain": [
       "<h3>Resultados para la consulta \"feliz cumpleaños?\"</h3>\n",
       "<table>\n",
       "<tr><td>1</td> <td>8772 => 0.09</td> <td>🙊</td> <td>Feliz Cumpleaños _usr _emo _emo _emo _emo _emo</td> </tr><tr><td>2</td> <td>26556 => 0.09</td> <td>❤</td> <td>_usr Feliz Cumpleaños _emo</td> </tr><tr><td>3</td> <td>40229 => 0.09</td> <td>😁</td> <td>Feliz Cumpleaños _emo _emo _usr</td> </tr>\n",
       "</table>\n"
      ]
     },
     "metadata": {},
     "output_type": "display_data"
    },
    {
     "name": "stdout",
     "output_type": "stream",
     "text": [
      "  0.000036 seconds (17 allocations: 3.172 KiB)\n"
     ]
    },
    {
     "data": {
      "text/html": [
       "<h3>Resultados para la consulta \"ola k ase\"</h3>\n",
       "<table>\n",
       "<tr><td>1</td> <td>43663 => 0.65</td> <td>😎</td> <td>_usr _usr Siempre, todo y todos los días de la semana desde ase muchoooooossss años _emo _emo</td> </tr><tr><td>2</td> <td>23585 => 0.7</td> <td>😤</td> <td>_usr k bueno k tu mizmo lo reconozcAszzzz _emo</td> </tr><tr><td>3</td> <td>38425 => 0.71</td> <td>😃</td> <td>Despertares!! (By OLA) # _emo _emo en Distrito Federal, Mexico _url</td> </tr>\n",
       "</table>\n"
      ],
      "text/plain": [
       "<h3>Resultados para la consulta \"ola k ase\"</h3>\n",
       "<table>\n",
       "<tr><td>1</td> <td>43663 => 0.65</td> <td>😎</td> <td>_usr _usr Siempre, todo y todos los días de la semana desde ase muchoooooossss años _emo _emo</td> </tr><tr><td>2</td> <td>23585 => 0.7</td> <td>😤</td> <td>_usr k bueno k tu mizmo lo reconozcAszzzz _emo</td> </tr><tr><td>3</td> <td>38425 => 0.71</td> <td>😃</td> <td>Despertares!! (By OLA) # _emo _emo en Distrito Federal, Mexico _url</td> </tr>\n",
       "</table>\n"
      ]
     },
     "metadata": {},
     "output_type": "display_data"
    },
    {
     "name": "stdout",
     "output_type": "stream",
     "text": [
      "  0.000171 seconds (17 allocations: 3.266 KiB)\n"
     ]
    },
    {
     "data": {
      "text/html": [
       "<h3>Resultados para la consulta \"mi humilde opinión\"</h3>\n",
       "<table>\n",
       "<tr><td>1</td> <td>2148 => 0.32</td> <td>🙏</td> <td>Bueno, cada quien su vida, ya se, solo es una humilde opinión !! _emo _emo _emo</td> </tr><tr><td>2</td> <td>35818 => 0.51</td> <td>😍</td> <td>_usr es la persona más humilde que conozco _emo</td> </tr><tr><td>3</td> <td>32858 => 0.62</td> <td>🤔</td> <td>_usr Bajo tu opinión fue o no falta? _emo</td> </tr><tr><td>4</td> <td>28393 => 0.62</td> <td>😊</td> <td>Gracias por compartir la información y tu opinión _emo _url</td> </tr><tr><td>5</td> <td>31667 => 0.64</td> <td>😉</td> <td>Cuantos Likes para mi humilde oficina _usr  _emo _emo @ CocoBongo _url</td> </tr><tr><td>6</td> <td>5532 => 0.66</td> <td>🤗</td> <td>Para ser feliz, no escuches la opinión de los demás _emo</td> </tr><tr><td>7</td> <td>12713 => 0.67</td> <td>👏</td> <td>_usr Totalmente de acuerdo contigo en todo. Comparto tu opinión _emo _emo _emo _emo</td> </tr><tr><td>8</td> <td>990 => 0.72</td> <td>😌</td> <td>Tu opinión no me interesa más. No tengo nada que demostrarte, y si piensas lo peor de mi, MEJOR! _emo</td> </tr><tr><td>9</td> <td>39601 => 0.73</td> <td>😑</td> <td>Lo siento pero mi tez humilde no me deja ser guapo y estar bueno, eso sin mencionar la rodilla que me chingue! _emo _emo</td> </tr><tr><td>10</td> <td>11589 => 0.74</td> <td>😃</td> <td>Interesante opinión y espero que sigas escribiendo _usr en mejores espacios  !suerte!! _emo _emo _emo _url</td> </tr>\n",
       "</table>\n"
      ],
      "text/plain": [
       "<h3>Resultados para la consulta \"mi humilde opinión\"</h3>\n",
       "<table>\n",
       "<tr><td>1</td> <td>2148 => 0.32</td> <td>🙏</td> <td>Bueno, cada quien su vida, ya se, solo es una humilde opinión !! _emo _emo _emo</td> </tr><tr><td>2</td> <td>35818 => 0.51</td> <td>😍</td> <td>_usr es la persona más humilde que conozco _emo</td> </tr><tr><td>3</td> <td>32858 => 0.62</td> <td>🤔</td> <td>_usr Bajo tu opinión fue o no falta? _emo</td> </tr><tr><td>4</td> <td>28393 => 0.62</td> <td>😊</td> <td>Gracias por compartir la información y tu opinión _emo _url</td> </tr><tr><td>5</td> <td>31667 => 0.64</td> <td>😉</td> <td>Cuantos Likes para mi humilde oficina _usr  _emo _emo @ CocoBongo _url</td> </tr><tr><td>6</td> <td>5532 => 0.66</td> <td>🤗</td> <td>Para ser feliz, no escuches la opinión de los demás _emo</td> </tr><tr><td>7</td> <td>12713 => 0.67</td> <td>👏</td> <td>_usr Totalmente de acuerdo contigo en todo. Comparto tu opinión _emo _emo _emo _emo</td> </tr><tr><td>8</td> <td>990 => 0.72</td> <td>😌</td> <td>Tu opinión no me interesa más. No tengo nada que demostrarte, y si piensas lo peor de mi, MEJOR! _emo</td> </tr><tr><td>9</td> <td>39601 => 0.73</td> <td>😑</td> <td>Lo siento pero mi tez humilde no me deja ser guapo y estar bueno, eso sin mencionar la rodilla que me chingue! _emo _emo</td> </tr><tr><td>10</td> <td>11589 => 0.74</td> <td>😃</td> <td>Interesante opinión y espero que sigas escribiendo _usr en mejores espacios  !suerte!! _emo _emo _emo _url</td> </tr>\n",
       "</table>\n"
      ]
     },
     "metadata": {},
     "output_type": "display_data"
    }
   ],
   "source": [
    "search_and_display(invfile, \"no importa distancia\", 5, D, T)\n",
    "search_and_display(invfile, \"cuando nos vemos?\", 5, D, T)\n",
    "search_and_display(invfile, \"feliz cumpleaños?\", 3, D, T)\n",
    "search_and_display(invfile, \"ola k ase\", 3, D, T)\n",
    "search_and_display(invfile, \"mi humilde opinión\", 10, D, T)"
   ]
  },
  {
   "cell_type": "markdown",
   "id": "33ad823b-70c0-447d-bfe0-8a920525ca12",
   "metadata": {},
   "source": [
    "### También es posible consultar elementos del mismo corpus, lo cual permité inspeccionar la estructura interna de la colección. Esto será de utilidad más adelante en el curso."
   ]
  },
  {
   "cell_type": "code",
   "execution_count": 7,
   "id": "bde30ad5-8c2d-4622-b0c2-994802b64e9d",
   "metadata": {},
   "outputs": [
    {
     "name": "stdout",
     "output_type": "stream",
     "text": [
      "  0.001753 seconds (31 allocations: 4.141 KiB)\n"
     ]
    },
    {
     "data": {
      "text/html": [
       "<h3>Resultados para la consulta \"Soy del _num de marzo mano _usr _emo _emo _emo\"</h3>\n",
       "<table>\n",
       "<tr><td>1</td> <td>16596 => -0.0</td> <td>👌</td> <td>Soy del _num de marzo mano _usr _emo _emo _emo</td> </tr><tr><td>2</td> <td>22875 => 0.42</td> <td>😑</td> <td>_usr Ya es Marzo... _emo</td> </tr><tr><td>3</td> <td>22733 => 0.5</td> <td>🤭</td> <td>_usr Soy del _num _emo</td> </tr><tr><td>4</td> <td>15065 => 0.56</td> <td>♡</td> <td>CDMX te veo en marzo _emo _emo</td> </tr><tr><td>5</td> <td>24908 => 0.62</td> <td>😏</td> <td>Los de marzo somos los mas guapos _emo</td> </tr><tr><td>6</td> <td>30369 => 0.66</td> <td>🙊</td> <td>Simplemente el primer proyecto en marzo. _emo _emo _emo</td> </tr><tr><td>7</td> <td>20233 => 0.67</td> <td>🙏</td> <td>Ya casi veo a mi Chelo _usr  _num de marzo llega ya _emo _emo _url</td> </tr>\n",
       "</table>\n"
      ],
      "text/plain": [
       "<h3>Resultados para la consulta \"Soy del _num de marzo mano _usr _emo _emo _emo\"</h3>\n",
       "<table>\n",
       "<tr><td>1</td> <td>16596 => -0.0</td> <td>👌</td> <td>Soy del _num de marzo mano _usr _emo _emo _emo</td> </tr><tr><td>2</td> <td>22875 => 0.42</td> <td>😑</td> <td>_usr Ya es Marzo... _emo</td> </tr><tr><td>3</td> <td>22733 => 0.5</td> <td>🤭</td> <td>_usr Soy del _num _emo</td> </tr><tr><td>4</td> <td>15065 => 0.56</td> <td>♡</td> <td>CDMX te veo en marzo _emo _emo</td> </tr><tr><td>5</td> <td>24908 => 0.62</td> <td>😏</td> <td>Los de marzo somos los mas guapos _emo</td> </tr><tr><td>6</td> <td>30369 => 0.66</td> <td>🙊</td> <td>Simplemente el primer proyecto en marzo. _emo _emo _emo</td> </tr><tr><td>7</td> <td>20233 => 0.67</td> <td>🙏</td> <td>Ya casi veo a mi Chelo _usr  _num de marzo llega ya _emo _emo _url</td> </tr>\n",
       "</table>\n"
      ]
     },
     "metadata": {},
     "output_type": "display_data"
    },
    {
     "name": "stdout",
     "output_type": "stream",
     "text": [
      "  0.002624 seconds (33 allocations: 4.266 KiB)\n"
     ]
    },
    {
     "data": {
      "text/html": [
       "<h3>Resultados para la consulta \"A dormir que mañana ese examen no se hace solo _emo\"</h3>\n",
       "<table>\n",
       "<tr><td>1</td> <td>39876 => 0.0</td> <td>🤓</td> <td>A dormir que mañana ese examen no se hace solo _emo</td> </tr><tr><td>2</td> <td>44622 => 0.48</td> <td>😋</td> <td>A dormir q mañana tenemos examen y a trabajar _emo _emo _emo</td> </tr><tr><td>3</td> <td>7793 => 0.55</td> <td>😥</td> <td>Un examen más _emo</td> </tr><tr><td>4</td> <td>8847 => 0.58</td> <td>😪</td> <td>Sólo quiero dormir _emo</td> </tr><tr><td>5</td> <td>13762 => 0.58</td> <td>😫</td> <td>Sólo quiero dormir _emo</td> </tr><tr><td>6</td> <td>21445 => 0.58</td> <td>😴</td> <td>Solo quiero dormir _emo</td> </tr><tr><td>7</td> <td>17882 => 0.58</td> <td>🙃</td> <td>Mañana es mi primer examen final _emo</td> </tr>\n",
       "</table>\n"
      ],
      "text/plain": [
       "<h3>Resultados para la consulta \"A dormir que mañana ese examen no se hace solo _emo\"</h3>\n",
       "<table>\n",
       "<tr><td>1</td> <td>39876 => 0.0</td> <td>🤓</td> <td>A dormir que mañana ese examen no se hace solo _emo</td> </tr><tr><td>2</td> <td>44622 => 0.48</td> <td>😋</td> <td>A dormir q mañana tenemos examen y a trabajar _emo _emo _emo</td> </tr><tr><td>3</td> <td>7793 => 0.55</td> <td>😥</td> <td>Un examen más _emo</td> </tr><tr><td>4</td> <td>8847 => 0.58</td> <td>😪</td> <td>Sólo quiero dormir _emo</td> </tr><tr><td>5</td> <td>13762 => 0.58</td> <td>😫</td> <td>Sólo quiero dormir _emo</td> </tr><tr><td>6</td> <td>21445 => 0.58</td> <td>😴</td> <td>Solo quiero dormir _emo</td> </tr><tr><td>7</td> <td>17882 => 0.58</td> <td>🙃</td> <td>Mañana es mi primer examen final _emo</td> </tr>\n",
       "</table>\n"
      ]
     },
     "metadata": {},
     "output_type": "display_data"
    },
    {
     "name": "stdout",
     "output_type": "stream",
     "text": [
      "  0.004151 seconds (50 allocations: 6.688 KiB)\n"
     ]
    },
    {
     "data": {
      "text/html": [
       "<h3>Resultados para la consulta \"Nos gusta actuar y a ustedes que les gusta hacer ? _emo #amigos #niños #Alegria #Felices #JishuaZair _url\"</h3>\n",
       "<table>\n",
       "<tr><td>1</td> <td>25903 => -0.0</td> <td>😀</td> <td>Nos gusta actuar y a ustedes que les gusta hacer ? _emo #amigos #niños #Alegria #Felices #JishuaZair _url</td> </tr><tr><td>2</td> <td>35564 => 0.68</td> <td>🤔</td> <td>_usr Y solo les gusta _emo</td> </tr><tr><td>3</td> <td>32685 => 0.68</td> <td>🙏</td> <td>_usr _usr me gusta _emo _emo _emo _emo _emo _emo</td> </tr><tr><td>4</td> <td>37063 => 0.71</td> <td>🤭</td> <td>_usr _emo si me gusta</td> </tr><tr><td>5</td> <td>17116 => 0.71</td> <td>🤗</td> <td>Esta me gusta _emo _url</td> </tr><tr><td>6</td> <td>20696 => 0.73</td> <td>😋</td> <td>_usr _usr _emo el que me gusta....</td> </tr><tr><td>7</td> <td>2679 => 0.73</td> <td>🤭</td> <td>_usr Así me gusta _emo</td> </tr>\n",
       "</table>\n"
      ],
      "text/plain": [
       "<h3>Resultados para la consulta \"Nos gusta actuar y a ustedes que les gusta hacer ? _emo #amigos #niños #Alegria #Felices #JishuaZair _url\"</h3>\n",
       "<table>\n",
       "<tr><td>1</td> <td>25903 => -0.0</td> <td>😀</td> <td>Nos gusta actuar y a ustedes que les gusta hacer ? _emo #amigos #niños #Alegria #Felices #JishuaZair _url</td> </tr><tr><td>2</td> <td>35564 => 0.68</td> <td>🤔</td> <td>_usr Y solo les gusta _emo</td> </tr><tr><td>3</td> <td>32685 => 0.68</td> <td>🙏</td> <td>_usr _usr me gusta _emo _emo _emo _emo _emo _emo</td> </tr><tr><td>4</td> <td>37063 => 0.71</td> <td>🤭</td> <td>_usr _emo si me gusta</td> </tr><tr><td>5</td> <td>17116 => 0.71</td> <td>🤗</td> <td>Esta me gusta _emo _url</td> </tr><tr><td>6</td> <td>20696 => 0.73</td> <td>😋</td> <td>_usr _usr _emo el que me gusta....</td> </tr><tr><td>7</td> <td>2679 => 0.73</td> <td>🤭</td> <td>_usr Así me gusta _emo</td> </tr>\n",
       "</table>\n"
      ]
     },
     "metadata": {},
     "output_type": "display_data"
    },
    {
     "name": "stdout",
     "output_type": "stream",
     "text": [
      "  0.000724 seconds (21 allocations: 3.484 KiB)\n"
     ]
    },
    {
     "data": {
      "text/html": [
       "<h3>Resultados para la consulta \"_usr Te mirabas bien _emo\"</h3>\n",
       "<table>\n",
       "<tr><td>1</td> <td>28719 => -0.0</td> <td>😑</td> <td>_usr Te mirabas bien _emo</td> </tr><tr><td>2</td> <td>3856 => 0.36</td> <td>🙈</td> <td>_usr ayer en el Canceroton te mirabas bien bonita _emo _emo _url</td> </tr><tr><td>3</td> <td>34413 => 0.66</td> <td>🤭</td> <td>_usr _emo bien _emo</td> </tr><tr><td>4</td> <td>4992 => 0.67</td> <td>👏</td> <td>Bien _emo _emo _emo</td> </tr><tr><td>5</td> <td>11848 => 0.69</td> <td>😌</td> <td>_usr Bien. _emo _emo</td> </tr><tr><td>6</td> <td>2385 => 0.75</td> <td>🙂</td> <td>_usr Esta bien _emo _emo</td> </tr><tr><td>7</td> <td>39677 => 0.76</td> <td>😈</td> <td>_usr mas bien, te encanta _emo</td> </tr>\n",
       "</table>\n"
      ],
      "text/plain": [
       "<h3>Resultados para la consulta \"_usr Te mirabas bien _emo\"</h3>\n",
       "<table>\n",
       "<tr><td>1</td> <td>28719 => -0.0</td> <td>😑</td> <td>_usr Te mirabas bien _emo</td> </tr><tr><td>2</td> <td>3856 => 0.36</td> <td>🙈</td> <td>_usr ayer en el Canceroton te mirabas bien bonita _emo _emo _url</td> </tr><tr><td>3</td> <td>34413 => 0.66</td> <td>🤭</td> <td>_usr _emo bien _emo</td> </tr><tr><td>4</td> <td>4992 => 0.67</td> <td>👏</td> <td>Bien _emo _emo _emo</td> </tr><tr><td>5</td> <td>11848 => 0.69</td> <td>😌</td> <td>_usr Bien. _emo _emo</td> </tr><tr><td>6</td> <td>2385 => 0.75</td> <td>🙂</td> <td>_usr Esta bien _emo _emo</td> </tr><tr><td>7</td> <td>39677 => 0.76</td> <td>😈</td> <td>_usr mas bien, te encanta _emo</td> </tr>\n",
       "</table>\n"
      ]
     },
     "metadata": {},
     "output_type": "display_data"
    },
    {
     "name": "stdout",
     "output_type": "stream",
     "text": [
      "  0.002419 seconds (42 allocations: 4.984 KiB)\n"
     ]
    },
    {
     "data": {
      "text/html": [
       "<h3>Resultados para la consulta \"_emo _emo @ Castillo de Edward James, Xilitla, San Luis Potosí, México _url\"</h3>\n",
       "<table>\n",
       "<tr><td>1</td> <td>21954 => -0.0</td> <td>😀</td> <td>_emo _emo @ Castillo de Edward James, Xilitla, San Luis Potosí, México _url</td> </tr><tr><td>2</td> <td>30376 => -0.0</td> <td>😀</td> <td>_emo _emo @ Castillo de Edward James, Xilitla, San Luis Potosí, México _url</td> </tr><tr><td>3</td> <td>16380 => 0.55</td> <td>🤤</td> <td>_emo (@ Café Cortao in San Luis Potosí, San Luis Potosí/México) _url _url</td> </tr><tr><td>4</td> <td>18589 => 0.61</td> <td>😁</td> <td>_emo _emo @ San Luis Potosi, Mexico _url</td> </tr><tr><td>5</td> <td>41718 => 0.61</td> <td>😋</td> <td>Potosinian delights. _emo (@ Café Cortao in San Luis Potosí, San Luis Potosí/México) _url</td> </tr><tr><td>6</td> <td>16526 => 0.62</td> <td>♥</td> <td>_usr: Mis mejores deseos, te mando un abrazo y un beso, tqm _emo Saludos desde San Luis Potosí, San Luis Potosí :)</td> </tr><tr><td>7</td> <td>43480 => 0.64</td> <td>✨</td> <td>Xilitla bonito _emo</td> </tr>\n",
       "</table>\n"
      ],
      "text/plain": [
       "<h3>Resultados para la consulta \"_emo _emo @ Castillo de Edward James, Xilitla, San Luis Potosí, México _url\"</h3>\n",
       "<table>\n",
       "<tr><td>1</td> <td>21954 => -0.0</td> <td>😀</td> <td>_emo _emo @ Castillo de Edward James, Xilitla, San Luis Potosí, México _url</td> </tr><tr><td>2</td> <td>30376 => -0.0</td> <td>😀</td> <td>_emo _emo @ Castillo de Edward James, Xilitla, San Luis Potosí, México _url</td> </tr><tr><td>3</td> <td>16380 => 0.55</td> <td>🤤</td> <td>_emo (@ Café Cortao in San Luis Potosí, San Luis Potosí/México) _url _url</td> </tr><tr><td>4</td> <td>18589 => 0.61</td> <td>😁</td> <td>_emo _emo @ San Luis Potosi, Mexico _url</td> </tr><tr><td>5</td> <td>41718 => 0.61</td> <td>😋</td> <td>Potosinian delights. _emo (@ Café Cortao in San Luis Potosí, San Luis Potosí/México) _url</td> </tr><tr><td>6</td> <td>16526 => 0.62</td> <td>♥</td> <td>_usr: Mis mejores deseos, te mando un abrazo y un beso, tqm _emo Saludos desde San Luis Potosí, San Luis Potosí :)</td> </tr><tr><td>7</td> <td>43480 => 0.64</td> <td>✨</td> <td>Xilitla bonito _emo</td> </tr>\n",
       "</table>\n"
      ]
     },
     "metadata": {},
     "output_type": "display_data"
    },
    {
     "name": "stdout",
     "output_type": "stream",
     "text": [
      "  0.000390 seconds (23 allocations: 3.609 KiB)\n"
     ]
    },
    {
     "data": {
      "text/html": [
       "<h3>Resultados para la consulta \"Esta cruda me esta matando _emo\"</h3>\n",
       "<table>\n",
       "<tr><td>1</td> <td>43810 => 0.0</td> <td>😫</td> <td>Esta cruda me esta matando _emo</td> </tr><tr><td>2</td> <td>38980 => 0.24</td> <td>😩</td> <td>Esta semana me está matando. _emo _emo</td> </tr><tr><td>3</td> <td>20803 => 0.41</td> <td>😤</td> <td>Esta segunda semana en el gym me está matando. _emo</td> </tr><tr><td>4</td> <td>27066 => 0.44</td> <td>😳</td> <td>Que pedo con esta cruda _emo _emo _emo</td> </tr><tr><td>5</td> <td>21420 => 0.49</td> <td>😔</td> <td>Este presentimiento ya me esta matando _emo</td> </tr><tr><td>6</td> <td>13873 => 0.54</td> <td>😜</td> <td>Y sin cruda _emo _url</td> </tr><tr><td>7</td> <td>17796 => 0.55</td> <td>😳</td> <td>quiero estar contigo ¡TU PERFUME ME ESTA MATANDO! _emo</td> </tr>\n",
       "</table>\n"
      ],
      "text/plain": [
       "<h3>Resultados para la consulta \"Esta cruda me esta matando _emo\"</h3>\n",
       "<table>\n",
       "<tr><td>1</td> <td>43810 => 0.0</td> <td>😫</td> <td>Esta cruda me esta matando _emo</td> </tr><tr><td>2</td> <td>38980 => 0.24</td> <td>😩</td> <td>Esta semana me está matando. _emo _emo</td> </tr><tr><td>3</td> <td>20803 => 0.41</td> <td>😤</td> <td>Esta segunda semana en el gym me está matando. _emo</td> </tr><tr><td>4</td> <td>27066 => 0.44</td> <td>😳</td> <td>Que pedo con esta cruda _emo _emo _emo</td> </tr><tr><td>5</td> <td>21420 => 0.49</td> <td>😔</td> <td>Este presentimiento ya me esta matando _emo</td> </tr><tr><td>6</td> <td>13873 => 0.54</td> <td>😜</td> <td>Y sin cruda _emo _url</td> </tr><tr><td>7</td> <td>17796 => 0.55</td> <td>😳</td> <td>quiero estar contigo ¡TU PERFUME ME ESTA MATANDO! _emo</td> </tr>\n",
       "</table>\n"
      ]
     },
     "metadata": {},
     "output_type": "display_data"
    },
    {
     "name": "stdout",
     "output_type": "stream",
     "text": [
      "  0.005206 seconds (53 allocations: 5.688 KiB)\n"
     ]
    },
    {
     "data": {
      "text/html": [
       "<h3>Resultados para la consulta \"_usr Como sea estoy bellísimo por dentro y por fuera!! Jajajajaja! Y a las pruebas me remito _emo\"</h3>\n",
       "<table>\n",
       "<tr><td>1</td> <td>13567 => 0.0</td> <td>😀</td> <td>_usr Como sea estoy bellísimo por dentro y por fuera!! Jajajajaja! Y a las pruebas me remito _emo</td> </tr><tr><td>2</td> <td>270 => 0.72</td> <td>😣</td> <td>Estoy vacío por dentro... Pero estoy. _emo</td> </tr><tr><td>3</td> <td>17510 => 0.73</td> <td>😌</td> <td>Nunca había conocido niña tan hermosa como Audrey por dentro y por fuera tal vez porque sea mi hija pero y que _emo</td> </tr><tr><td>4</td> <td>30883 => 0.73</td> <td>🤣</td> <td>Jajajajaja! _emo _url</td> </tr><tr><td>5</td> <td>17831 => 0.74</td> <td>😍</td> <td>Bellísimo _emo _emo _emo _emo #loveislove en Mexico City, Mexico _url</td> </tr><tr><td>6</td> <td>1880 => 0.74</td> <td>🤣</td> <td>_usr Jajajajaja _emo</td> </tr><tr><td>7</td> <td>5796 => 0.74</td> <td>😋</td> <td>_usr jajajajaja _emo</td> </tr>\n",
       "</table>\n"
      ],
      "text/plain": [
       "<h3>Resultados para la consulta \"_usr Como sea estoy bellísimo por dentro y por fuera!! Jajajajaja! Y a las pruebas me remito _emo\"</h3>\n",
       "<table>\n",
       "<tr><td>1</td> <td>13567 => 0.0</td> <td>😀</td> <td>_usr Como sea estoy bellísimo por dentro y por fuera!! Jajajajaja! Y a las pruebas me remito _emo</td> </tr><tr><td>2</td> <td>270 => 0.72</td> <td>😣</td> <td>Estoy vacío por dentro... Pero estoy. _emo</td> </tr><tr><td>3</td> <td>17510 => 0.73</td> <td>😌</td> <td>Nunca había conocido niña tan hermosa como Audrey por dentro y por fuera tal vez porque sea mi hija pero y que _emo</td> </tr><tr><td>4</td> <td>30883 => 0.73</td> <td>🤣</td> <td>Jajajajaja! _emo _url</td> </tr><tr><td>5</td> <td>17831 => 0.74</td> <td>😍</td> <td>Bellísimo _emo _emo _emo _emo #loveislove en Mexico City, Mexico _url</td> </tr><tr><td>6</td> <td>1880 => 0.74</td> <td>🤣</td> <td>_usr Jajajajaja _emo</td> </tr><tr><td>7</td> <td>5796 => 0.74</td> <td>😋</td> <td>_usr jajajajaja _emo</td> </tr>\n",
       "</table>\n"
      ]
     },
     "metadata": {},
     "output_type": "display_data"
    },
    {
     "name": "stdout",
     "output_type": "stream",
     "text": [
      "  0.010416 seconds (71 allocations: 7.078 KiB)\n"
     ]
    },
    {
     "data": {
      "text/html": [
       "<h3>Resultados para la consulta \"_usr El Respeto en todos los órdenes de la Sociedad y de la vida es Fundamental, cuando Este se pierde, todo Orden o Interacción Fracasa... _emo\"</h3>\n",
       "<table>\n",
       "<tr><td>1</td> <td>33319 => -0.0</td> <td>🤔</td> <td>_usr El Respeto en todos los órdenes de la Sociedad y de la vida es Fundamental, cuando Este se pierde, todo Orden o Interacción Fracasa... _emo</td> </tr><tr><td>2</td> <td>20647 => 0.75</td> <td>💖</td> <td>_usr A tus órdenes!! _emo _emo</td> </tr><tr><td>3</td> <td>26358 => 0.75</td> <td>🤭</td> <td>- Con todo respeto _emo</td> </tr><tr><td>4</td> <td>31912 => 0.78</td> <td>👏</td> <td>_usr _emo Respeto a quien respeto merece _emo _emo _url</td> </tr><tr><td>5</td> <td>32591 => 0.78</td> <td>😢</td> <td>Pierde los rayados _emo _url</td> </tr><tr><td>6</td> <td>43998 => 0.78</td> <td>😘</td> <td>A la orden bb _emo _emo _emo _emo _url</td> </tr><tr><td>7</td> <td>19016 => 0.79</td> <td>😁</td> <td>_usr _usr _usr _usr _usr _usr _usr _usr _usr _usr _usr A la orden _emo</td> </tr>\n",
       "</table>\n"
      ],
      "text/plain": [
       "<h3>Resultados para la consulta \"_usr El Respeto en todos los órdenes de la Sociedad y de la vida es Fundamental, cuando Este se pierde, todo Orden o Interacción Fracasa... _emo\"</h3>\n",
       "<table>\n",
       "<tr><td>1</td> <td>33319 => -0.0</td> <td>🤔</td> <td>_usr El Respeto en todos los órdenes de la Sociedad y de la vida es Fundamental, cuando Este se pierde, todo Orden o Interacción Fracasa... _emo</td> </tr><tr><td>2</td> <td>20647 => 0.75</td> <td>💖</td> <td>_usr A tus órdenes!! _emo _emo</td> </tr><tr><td>3</td> <td>26358 => 0.75</td> <td>🤭</td> <td>- Con todo respeto _emo</td> </tr><tr><td>4</td> <td>31912 => 0.78</td> <td>👏</td> <td>_usr _emo Respeto a quien respeto merece _emo _emo _url</td> </tr><tr><td>5</td> <td>32591 => 0.78</td> <td>😢</td> <td>Pierde los rayados _emo _url</td> </tr><tr><td>6</td> <td>43998 => 0.78</td> <td>😘</td> <td>A la orden bb _emo _emo _emo _emo _url</td> </tr><tr><td>7</td> <td>19016 => 0.79</td> <td>😁</td> <td>_usr _usr _usr _usr _usr _usr _usr _usr _usr _usr _usr A la orden _emo</td> </tr>\n",
       "</table>\n"
      ]
     },
     "metadata": {},
     "output_type": "display_data"
    },
    {
     "name": "stdout",
     "output_type": "stream",
     "text": [
      "  0.006228 seconds (68 allocations: 6.938 KiB)\n"
     ]
    },
    {
     "data": {
      "text/html": [
       "<h3>Resultados para la consulta \"Normalmente cuando veo un tuit de odio pienso en seguida que tienen &quot;enemigas&quot; ficticias. O sea tipo fingen tener una vida interesante _emo?\"</h3>\n",
       "<table>\n",
       "<tr><td>1</td> <td>17360 => -0.0</td> <td>🤔</td> <td>Normalmente cuando veo un tuit de odio pienso en seguida que tienen &quot;enemigas&quot; ficticias. O sea tipo fingen tener una vida interesante _emo?</td> </tr><tr><td>2</td> <td>35019 => 0.75</td> <td>😎</td> <td>Que interesante _emo</td> </tr><tr><td>3</td> <td>11930 => 0.75</td> <td>😌</td> <td>Interesante _emo</td> </tr><tr><td>4</td> <td>42964 => 0.78</td> <td>👏</td> <td>_usr Interesante!! _emo _emo _emo _emo</td> </tr><tr><td>5</td> <td>18754 => 0.78</td> <td>😃</td> <td>Muy interesante _emo _emo _emo</td> </tr><tr><td>6</td> <td>28395 => 0.78</td> <td>😊</td> <td>&quot;TODO&quot; nunca es mucho cuando se tienen GANAS _emo _emo _emo _emo _emo _emo</td> </tr><tr><td>7</td> <td>1917 => 0.79</td> <td>🙃</td> <td>Odio que un niño me diga &quot;Me gustas mucho&quot; cuando yo no siento ni un &quot;te quiero&quot; por el _emo</td> </tr>\n",
       "</table>\n"
      ],
      "text/plain": [
       "<h3>Resultados para la consulta \"Normalmente cuando veo un tuit de odio pienso en seguida que tienen &quot;enemigas&quot; ficticias. O sea tipo fingen tener una vida interesante _emo?\"</h3>\n",
       "<table>\n",
       "<tr><td>1</td> <td>17360 => -0.0</td> <td>🤔</td> <td>Normalmente cuando veo un tuit de odio pienso en seguida que tienen &quot;enemigas&quot; ficticias. O sea tipo fingen tener una vida interesante _emo?</td> </tr><tr><td>2</td> <td>35019 => 0.75</td> <td>😎</td> <td>Que interesante _emo</td> </tr><tr><td>3</td> <td>11930 => 0.75</td> <td>😌</td> <td>Interesante _emo</td> </tr><tr><td>4</td> <td>42964 => 0.78</td> <td>👏</td> <td>_usr Interesante!! _emo _emo _emo _emo</td> </tr><tr><td>5</td> <td>18754 => 0.78</td> <td>😃</td> <td>Muy interesante _emo _emo _emo</td> </tr><tr><td>6</td> <td>28395 => 0.78</td> <td>😊</td> <td>&quot;TODO&quot; nunca es mucho cuando se tienen GANAS _emo _emo _emo _emo _emo _emo</td> </tr><tr><td>7</td> <td>1917 => 0.79</td> <td>🙃</td> <td>Odio que un niño me diga &quot;Me gustas mucho&quot; cuando yo no siento ni un &quot;te quiero&quot; por el _emo</td> </tr>\n",
       "</table>\n"
      ]
     },
     "metadata": {},
     "output_type": "display_data"
    },
    {
     "name": "stdout",
     "output_type": "stream",
     "text": [
      "  0.001535 seconds (31 allocations: 4.172 KiB)\n"
     ]
    },
    {
     "data": {
      "text/html": [
       "<h3>Resultados para la consulta \"_usr Uno de los de Jet Jaguar parecía Leónidas _emo\"</h3>\n",
       "<table>\n",
       "<tr><td>1</td> <td>13678 => -0.0</td> <td>😏</td> <td>_usr Uno de los de Jet Jaguar parecía Leónidas _emo</td> </tr><tr><td>2</td> <td>37058 => 0.74</td> <td>😱</td> <td>-fue tu novia verdad?   parecía? _emo</td> </tr><tr><td>3</td> <td>36980 => 0.77</td> <td>🙄</td> <td>Ya era hora, eso ya parecía subasta! _emo _url</td> </tr><tr><td>4</td> <td>8422 => 0.81</td> <td>😅</td> <td>Ir al súper parecía divertido a los _num años, cuando solo decidías que cereal llevar _emo _emo</td> </tr><tr><td>5</td> <td>8892 => 0.81</td> <td>💔</td> <td>Acabo de ver a un niño que se parecía mucho a mi ferru, pero no era él... _emo #HistoriasTristes</td> </tr><tr><td>6</td> <td>33555 => 0.82</td> <td>😜</td> <td>#MTVHitsLA luces tan jet Black heart con ese tatuaje tan sexy en tu brazo _usr _emo</td> </tr><tr><td>7</td> <td>5224 => 0.83</td> <td>😓</td> <td>Mi foto de perfil de WhatsApp era una de mi perrito, pero la quité porque me dijeron que parecía la señora de los gatos. Soy muy influenciable _emo</td> </tr>\n",
       "</table>\n"
      ],
      "text/plain": [
       "<h3>Resultados para la consulta \"_usr Uno de los de Jet Jaguar parecía Leónidas _emo\"</h3>\n",
       "<table>\n",
       "<tr><td>1</td> <td>13678 => -0.0</td> <td>😏</td> <td>_usr Uno de los de Jet Jaguar parecía Leónidas _emo</td> </tr><tr><td>2</td> <td>37058 => 0.74</td> <td>😱</td> <td>-fue tu novia verdad?   parecía? _emo</td> </tr><tr><td>3</td> <td>36980 => 0.77</td> <td>🙄</td> <td>Ya era hora, eso ya parecía subasta! _emo _url</td> </tr><tr><td>4</td> <td>8422 => 0.81</td> <td>😅</td> <td>Ir al súper parecía divertido a los _num años, cuando solo decidías que cereal llevar _emo _emo</td> </tr><tr><td>5</td> <td>8892 => 0.81</td> <td>💔</td> <td>Acabo de ver a un niño que se parecía mucho a mi ferru, pero no era él... _emo #HistoriasTristes</td> </tr><tr><td>6</td> <td>33555 => 0.82</td> <td>😜</td> <td>#MTVHitsLA luces tan jet Black heart con ese tatuaje tan sexy en tu brazo _usr _emo</td> </tr><tr><td>7</td> <td>5224 => 0.83</td> <td>😓</td> <td>Mi foto de perfil de WhatsApp era una de mi perrito, pero la quité porque me dijeron que parecía la señora de los gatos. Soy muy influenciable _emo</td> </tr>\n",
       "</table>\n"
      ]
     },
     "metadata": {},
     "output_type": "display_data"
    }
   ],
   "source": [
    "for i in 1:10\n",
    "    qID = rand(1:length(D.corpus))\n",
    "    search_and_display(invfile, D.corpus[qID], 7, D, T)\n",
    "end"
   ]
  },
  {
   "cell_type": "markdown",
   "id": "5403b789-c8d3-4a86-957d-e7500efefe9d",
   "metadata": {},
   "source": [
    "# Actividades\n",
    "\n",
    "- Revisión de los servicios y empresas mencionados \n",
    "- Revisión de los proyectos open source mencionados\n",
    "- Cargue este notebook y modifique las consultas (necesita Jupyter y el kernel de Julia <https://github.com/JuliaLang/IJulia.jl>)\n",
    "- Revise la bibliografía sobre recuperación de información, en especial [^SMR2008] se encuentra libre desde <https://nlp.stanford.edu/IR-book/pdf/irbookonlinereading.pdf>"
   ]
  },
  {
   "cell_type": "markdown",
   "id": "f558a317-b84c-45b2-a185-36af24741ace",
   "metadata": {},
   "source": [
    "# Bibliografía\n",
    "- [SMR2008] Schütze, H., Manning, C. D., & Raghavan, P. (2008). Introduction to information retrieval (Vol. 39, pp. 234-65). Cambridge: Cambridge University Press.\n",
    "- [BYN1999] Baeza-Yates, R., & Ribeiro-Neto, B. (1999). Modern information retrieval (Vol. 463). New York: ACM press."
   ]
  }
 ],
 "metadata": {
  "kernelspec": {
   "display_name": "Julia 1.7.2",
   "language": "julia",
   "name": "julia-1.7"
  },
  "language_info": {
   "file_extension": ".jl",
   "mimetype": "application/julia",
   "name": "julia",
   "version": "1.7.2"
  }
 },
 "nbformat": 4,
 "nbformat_minor": 5
}
