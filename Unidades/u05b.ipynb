{
 "cells": [
  {
   "cell_type": "markdown",
   "id": "9fc189d2-656e-41d4-be84-dcf6ccf9537b",
   "metadata": {},
   "source": [
    "# Representación semántica y búsqueda\n",
    "Autor: Eric S. Tellez <eric.tellez@infotec.mx>\n",
    "\n",
    "Cuando la información esta poco específicada, las palabras adecuadas podrían ser dificiles de tener o limitar. En estos casos, la representaciones semánticas que permiten buscar _lo que se desea_ por medio de conceptos nos acerca más a la posibilidad de obtener información útil.\n",
    "\n",
    "Como anteriormente se presento, una de las representaciones semánticas más aceptadas son aquellas basadas en word embeddings. Recordando, estas son representaciones vectoriales de cada palabra, donde la semántica se asocia con la estructura en un espacio métrico, i.e., cercano en la métrica significa similar semánticamente.\n",
    "\n",
    "# Representación semántica de documentos basada en _word embeddings_\n",
    "Un documento puede verse como una bolsa de palabras, como en el modelado tradicional, pero en lugar de usar los términos como símbolos se pueden usar los vectores semánticos. El como usar esta nube de puntos multidimensional para obtener una representación computacionalmente manejable y a la vez eficaz, es un tema que ha llevado al desarrollo de modelos cada vez más complejos, como pueden ser los grandes modelos de lenguaje. \n",
    "\n",
    "La manera forma más directa de definir una representación semántica de documentos es el uso de centroides, esto es, un vector de la misma dimensión que sumariza a un conjunto de vectores usando su media geométrica. De manera más precisa, sea $E$ una matrix $m \\times n$ de embeddings del vocabulario, i.e., considerando un vocabulario de tamaño $n$ y dimensión $m$.\n",
    "Sea $D_{m,\\ell}$ la submatriz de $E$ que contiene los $\\ell$ vectores del documento $\\textsf{doc}$. El prototipo $\\vec{d}$ de $D$ esta definido de la siguiente forma:\n",
    "\n",
    "\\begin{equation}\n",
    "\\vec{d} = \\frac{1}{\\ell} \\sum_{i=1}^\\ell D_i\n",
    "\\end{equation}\n",
    "\n",
    "\n",
    "Donde $D_i$ es el i-ésimo vector columna de $D$. Dado que se usa el coseno como similitud, también es factible el cálculo como la suma vectorial normalizada, esto es,\n",
    "\n",
    "$$ \\vec{d} = \\frac{\\sum_{i=1}^\\ell D_i}{\\lVert \\sum_{i=1}^\\ell D_i \\rVert}$$\n",
    "\n",
    "También es posible añadir información local basada en la representación de bolsa de plabras. Por ejemplo, realizar una suma pesada usando el peso de las palabras mediante la frecuencia normalizada de término (TF) o la probabilidad de término $pt$, ver unidad 3 para más información.\n",
    "\n",
    "$$\\vec{d} = \\sum_{i=1}^{\\ell} \\textsf{TF}(t_i, \\textsf{doc}) \\cdot D_i$$\n",
    "\n",
    "Donde $t_i$ es el $i$-ésimo término de $\\textsf{doc}$. Note que el orden no se captura y solo es necesario para la notación.\n",
    "\n",
    "## Usando la nube de puntos\n",
    "\n",
    "La representación de nube de puntos puede usarse directamente sin realizar prototipos, sin embargo, es posible que dada su complejidad, dimensión intrinseca, tenga poca utilidad en grandes volumenes de información. Por ejemplo, es posible utilizar la distancia de [Hausdorff](https://en.wikipedia.org/wiki/Hausdorff_distance); que entre dos nubes de puntos (documentos para este caso) esta definida como sigue:\n",
    "\n",
    "$$ H_d(U, V) = \\max \\left\\{ \\max_{u \\in U} \\min_{x \\in V} d(u, x), \\max_{v \\in V} \\min_{x \\in U} d(v, x) \\right\\} $$\n",
    "\n",
    "Donde $\\textsf{nn}$ encuentra el vecino cercano del primer argumento en el segundo. Podemos ver la intuición de esta distancia, analizando las partes de la expresión. \n",
    "La diferencia entre ambos conjuntos se representa con el máximo de las distancias mínimas. Note que esta parte es idéntica a resolver una búsqueda de vecinos cercanos. La parte más externa de la expresión se repite para los dos conjuntos para preservar la simétria de la función.\n",
    "\n",
    "De la misma forma, es posible obtener variaciones de interés como considerar todas las distancias cercanas en lugar de solo las máximas, lo cual puede reducir formas caprichosas de _outlayers_.\n",
    "\n",
    "$$ H^+_d(U, V) = \\max \\left\\{ \\sum_{u \\in U} \\min_{x \\in V} d(u, x), \\sum_{v \\in V} \\min_{x \\in U} d(v, x) \\right\\}$$\n",
    "\n",
    "La información local de una representación de bolsa de palabras también puede ser aprovechada, por ejemplo, añadiendo información de $\\textsf{TF}$\n",
    "\n",
    "$$ H^\\textsf{TF}_d(U, V) = \\max \\left\\{ \\sum_{u \\in U} {\\textsf{TF}(u, U) \\min_{x \\in V} d(u, x)}, \\sum_{v \\in V} {\\textsf{TF}(v, V) \\min_{x \\in U} d(v, x)} \\right\\} $$\n",
    "\n",
    "# Notas adicionales\n",
    "La versión de $H_d$ que usa la probabilidad de término $\\textsf{pt}$ es similar a la aproximación 2 listada en [@KSKW2015]. Los prototipos son similares a la aproximación 1 del mismo artículo. En el artículo se presenta la función de distancia _word mover's distance_ (WMD) que es una adecuación de la Earths mover's distance (EMD) [PW2009]. EMD es la solución óptima a un problema de transportación, la WMD es la adaptación teniendo en cuenta embeddings de palabras.\n",
    "\n",
    "# Ejemplo\n"
   ]
  },
  {
   "cell_type": "code",
   "execution_count": 1,
   "id": "cd04785e-aa4e-493c-9aa8-5c54c8e1f322",
   "metadata": {},
   "outputs": [
    {
     "name": "stderr",
     "output_type": "stream",
     "text": [
      "\u001b[32m\u001b[1m  Activating\u001b[22m\u001b[39m project at `~/IR-2022/Unidades`\n"
     ]
    }
   ],
   "source": [
    "\n",
    "using Pkg\n",
    "Pkg.activate(\".\")\n",
    "!isfile(\"Manifest.toml\") && Pkg.add([\n",
    "    PackageSpec(name=\"SimilaritySearch\", version=\"0.9\"),\n",
    "    PackageSpec(name=\"TextSearch\", version=\"0.12\"),\n",
    "    PackageSpec(name=\"Plots\"),\n",
    "    PackageSpec(name=\"KNearestCenters\"),\n",
    "    PackageSpec(name=\"HypertextLiteral\"),\n",
    "    PackageSpec(name=\"CSV\"),\n",
    "    PackageSpec(name=\"DataFrames\"),\n",
    "    PackageSpec(name=\"Embeddings\", version=\"0.4\")\n",
    "])\n",
    "\n",
    "using SimilaritySearch, TextSearch, Plots, KNearestCenters, LinearAlgebra, Embeddings, HypertextLiteral, CSV, DataFrames, Base64, Random\n",
    "using Downloads: download"
   ]
  },
  {
   "cell_type": "code",
   "execution_count": 2,
   "id": "dc9f7f49-5c32-41ea-95f5-b8f1670c2842",
   "metadata": {},
   "outputs": [
    {
     "name": "stdout",
     "output_type": "stream",
     "text": [
      "\u001b[32m\u001b[1m      Status\u001b[22m\u001b[39m `~/IR-2022/Unidades/Project.toml`\n",
      " \u001b[90m [944b1d66] \u001b[39mCodecZlib v0.7.0\n",
      " \u001b[90m [ac1192a8] \u001b[39mHypertextLiteral v0.9.4\n",
      " \u001b[90m [b20bd276] \u001b[39mInvertedFiles v0.4.1 `../../Research/InvertedFiles.jl`\n",
      " \u001b[90m [682c06a0] \u001b[39mJSON v0.21.3\n",
      " \u001b[90m [4dca28ae] \u001b[39mKNearestCenters v0.7.1\n",
      " \u001b[90m [8ef0a80b] \u001b[39mLanguages v0.4.3\n",
      " \u001b[90m [eb30cadb] \u001b[39mMLDatasets v0.7.3\n",
      " \u001b[90m [053f045d] \u001b[39mSimilaritySearch v0.9.4 `../../Research/SimilaritySearch.jl`\n",
      " \u001b[90m [fb8f903a] \u001b[39mSnowball v0.1.0\n",
      " \u001b[90m [2913bbd2] \u001b[39mStatsBase v0.33.18\n",
      " \u001b[90m [7f6f6c8a] \u001b[39mTextSearch v0.12.5 `../../Research/TextSearch.jl`\n"
     ]
    }
   ],
   "source": [
    "]status"
   ]
  },
  {
   "cell_type": "code",
   "execution_count": 3,
   "id": "95d9bcb8-60f5-42d5-adb3-dca1f1b480b3",
   "metadata": {},
   "outputs": [
    {
     "data": {
      "text/plain": [
       "scores (generic function with 1 method)"
      ]
     },
     "execution_count": 3,
     "metadata": {},
     "output_type": "execute_result"
    }
   ],
   "source": [
    "function knn(index, labels, q, k)\n",
    "    res = KnnResult(k)\n",
    "    search(index, q, res)\n",
    "    mode(labels[idview(res)])\n",
    "end\n",
    "\n",
    "function mymode(c, labels, f)\n",
    "    n = length(c)\n",
    "    empty!(f)\n",
    "    for id in c\n",
    "        id == 0 && break  # searchbatch stores zeros at the end of the result when the result set is smaller than the required one\n",
    "        l = labels[id]\n",
    "        f[l] = get(f, l, 0) + 1\n",
    "    end\n",
    "    \n",
    "    if length(f) == 0\n",
    "        rand(labels)\n",
    "    else\n",
    "        argmax(last, f) |> first\n",
    "    end\n",
    "end\n",
    "\n",
    "function knn(I, labels)\n",
    "    f = Dict{eltype(labels), Int}()\n",
    "    [mymode(c, labels, f) for c in eachcol(I)]\n",
    "end\n",
    "\n",
    "function scores(gold, pred)\n",
    "    s = classification_scores(gold, pred)\n",
    "    (macrof1=s.macrof1, macrorecall=s.macrorecall, accuracy=s.accuracy)\n",
    "end"
   ]
  },
  {
   "cell_type": "code",
   "execution_count": 4,
   "id": "e4fcb23f-9564-4910-9a4f-1f5d4a582d5f",
   "metadata": {},
   "outputs": [
    {
     "data": {
      "text/plain": [
       "text_model_and_vectors (generic function with 1 method)"
      ]
     },
     "execution_count": 4,
     "metadata": {},
     "output_type": "execute_result"
    }
   ],
   "source": [
    "struct ValidVocabulary{DictType} <: AbstractTokenTransformation\n",
    "    valid::DictType\n",
    "end\n",
    "\n",
    "TextSearch.transform_unigram(S::ValidVocabulary, tok) = haskey(S.valid, tok) ? tok : nothing\n",
    "\n",
    "function text_model_and_vectors(\n",
    "        corpus, vocab;\n",
    "        localweighting=TpWeighting(),\n",
    "        globalweighting=BinaryGlobalWeighting(),\n",
    "        nlist=[1],\n",
    "        qlist=[],\n",
    "        slist=[],\n",
    "        group_usr=true,\n",
    "        group_url=true,\n",
    "        group_num=true,\n",
    "        del_diac=true,\n",
    "        lc=true\n",
    "    )\n",
    "\n",
    "    voc = Vocabulary(length(corpus))\n",
    "    for v in vocab\n",
    "       push!(voc, v)\n",
    "    end\n",
    "    \n",
    "    tt = ValidVocabulary(voc.token2id)\n",
    "    textconfig = TextConfig(; group_usr, group_url, del_diac, lc, group_num, nlist, qlist, slist, tt)\n",
    "    tokenize_and_append!(voc, textconfig, corpus)\n",
    "    model = VectorModel(globalweighting, localweighting, voc)\n",
    "    (; textconfig, model, voc)\n",
    "end\n"
   ]
  },
  {
   "cell_type": "code",
   "execution_count": 5,
   "id": "af8bad4e-c31b-4506-8341-47c4130d664a",
   "metadata": {},
   "outputs": [
    {
     "data": {
      "text/plain": [
       "create_index (generic function with 1 method)"
      ]
     },
     "execution_count": 5,
     "metadata": {},
     "output_type": "execute_result"
    }
   ],
   "source": [
    "function embeddings()\n",
    "    embfile = \"../data/MX.vec\"\n",
    "    !isfile(embfile) && download(\"http://geo.ingeotec.mx/~sadit/regional-spanish-models/MX.vec\", embfile)\n",
    "    emb = load_embeddings(FastText_Text, embfile)  # you can change with any of the available embeddings in `Embeddings`\n",
    "    for c in eachcol(emb.embeddings)\n",
    "        normalize!(c)\n",
    "    end\n",
    "    \n",
    "    (; X=emb.embeddings, vocab=emb.vocab)\n",
    "end\n",
    "\n",
    "function vectorize_as_prototype!(c, text, E, T)\n",
    "    x = vectorize(T.model, T.textconfig, text; normalize=false)\n",
    "    if length(x) == 1 && haskey(x, 0)\n",
    "        #@warn \"empty vector $(Int(i)) selecting a random vector for it \" # $(corpus[i])\n",
    "        rand!(c)\n",
    "    else\n",
    "        for (id, weight) in x\n",
    "            id == 0 && continue\n",
    "             c .= c .+ weight .* view(E.X, :, id)\n",
    "        end\n",
    "    end\n",
    "    \n",
    "    normalize!(c)\n",
    "end\n",
    "\n",
    "function vectorize_corpus_as_prototypes(corpus, E, T)\n",
    "    dim = size(E.X, 1)\n",
    "    n = length(corpus)\n",
    "    C = zeros(Float32, dim, n)\n",
    "    # Threads.@threads\n",
    "    for i in 1:n\n",
    "        vectorize_as_prototype!(view(C, :, i), corpus[i], E, T)\n",
    "    end\n",
    "    \n",
    "    C\n",
    "end\n",
    "\n",
    "function create_index(db)\n",
    "    dist = NormalizedCosineDistance()\n",
    "    index = SearchGraph(; dist, db, verbose=false)\n",
    "    index!(index; callbacks=SearchGraphCallbacks(MinRecall(0.9)))\n",
    "    optimize!(index, MinRecall(0.9))\n",
    "    index\n",
    "end"
   ]
  },
  {
   "cell_type": "code",
   "execution_count": 6,
   "id": "9d1dc14b-02cb-45ab-8466-5783251ef877",
   "metadata": {},
   "outputs": [
    {
     "data": {
      "text/plain": [
       "(textconfig = TextConfig(true, false, false, true, true, true, false, true, Int8[], Int8[1], Skipgram[], ValidVocabulary{Dict{String, UInt32}}(Dict{String, UInt32}(\"alaann\" => 0x0005f201, \"coprolito\" => 0x0005f0e5, \"alissonrojas\" => 0x00018ff1, \"copeamos\" => 0x0004490d, \"inhiben\" => 0x00015522, \"btardes\" => 0x00028895, \"guardalo\" => 0x00004561, \"kokis\" => 0x00030576, \"sentando\" => 0x000087bd, \"salvaguarde\" => 0x00028f60…))), model = {VectorModel global_weighting=BinaryGlobalWeighting(), local_weighting=TpWeighting(), train-voc=438136, train-n=41998, maxoccs=59524}, voc = Vocabulary([\"</s>\", \"_usr\", \"que\", \"de\", \",\", \".\", \"y\", \"a\", \"la\", \"no\"  …  \"tannehil\", \"movelike\", \"peliblanca\", \"cristianzav\", \"rqq\", \"preguntartee\", \"sutedes\", \"venciendolo\", \"eviscerado\", \"fectivo\"], Int32[0, 25844, 20315, 59524, 31605, 21433, 17403, 20211, 34402, 6002  …  0, 0, 0, 0, 0, 0, 0, 0, 0, 0], Int32[0, 25844, 20315, 59524, 31605, 21433, 17403, 20211, 34402, 6002  …  0, 0, 0, 0, 0, 0, 0, 0, 0, 0], Float32[0.0, 0.0, 0.0, 0.0, 0.0, 0.0, 0.0, 0.0, 0.0, 0.0  …  0.0, 0.0, 0.0, 0.0, 0.0, 0.0, 0.0, 0.0, 0.0, 0.0], Dict{String, UInt32}(\"alaann\" => 0x0005f201, \"coprolito\" => 0x0005f0e5, \"alissonrojas\" => 0x00018ff1, \"copeamos\" => 0x0004490d, \"inhiben\" => 0x00015522, \"btardes\" => 0x00028895, \"guardalo\" => 0x00004561, \"kokis\" => 0x00030576, \"sentando\" => 0x000087bd, \"salvaguarde\" => 0x00028f60…), 41998))"
      ]
     },
     "execution_count": 6,
     "metadata": {},
     "output_type": "execute_result"
    }
   ],
   "source": [
    "E = embeddings()\n",
    "D = CSV.read(\"../data/spanish-news-in-twitter.csv\", DataFrame; delim=',')\n",
    "D[:, :text] = String.(base64decode.(D.text))\n",
    "dropmissing!(D)\n",
    "T = text_model_and_vectors(D.text, E.vocab)"
   ]
  },
  {
   "cell_type": "code",
   "execution_count": 7,
   "id": "3c6a4557-bd1f-4ffb-b5bc-c7abe0e69d2e",
   "metadata": {},
   "outputs": [
    {
     "data": {
      "text/plain": [
       "64"
      ]
     },
     "execution_count": 7,
     "metadata": {},
     "output_type": "execute_result"
    }
   ],
   "source": [
    "Threads.nthreads()"
   ]
  },
  {
   "cell_type": "code",
   "execution_count": 8,
   "id": "593497b1-0da0-45e3-83ae-54507b233311",
   "metadata": {},
   "outputs": [
    {
     "name": "stdout",
     "output_type": "stream",
     "text": [
      "  2.292803 seconds (4.46 M allocations: 389.881 MiB, 23.21% compilation time)\n"
     ]
    },
    {
     "data": {
      "text/plain": [
       "300×41998 Matrix{Float32}:\n",
       " -0.0339036   -0.0428609   -0.0670109    …  -0.0374637   -0.0475409\n",
       "  0.0265874    0.0223019    0.00263203       0.0131571    0.018139\n",
       " -0.0370614    0.00167701  -0.0378757       -0.0102305    0.0157182\n",
       "  0.0181526    0.0105444   -0.0240541       -0.0646235    0.0214401\n",
       "  0.0134366    0.0189434    0.0366603       -0.0527604   -0.00279745\n",
       " -0.0213551   -0.0188397    0.0460011    …   0.0460707    0.0460432\n",
       "  0.0239996   -0.018044    -0.000361117     -0.00433237   0.0459184\n",
       "  0.0195599    0.0119689    0.00421374       0.0138044   -0.0359088\n",
       "  0.0655299    0.0465704    0.110764         0.0814923    0.0444924\n",
       " -0.00386314   0.0205548   -0.0155296        0.0353385   -0.00603773\n",
       "  0.0261242    0.0328563    0.0815982    …   0.0578312    0.0652253\n",
       " -0.0106883    0.0192735    0.0482066        0.00723559   0.106062\n",
       "  0.0287057    0.0271132    0.0213498        0.0690113    0.0219228\n",
       "  ⋮                                      ⋱               \n",
       " -0.0379055   -0.0606254   -0.0479374       -0.0273296   -0.0978321\n",
       "  0.00499716  -0.0170234    0.026356        -0.0109002    0.0597021\n",
       " -0.00235868   0.0312287    0.0101115    …   0.00960021   0.0148136\n",
       "  0.0123326   -0.0296987   -0.0234615       -0.0136414   -0.0459228\n",
       " -0.0270065   -0.00560961   9.27404f-5       0.0246099    0.0621373\n",
       "  0.07518      0.0914398    0.0669171        0.053925     0.0670851\n",
       "  0.0286025    0.036359     0.0437659        0.0206009   -0.00067322\n",
       "  0.0390417    0.00978553   0.0260168    …   0.0745316    0.0128713\n",
       " -0.0285575   -0.0896642   -0.0762288       -0.07801     -0.0554285\n",
       "  0.0111956   -0.0199941   -0.0239448       -0.0605049    0.0186909\n",
       " -0.0982467   -0.0811135   -0.0713352       -0.0937461   -0.111505\n",
       "  0.0289558   -0.0197024    0.0144165        0.042584     0.00264204"
      ]
     },
     "execution_count": 8,
     "metadata": {},
     "output_type": "execute_result"
    }
   ],
   "source": [
    "@time C = vectorize_corpus_as_prototypes(D.text, E, T)"
   ]
  },
  {
   "cell_type": "code",
   "execution_count": null,
   "id": "a9ff6403-f5e7-470e-90e0-baa79eccb793",
   "metadata": {},
   "outputs": [],
   "source": []
  },
  {
   "cell_type": "markdown",
   "id": "0bcb60ff-68c0-4c09-a8dd-70079ba59994",
   "metadata": {},
   "source": [
    "### Se crea el índice métrico"
   ]
  },
  {
   "cell_type": "code",
   "execution_count": 9,
   "id": "3d9108c0-02a7-4afe-bfa2-7b436f7bd0f0",
   "metadata": {},
   "outputs": [
    {
     "name": "stdout",
     "output_type": "stream",
     "text": [
      "  7.269850 seconds (12.16 M allocations: 1.251 GiB, 9.08% gc time, 83.60% compilation time)\n"
     ]
    },
    {
     "data": {
      "text/plain": [
       "SearchGraph{NormalizedCosineDistance, MatrixDatabase{Matrix{Float32}}, BeamSearch}\n",
       "  dist: NormalizedCosineDistance NormalizedCosineDistance()\n",
       "  db: MatrixDatabase{Matrix{Float32}}\n",
       "  links: Array{Vector{Int32}}((41998,))\n",
       "  locks: Array{Base.Threads.SpinLock}((41998,))\n",
       "  hints: Array{Int32}((104,)) Int32[5, 19, 20, 153, 263, 289, 343, 357, 399, 429  …  2985, 3015, 3035, 3108, 3114, 3126, 3147, 3148, 3182, 3213]\n",
       "  search_algo: BeamSearch\n",
       "  verbose: Bool false\n"
      ]
     },
     "execution_count": 9,
     "metadata": {},
     "output_type": "execute_result"
    }
   ],
   "source": [
    "@time index = create_index(MatrixDatabase(C))"
   ]
  },
  {
   "cell_type": "markdown",
   "id": "7e629f24-ecf3-4908-a100-b70559dca89a",
   "metadata": {},
   "source": [
    "### Búsqueda de todos los vecinos cercanos en el vocabulario, observe la conveniencia del uso de un índice\n",
    "\n",
    "Entre más sean las consultas más se ve la bondad (~42k consultas)"
   ]
  },
  {
   "cell_type": "code",
   "execution_count": 16,
   "id": "f43463a8-0c73-4903-a78c-6b2405ddf812",
   "metadata": {},
   "outputs": [
    {
     "name": "stderr",
     "output_type": "stream",
     "text": [
      "┌ Info: precision is zero for label 'fabriziomejia'; #classes=67 \n",
      "└ @ KNearestCenters /home/sadit/.julia/packages/KNearestCenters/katlq/src/scores.jl:163\n",
      "┌ Info: precision is zero for label 'lydiacachosi'; #classes=67 \n",
      "└ @ KNearestCenters /home/sadit/.julia/packages/KNearestCenters/katlq/src/scores.jl:163\n",
      "┌ Info: precision is zero for label 'brozoxmiswebs'; #classes=67 \n",
      "└ @ KNearestCenters /home/sadit/.julia/packages/KNearestCenters/katlq/src/scores.jl:163\n",
      "┌ Info: precision is zero for label 'patriciajaniot'; #classes=67 \n",
      "└ @ KNearestCenters /home/sadit/.julia/packages/KNearestCenters/katlq/src/scores.jl:163\n",
      "┌ Info: precision is zero for label 'laoctava_tv'; #classes=67 \n",
      "└ @ KNearestCenters /home/sadit/.julia/packages/KNearestCenters/katlq/src/scores.jl:163\n",
      "┌ Info: precision is zero for label 'jrisco'; #classes=67 \n",
      "└ @ KNearestCenters /home/sadit/.julia/packages/KNearestCenters/katlq/src/scores.jl:163\n",
      "┌ Info: precision is zero for label 'JorgeGCastaneda'; #classes=67 \n",
      "└ @ KNearestCenters /home/sadit/.julia/packages/KNearestCenters/katlq/src/scores.jl:163\n",
      "┌ Info: precision is zero for label 'DrLorenzoMeyer'; #classes=67 \n",
      "└ @ KNearestCenters /home/sadit/.julia/packages/KNearestCenters/katlq/src/scores.jl:163\n",
      "┌ Info: precision is zero for label 'aristeguicnn'; #classes=67 \n",
      "└ @ KNearestCenters /home/sadit/.julia/packages/KNearestCenters/katlq/src/scores.jl:163\n",
      "┌ Info: precision is zero for label 'fabriziomejia'; #classes=67 \n",
      "└ @ KNearestCenters /home/sadit/.julia/packages/KNearestCenters/katlq/src/scores.jl:163\n",
      "┌ Info: precision is zero for label 'lydiacachosi'; #classes=67 \n",
      "└ @ KNearestCenters /home/sadit/.julia/packages/KNearestCenters/katlq/src/scores.jl:163\n",
      "┌ Info: precision is zero for label 'Adela_Micha'; #classes=67 \n",
      "└ @ KNearestCenters /home/sadit/.julia/packages/KNearestCenters/katlq/src/scores.jl:163\n",
      "┌ Info: precision is zero for label 'patriciajaniot'; #classes=67 \n",
      "└ @ KNearestCenters /home/sadit/.julia/packages/KNearestCenters/katlq/src/scores.jl:163\n",
      "┌ Info: precision is zero for label 'laoctava_tv'; #classes=67 \n",
      "└ @ KNearestCenters /home/sadit/.julia/packages/KNearestCenters/katlq/src/scores.jl:163\n",
      "┌ Info: precision is zero for label 'jrisco'; #classes=67 \n",
      "└ @ KNearestCenters /home/sadit/.julia/packages/KNearestCenters/katlq/src/scores.jl:163\n",
      "┌ Info: precision is zero for label 'JorgeGCastaneda'; #classes=67 \n",
      "└ @ KNearestCenters /home/sadit/.julia/packages/KNearestCenters/katlq/src/scores.jl:163\n",
      "┌ Info: precision is zero for label 'DrLorenzoMeyer'; #classes=67 \n",
      "└ @ KNearestCenters /home/sadit/.julia/packages/KNearestCenters/katlq/src/scores.jl:163\n",
      "┌ Info: precision is zero for label 'aristeguicnn'; #classes=67 \n",
      "└ @ KNearestCenters /home/sadit/.julia/packages/KNearestCenters/katlq/src/scores.jl:163\n"
     ]
    },
    {
     "data": {
      "text/html": [
       "<div>macro-recall: 0.9062001464355446, n: 41998</div>\n",
       "<div>searchgraph search time: 0.554506423, scores: <span class=\"Core-NamedTuple\">(macrof1 = 0.18751074131150597, macrorecall = 0.17850393882051546, accuracy = 0.29658555169293777)</span></div>\n",
       "<div>brute force search time: 6.619088688, scores: <span class=\"Core-NamedTuple\">(macrof1 = 0.2033021713299911, macrorecall = 0.18992704979181993, accuracy = 0.3124434496880804)</span></div>\n"
      ],
      "text/plain": [
       "<div>macro-recall: 0.9062001464355446, n: 41998</div>\n",
       "<div>searchgraph search time: 0.554506423, scores: <span class=\"Core-NamedTuple\">(macrof1 = 0.18751074131150597, macrorecall = 0.17850393882051546, accuracy = 0.29658555169293777)</span></div>\n",
       "<div>brute force search time: 6.619088688, scores: <span class=\"Core-NamedTuple\">(macrof1 = 0.2033021713299911, macrorecall = 0.18992704979181993, accuracy = 0.3124434496880804)</span></div>\n"
      ]
     },
     "execution_count": 16,
     "metadata": {},
     "output_type": "execute_result"
    }
   ],
   "source": [
    "let k = 32\n",
    "    t1 = @elapsed I, _ = allknn(index, k)\n",
    "    # WARNING: Don't run the following line, it takes too much time\n",
    "    t2 = @elapsed gI, _ = allknn(ExhaustiveSearch(; db=index.db, dist=index.dist), k)\n",
    "    r = macrorecall(gI, I)\n",
    "    n = size(I, 2)\n",
    "    labels = String.(D.screen_name)\n",
    "    s1 = scores(labels, knn(I, labels))\n",
    "    s2 = scores(labels, knn(gI, labels))\n",
    "    \n",
    "    @htl \"\"\"\n",
    "    <div>macro-recall: $r, n: $n</div>\n",
    "    <div>searchgraph search time: $t1, scores: $s1</div>\n",
    "    <div>brute force search time: $t2, scores: $s2</div>\n",
    "    \"\"\"\n",
    "end"
   ]
  },
  {
   "cell_type": "code",
   "execution_count": null,
   "id": "e9a41c3f-e904-46a4-99a5-0c3d61fa6722",
   "metadata": {},
   "outputs": [],
   "source": []
  },
  {
   "cell_type": "markdown",
   "id": "51b68d72-5256-49ad-b22b-e896f58bc29f",
   "metadata": {},
   "source": [
    "### Búsqueda y presentación de los resultados"
   ]
  },
  {
   "cell_type": "code",
   "execution_count": 11,
   "id": "e045135e-4189-47cc-9513-72a5000527f6",
   "metadata": {},
   "outputs": [
    {
     "data": {
      "text/plain": [
       "search_and_display (generic function with 1 method)"
      ]
     },
     "execution_count": 11,
     "metadata": {},
     "output_type": "execute_result"
    }
   ],
   "source": [
    "function search_and_display(index, qtext, k, D, E, T)\n",
    "    res = KnnResult(k)\n",
    "    q = zeros(Float32, size(E.X, 1))\n",
    "    vectorize_as_prototype!(q, qtext, E, T)\n",
    "    @time search(index, q, res)\n",
    "    \n",
    "    L = []\n",
    "    for (j, (id, d)) in enumerate(res)\n",
    "        push!(L, @htl \"<tr><td>$j</td><td>$id</td><td>$(round(d, digits=3))</td> <td>$(D.screen_name[id])</td><td> $(D.text[id])</td> </tr>\")\n",
    "    end\n",
    "\n",
    "    display(@htl \"\"\"<h2>resultados for \"$qtext\"</h2>\n",
    "    <table>\n",
    "    <th>  <td>id</td> <td>dist</td> <td>user</td> </td>message<td> </th>\n",
    "        $L\n",
    "    </table>\n",
    "    \"\"\")\n",
    "end\n"
   ]
  },
  {
   "cell_type": "code",
   "execution_count": 17,
   "id": "b1123924-05b2-4799-b2f7-18b3d2c46f4d",
   "metadata": {},
   "outputs": [
    {
     "data": {
      "text/html": [
       "<h1>Ejemplos de búsqueda</h1>"
      ],
      "text/plain": [
       "<h1>Ejemplos de búsqueda</h1>"
      ]
     },
     "metadata": {},
     "output_type": "display_data"
    },
    {
     "name": "stdout",
     "output_type": "stream",
     "text": [
      "  0.000193 seconds\n"
     ]
    },
    {
     "data": {
      "text/html": [
       "<h2>resultados for \"el gobierno de andres manuel lopez\"</h2>\n",
       "<table>\n",
       "<th>  <td>id</td> <td>dist</td> <td>user</td> </td>message<td> </th>\n",
       "    <tr><td>1</td><td>26294</td><td>0.113</td> <td>Radio_Formula</td><td> El presidente Andrés Manuel López Obrador exhibió el supuesto sueldo de Loret de Mola... con un documento con errores ortográficos. \n",
       "\n",
       "https://t.co/nx4bDFfw8p</td> </tr><tr><td>2</td><td>40773</td><td>0.114</td> <td>El_Universal_Mx</td><td> Sigue lo más relevante de la conferencia del presidente Andrés Manuel López Obrador ⬇️ https://t.co/pA4oo1iCbU</td> </tr><tr><td>3</td><td>41633</td><td>0.116</td> <td>PaolaRojas</td><td> RT @nmas: El presidente de México, Andrés Manuel López Obrador, habló en su conferencia mañanera sobre el presunto cobro de derecho de piso…</td> </tr><tr><td>4</td><td>21912</td><td>0.122</td> <td>CNNEE</td><td> Así pensó un plan B el presidente de México Andrés Manuel López Obrador para organizar la consulta de revocación de mandato.\n",
       "https://t.co/GaAeHdjhAG</td> </tr><tr><td>5</td><td>40400</td><td>0.125</td> <td>RicardoAlemanMx</td><td> RT @ContrapesoC: El expresidente Vicente Fox se lanzó contra el presidente Andrés Manuel López Obrador por sus declaraciones y por la inseg…</td> </tr><tr><td>6</td><td>8834</td><td>0.126</td> <td>azucenau</td><td> Informa @RicardoAnayaC que ha sido citado en el Reclusorio Norte por lo que acusa persecución de parte del presidente Andrés Manuel López Obrador</td> </tr><tr><td>7</td><td>24541</td><td>0.127</td> <td>azucenau</td><td> #ALMOMENTO | Por segundo día consecutivo, el presidente Andrés Manuel López Obrador salió esta tarde de Palacio Nacional. https://t.co/tdBqBYhhuc</td> </tr>\n",
       "</table>\n"
      ],
      "text/plain": [
       "<h2>resultados for \"el gobierno de andres manuel lopez\"</h2>\n",
       "<table>\n",
       "<th>  <td>id</td> <td>dist</td> <td>user</td> </td>message<td> </th>\n",
       "    <tr><td>1</td><td>26294</td><td>0.113</td> <td>Radio_Formula</td><td> El presidente Andrés Manuel López Obrador exhibió el supuesto sueldo de Loret de Mola... con un documento con errores ortográficos. \n",
       "\n",
       "https://t.co/nx4bDFfw8p</td> </tr><tr><td>2</td><td>40773</td><td>0.114</td> <td>El_Universal_Mx</td><td> Sigue lo más relevante de la conferencia del presidente Andrés Manuel López Obrador ⬇️ https://t.co/pA4oo1iCbU</td> </tr><tr><td>3</td><td>41633</td><td>0.116</td> <td>PaolaRojas</td><td> RT @nmas: El presidente de México, Andrés Manuel López Obrador, habló en su conferencia mañanera sobre el presunto cobro de derecho de piso…</td> </tr><tr><td>4</td><td>21912</td><td>0.122</td> <td>CNNEE</td><td> Así pensó un plan B el presidente de México Andrés Manuel López Obrador para organizar la consulta de revocación de mandato.\n",
       "https://t.co/GaAeHdjhAG</td> </tr><tr><td>5</td><td>40400</td><td>0.125</td> <td>RicardoAlemanMx</td><td> RT @ContrapesoC: El expresidente Vicente Fox se lanzó contra el presidente Andrés Manuel López Obrador por sus declaraciones y por la inseg…</td> </tr><tr><td>6</td><td>8834</td><td>0.126</td> <td>azucenau</td><td> Informa @RicardoAnayaC que ha sido citado en el Reclusorio Norte por lo que acusa persecución de parte del presidente Andrés Manuel López Obrador</td> </tr><tr><td>7</td><td>24541</td><td>0.127</td> <td>azucenau</td><td> #ALMOMENTO | Por segundo día consecutivo, el presidente Andrés Manuel López Obrador salió esta tarde de Palacio Nacional. https://t.co/tdBqBYhhuc</td> </tr>\n",
       "</table>\n"
      ]
     },
     "metadata": {},
     "output_type": "display_data"
    },
    {
     "name": "stdout",
     "output_type": "stream",
     "text": [
      "  0.000467 seconds\n"
     ]
    },
    {
     "data": {
      "text/html": [
       "<h2>resultados for \"trafico de drogas\"</h2>\n",
       "<table>\n",
       "<th>  <td>id</td> <td>dist</td> <td>user</td> </td>message<td> </th>\n",
       "    <tr><td>1</td><td>24023</td><td>0.245</td> <td>LaRazon_mx</td><td> #SSPC: Red de tráfico de migrantes es ubicada en #Guanajuato y #Tamaulipas https://t.co/2TdiV3G2Zf https://t.co/hctIUWIx7G</td> </tr><tr><td>2</td><td>27494</td><td>0.267</td> <td>CiroGomezL</td><td> Mil 500 elementos de la @SEMAR_mx llegaron al AICM para tomar el control de la seguridad. Los marinos realizarán tareas de vigilancia, inspección, apoyo y control para evitar el tráfico de armas, drogas, divisas, mercancía ilegal y hasta el tráfico de personas: https://t.co/85QYwB26l8</td> </tr><tr><td>3</td><td>29416</td><td>0.28</td> <td>El_Universal_Mx</td><td> RT @ElUniversal_SLP: #Entérate ⛔️ Los trabajos de repavimentación de la carretera 57 provocan filas kilométricas de vehículos desde tempran…</td> </tr><tr><td>4</td><td>29985</td><td>0.285</td> <td>EFEnoticias</td><td> Un centenar de profesores mantienen cortado esta mañana el tráfico en la Ronda Litoral, a la altura de la Vila Olímpica de Barcelona, lo que está causando grandes retenciones de tráfico en esta vía en el tercer día de huelga de la enseñanza.\n",
       "\n",
       "https://t.co/jIsziPxkn7</td> </tr><tr><td>5</td><td>41311</td><td>0.286</td> <td>Reforma</td><td> #Entérate Intentos de asalto y poca infraestructura carretera en el Estado de México obstaculiza el reparto de ayuda del Banco de Alimentos Poniente https://t.co/MPpkMmpRX8</td> </tr><tr><td>6</td><td>36859</td><td>0.287</td> <td>El_Universal_Mx</td><td> De acuerdo con datos de la Administración de Control de Drogas (DEA) de Estados Unidos, en la versión original, el fentanilo es considerado de 30 a 50 veces más potente que la heroína https://t.co/9mWdq9W8PA https://t.co/bqchRWkYvZ</td> </tr><tr><td>7</td><td>32937</td><td>0.288</td> <td>Radio_Formula</td><td> Un taxi fue de los vehículos afectados por el accidente de tránsito en Tlalpan, Ciudad de México.\n",
       "\n",
       "https://t.co/pJaNrYlRRH</td> </tr>\n",
       "</table>\n"
      ],
      "text/plain": [
       "<h2>resultados for \"trafico de drogas\"</h2>\n",
       "<table>\n",
       "<th>  <td>id</td> <td>dist</td> <td>user</td> </td>message<td> </th>\n",
       "    <tr><td>1</td><td>24023</td><td>0.245</td> <td>LaRazon_mx</td><td> #SSPC: Red de tráfico de migrantes es ubicada en #Guanajuato y #Tamaulipas https://t.co/2TdiV3G2Zf https://t.co/hctIUWIx7G</td> </tr><tr><td>2</td><td>27494</td><td>0.267</td> <td>CiroGomezL</td><td> Mil 500 elementos de la @SEMAR_mx llegaron al AICM para tomar el control de la seguridad. Los marinos realizarán tareas de vigilancia, inspección, apoyo y control para evitar el tráfico de armas, drogas, divisas, mercancía ilegal y hasta el tráfico de personas: https://t.co/85QYwB26l8</td> </tr><tr><td>3</td><td>29416</td><td>0.28</td> <td>El_Universal_Mx</td><td> RT @ElUniversal_SLP: #Entérate ⛔️ Los trabajos de repavimentación de la carretera 57 provocan filas kilométricas de vehículos desde tempran…</td> </tr><tr><td>4</td><td>29985</td><td>0.285</td> <td>EFEnoticias</td><td> Un centenar de profesores mantienen cortado esta mañana el tráfico en la Ronda Litoral, a la altura de la Vila Olímpica de Barcelona, lo que está causando grandes retenciones de tráfico en esta vía en el tercer día de huelga de la enseñanza.\n",
       "\n",
       "https://t.co/jIsziPxkn7</td> </tr><tr><td>5</td><td>41311</td><td>0.286</td> <td>Reforma</td><td> #Entérate Intentos de asalto y poca infraestructura carretera en el Estado de México obstaculiza el reparto de ayuda del Banco de Alimentos Poniente https://t.co/MPpkMmpRX8</td> </tr><tr><td>6</td><td>36859</td><td>0.287</td> <td>El_Universal_Mx</td><td> De acuerdo con datos de la Administración de Control de Drogas (DEA) de Estados Unidos, en la versión original, el fentanilo es considerado de 30 a 50 veces más potente que la heroína https://t.co/9mWdq9W8PA https://t.co/bqchRWkYvZ</td> </tr><tr><td>7</td><td>32937</td><td>0.288</td> <td>Radio_Formula</td><td> Un taxi fue de los vehículos afectados por el accidente de tránsito en Tlalpan, Ciudad de México.\n",
       "\n",
       "https://t.co/pJaNrYlRRH</td> </tr>\n",
       "</table>\n"
      ]
     },
     "metadata": {},
     "output_type": "display_data"
    },
    {
     "name": "stdout",
     "output_type": "stream",
     "text": [
      "  0.000613 seconds\n"
     ]
    },
    {
     "data": {
      "text/html": [
       "<h2>resultados for \"covid corona virus\"</h2>\n",
       "<table>\n",
       "<th>  <td>id</td> <td>dist</td> <td>user</td> </td>message<td> </th>\n",
       "    <tr><td>1</td><td>37493</td><td>0.462</td> <td>abc_es</td><td> Primeros datos de la eficacia de dos antivirales frente al virus de la viruela del simio https://t.co/TdBHvIIT3w</td> </tr><tr><td>2</td><td>31766</td><td>0.468</td> <td>AristeguiOnline</td><td> Molnupiravir elimina el virus SARS-CoV-2 activamente infeccioso al tercer día de comenzar la terapia: estudio https://t.co/93yBkWlj3G</td> </tr><tr><td>3</td><td>24558</td><td>0.476</td> <td>El_Universal_Mx</td><td> Es el primer deceso registrado en la entidad por esa variante del virus SARS-CoV-2 https://t.co/3FlnzSNpbk</td> </tr><tr><td>4</td><td>16409</td><td>0.477</td> <td>bbcmundo</td><td> El alentador efecto de la vacuna contra el virus del papiloma humano (VPH) en la reducción del cáncer de cuello uterino https://t.co/rQV9L9Q9F4</td> </tr><tr><td>5</td><td>38127</td><td>0.482</td> <td>SinEmbargoMX</td><td> Fármacos contra enfermedad inflamatoria intestinal protegerían de la COVID grave https://t.co/b7yXzIGahI https://t.co/nGZVBpX9Xi</td> </tr><tr><td>6</td><td>38229</td><td>0.492</td> <td>Adela_Micha</td><td> RT @LaSagaOficial: El infectólogo Carlos Aguirre habla sobre los virus que se han asociado a la hepatitis aguda infantil \n",
       "\n",
       "“Uno se llama ad…</td> </tr><tr><td>7</td><td>11175</td><td>0.495</td> <td>PublimetroMX</td><td> Desde 2018 se han detectado tres brotes del virus Nipah; 70% de los contagiados mueren \n",
       "\n",
       "https://t.co/ck7YVHYHtV</td> </tr>\n",
       "</table>\n"
      ],
      "text/plain": [
       "<h2>resultados for \"covid corona virus\"</h2>\n",
       "<table>\n",
       "<th>  <td>id</td> <td>dist</td> <td>user</td> </td>message<td> </th>\n",
       "    <tr><td>1</td><td>37493</td><td>0.462</td> <td>abc_es</td><td> Primeros datos de la eficacia de dos antivirales frente al virus de la viruela del simio https://t.co/TdBHvIIT3w</td> </tr><tr><td>2</td><td>31766</td><td>0.468</td> <td>AristeguiOnline</td><td> Molnupiravir elimina el virus SARS-CoV-2 activamente infeccioso al tercer día de comenzar la terapia: estudio https://t.co/93yBkWlj3G</td> </tr><tr><td>3</td><td>24558</td><td>0.476</td> <td>El_Universal_Mx</td><td> Es el primer deceso registrado en la entidad por esa variante del virus SARS-CoV-2 https://t.co/3FlnzSNpbk</td> </tr><tr><td>4</td><td>16409</td><td>0.477</td> <td>bbcmundo</td><td> El alentador efecto de la vacuna contra el virus del papiloma humano (VPH) en la reducción del cáncer de cuello uterino https://t.co/rQV9L9Q9F4</td> </tr><tr><td>5</td><td>38127</td><td>0.482</td> <td>SinEmbargoMX</td><td> Fármacos contra enfermedad inflamatoria intestinal protegerían de la COVID grave https://t.co/b7yXzIGahI https://t.co/nGZVBpX9Xi</td> </tr><tr><td>6</td><td>38229</td><td>0.492</td> <td>Adela_Micha</td><td> RT @LaSagaOficial: El infectólogo Carlos Aguirre habla sobre los virus que se han asociado a la hepatitis aguda infantil \n",
       "\n",
       "“Uno se llama ad…</td> </tr><tr><td>7</td><td>11175</td><td>0.495</td> <td>PublimetroMX</td><td> Desde 2018 se han detectado tres brotes del virus Nipah; 70% de los contagiados mueren \n",
       "\n",
       "https://t.co/ck7YVHYHtV</td> </tr>\n",
       "</table>\n"
      ]
     },
     "metadata": {},
     "output_type": "display_data"
    }
   ],
   "source": [
    "\n",
    "display(@htl \"<h1>Ejemplos de búsqueda</h1>\")\n",
    "search_and_display(index, \"el gobierno de andres manuel lopez\", 7, D, E, T)\n",
    "search_and_display(index, \"trafico de drogas\", 7, D, E, T)\n",
    "search_and_display(index, \"covid corona virus\", 7, D, E, T)\n"
   ]
  },
  {
   "cell_type": "code",
   "execution_count": 13,
   "id": "b4028733-5dd7-46e0-addb-5f7959766695",
   "metadata": {},
   "outputs": [
    {
     "data": {
      "text/html": [
       "<h1>Ejemplos de búsqueda (mensajes aleatorios)</h1>"
      ],
      "text/plain": [
       "<h1>Ejemplos de búsqueda (mensajes aleatorios)</h1>"
      ]
     },
     "metadata": {},
     "output_type": "display_data"
    },
    {
     "name": "stdout",
     "output_type": "stream",
     "text": [
      "  0.000355 seconds\n"
     ]
    },
    {
     "data": {
      "text/html": [
       "<h2>resultados for \"“El presidente @lopezobrador_ ha marcado muy claro su desdén por la intelectualidad,\n",
       "pero por la que no lo acompaña”:\n",
       "Revive la #Entrevista al periodista @ricardomraphael\n",
       "#ElDedoEnLaLlaga \n",
       "@heraldodemexico #HeraldoTV\n",
       "https://t.co/hVsZwrZYrj https://t.co/uc8SbYsqiB\"</h2>\n",
       "<table>\n",
       "<th>  <td>id</td> <td>dist</td> <td>user</td> </td>message<td> </th>\n",
       "    <tr><td>1</td><td>21443</td><td>-0.0</td> <td>AdriDelgadoRuiz</td><td> “El presidente @lopezobrador_ ha marcado muy claro su desdén por la intelectualidad,\n",
       "pero por la que no lo acompaña”:\n",
       "Revive la #Entrevista al periodista @ricardomraphael\n",
       "#ElDedoEnLaLlaga \n",
       "@heraldodemexico #HeraldoTV\n",
       "https://t.co/hVsZwrZYrj https://t.co/uc8SbYsqiB</td> </tr><tr><td>2</td><td>3176</td><td>0.06</td> <td>MarioBeteta</td><td> @carloselizondom @Radio_Formula El columnista @carloselizondom se dice preocupado por la hegemonía que ha ganado la CFE con el actual gobierno, pues no la ve &quot;capaz de atender todas las necesidades del suministro de la energía eléctrica&quot;.</td> </tr><tr><td>3</td><td>21871</td><td>0.061</td> <td>RicardoAlemanMx</td><td> No, querido @Amadoelquelolea !\n",
       "El tal @DrLorenzoMeyer ya es parte de la cloaca en que @lopezobrador_ convirtió la politica y el poder!\n",
       "Y es que, como dijo un clásico: &quot;lo doctor no quita lo pendejo!&quot;\n",
       "Abrazo!!!\n",
       "https://t.co/wyPW77uzih</td> </tr><tr><td>4</td><td>19427</td><td>0.061</td> <td>Radio_Formula</td><td> #Opinión | @RicardoMonrealA está decidido y el presidente lo sabe. La Presidencia la decidirá el mejor candidato y en eso Monreal los aventaja por ser el único que va por la libre. Escribe @lopezdoriga. \n",
       "https://t.co/4tN9JMYdrl https://t.co/rSwnie43FI</td> </tr><tr><td>5</td><td>35822</td><td>0.061</td> <td>SinEmbargoMX</td><td> RT @SinEmbargoTV: #Opinión | &quot;La oposición no levanta&quot; por @alvaro_delgado \n",
       "\n",
       "“El problema más serio que enfrenta la oposición, sin embargo,…</td> </tr><tr><td>6</td><td>22363</td><td>0.062</td> <td>Milenio</td><td> #PolíticaCero | “Peor está el ChikiliQuadri que, además del comunismo, también le declaró la guerra al reguetón, lo cual solo ha conseguido que repunte el perreo” 🎙 Lee y escucha la columna de @JairoCalixto https://t.co/Ud7jyNsJ7W https://t.co/kHz93VdTd8</td> </tr><tr><td>7</td><td>34833</td><td>0.062</td> <td>RicardoAlemanMx</td><td> Imaginan lo que habría dicho @lopezobrador_ si @EPN , @FelipeCalderon o @VicenteFoxQue hubiesen dicho lo que hoy dijo 👇 el dictador López?\n",
       "\n",
       "Pero claro, la mafia lopista calla!\n",
       "\n",
       "Vamos a seguir ganando por “paliza” en 2024: AMLO https://t.co/eLzIqHRP2q vía @ricardoalemanmx</td> </tr>\n",
       "</table>\n"
      ],
      "text/plain": [
       "<h2>resultados for \"“El presidente @lopezobrador_ ha marcado muy claro su desdén por la intelectualidad,\n",
       "pero por la que no lo acompaña”:\n",
       "Revive la #Entrevista al periodista @ricardomraphael\n",
       "#ElDedoEnLaLlaga \n",
       "@heraldodemexico #HeraldoTV\n",
       "https://t.co/hVsZwrZYrj https://t.co/uc8SbYsqiB\"</h2>\n",
       "<table>\n",
       "<th>  <td>id</td> <td>dist</td> <td>user</td> </td>message<td> </th>\n",
       "    <tr><td>1</td><td>21443</td><td>-0.0</td> <td>AdriDelgadoRuiz</td><td> “El presidente @lopezobrador_ ha marcado muy claro su desdén por la intelectualidad,\n",
       "pero por la que no lo acompaña”:\n",
       "Revive la #Entrevista al periodista @ricardomraphael\n",
       "#ElDedoEnLaLlaga \n",
       "@heraldodemexico #HeraldoTV\n",
       "https://t.co/hVsZwrZYrj https://t.co/uc8SbYsqiB</td> </tr><tr><td>2</td><td>3176</td><td>0.06</td> <td>MarioBeteta</td><td> @carloselizondom @Radio_Formula El columnista @carloselizondom se dice preocupado por la hegemonía que ha ganado la CFE con el actual gobierno, pues no la ve &quot;capaz de atender todas las necesidades del suministro de la energía eléctrica&quot;.</td> </tr><tr><td>3</td><td>21871</td><td>0.061</td> <td>RicardoAlemanMx</td><td> No, querido @Amadoelquelolea !\n",
       "El tal @DrLorenzoMeyer ya es parte de la cloaca en que @lopezobrador_ convirtió la politica y el poder!\n",
       "Y es que, como dijo un clásico: &quot;lo doctor no quita lo pendejo!&quot;\n",
       "Abrazo!!!\n",
       "https://t.co/wyPW77uzih</td> </tr><tr><td>4</td><td>19427</td><td>0.061</td> <td>Radio_Formula</td><td> #Opinión | @RicardoMonrealA está decidido y el presidente lo sabe. La Presidencia la decidirá el mejor candidato y en eso Monreal los aventaja por ser el único que va por la libre. Escribe @lopezdoriga. \n",
       "https://t.co/4tN9JMYdrl https://t.co/rSwnie43FI</td> </tr><tr><td>5</td><td>35822</td><td>0.061</td> <td>SinEmbargoMX</td><td> RT @SinEmbargoTV: #Opinión | &quot;La oposición no levanta&quot; por @alvaro_delgado \n",
       "\n",
       "“El problema más serio que enfrenta la oposición, sin embargo,…</td> </tr><tr><td>6</td><td>22363</td><td>0.062</td> <td>Milenio</td><td> #PolíticaCero | “Peor está el ChikiliQuadri que, además del comunismo, también le declaró la guerra al reguetón, lo cual solo ha conseguido que repunte el perreo” 🎙 Lee y escucha la columna de @JairoCalixto https://t.co/Ud7jyNsJ7W https://t.co/kHz93VdTd8</td> </tr><tr><td>7</td><td>34833</td><td>0.062</td> <td>RicardoAlemanMx</td><td> Imaginan lo que habría dicho @lopezobrador_ si @EPN , @FelipeCalderon o @VicenteFoxQue hubiesen dicho lo que hoy dijo 👇 el dictador López?\n",
       "\n",
       "Pero claro, la mafia lopista calla!\n",
       "\n",
       "Vamos a seguir ganando por “paliza” en 2024: AMLO https://t.co/eLzIqHRP2q vía @ricardoalemanmx</td> </tr>\n",
       "</table>\n"
      ]
     },
     "metadata": {},
     "output_type": "display_data"
    },
    {
     "name": "stdout",
     "output_type": "stream",
     "text": [
      "  0.000247 seconds\n"
     ]
    },
    {
     "data": {
      "text/html": [
       "<h2>resultados for \"RT @de_ultima: #KristenStewart es llamada la rebelión de la moda, llega a la red carpet de los #Oscars en pantalón corto de @CHANEL #Oscars…\"</h2>\n",
       "<table>\n",
       "<th>  <td>id</td> <td>dist</td> <td>user</td> </td>message<td> </th>\n",
       "    <tr><td>1</td><td>31049</td><td>0.0</td> <td>El_Universal_Mx</td><td> RT @de_ultima: #KristenStewart es llamada la rebelión de la moda, llega a la red carpet de los #Oscars en pantalón corto de @CHANEL #Oscars…</td> </tr><tr><td>2</td><td>10004</td><td>0.057</td> <td>el_pais</td><td> RT @elpaissemanal: Es la reinventora de la novela de amor decimonónica en la era de la hiperconectividad. La escritora superventas de los m…</td> </tr><tr><td>3</td><td>16785</td><td>0.066</td> <td>teleSURtv</td><td> La @UNESCO_es  anunció la #incorporación de la ciudad oriental #SantiagodeCuba a la Red de #CiudadesCreativas, por su #aportemusical, una de las categorías reconocidas👉https://t.co/XWdapowvLi</td> </tr><tr><td>4</td><td>7748</td><td>0.066</td> <td>azucenau</td><td> RT @FiscaliaCDMX: El día de hoy se hace historia; la justicia por encima de la política. Gracias a la decisión de las y los @Mx_Diputados p…</td> </tr><tr><td>5</td><td>32615</td><td>0.068</td> <td>El_Universal_Mx</td><td> &quot;Es estar sumando a la polarización&quot;, considera @LuisCardenasMx sobre el mensaje de la playera de @mario_delgado en conferencia por la #RevocaciónDeMandato https://t.co/nqVxwzyxcN https://t.co/uShp8tRTOU</td> </tr><tr><td>6</td><td>38782</td><td>0.07</td> <td>epigmenioibarra</td><td> RT @AliciaMonicaOT: Es tiempo de forma parte de la historia. Vamos que no quede duda, a votar en favor de la transformación</td> </tr><tr><td>7</td><td>22733</td><td>0.07</td> <td>julioastillero</td><td> RT @reforma2006: no se pierdan a las 7 de la noche por @Canal22 la repetición de la &quot;mesa del mas allá&quot; con @anafrancismor ,@HoracioFranco…</td> </tr>\n",
       "</table>\n"
      ],
      "text/plain": [
       "<h2>resultados for \"RT @de_ultima: #KristenStewart es llamada la rebelión de la moda, llega a la red carpet de los #Oscars en pantalón corto de @CHANEL #Oscars…\"</h2>\n",
       "<table>\n",
       "<th>  <td>id</td> <td>dist</td> <td>user</td> </td>message<td> </th>\n",
       "    <tr><td>1</td><td>31049</td><td>0.0</td> <td>El_Universal_Mx</td><td> RT @de_ultima: #KristenStewart es llamada la rebelión de la moda, llega a la red carpet de los #Oscars en pantalón corto de @CHANEL #Oscars…</td> </tr><tr><td>2</td><td>10004</td><td>0.057</td> <td>el_pais</td><td> RT @elpaissemanal: Es la reinventora de la novela de amor decimonónica en la era de la hiperconectividad. La escritora superventas de los m…</td> </tr><tr><td>3</td><td>16785</td><td>0.066</td> <td>teleSURtv</td><td> La @UNESCO_es  anunció la #incorporación de la ciudad oriental #SantiagodeCuba a la Red de #CiudadesCreativas, por su #aportemusical, una de las categorías reconocidas👉https://t.co/XWdapowvLi</td> </tr><tr><td>4</td><td>7748</td><td>0.066</td> <td>azucenau</td><td> RT @FiscaliaCDMX: El día de hoy se hace historia; la justicia por encima de la política. Gracias a la decisión de las y los @Mx_Diputados p…</td> </tr><tr><td>5</td><td>32615</td><td>0.068</td> <td>El_Universal_Mx</td><td> &quot;Es estar sumando a la polarización&quot;, considera @LuisCardenasMx sobre el mensaje de la playera de @mario_delgado en conferencia por la #RevocaciónDeMandato https://t.co/nqVxwzyxcN https://t.co/uShp8tRTOU</td> </tr><tr><td>6</td><td>38782</td><td>0.07</td> <td>epigmenioibarra</td><td> RT @AliciaMonicaOT: Es tiempo de forma parte de la historia. Vamos que no quede duda, a votar en favor de la transformación</td> </tr><tr><td>7</td><td>22733</td><td>0.07</td> <td>julioastillero</td><td> RT @reforma2006: no se pierdan a las 7 de la noche por @Canal22 la repetición de la &quot;mesa del mas allá&quot; con @anafrancismor ,@HoracioFranco…</td> </tr>\n",
       "</table>\n"
      ]
     },
     "metadata": {},
     "output_type": "display_data"
    },
    {
     "name": "stdout",
     "output_type": "stream",
     "text": [
      "  0.000307 seconds\n"
     ]
    },
    {
     "data": {
      "text/html": [
       "<h2>resultados for \"RT @ElUniversalOax: #Entérate 👨🏻‍💻 Un doodle de Google es una alteración temporal del logotipo en la página principal de Google que pretend…\"</h2>\n",
       "<table>\n",
       "<th>  <td>id</td> <td>dist</td> <td>user</td> </td>message<td> </th>\n",
       "    <tr><td>1</td><td>5056</td><td>0.0</td> <td>El_Universal_Mx</td><td> RT @ElUniversalOax: #Entérate 👨🏻‍💻 Un doodle de Google es una alteración temporal del logotipo en la página principal de Google que pretend…</td> </tr><tr><td>2</td><td>26658</td><td>0.113</td> <td>galvanochoa</td><td> RT @pictoline: Mucho ojo 👀: la historia de cómo un guardia arruinó una pintura de la era soviética... en su primer día de trabajo 🖋🙃\n",
       "\n",
       "¿Cuál…</td> </tr><tr><td>3</td><td>7284</td><td>0.118</td> <td>El_Universal_Mx</td><td> RT @ElUniversal_SLP: #Entérate 🚦 El cambio de semaforización se debe a una alta incidencia de transmisión del virus SARS-CoV-2 en la entida…</td> </tr><tr><td>4</td><td>10189</td><td>0.119</td> <td>El_Universal_Mx</td><td> RT @ElUniversal_SLP: #LoMásLeído 🌎 Google Earth Engine creó un timelapse de la capital potosina y su Zona Metropolitana\n",
       "\n",
       "https://t.co/El5Sf…</td> </tr><tr><td>5</td><td>4141</td><td>0.119</td> <td>El_Universal_Mx</td><td> RT @UniversalPuebla: 📶 No es tu internet. Falla la página de la @SEPGobPue para consultar el modelo híbrido de clases.\n",
       "\n",
       "https://t.co/T1Xs13…</td> </tr><tr><td>6</td><td>19087</td><td>0.121</td> <td>El_Universal_Mx</td><td> RT @De10mx: #Covid 😷🇲🇽 Un especialista de la UNAM afirmó que es “prácticamente imposible” evitar que ómicron, la nueva variante de Covid, l…</td> </tr><tr><td>7</td><td>14057</td><td>0.121</td> <td>teleSURtv</td><td> Linkedin: Envía datos de #telemetría a #Microsoft, los cuales se difunden con cualquier proveedor de análisis con el que la &apos;app&apos; se haya conectado📵\n",
       "\n",
       "Mensajería de Google: Comparte marcas de tiempo de cada interacción del usuario con Google Analytics, además de cada mensaje📱 https://t.co/n1d7a2dkW6</td> </tr>\n",
       "</table>\n"
      ],
      "text/plain": [
       "<h2>resultados for \"RT @ElUniversalOax: #Entérate 👨🏻‍💻 Un doodle de Google es una alteración temporal del logotipo en la página principal de Google que pretend…\"</h2>\n",
       "<table>\n",
       "<th>  <td>id</td> <td>dist</td> <td>user</td> </td>message<td> </th>\n",
       "    <tr><td>1</td><td>5056</td><td>0.0</td> <td>El_Universal_Mx</td><td> RT @ElUniversalOax: #Entérate 👨🏻‍💻 Un doodle de Google es una alteración temporal del logotipo en la página principal de Google que pretend…</td> </tr><tr><td>2</td><td>26658</td><td>0.113</td> <td>galvanochoa</td><td> RT @pictoline: Mucho ojo 👀: la historia de cómo un guardia arruinó una pintura de la era soviética... en su primer día de trabajo 🖋🙃\n",
       "\n",
       "¿Cuál…</td> </tr><tr><td>3</td><td>7284</td><td>0.118</td> <td>El_Universal_Mx</td><td> RT @ElUniversal_SLP: #Entérate 🚦 El cambio de semaforización se debe a una alta incidencia de transmisión del virus SARS-CoV-2 en la entida…</td> </tr><tr><td>4</td><td>10189</td><td>0.119</td> <td>El_Universal_Mx</td><td> RT @ElUniversal_SLP: #LoMásLeído 🌎 Google Earth Engine creó un timelapse de la capital potosina y su Zona Metropolitana\n",
       "\n",
       "https://t.co/El5Sf…</td> </tr><tr><td>5</td><td>4141</td><td>0.119</td> <td>El_Universal_Mx</td><td> RT @UniversalPuebla: 📶 No es tu internet. Falla la página de la @SEPGobPue para consultar el modelo híbrido de clases.\n",
       "\n",
       "https://t.co/T1Xs13…</td> </tr><tr><td>6</td><td>19087</td><td>0.121</td> <td>El_Universal_Mx</td><td> RT @De10mx: #Covid 😷🇲🇽 Un especialista de la UNAM afirmó que es “prácticamente imposible” evitar que ómicron, la nueva variante de Covid, l…</td> </tr><tr><td>7</td><td>14057</td><td>0.121</td> <td>teleSURtv</td><td> Linkedin: Envía datos de #telemetría a #Microsoft, los cuales se difunden con cualquier proveedor de análisis con el que la &apos;app&apos; se haya conectado📵\n",
       "\n",
       "Mensajería de Google: Comparte marcas de tiempo de cada interacción del usuario con Google Analytics, además de cada mensaje📱 https://t.co/n1d7a2dkW6</td> </tr>\n",
       "</table>\n"
      ]
     },
     "metadata": {},
     "output_type": "display_data"
    }
   ],
   "source": [
    "\n",
    "display(@htl \"<h1>Ejemplos de búsqueda (mensajes aleatorios)</h1>\")\n",
    "for i in 1:3\n",
    "    for qid in rand(1:length(D.text))\n",
    "        search_and_display(index, D.text[qid], 7, D, E, T)\n",
    "    end\n",
    "end"
   ]
  },
  {
   "cell_type": "markdown",
   "id": "1e8f09a9-75aa-49c5-9e35-4c486defa289",
   "metadata": {},
   "source": [
    "# Actividades\n",
    "- Reproduzca el ejercicio de este notebook, use embeddings para español, cambié los ejemplos. Se sugiere el uso de <https://ingeotec.github.io/regional-spanish-models/> donde encontrará modelos fastText regionalizados del español, pero puede usar otros embeddings.\n",
    "- ¿Cuál sería el símil de bigramas y trigramas para este esquema de representación semántica? Implementelo.\n",
    "- Defina $H^{pt}_d$, donde $pt$ es la probabilidad de ocurrencia de término.- Defina $H^{pt}_d$, donde $pt$ es la probabilidad de ocurrencia de término.\n",
    "- Implemente $H^\\textsf{TF}_d$ y $H^\\textsf{pt}_d$ de manera secuencial y con un índice métrico. Si usa Julia considere `SimilaritySearch.jl` y si usa Python considere `faiss`.\n",
    "- Reporte su notebook y anote sus soluciones a las preguntas planteadas. El reporte deberá contener un ensayo de [@KSKW2015] como introducción. Reporte los resultados de sus implementaciones, compare contra las alternativas presentadas en este reporte. Discuta sus resultados. Finalice el reporte  con reflexiones sobre el uso de nubes de puntos en lugar de bolsas de palabras tradicionales. Anoté sus conclusiones.\n",
    "\n",
    "# Bibliografía\n",
    "- [KSKW2015] Kusner, M., Sun, Y., Kolkin, N., & Weinberger, K. (2015, June). From word embeddings to document distances. In International conference on machine learning (pp. 957-966). PMLR.\n",
    "- [PW2009] Pele, O., & Werman, M. (2009, September). Fast and robust earth mover's distances. In 2009 IEEE 12th international conference on computer vision (pp. 460-467). IEEE.\n"
   ]
  }
 ],
 "metadata": {
  "kernelspec": {
   "display_name": "Julia 1.7.2",
   "language": "julia",
   "name": "julia-1.7"
  },
  "language_info": {
   "file_extension": ".jl",
   "mimetype": "application/julia",
   "name": "julia",
   "version": "1.7.2"
  }
 },
 "nbformat": 4,
 "nbformat_minor": 5
}
