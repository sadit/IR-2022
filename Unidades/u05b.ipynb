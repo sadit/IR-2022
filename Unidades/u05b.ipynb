{
 "cells": [
  {
   "cell_type": "markdown",
   "id": "9fc189d2-656e-41d4-be84-dcf6ccf9537b",
   "metadata": {},
   "source": [
    "# Representación semántica y búsqueda\n",
    "Autor: Eric S. Tellez <eric.tellez@infotec.mx>\n",
    "\n",
    "Cuando la información esta poco específicada, las palabras adecuadas podrían ser dificiles de tener o limitar. En estos casos, la representaciones semánticas que permiten buscar _lo que se desea_ por medio de conceptos nos acerca más a la posibilidad de obtener información útil.\n",
    "\n",
    "Como anteriormente se presento, una de las representaciones semánticas más aceptadas son aquellas basadas en word embeddings. Recordando, estas son representaciones vectoriales de cada palabra, donde la semántica se asocia con la estructura en un espacio métrico, i.e., cercano en la métrica significa similar semánticamente.\n",
    "\n",
    "# Representación semántica de documentos basada en _word embeddings_\n",
    "Un documento puede verse como una bolsa de palabras, como en el modelado tradicional, pero en lugar de usar los términos como símbolos se pueden usar los vectores semánticos. El como usar esta nube de puntos multidimensional para obtener una representación computacionalmente manejable y a la vez eficaz, es un tema que ha llevado al desarrollo de modelos cada vez más complejos, como pueden ser los grandes modelos de lenguaje. \n",
    "\n",
    "La manera forma más directa de definir una representación semántica de documentos es el uso de centroides, esto es, un vector de la misma dimensión que sumariza a un conjunto de vectores usando su media geométrica. De manera más precisa, sea $E$ una matrix $m \\times n$ de embeddings del vocabulario, i.e., considerando un vocabulario de tamaño $n$ y dimensión $m$.\n",
    "Sea $D_{m,\\ell}$ la submatriz de $E$ que contiene los $\\ell$ vectores del documento $\\textsf{doc}$. El prototipo $\\vec{d}$ de $D$ esta definido de la siguiente forma:\n",
    "\n",
    "\\begin{equation}\n",
    "\\vec{d} = \\frac{1}{\\ell} \\sum_{i=1}^\\ell D_i\n",
    "\\end{equation}\n",
    "\n",
    "\n",
    "Donde $D_i$ es el i-ésimo vector columna de $D$. Dado que se usa el coseno como similitud, también es factible el cálculo como la suma vectorial normalizada, esto es,\n",
    "\n",
    "$$ \\vec{d} = \\frac{\\sum_{i=1}^\\ell D_i}{\\lVert \\sum_{i=1}^\\ell D_i \\rVert}$$\n",
    "\n",
    "También es posible añadir información local basada en la representación de bolsa de plabras. Por ejemplo, realizar una suma pesada usando el peso de las palabras mediante la frecuencia normalizada de término (TF) o la probabilidad de término $pt$, ver unidad 3 para más información.\n",
    "\n",
    "$$\\vec{d} = \\sum_{i=1}^{\\ell} \\textsf{TF}(t_i, \\textsf{doc}) \\cdot D_i$$\n",
    "\n",
    "Donde $t_i$ es el $i$-ésimo término de $\\textsf{doc}$. Note que el orden no se captura y solo es necesario para la notación.\n",
    "\n",
    "## Usando la nube de puntos\n",
    "\n",
    "La representación de nube de puntos puede usarse directamente sin realizar prototipos, sin embargo, es posible que dada su complejidad, dimensión intrinseca, tenga poca utilidad en grandes volumenes de información. Por ejemplo, es posible utilizar la distancia de [Hausdorff](https://en.wikipedia.org/wiki/Hausdorff_distance); que entre dos nubes de puntos (documentos para este caso) esta definida como sigue:\n",
    "\n",
    "$$ H_d(U, V) = \\max \\left\\{ \\max_{u \\in U} \\min_{x \\in V} d(u, x), \\max_{v \\in V} \\min_{x \\in U} d(v, x) \\right\\} $$\n",
    "\n",
    "Donde $\\textsf{nn}$ encuentra el vecino cercano del primer argumento en el segundo. Podemos ver la intuición de esta distancia, analizando las partes de la expresión. \n",
    "La diferencia entre ambos conjuntos se representa con el máximo de las distancias mínimas. Note que esta parte es idéntica a resolver una búsqueda de vecinos cercanos. La parte más externa de la expresión se repite para los dos conjuntos para preservar la simétria de la función.\n",
    "\n",
    "De la misma forma, es posible obtener variaciones de interés como considerar todas las distancias cercanas en lugar de solo las máximas, lo cual puede reducir formas caprichosas de _outlayers_.\n",
    "\n",
    "$$ H^+_d(U, V) = \\max \\left\\{ \\sum_{u \\in U} \\min_{x \\in V} d(u, x), \\sum_{v \\in V} \\min_{x \\in U} d(v, x) \\right\\}$$\n",
    "\n",
    "La información local de una representación de bolsa de palabras también puede ser aprovechada, por ejemplo, añadiendo información de $\\textsf{TF}$\n",
    "\n",
    "$$ H^\\textsf{TF}_d(U, V) = \\max \\left\\{ \\sum_{u \\in U} {\\textsf{TF}(u, U) \\min_{x \\in V} d(u, x)}, \\sum_{v \\in V} {\\textsf{TF}(v, V) \\min_{x \\in U} d(v, x)} \\right\\} $$\n",
    "\n",
    "# Notas adicionales\n",
    "La versión de $H_d$ que usa la probabilidad de término $\\textsf{pt}$ es similar a la aproximación 2 listada en [@KSKW2015]. Los prototipos son similares a la aproximación 1 del mismo artículo. En el artículo se presenta la función de distancia _word mover's distance_ (WMD) que es una adecuación de la Earths mover's distance (EMD) [PW2009]. EMD es la solución óptima a un problema de transportación, la WMD es la adaptación teniendo en cuenta embeddings de palabras.\n",
    "\n",
    "# Ejemplo\n"
   ]
  },
  {
   "cell_type": "code",
   "execution_count": 1,
   "id": "cd04785e-aa4e-493c-9aa8-5c54c8e1f322",
   "metadata": {},
   "outputs": [
    {
     "name": "stderr",
     "output_type": "stream",
     "text": [
      "\u001b[32m\u001b[1m  Activating\u001b[22m\u001b[39m project at `~/IR-2022/Unidades`\n"
     ]
    }
   ],
   "source": [
    "\n",
    "using Pkg\n",
    "Pkg.activate(\".\")\n",
    "!isfile(\"Manifest.toml\") && Pkg.add([\n",
    "    PackageSpec(name=\"SimilaritySearch\", version=\"0.9\"),\n",
    "    PackageSpec(name=\"TextSearch\", version=\"0.12\"),\n",
    "    PackageSpec(name=\"Plots\"),\n",
    "    PackageSpec(name=\"KNearestCenters\"),\n",
    "    PackageSpec(name=\"HypertextLiteral\"),\n",
    "    PackageSpec(name=\"CSV\"),\n",
    "    PackageSpec(name=\"DataFrames\"),\n",
    "    PackageSpec(name=\"Embeddings\", version=\"0.4\")\n",
    "])\n",
    "\n",
    "using SimilaritySearch, TextSearch, Plots, KNearestCenters, LinearAlgebra, Embeddings, HypertextLiteral, CSV, DataFrames, Base64, Random\n",
    "using Downloads: download"
   ]
  },
  {
   "cell_type": "code",
   "execution_count": 2,
   "id": "dc9f7f49-5c32-41ea-95f5-b8f1670c2842",
   "metadata": {},
   "outputs": [
    {
     "name": "stdout",
     "output_type": "stream",
     "text": [
      "\u001b[32m\u001b[1m      Status\u001b[22m\u001b[39m `~/IR-2022/Unidades/Project.toml`\n",
      " \u001b[90m [944b1d66] \u001b[39mCodecZlib v0.7.0\n",
      " \u001b[90m [ac1192a8] \u001b[39mHypertextLiteral v0.9.4\n",
      " \u001b[90m [b20bd276] \u001b[39mInvertedFiles v0.4.1 `../../Research/InvertedFiles.jl`\n",
      " \u001b[90m [682c06a0] \u001b[39mJSON v0.21.3\n",
      " \u001b[90m [4dca28ae] \u001b[39mKNearestCenters v0.7.1\n",
      " \u001b[90m [8ef0a80b] \u001b[39mLanguages v0.4.3\n",
      " \u001b[90m [eb30cadb] \u001b[39mMLDatasets v0.7.3\n",
      " \u001b[90m [053f045d] \u001b[39mSimilaritySearch v0.9.4 `../../Research/SimilaritySearch.jl`\n",
      " \u001b[90m [fb8f903a] \u001b[39mSnowball v0.1.0\n",
      " \u001b[90m [2913bbd2] \u001b[39mStatsBase v0.33.18\n",
      " \u001b[90m [7f6f6c8a] \u001b[39mTextSearch v0.12.5 `../../Research/TextSearch.jl`\n"
     ]
    }
   ],
   "source": [
    "]status"
   ]
  },
  {
   "cell_type": "code",
   "execution_count": 3,
   "id": "95d9bcb8-60f5-42d5-adb3-dca1f1b480b3",
   "metadata": {},
   "outputs": [
    {
     "data": {
      "text/plain": [
       "scores (generic function with 1 method)"
      ]
     },
     "execution_count": 3,
     "metadata": {},
     "output_type": "execute_result"
    }
   ],
   "source": [
    "function knn(index, labels, q, k)\n",
    "    res = KnnResult(k)\n",
    "    search(index, q, res)\n",
    "    mode(labels[idview(res)])\n",
    "end\n",
    "\n",
    "function mymode(c, labels, f)\n",
    "    n = length(c)\n",
    "    empty!(f)\n",
    "    for id in c\n",
    "        id == 0 && break  # searchbatch stores zeros at the end of the result when the result set is smaller than the required one\n",
    "        l = labels[id]\n",
    "        f[l] = get(f, l, 0) + 1\n",
    "    end\n",
    "    \n",
    "    if length(f) == 0\n",
    "        rand(labels)\n",
    "    else\n",
    "        argmax(last, f) |> first\n",
    "    end\n",
    "end\n",
    "\n",
    "function knn(I, labels)\n",
    "    f = Dict{eltype(labels), Int}()\n",
    "    [mymode(c, labels, f) for c in eachcol(I)]\n",
    "end\n",
    "\n",
    "function scores(gold, pred)\n",
    "    s = classification_scores(gold, pred)\n",
    "    (macrof1=s.macrof1, macrorecall=s.macrorecall, accuracy=s.accuracy)\n",
    "end"
   ]
  },
  {
   "cell_type": "code",
   "execution_count": 4,
   "id": "e4fcb23f-9564-4910-9a4f-1f5d4a582d5f",
   "metadata": {},
   "outputs": [
    {
     "data": {
      "text/plain": [
       "text_model_and_vectors (generic function with 1 method)"
      ]
     },
     "execution_count": 4,
     "metadata": {},
     "output_type": "execute_result"
    }
   ],
   "source": [
    "struct ValidVocabulary{DictType} <: AbstractTokenTransformation\n",
    "    valid::DictType\n",
    "end\n",
    "\n",
    "TextSearch.transform_unigram(S::ValidVocabulary, tok) = haskey(S.valid, tok) ? tok : nothing\n",
    "\n",
    "function text_model_and_vectors(\n",
    "        corpus, vocab;\n",
    "        localweighting=TpWeighting(),\n",
    "        globalweighting=BinaryGlobalWeighting(),\n",
    "        nlist=[1],\n",
    "        qlist=[],\n",
    "        slist=[],\n",
    "        group_usr=true,\n",
    "        group_url=true,\n",
    "        group_num=true,\n",
    "        del_diac=true,\n",
    "        lc=true\n",
    "    )\n",
    "\n",
    "    voc = Vocabulary(length(corpus))\n",
    "    for v in vocab\n",
    "       push!(voc, v)\n",
    "    end\n",
    "    \n",
    "    tt = ValidVocabulary(voc.token2id)\n",
    "    textconfig = TextConfig(; group_usr, group_url, del_diac, lc, group_num, nlist, qlist, slist, tt)\n",
    "    tokenize_and_append!(voc, textconfig, corpus)\n",
    "    model = VectorModel(globalweighting, localweighting, voc)\n",
    "    (; textconfig, model, voc)\n",
    "end\n"
   ]
  },
  {
   "cell_type": "code",
   "execution_count": 18,
   "id": "af8bad4e-c31b-4506-8341-47c4130d664a",
   "metadata": {},
   "outputs": [
    {
     "data": {
      "text/plain": [
       "create_index (generic function with 2 methods)"
      ]
     },
     "execution_count": 18,
     "metadata": {},
     "output_type": "execute_result"
    }
   ],
   "source": [
    "function embeddings(embname=\"MX.vec\")\n",
    "    embfile = \"../data/$embname\"\n",
    "    !isfile(embfile) && download(\"http://geo.ingeotec.mx/~sadit/regional-spanish-models/$embname\", embfile)\n",
    "    emb = load_embeddings(FastText_Text, embfile)  # you can change with any of the available embeddings in `Embeddings`\n",
    "    for c in eachcol(emb.embeddings)\n",
    "        normalize!(c)\n",
    "    end\n",
    "    \n",
    "    (; X=emb.embeddings, vocab=emb.vocab)\n",
    "end\n",
    "\n",
    "function vectorize_as_prototype!(c, text, E, T)\n",
    "    x = vectorize(T.model, T.textconfig, text; normalize=false)\n",
    "    if length(x) == 1 && haskey(x, 0)\n",
    "        #@warn \"empty vector $(Int(i)) selecting a random vector for it \" # $(corpus[i])\n",
    "        rand!(c)\n",
    "    else\n",
    "        for (id, weight) in x\n",
    "            id == 0 && continue\n",
    "             c .= c .+ weight .* view(E.X, :, id)\n",
    "        end\n",
    "    end\n",
    "    \n",
    "    normalize!(c)\n",
    "end\n",
    "\n",
    "function vectorize_corpus_as_prototypes(corpus, E, T)\n",
    "    dim = size(E.X, 1)\n",
    "    n = length(corpus)\n",
    "    C = zeros(Float32, dim, n)\n",
    "    # Threads.@threads\n",
    "    for i in 1:n\n",
    "        vectorize_as_prototype!(view(C, :, i), corpus[i], E, T)\n",
    "    end\n",
    "    \n",
    "    C\n",
    "end\n",
    "\n",
    "function create_index(db, recall)\n",
    "    dist = NormalizedCosineDistance()\n",
    "    index = SearchGraph(; dist, db, verbose=false)\n",
    "    index!(index; callbacks=SearchGraphCallbacks(MinRecall(recall)))\n",
    "    optimize!(index, MinRecall(recall))\n",
    "    index\n",
    "end"
   ]
  },
  {
   "cell_type": "code",
   "execution_count": 16,
   "id": "9d1dc14b-02cb-45ab-8466-5783251ef877",
   "metadata": {},
   "outputs": [
    {
     "name": "stdout",
     "output_type": "stream",
     "text": [
      " 35.425357 seconds (10.15 M allocations: 11.600 GiB, 3.70% gc time, 0.02% compilation time)\n",
      "  0.033548 seconds (50.38 k allocations: 15.346 MiB)\n",
      "  0.090820 seconds (1.25 M allocations: 100.733 MiB)\n",
      " 10.854681 seconds (5.35 M allocations: 321.371 MiB)\n"
     ]
    },
    {
     "data": {
      "text/plain": [
       "((41999,), (300, 438136), (438136,))"
      ]
     },
     "execution_count": 16,
     "metadata": {},
     "output_type": "execute_result"
    }
   ],
   "source": [
    "@time E = embeddings()\n",
    "@time D = CSV.read(\"../data/spanish-news-in-twitter.csv\", DataFrame; delim=',', missingstring=\"XXXX\")\n",
    "@time D[:, :text] = String.(base64decode.(D.text))\n",
    "@time T = text_model_and_vectors(D.text, E.vocab)\n",
    "size(D.text), size(E.X), size(E.vocab)"
   ]
  },
  {
   "cell_type": "code",
   "execution_count": 17,
   "id": "593497b1-0da0-45e3-83ae-54507b233311",
   "metadata": {},
   "outputs": [
    {
     "name": "stdout",
     "output_type": "stream",
     "text": [
      "  1.788759 seconds (3.54 M allocations: 340.191 MiB, 7.17% compilation time)\n"
     ]
    },
    {
     "data": {
      "text/plain": [
       "300×41999 Matrix{Float32}:\n",
       " -0.0339036   -0.0428609   -0.0670109    …  -0.0374637   -0.0475409\n",
       "  0.0265874    0.0223019    0.00263203       0.0131571    0.018139\n",
       " -0.0370614    0.00167701  -0.0378757       -0.0102305    0.0157182\n",
       "  0.0181526    0.0105444   -0.0240541       -0.0646235    0.0214401\n",
       "  0.0134366    0.0189434    0.0366603       -0.0527604   -0.00279745\n",
       " -0.0213551   -0.0188397    0.0460011    …   0.0460707    0.0460432\n",
       "  0.0239996   -0.018044    -0.000361117     -0.00433237   0.0459184\n",
       "  0.0195599    0.0119689    0.00421374       0.0138044   -0.0359088\n",
       "  0.0655299    0.0465704    0.110764         0.0814923    0.0444924\n",
       " -0.00386314   0.0205548   -0.0155296        0.0353385   -0.00603773\n",
       "  0.0261242    0.0328563    0.0815982    …   0.0578312    0.0652253\n",
       " -0.0106883    0.0192735    0.0482066        0.00723559   0.106062\n",
       "  0.0287057    0.0271132    0.0213498        0.0690113    0.0219228\n",
       "  ⋮                                      ⋱               \n",
       " -0.0379055   -0.0606254   -0.0479374       -0.0273296   -0.0978321\n",
       "  0.00499716  -0.0170234    0.026356        -0.0109002    0.0597021\n",
       " -0.00235868   0.0312287    0.0101115    …   0.00960021   0.0148136\n",
       "  0.0123326   -0.0296987   -0.0234615       -0.0136414   -0.0459228\n",
       " -0.0270065   -0.00560961   9.27404f-5       0.0246099    0.0621373\n",
       "  0.07518      0.0914398    0.0669171        0.053925     0.0670851\n",
       "  0.0286025    0.036359     0.0437659        0.0206009   -0.00067322\n",
       "  0.0390417    0.00978553   0.0260168    …   0.0745316    0.0128713\n",
       " -0.0285575   -0.0896642   -0.0762288       -0.07801     -0.0554285\n",
       "  0.0111956   -0.0199941   -0.0239448       -0.0605049    0.0186909\n",
       " -0.0982467   -0.0811135   -0.0713352       -0.0937461   -0.111505\n",
       "  0.0289558   -0.0197024    0.0144165        0.042584     0.00264204"
      ]
     },
     "execution_count": 17,
     "metadata": {},
     "output_type": "execute_result"
    }
   ],
   "source": [
    "@time C = vectorize_corpus_as_prototypes(D.text, E, T)"
   ]
  },
  {
   "cell_type": "code",
   "execution_count": null,
   "id": "a9ff6403-f5e7-470e-90e0-baa79eccb793",
   "metadata": {},
   "outputs": [],
   "source": []
  },
  {
   "cell_type": "markdown",
   "id": "0bcb60ff-68c0-4c09-a8dd-70079ba59994",
   "metadata": {},
   "source": [
    "### Se crea el índice métrico"
   ]
  },
  {
   "cell_type": "code",
   "execution_count": 19,
   "id": "3d9108c0-02a7-4afe-bfa2-7b436f7bd0f0",
   "metadata": {},
   "outputs": [
    {
     "name": "stdout",
     "output_type": "stream",
     "text": [
      "  1.369040 seconds (630.47 k allocations: 84.675 MiB, 2.79% compilation time)\n"
     ]
    },
    {
     "data": {
      "text/plain": [
       "SearchGraph{NormalizedCosineDistance, MatrixDatabase{Matrix{Float32}}, BeamSearch}\n",
       "  dist: NormalizedCosineDistance NormalizedCosineDistance()\n",
       "  db: MatrixDatabase{Matrix{Float32}}\n",
       "  links: Array{Vector{Int32}}((41999,))\n",
       "  locks: Array{Base.Threads.SpinLock}((41999,))\n",
       "  hints: Array{Int32}((108,)) Int32[23, 66, 83, 153, 197, 210, 230, 343, 429, 441  …  2880, 2955, 3005, 3035, 3100, 3101, 3122, 3148, 3153, 3156]\n",
       "  search_algo: BeamSearch\n",
       "  verbose: Bool false\n"
      ]
     },
     "execution_count": 19,
     "metadata": {},
     "output_type": "execute_result"
    }
   ],
   "source": [
    "@time index = create_index(MatrixDatabase(C), 0.95)"
   ]
  },
  {
   "cell_type": "markdown",
   "id": "7e629f24-ecf3-4908-a100-b70559dca89a",
   "metadata": {},
   "source": [
    "### Búsqueda de todos los vecinos cercanos en el vocabulario, observe la conveniencia del uso de un índice\n",
    "\n",
    "Entre más sean las consultas más se ve la bondad (~42k consultas)"
   ]
  },
  {
   "cell_type": "code",
   "execution_count": 20,
   "id": "f43463a8-0c73-4903-a78c-6b2405ddf812",
   "metadata": {},
   "outputs": [
    {
     "name": "stderr",
     "output_type": "stream",
     "text": [
      "┌ Info: precision is zero for label 'fabriziomejia'; #classes=68 \n",
      "└ @ KNearestCenters /home/sadit/.julia/packages/KNearestCenters/katlq/src/scores.jl:163\n",
      "┌ Info: precision is zero for label 'lydiacachosi'; #classes=68 \n",
      "└ @ KNearestCenters /home/sadit/.julia/packages/KNearestCenters/katlq/src/scores.jl:163\n",
      "┌ Info: precision is zero for label 'Adela_Micha'; #classes=68 \n",
      "└ @ KNearestCenters /home/sadit/.julia/packages/KNearestCenters/katlq/src/scores.jl:163\n",
      "┌ Info: precision is zero for label 'patriciajaniot'; #classes=68 \n",
      "└ @ KNearestCenters /home/sadit/.julia/packages/KNearestCenters/katlq/src/scores.jl:163\n",
      "┌ Info: precision is zero for label 'laoctava_tv'; #classes=68 \n",
      "└ @ KNearestCenters /home/sadit/.julia/packages/KNearestCenters/katlq/src/scores.jl:163\n",
      "┌ Info: precision is zero for label 'jrisco'; #classes=68 \n",
      "└ @ KNearestCenters /home/sadit/.julia/packages/KNearestCenters/katlq/src/scores.jl:163\n",
      "┌ Info: precision is zero for label 'JorgeGCastaneda'; #classes=68 \n",
      "└ @ KNearestCenters /home/sadit/.julia/packages/KNearestCenters/katlq/src/scores.jl:163\n",
      "┌ Info: precision is zero for label 'DrLorenzoMeyer'; #classes=68 \n",
      "└ @ KNearestCenters /home/sadit/.julia/packages/KNearestCenters/katlq/src/scores.jl:163\n",
      "┌ Info: precision is zero for label 'aristeguicnn'; #classes=68 \n",
      "└ @ KNearestCenters /home/sadit/.julia/packages/KNearestCenters/katlq/src/scores.jl:163\n",
      "┌ Info: precision is zero for label ''; #classes=68 \n",
      "└ @ KNearestCenters /home/sadit/.julia/packages/KNearestCenters/katlq/src/scores.jl:163\n",
      "┌ Info: precision is zero for label 'fabriziomejia'; #classes=68 \n",
      "└ @ KNearestCenters /home/sadit/.julia/packages/KNearestCenters/katlq/src/scores.jl:163\n",
      "┌ Info: precision is zero for label 'lydiacachosi'; #classes=68 \n",
      "└ @ KNearestCenters /home/sadit/.julia/packages/KNearestCenters/katlq/src/scores.jl:163\n",
      "┌ Info: precision is zero for label 'Adela_Micha'; #classes=68 \n",
      "└ @ KNearestCenters /home/sadit/.julia/packages/KNearestCenters/katlq/src/scores.jl:163\n",
      "┌ Info: precision is zero for label 'patriciajaniot'; #classes=68 \n",
      "└ @ KNearestCenters /home/sadit/.julia/packages/KNearestCenters/katlq/src/scores.jl:163\n",
      "┌ Info: precision is zero for label 'laoctava_tv'; #classes=68 \n",
      "└ @ KNearestCenters /home/sadit/.julia/packages/KNearestCenters/katlq/src/scores.jl:163\n",
      "┌ Info: precision is zero for label 'jrisco'; #classes=68 \n",
      "└ @ KNearestCenters /home/sadit/.julia/packages/KNearestCenters/katlq/src/scores.jl:163\n",
      "┌ Info: precision is zero for label 'JorgeGCastaneda'; #classes=68 \n",
      "└ @ KNearestCenters /home/sadit/.julia/packages/KNearestCenters/katlq/src/scores.jl:163\n",
      "┌ Info: precision is zero for label 'DrLorenzoMeyer'; #classes=68 \n",
      "└ @ KNearestCenters /home/sadit/.julia/packages/KNearestCenters/katlq/src/scores.jl:163\n",
      "┌ Info: precision is zero for label 'aristeguicnn'; #classes=68 \n",
      "└ @ KNearestCenters /home/sadit/.julia/packages/KNearestCenters/katlq/src/scores.jl:163\n",
      "┌ Info: precision is zero for label ''; #classes=68 \n",
      "└ @ KNearestCenters /home/sadit/.julia/packages/KNearestCenters/katlq/src/scores.jl:163\n"
     ]
    },
    {
     "data": {
      "text/html": [
       "<div>macro-recall: 0.9572593990333104, n: 41999</div>\n",
       "<div>searchgraph search time: 1.018351672, scores: <span class=\"Core-NamedTuple\">(macrof1 = 0.19272089103918924, macrorecall = 0.18219208377706542, accuracy = 0.30334055572751734)</span></div>\n",
       "<div>brute force search time: 7.205663461, scores: <span class=\"Core-NamedTuple\">(macrof1 = 0.20031139492836822, macrorecall = 0.18713400494194024, accuracy = 0.31243601038119956)</span></div>\n"
      ],
      "text/plain": [
       "<div>macro-recall: 0.9572593990333104, n: 41999</div>\n",
       "<div>searchgraph search time: 1.018351672, scores: <span class=\"Core-NamedTuple\">(macrof1 = 0.19272089103918924, macrorecall = 0.18219208377706542, accuracy = 0.30334055572751734)</span></div>\n",
       "<div>brute force search time: 7.205663461, scores: <span class=\"Core-NamedTuple\">(macrof1 = 0.20031139492836822, macrorecall = 0.18713400494194024, accuracy = 0.31243601038119956)</span></div>\n"
      ]
     },
     "execution_count": 20,
     "metadata": {},
     "output_type": "execute_result"
    }
   ],
   "source": [
    "let k = 32\n",
    "    t1 = @elapsed I, _ = allknn(index, k)\n",
    "    # WARNING: Don't run the following line, it takes too much time\n",
    "    t2 = @elapsed gI, _ = allknn(ExhaustiveSearch(; db=index.db, dist=index.dist), k)\n",
    "    r = macrorecall(gI, I)\n",
    "    n = size(I, 2)\n",
    "    labels = String.(D.screen_name)\n",
    "    s1 = scores(labels, knn(I, labels))\n",
    "    s2 = scores(labels, knn(gI, labels))\n",
    "    \n",
    "    @htl \"\"\"\n",
    "    <div>macro-recall: $r, n: $n</div>\n",
    "    <div>searchgraph search time: $t1, scores: $s1</div>\n",
    "    <div>brute force search time: $t2, scores: $s2</div>\n",
    "    \"\"\"\n",
    "end"
   ]
  },
  {
   "cell_type": "code",
   "execution_count": null,
   "id": "e9a41c3f-e904-46a4-99a5-0c3d61fa6722",
   "metadata": {},
   "outputs": [],
   "source": []
  },
  {
   "cell_type": "markdown",
   "id": "51b68d72-5256-49ad-b22b-e896f58bc29f",
   "metadata": {},
   "source": [
    "### Búsqueda y presentación de los resultados"
   ]
  },
  {
   "cell_type": "code",
   "execution_count": 21,
   "id": "e045135e-4189-47cc-9513-72a5000527f6",
   "metadata": {},
   "outputs": [
    {
     "data": {
      "text/plain": [
       "search_and_display (generic function with 1 method)"
      ]
     },
     "execution_count": 21,
     "metadata": {},
     "output_type": "execute_result"
    }
   ],
   "source": [
    "function search_and_display(index, qtext, k, D, E, T)\n",
    "    res = KnnResult(k)\n",
    "    q = zeros(Float32, size(E.X, 1))\n",
    "    vectorize_as_prototype!(q, qtext, E, T)\n",
    "    @time search(index, q, res)\n",
    "    \n",
    "    L = []\n",
    "    for (j, (id, d)) in enumerate(res)\n",
    "        push!(L, @htl \"<tr><td>$j</td><td>$id</td><td>$(round(d, digits=3))</td> <td>$(D.screen_name[id])</td><td> $(D.text[id])</td> </tr>\")\n",
    "    end\n",
    "\n",
    "    display(@htl \"\"\"<h2>resultados for \"$qtext\"</h2>\n",
    "    <table>\n",
    "    <th>  <td>id</td> <td>dist</td> <td>user</td> </td>message<td> </th>\n",
    "        $L\n",
    "    </table>\n",
    "    \"\"\")\n",
    "end\n"
   ]
  },
  {
   "cell_type": "code",
   "execution_count": 22,
   "id": "b1123924-05b2-4799-b2f7-18b3d2c46f4d",
   "metadata": {},
   "outputs": [
    {
     "data": {
      "text/html": [
       "<h1>Ejemplos de búsqueda</h1>"
      ],
      "text/plain": [
       "<h1>Ejemplos de búsqueda</h1>"
      ]
     },
     "metadata": {},
     "output_type": "display_data"
    },
    {
     "name": "stdout",
     "output_type": "stream",
     "text": [
      "  0.000384 seconds (4 allocations: 1.844 KiB)\n"
     ]
    },
    {
     "data": {
      "text/html": [
       "<h2>resultados for \"el gobierno de andres manuel lopez\"</h2>\n",
       "<table>\n",
       "<th>  <td>id</td> <td>dist</td> <td>user</td> </td>message<td> </th>\n",
       "    <tr><td>1</td><td>26295</td><td>0.113</td> <td>Radio_Formula</td><td> El presidente Andrés Manuel López Obrador exhibió el supuesto sueldo de Loret de Mola... con un documento con errores ortográficos. \n",
       "\n",
       "https://t.co/nx4bDFfw8p</td> </tr><tr><td>2</td><td>40774</td><td>0.114</td> <td>El_Universal_Mx</td><td> Sigue lo más relevante de la conferencia del presidente Andrés Manuel López Obrador ⬇️ https://t.co/pA4oo1iCbU</td> </tr><tr><td>3</td><td>41634</td><td>0.116</td> <td>PaolaRojas</td><td> RT @nmas: El presidente de México, Andrés Manuel López Obrador, habló en su conferencia mañanera sobre el presunto cobro de derecho de piso…</td> </tr><tr><td>4</td><td>21913</td><td>0.122</td> <td>CNNEE</td><td> Así pensó un plan B el presidente de México Andrés Manuel López Obrador para organizar la consulta de revocación de mandato.\n",
       "https://t.co/GaAeHdjhAG</td> </tr><tr><td>5</td><td>40401</td><td>0.125</td> <td>RicardoAlemanMx</td><td> RT @ContrapesoC: El expresidente Vicente Fox se lanzó contra el presidente Andrés Manuel López Obrador por sus declaraciones y por la inseg…</td> </tr><tr><td>6</td><td>8834</td><td>0.126</td> <td>azucenau</td><td> Informa @RicardoAnayaC que ha sido citado en el Reclusorio Norte por lo que acusa persecución de parte del presidente Andrés Manuel López Obrador</td> </tr><tr><td>7</td><td>24542</td><td>0.127</td> <td>azucenau</td><td> #ALMOMENTO | Por segundo día consecutivo, el presidente Andrés Manuel López Obrador salió esta tarde de Palacio Nacional. https://t.co/tdBqBYhhuc</td> </tr>\n",
       "</table>\n"
      ],
      "text/plain": [
       "<h2>resultados for \"el gobierno de andres manuel lopez\"</h2>\n",
       "<table>\n",
       "<th>  <td>id</td> <td>dist</td> <td>user</td> </td>message<td> </th>\n",
       "    <tr><td>1</td><td>26295</td><td>0.113</td> <td>Radio_Formula</td><td> El presidente Andrés Manuel López Obrador exhibió el supuesto sueldo de Loret de Mola... con un documento con errores ortográficos. \n",
       "\n",
       "https://t.co/nx4bDFfw8p</td> </tr><tr><td>2</td><td>40774</td><td>0.114</td> <td>El_Universal_Mx</td><td> Sigue lo más relevante de la conferencia del presidente Andrés Manuel López Obrador ⬇️ https://t.co/pA4oo1iCbU</td> </tr><tr><td>3</td><td>41634</td><td>0.116</td> <td>PaolaRojas</td><td> RT @nmas: El presidente de México, Andrés Manuel López Obrador, habló en su conferencia mañanera sobre el presunto cobro de derecho de piso…</td> </tr><tr><td>4</td><td>21913</td><td>0.122</td> <td>CNNEE</td><td> Así pensó un plan B el presidente de México Andrés Manuel López Obrador para organizar la consulta de revocación de mandato.\n",
       "https://t.co/GaAeHdjhAG</td> </tr><tr><td>5</td><td>40401</td><td>0.125</td> <td>RicardoAlemanMx</td><td> RT @ContrapesoC: El expresidente Vicente Fox se lanzó contra el presidente Andrés Manuel López Obrador por sus declaraciones y por la inseg…</td> </tr><tr><td>6</td><td>8834</td><td>0.126</td> <td>azucenau</td><td> Informa @RicardoAnayaC que ha sido citado en el Reclusorio Norte por lo que acusa persecución de parte del presidente Andrés Manuel López Obrador</td> </tr><tr><td>7</td><td>24542</td><td>0.127</td> <td>azucenau</td><td> #ALMOMENTO | Por segundo día consecutivo, el presidente Andrés Manuel López Obrador salió esta tarde de Palacio Nacional. https://t.co/tdBqBYhhuc</td> </tr>\n",
       "</table>\n"
      ]
     },
     "metadata": {},
     "output_type": "display_data"
    },
    {
     "name": "stdout",
     "output_type": "stream",
     "text": [
      "  0.001109 seconds (6 allocations: 7.594 KiB)\n"
     ]
    },
    {
     "data": {
      "text/html": [
       "<h2>resultados for \"trafico de drogas\"</h2>\n",
       "<table>\n",
       "<th>  <td>id</td> <td>dist</td> <td>user</td> </td>message<td> </th>\n",
       "    <tr><td>1</td><td>24024</td><td>0.245</td> <td>LaRazon_mx</td><td> #SSPC: Red de tráfico de migrantes es ubicada en #Guanajuato y #Tamaulipas https://t.co/2TdiV3G2Zf https://t.co/hctIUWIx7G</td> </tr><tr><td>2</td><td>902</td><td>0.263</td> <td>AristeguiOnline</td><td> El comercio ilegal de drogas se digitaliza con la pandemia https://t.co/dzZtvcjBAA https://t.co/hrG2x5a5xs</td> </tr><tr><td>3</td><td>27495</td><td>0.267</td> <td>CiroGomezL</td><td> Mil 500 elementos de la @SEMAR_mx llegaron al AICM para tomar el control de la seguridad. Los marinos realizarán tareas de vigilancia, inspección, apoyo y control para evitar el tráfico de armas, drogas, divisas, mercancía ilegal y hasta el tráfico de personas: https://t.co/85QYwB26l8</td> </tr><tr><td>4</td><td>32075</td><td>0.274</td> <td>TelemundoNews</td><td> 🚗 Los Ángeles registra un aumento de accidentes de tráfico con conductores que se dan a la fuga.\n",
       "https://t.co/NROOouz3cg</td> </tr><tr><td>5</td><td>14581</td><td>0.276</td> <td>DoliaEstevez</td><td> El apabullante poder de fuego de los cárteles Jalisco Nueva Generación y Sinaloa es testimonio del rotundo fracaso de las políticas de ambos gobiernos para controlar el tráfico ilegal de armas, escribo.  https://t.co/RGeSrHuEcL</td> </tr><tr><td>6</td><td>29417</td><td>0.28</td> <td>El_Universal_Mx</td><td> RT @ElUniversal_SLP: #Entérate ⛔️ Los trabajos de repavimentación de la carretera 57 provocan filas kilométricas de vehículos desde tempran…</td> </tr><tr><td>7</td><td>22266</td><td>0.281</td> <td>TelemundoNews</td><td> Realizan uno de los mayores decomisos de droga en #ElSalvador.\n",
       "\n",
       "https://t.co/fXG1vFysK0</td> </tr>\n",
       "</table>\n"
      ],
      "text/plain": [
       "<h2>resultados for \"trafico de drogas\"</h2>\n",
       "<table>\n",
       "<th>  <td>id</td> <td>dist</td> <td>user</td> </td>message<td> </th>\n",
       "    <tr><td>1</td><td>24024</td><td>0.245</td> <td>LaRazon_mx</td><td> #SSPC: Red de tráfico de migrantes es ubicada en #Guanajuato y #Tamaulipas https://t.co/2TdiV3G2Zf https://t.co/hctIUWIx7G</td> </tr><tr><td>2</td><td>902</td><td>0.263</td> <td>AristeguiOnline</td><td> El comercio ilegal de drogas se digitaliza con la pandemia https://t.co/dzZtvcjBAA https://t.co/hrG2x5a5xs</td> </tr><tr><td>3</td><td>27495</td><td>0.267</td> <td>CiroGomezL</td><td> Mil 500 elementos de la @SEMAR_mx llegaron al AICM para tomar el control de la seguridad. Los marinos realizarán tareas de vigilancia, inspección, apoyo y control para evitar el tráfico de armas, drogas, divisas, mercancía ilegal y hasta el tráfico de personas: https://t.co/85QYwB26l8</td> </tr><tr><td>4</td><td>32075</td><td>0.274</td> <td>TelemundoNews</td><td> 🚗 Los Ángeles registra un aumento de accidentes de tráfico con conductores que se dan a la fuga.\n",
       "https://t.co/NROOouz3cg</td> </tr><tr><td>5</td><td>14581</td><td>0.276</td> <td>DoliaEstevez</td><td> El apabullante poder de fuego de los cárteles Jalisco Nueva Generación y Sinaloa es testimonio del rotundo fracaso de las políticas de ambos gobiernos para controlar el tráfico ilegal de armas, escribo.  https://t.co/RGeSrHuEcL</td> </tr><tr><td>6</td><td>29417</td><td>0.28</td> <td>El_Universal_Mx</td><td> RT @ElUniversal_SLP: #Entérate ⛔️ Los trabajos de repavimentación de la carretera 57 provocan filas kilométricas de vehículos desde tempran…</td> </tr><tr><td>7</td><td>22266</td><td>0.281</td> <td>TelemundoNews</td><td> Realizan uno de los mayores decomisos de droga en #ElSalvador.\n",
       "\n",
       "https://t.co/fXG1vFysK0</td> </tr>\n",
       "</table>\n"
      ]
     },
     "metadata": {},
     "output_type": "display_data"
    },
    {
     "name": "stdout",
     "output_type": "stream",
     "text": [
      "  0.001133 seconds (6 allocations: 7.594 KiB)\n"
     ]
    },
    {
     "data": {
      "text/html": [
       "<h2>resultados for \"covid corona virus\"</h2>\n",
       "<table>\n",
       "<th>  <td>id</td> <td>dist</td> <td>user</td> </td>message<td> </th>\n",
       "    <tr><td>1</td><td>37494</td><td>0.462</td> <td>abc_es</td><td> Primeros datos de la eficacia de dos antivirales frente al virus de la viruela del simio https://t.co/TdBHvIIT3w</td> </tr><tr><td>2</td><td>21303</td><td>0.463</td> <td>bbcmundo</td><td> El virus no solo nos enferma, también borra nuestras defensas contra otras enfermedades \n",
       "https://t.co/b1xfDZdfQS</td> </tr><tr><td>3</td><td>31767</td><td>0.468</td> <td>AristeguiOnline</td><td> Molnupiravir elimina el virus SARS-CoV-2 activamente infeccioso al tercer día de comenzar la terapia: estudio https://t.co/93yBkWlj3G</td> </tr><tr><td>4</td><td>24559</td><td>0.476</td> <td>El_Universal_Mx</td><td> Es el primer deceso registrado en la entidad por esa variante del virus SARS-CoV-2 https://t.co/3FlnzSNpbk</td> </tr><tr><td>5</td><td>16410</td><td>0.477</td> <td>bbcmundo</td><td> El alentador efecto de la vacuna contra el virus del papiloma humano (VPH) en la reducción del cáncer de cuello uterino https://t.co/rQV9L9Q9F4</td> </tr><tr><td>6</td><td>38128</td><td>0.482</td> <td>SinEmbargoMX</td><td> Fármacos contra enfermedad inflamatoria intestinal protegerían de la COVID grave https://t.co/b7yXzIGahI https://t.co/nGZVBpX9Xi</td> </tr><tr><td>7</td><td>30761</td><td>0.484</td> <td>TelemundoNews</td><td> ⚠️ 💊 @Pfizer retira del mercado algunos medicamentos contra la hipertensión por posible riesgo de cáncer.\n",
       " \n",
       "Otros medicamentos genéricos también fueron sacados del mercado.\n",
       "\n",
       "https://t.co/JJ3oac4Gek</td> </tr>\n",
       "</table>\n"
      ],
      "text/plain": [
       "<h2>resultados for \"covid corona virus\"</h2>\n",
       "<table>\n",
       "<th>  <td>id</td> <td>dist</td> <td>user</td> </td>message<td> </th>\n",
       "    <tr><td>1</td><td>37494</td><td>0.462</td> <td>abc_es</td><td> Primeros datos de la eficacia de dos antivirales frente al virus de la viruela del simio https://t.co/TdBHvIIT3w</td> </tr><tr><td>2</td><td>21303</td><td>0.463</td> <td>bbcmundo</td><td> El virus no solo nos enferma, también borra nuestras defensas contra otras enfermedades \n",
       "https://t.co/b1xfDZdfQS</td> </tr><tr><td>3</td><td>31767</td><td>0.468</td> <td>AristeguiOnline</td><td> Molnupiravir elimina el virus SARS-CoV-2 activamente infeccioso al tercer día de comenzar la terapia: estudio https://t.co/93yBkWlj3G</td> </tr><tr><td>4</td><td>24559</td><td>0.476</td> <td>El_Universal_Mx</td><td> Es el primer deceso registrado en la entidad por esa variante del virus SARS-CoV-2 https://t.co/3FlnzSNpbk</td> </tr><tr><td>5</td><td>16410</td><td>0.477</td> <td>bbcmundo</td><td> El alentador efecto de la vacuna contra el virus del papiloma humano (VPH) en la reducción del cáncer de cuello uterino https://t.co/rQV9L9Q9F4</td> </tr><tr><td>6</td><td>38128</td><td>0.482</td> <td>SinEmbargoMX</td><td> Fármacos contra enfermedad inflamatoria intestinal protegerían de la COVID grave https://t.co/b7yXzIGahI https://t.co/nGZVBpX9Xi</td> </tr><tr><td>7</td><td>30761</td><td>0.484</td> <td>TelemundoNews</td><td> ⚠️ 💊 @Pfizer retira del mercado algunos medicamentos contra la hipertensión por posible riesgo de cáncer.\n",
       " \n",
       "Otros medicamentos genéricos también fueron sacados del mercado.\n",
       "\n",
       "https://t.co/JJ3oac4Gek</td> </tr>\n",
       "</table>\n"
      ]
     },
     "metadata": {},
     "output_type": "display_data"
    }
   ],
   "source": [
    "\n",
    "display(@htl \"<h1>Ejemplos de búsqueda</h1>\")\n",
    "search_and_display(index, \"el gobierno de andres manuel lopez\", 7, D, E, T)\n",
    "search_and_display(index, \"trafico de drogas\", 7, D, E, T)\n",
    "search_and_display(index, \"covid corona virus\", 7, D, E, T)\n"
   ]
  },
  {
   "cell_type": "code",
   "execution_count": 23,
   "id": "b4028733-5dd7-46e0-addb-5f7959766695",
   "metadata": {},
   "outputs": [
    {
     "data": {
      "text/html": [
       "<h1>Ejemplos de búsqueda (mensajes aleatorios)</h1>"
      ],
      "text/plain": [
       "<h1>Ejemplos de búsqueda (mensajes aleatorios)</h1>"
      ]
     },
     "metadata": {},
     "output_type": "display_data"
    },
    {
     "name": "stdout",
     "output_type": "stream",
     "text": [
      "  0.000621 seconds (4 allocations: 1.844 KiB)\n"
     ]
    },
    {
     "data": {
      "text/html": [
       "<h2>resultados for \"RT @MagazineSEMX: Saúl &quot;Canelo&quot; Álvarez se aventura en el peso crucero y reta al campeón Ilunga Makabu\n",
       "https://t.co/9kftm5JWLL https://t.co…\"</h2>\n",
       "<table>\n",
       "<th>  <td>id</td> <td>dist</td> <td>user</td> </td>message<td> </th>\n",
       "    <tr><td>1</td><td>17985</td><td>-0.0</td> <td>SinEmbargoMX</td><td> RT @MagazineSEMX: Saúl &quot;Canelo&quot; Álvarez se aventura en el peso crucero y reta al campeón Ilunga Makabu\n",
       "https://t.co/9kftm5JWLL https://t.co…</td> </tr><tr><td>2</td><td>19463</td><td>0.101</td> <td>El_Universal_Mx</td><td> RT @ElUniversalOax: 🥊 Sergio Chirino Jr. (@chirino_oax), el joven boxeador de 27 años sueña con traer el triunfo y un campeonato a Oaxaca;…</td> </tr><tr><td>3</td><td>38678</td><td>0.101</td> <td>Milenio</td><td> RT @laaficion: Devin Haney, el boxeador que se forjó en un bar de Tijuana 🥊 https://t.co/U5JHSzHTvG https://t.co/XgVRdcHz8b</td> </tr><tr><td>4</td><td>37268</td><td>0.104</td> <td>EFEnoticias</td><td> RT @EFEdeportes: 🏉 Patricia García, en su retirada: &quot;El rugby me lo ha dado todo, me ha forjado como persona&quot;.\n",
       "\n",
       "🔝 @COE_Presidente: &quot;Su lega…</td> </tr><tr><td>5</td><td>32691</td><td>0.106</td> <td>PublimetroMX</td><td> RT @Publisport_MX: ¡Hay tiro!\n",
       "El César del Boxeo se enfrentará a Daniel Zaragoza en la Plaza de Toros México 🥊\n",
       "\n",
       "@IvanNavarro1006 te lo cuen…</td> </tr><tr><td>6</td><td>16718</td><td>0.107</td> <td>CNNEE</td><td> RT @deportescnn: El &quot;Canelo&quot; Álvarez podría ser considerado como el mejor boxeador mexicano de la historia https://t.co/6Ufwiq6jGs https://…</td> </tr><tr><td>7</td><td>16482</td><td>0.108</td> <td>El_Universal_Mx</td><td> RT @UnivDeportes: VA POR UNA HAZAÑA 🇲🇽\n",
       "\n",
       "Saúl &apos;Canelo&apos; Álvarez se podría convertir en el campeón absoluto supermediano y así escribir su nom…</td> </tr>\n",
       "</table>\n"
      ],
      "text/plain": [
       "<h2>resultados for \"RT @MagazineSEMX: Saúl &quot;Canelo&quot; Álvarez se aventura en el peso crucero y reta al campeón Ilunga Makabu\n",
       "https://t.co/9kftm5JWLL https://t.co…\"</h2>\n",
       "<table>\n",
       "<th>  <td>id</td> <td>dist</td> <td>user</td> </td>message<td> </th>\n",
       "    <tr><td>1</td><td>17985</td><td>-0.0</td> <td>SinEmbargoMX</td><td> RT @MagazineSEMX: Saúl &quot;Canelo&quot; Álvarez se aventura en el peso crucero y reta al campeón Ilunga Makabu\n",
       "https://t.co/9kftm5JWLL https://t.co…</td> </tr><tr><td>2</td><td>19463</td><td>0.101</td> <td>El_Universal_Mx</td><td> RT @ElUniversalOax: 🥊 Sergio Chirino Jr. (@chirino_oax), el joven boxeador de 27 años sueña con traer el triunfo y un campeonato a Oaxaca;…</td> </tr><tr><td>3</td><td>38678</td><td>0.101</td> <td>Milenio</td><td> RT @laaficion: Devin Haney, el boxeador que se forjó en un bar de Tijuana 🥊 https://t.co/U5JHSzHTvG https://t.co/XgVRdcHz8b</td> </tr><tr><td>4</td><td>37268</td><td>0.104</td> <td>EFEnoticias</td><td> RT @EFEdeportes: 🏉 Patricia García, en su retirada: &quot;El rugby me lo ha dado todo, me ha forjado como persona&quot;.\n",
       "\n",
       "🔝 @COE_Presidente: &quot;Su lega…</td> </tr><tr><td>5</td><td>32691</td><td>0.106</td> <td>PublimetroMX</td><td> RT @Publisport_MX: ¡Hay tiro!\n",
       "El César del Boxeo se enfrentará a Daniel Zaragoza en la Plaza de Toros México 🥊\n",
       "\n",
       "@IvanNavarro1006 te lo cuen…</td> </tr><tr><td>6</td><td>16718</td><td>0.107</td> <td>CNNEE</td><td> RT @deportescnn: El &quot;Canelo&quot; Álvarez podría ser considerado como el mejor boxeador mexicano de la historia https://t.co/6Ufwiq6jGs https://…</td> </tr><tr><td>7</td><td>16482</td><td>0.108</td> <td>El_Universal_Mx</td><td> RT @UnivDeportes: VA POR UNA HAZAÑA 🇲🇽\n",
       "\n",
       "Saúl &apos;Canelo&apos; Álvarez se podría convertir en el campeón absoluto supermediano y así escribir su nom…</td> </tr>\n",
       "</table>\n"
      ]
     },
     "metadata": {},
     "output_type": "display_data"
    },
    {
     "name": "stdout",
     "output_type": "stream",
     "text": [
      "  0.000637 seconds (4 allocations: 1.844 KiB)\n"
     ]
    },
    {
     "data": {
      "text/html": [
       "<h2>resultados for \"En &apos;cosas de rojos&apos; https://t.co/59xmCPsJLp ✍ José Sacristán rinde homenaje en ABC a su amigo y colega de profesión Juan Diego\"</h2>\n",
       "<table>\n",
       "<th>  <td>id</td> <td>dist</td> <td>user</td> </td>message<td> </th>\n",
       "    <tr><td>1</td><td>34497</td><td>0.0</td> <td>abc_es</td><td> En &apos;cosas de rojos&apos; https://t.co/59xmCPsJLp ✍ José Sacristán rinde homenaje en ABC a su amigo y colega de profesión Juan Diego</td> </tr><tr><td>2</td><td>27211</td><td>0.1</td> <td>Milenio</td><td> Carlos Cabrera se reencuentra con Hugo Savinovich en Triple A después de 11 años \n",
       "\n",
       "El narrador aprovechó su presentación para rendir un homenaje a Arturo ‘Rudo’ Rivera y Super Muñeco\n",
       "\n",
       "https://t.co/Sk2Bom8KXL https://t.co/8JIRVOyQ34</td> </tr><tr><td>3</td><td>19851</td><td>0.104</td> <td>azucenau</td><td> En agosto pasado, Issa Osorio, periodista de #Telemundo, entrevistó en la prisión a Miguel Ángel Félix Gallardo, &quot;el jefe de jefes&quot; \n",
       "¿Podría continuar su condena en su hogar? \n",
       "\n",
       "Estoy conversando con @osorioissa en #AzucenaxFórmula</td> </tr><tr><td>4</td><td>8109</td><td>0.105</td> <td>TelemundoNews</td><td> Miles de fanáticos de Vicente Fernández usan las redes sociales para mostrarle sus deseos de recuperación tras el accidente que sufrió en su rancho. \n",
       "\n",
       "👉🏻 El artista Roberto Márquez pintó un mural en homenaje al intérprete de rancheras. https://t.co/qHI0wGBVsQ</td> </tr><tr><td>5</td><td>21544</td><td>0.107</td> <td>El_Universal_Mx</td><td> RT @universalqro: &quot;El Payo&quot;, Jerónimo, José Mauricio, José Funtanet y los forjados Amadores de México estarán en la plaza de toros Santa Ma…</td> </tr><tr><td>6</td><td>36276</td><td>0.109</td> <td>Milenio</td><td> ▶ Familiares y amigos velan los restos de Yolanda Martínez, joven desaparecida en #NuevoLeón; el padre de la víctima asegura que el caso es un feminicidio\n",
       "\n",
       "📺 Los detalles de Pedro Delgado con @danielhsaldivar y @paamvillanueva en #MILENIO18h https://t.co/Ab067jkXSE</td> </tr><tr><td>7</td><td>24567</td><td>0.109</td> <td>AdriDelgadoRuiz</td><td> NUEVO LIBRO: *”Crónicas Transatlánticas: De batallas, amores y otros exilios&quot;* del Gran productor y escritor #LuisdeLlano. Es un recuento de la historia de su padre don Luis de Llano Palmer,quien llegó a México para crear y transformar la historia como se entiende hoy en día🇲🇽🇪🇸 https://t.co/oyb8Db57uZ</td> </tr>\n",
       "</table>\n"
      ],
      "text/plain": [
       "<h2>resultados for \"En &apos;cosas de rojos&apos; https://t.co/59xmCPsJLp ✍ José Sacristán rinde homenaje en ABC a su amigo y colega de profesión Juan Diego\"</h2>\n",
       "<table>\n",
       "<th>  <td>id</td> <td>dist</td> <td>user</td> </td>message<td> </th>\n",
       "    <tr><td>1</td><td>34497</td><td>0.0</td> <td>abc_es</td><td> En &apos;cosas de rojos&apos; https://t.co/59xmCPsJLp ✍ José Sacristán rinde homenaje en ABC a su amigo y colega de profesión Juan Diego</td> </tr><tr><td>2</td><td>27211</td><td>0.1</td> <td>Milenio</td><td> Carlos Cabrera se reencuentra con Hugo Savinovich en Triple A después de 11 años \n",
       "\n",
       "El narrador aprovechó su presentación para rendir un homenaje a Arturo ‘Rudo’ Rivera y Super Muñeco\n",
       "\n",
       "https://t.co/Sk2Bom8KXL https://t.co/8JIRVOyQ34</td> </tr><tr><td>3</td><td>19851</td><td>0.104</td> <td>azucenau</td><td> En agosto pasado, Issa Osorio, periodista de #Telemundo, entrevistó en la prisión a Miguel Ángel Félix Gallardo, &quot;el jefe de jefes&quot; \n",
       "¿Podría continuar su condena en su hogar? \n",
       "\n",
       "Estoy conversando con @osorioissa en #AzucenaxFórmula</td> </tr><tr><td>4</td><td>8109</td><td>0.105</td> <td>TelemundoNews</td><td> Miles de fanáticos de Vicente Fernández usan las redes sociales para mostrarle sus deseos de recuperación tras el accidente que sufrió en su rancho. \n",
       "\n",
       "👉🏻 El artista Roberto Márquez pintó un mural en homenaje al intérprete de rancheras. https://t.co/qHI0wGBVsQ</td> </tr><tr><td>5</td><td>21544</td><td>0.107</td> <td>El_Universal_Mx</td><td> RT @universalqro: &quot;El Payo&quot;, Jerónimo, José Mauricio, José Funtanet y los forjados Amadores de México estarán en la plaza de toros Santa Ma…</td> </tr><tr><td>6</td><td>36276</td><td>0.109</td> <td>Milenio</td><td> ▶ Familiares y amigos velan los restos de Yolanda Martínez, joven desaparecida en #NuevoLeón; el padre de la víctima asegura que el caso es un feminicidio\n",
       "\n",
       "📺 Los detalles de Pedro Delgado con @danielhsaldivar y @paamvillanueva en #MILENIO18h https://t.co/Ab067jkXSE</td> </tr><tr><td>7</td><td>24567</td><td>0.109</td> <td>AdriDelgadoRuiz</td><td> NUEVO LIBRO: *”Crónicas Transatlánticas: De batallas, amores y otros exilios&quot;* del Gran productor y escritor #LuisdeLlano. Es un recuento de la historia de su padre don Luis de Llano Palmer,quien llegó a México para crear y transformar la historia como se entiende hoy en día🇲🇽🇪🇸 https://t.co/oyb8Db57uZ</td> </tr>\n",
       "</table>\n"
      ]
     },
     "metadata": {},
     "output_type": "display_data"
    },
    {
     "name": "stdout",
     "output_type": "stream",
     "text": [
      "  0.000519 seconds (4 allocations: 1.844 KiB)\n"
     ]
    },
    {
     "data": {
      "text/html": [
       "<h2>resultados for \"🎥   El Pentágono advierte que Rusia podría simular un ataque de Ucrania para justificar una invasión.\n",
       "\n",
       "✅   Sigue esta y más noticias las 24 horas en @PrendeTV.\n",
       "\n",
       "https://t.co/vBtWSUwcX8\"</h2>\n",
       "<table>\n",
       "<th>  <td>id</td> <td>dist</td> <td>user</td> </td>message<td> </th>\n",
       "    <tr><td>1</td><td>25570</td><td>0.0</td> <td>UniNoticias</td><td> 🎥   El Pentágono advierte que Rusia podría simular un ataque de Ucrania para justificar una invasión.\n",
       "\n",
       "✅   Sigue esta y más noticias las 24 horas en @PrendeTV.\n",
       "\n",
       "https://t.co/vBtWSUwcX8</td> </tr><tr><td>2</td><td>31891</td><td>0.045</td> <td>UniNoticias</td><td> 🎥  “El conflicto está lejos de terminar”: experto advierte sobre posibles futuras maniobras de Rusia en Ucrania.\n",
       "\n",
       "✅  Sigue esta y más noticias las 24 horas en @vixdotcom.  #ViX #ViXStreaming #ViXGratis \n",
       "\n",
       "https://t.co/xsrCdfPxW5</td> </tr><tr><td>3</td><td>30370</td><td>0.048</td> <td>UniNoticias</td><td> 🎥  El ataque contra el exbeibolista David Ortiz habría sido ordenado por un narcotraficante, según autoridades de República Dominicana. \n",
       "\n",
       "✅  Sigue esta y más noticias las 24 horas en @PrendeTV.  \n",
       "\n",
       "https://t.co/Gyvpq7erkT</td> </tr><tr><td>4</td><td>32725</td><td>0.049</td> <td>UniNoticias</td><td> 🎥 Erich de la Fuente, analista político, dijo que es importante que occidente ayude masivamente al ejército ucraniano. \n",
       " \n",
       "✅ Sigue esta y más noticias las 24 horas en @VIX. #ViX #ViXStreaming #ViXGratis\n",
       "https://t.co/1Mut5Q35Or</td> </tr><tr><td>5</td><td>34433</td><td>0.053</td> <td>UniNoticias</td><td> Trevor Reed estuvo detenido en Rusia desde el año 2019 y este miércoles fue liberado. Para lograrlo, el gobierno de EEUU tuvo que dejar libre a Konstantin Yaroshenko.\n",
       "\n",
       "✅ Sigue esta y más noticias las 24 horas en @VIX. #ViX #ViXStreaming #ViXGratis\n",
       "\n",
       "👉 https://t.co/bj1kgzgh5v. https://t.co/9oIzsVlaLb</td> </tr><tr><td>6</td><td>31368</td><td>0.053</td> <td>UniNoticias</td><td> 🎥 Rusia anunció que reducirán sus actividades militares con el fin de facilitar las conversaciones con Ucrania.\n",
       "\n",
       "✅ Sigue esta y más noticias las 24 horas en @PrendeTV\n",
       "https://t.co/o8bNE5n6kj</td> </tr><tr><td>7</td><td>23483</td><td>0.054</td> <td>UniNoticias</td><td> 🎥 Más de 30 senadores le enviaron una carta a la administración del presidente Joe Biden en la que le piden un nuevo TPS para los centroamericanos.\n",
       "\n",
       "✅ Sigue esta y más noticias las 24 horas en @PrendeTV. https://t.co/r1n1x93dGK</td> </tr>\n",
       "</table>\n"
      ],
      "text/plain": [
       "<h2>resultados for \"🎥   El Pentágono advierte que Rusia podría simular un ataque de Ucrania para justificar una invasión.\n",
       "\n",
       "✅   Sigue esta y más noticias las 24 horas en @PrendeTV.\n",
       "\n",
       "https://t.co/vBtWSUwcX8\"</h2>\n",
       "<table>\n",
       "<th>  <td>id</td> <td>dist</td> <td>user</td> </td>message<td> </th>\n",
       "    <tr><td>1</td><td>25570</td><td>0.0</td> <td>UniNoticias</td><td> 🎥   El Pentágono advierte que Rusia podría simular un ataque de Ucrania para justificar una invasión.\n",
       "\n",
       "✅   Sigue esta y más noticias las 24 horas en @PrendeTV.\n",
       "\n",
       "https://t.co/vBtWSUwcX8</td> </tr><tr><td>2</td><td>31891</td><td>0.045</td> <td>UniNoticias</td><td> 🎥  “El conflicto está lejos de terminar”: experto advierte sobre posibles futuras maniobras de Rusia en Ucrania.\n",
       "\n",
       "✅  Sigue esta y más noticias las 24 horas en @vixdotcom.  #ViX #ViXStreaming #ViXGratis \n",
       "\n",
       "https://t.co/xsrCdfPxW5</td> </tr><tr><td>3</td><td>30370</td><td>0.048</td> <td>UniNoticias</td><td> 🎥  El ataque contra el exbeibolista David Ortiz habría sido ordenado por un narcotraficante, según autoridades de República Dominicana. \n",
       "\n",
       "✅  Sigue esta y más noticias las 24 horas en @PrendeTV.  \n",
       "\n",
       "https://t.co/Gyvpq7erkT</td> </tr><tr><td>4</td><td>32725</td><td>0.049</td> <td>UniNoticias</td><td> 🎥 Erich de la Fuente, analista político, dijo que es importante que occidente ayude masivamente al ejército ucraniano. \n",
       " \n",
       "✅ Sigue esta y más noticias las 24 horas en @VIX. #ViX #ViXStreaming #ViXGratis\n",
       "https://t.co/1Mut5Q35Or</td> </tr><tr><td>5</td><td>34433</td><td>0.053</td> <td>UniNoticias</td><td> Trevor Reed estuvo detenido en Rusia desde el año 2019 y este miércoles fue liberado. Para lograrlo, el gobierno de EEUU tuvo que dejar libre a Konstantin Yaroshenko.\n",
       "\n",
       "✅ Sigue esta y más noticias las 24 horas en @VIX. #ViX #ViXStreaming #ViXGratis\n",
       "\n",
       "👉 https://t.co/bj1kgzgh5v. https://t.co/9oIzsVlaLb</td> </tr><tr><td>6</td><td>31368</td><td>0.053</td> <td>UniNoticias</td><td> 🎥 Rusia anunció que reducirán sus actividades militares con el fin de facilitar las conversaciones con Ucrania.\n",
       "\n",
       "✅ Sigue esta y más noticias las 24 horas en @PrendeTV\n",
       "https://t.co/o8bNE5n6kj</td> </tr><tr><td>7</td><td>23483</td><td>0.054</td> <td>UniNoticias</td><td> 🎥 Más de 30 senadores le enviaron una carta a la administración del presidente Joe Biden en la que le piden un nuevo TPS para los centroamericanos.\n",
       "\n",
       "✅ Sigue esta y más noticias las 24 horas en @PrendeTV. https://t.co/r1n1x93dGK</td> </tr>\n",
       "</table>\n"
      ]
     },
     "metadata": {},
     "output_type": "display_data"
    }
   ],
   "source": [
    "display(@htl \"<h1>Ejemplos de búsqueda (mensajes aleatorios)</h1>\")\n",
    "\n",
    "for i in 1:3\n",
    "    for qid in rand(1:length(D.text))\n",
    "        search_and_display(index, D.text[qid], 7, D, E, T)\n",
    "    end\n",
    "end"
   ]
  },
  {
   "cell_type": "markdown",
   "id": "1e8f09a9-75aa-49c5-9e35-4c486defa289",
   "metadata": {},
   "source": [
    "# Actividades\n",
    "- Reproduzca el ejercicio de este notebook, use embeddings para español, cambié los ejemplos. Se sugiere el uso de <https://ingeotec.github.io/regional-spanish-models/> donde encontrará modelos fastText regionalizados del español, pero puede usar otros embeddings.\n",
    "- ¿Qué piensa de las diferencias de tamaño entre los documentos y las consultas? esto como afecta a la representación semántica.\n",
    "- ¿Cuál sería el símil de bigramas y trigramas para este esquema de representación semántica? Implementelo.\n",
    "- Defina $H^{pt}_d$, donde $pt$ es la probabilidad de ocurrencia de término.- Defina $H^{pt}_d$, donde $pt$ es la probabilidad de ocurrencia de término.\n",
    "- Implemente $H^\\textsf{TF}_d$ y $H^\\textsf{pt}_d$ de manera secuencial y con un índice métrico. Si usa Julia considere `SimilaritySearch.jl` y si usa Python considere `faiss`.\n",
    "- Reporte su notebook y anote sus soluciones a las preguntas planteadas. El reporte deberá contener un ensayo de [@KSKW2015] como introducción. Reporte los resultados de sus implementaciones, compare contra las alternativas presentadas en este reporte. Discuta sus resultados. Finalice el reporte  con reflexiones sobre el uso de nubes de puntos en lugar de bolsas de palabras tradicionales. Anoté sus conclusiones.\n",
    "\n",
    "# Bibliografía\n",
    "- [KSKW2015] Kusner, M., Sun, Y., Kolkin, N., & Weinberger, K. (2015, June). From word embeddings to document distances. In International conference on machine learning (pp. 957-966). PMLR.\n",
    "- [PW2009] Pele, O., & Werman, M. (2009, September). Fast and robust earth mover's distances. In 2009 IEEE 12th international conference on computer vision (pp. 460-467). IEEE.\n"
   ]
  }
 ],
 "metadata": {
  "kernelspec": {
   "display_name": "Julia 1.7.2",
   "language": "julia",
   "name": "julia-1.7"
  },
  "language_info": {
   "file_extension": ".jl",
   "mimetype": "application/julia",
   "name": "julia",
   "version": "1.7.2"
  }
 },
 "nbformat": 4,
 "nbformat_minor": 5
}
