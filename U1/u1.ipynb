{
 "cells": [
  {
   "cell_type": "markdown",
   "id": "b606b63e-967d-4d4d-85e4-e02a32020425",
   "metadata": {},
   "source": [
    "# Introducción a la recuperación de información\n",
    "\n",
    "La recuperación de información se crea a partir de la necesidad de simplificar el acceso y revisión de documentos en grandes colecciones. Estas colecciones pueden ser homogeneas o heterogeneas, tanto en su contenido como en su formato. En su inicio, se consideraban colecciones unicamente de texto pero las necesidades de información se han diversificado, y ahora es común encontrar sistemas de recuperación de información sobre otros datos como imagenes o videos, o include multimodales, esto es que puedan usar diferentes tipos de objetos. Un objeto puede ser un documento de texto, una imagen, o cualquier otro tipo de datos que se desee tener acceso. \n",
    "\n",
    "Mantener un sistema de información homogeneo puede simplificar su mantenimiento enormemente, por lo que si es posible, se puede intentar mantener cierta homegeneidad. Para sistemas de fuentes abiertas como puede ser la web, esto será posible.\n",
    "\n",
    "En general, se puede ver un sistema de recuperación de información en tres grandes partes:\n",
    "\n",
    "1. Recolección de datos, normalización y modelado matemático.\n",
    "2. Indexamiento, interpretación de consultas y optimización\n",
    "3. Agregación y filtrado de resultados, presentación de los mismos\n",
    "\n",
    "\n",
    "En este curso se visitarán parcialmente todas estas partes. En general se usaran conjuntos de datos previamente recolecados, aunque se invita a usar sus propias colecciones de tal forma que puedan sacar provecho de los temas de manera más amplia. La normalización puede ir desde el simple preprocesamiento de los datos hasta manipulaciones y transformaciones dependientes del dominio. Una vez aplicado el modelado adecuado a las colecciones, las representaciones matemáticas suelen ser vectores de alta dimensión para cada objeto.\n",
    "\n",
    "En cuanto al indexamiento se utilizarán dos tipos de algoritmos, búsqueda mediante índices invertidos y búsqueda por índices métricos. Ambas tienen sus nichos de aplicación y usarlas adecuadamente requiere conocer los problemas y sus modelados.\n",
    "\n",
    "La presentación de los resultados puede ser tan simple como una lista de resultados más relevantes y una pequeña muestra del objeto, o más complejo que requiera alguna técnica de visualización. Todo esto dependerá del dominio de aplicación y la naturaleza del sistema de recuperación de información.\n",
    "\n",
    "\n",
    "# Ejemplos de sistemas de recuperación información\n",
    "\n",
    "- Google,scholar google, google images, google news, youtube...\n",
    "- Bing!\n",
    "- Yahoo search\n",
    "- Yandex\n",
    "- DuckDuckGo\n",
    "- ...\n",
    "\n",
    "También es común que el sistema de recuperación de información no sea el principal producto, si no más bien un complemento imperdible\n",
    "como es el caso de los sistemas de streaming de videos, películas, música, redes sociales, etc.\n",
    "\n",
    "# Ejemplos de implementación de search engines open source\n",
    "- [Apache Lucene](https://lucene.apache.org/)\n",
    "- [Apache SOLR](https://solr.apache.org/)\n",
    "- [ElasticSearch](https://www.elastic.co/es/what-is/elasticsearch)\n",
    "- [hnswlib](https://github.com/nmslib/hnswlib)\n",
    "- [FAISS](https://github.com/facebookresearch/faiss)\n",
    "- [TextSearch.jl](https://github.com/sadit/TextSearch.jl)\n",
    "- [InvertedFiles.jl](https://github.com/sadit/InvertedFiles.jl)\n",
    "- [SimilaritySearch.jl](https://github.com/sadit/SimilaritySearch.jl)\n",
    "\n",
    "\n",
    "# Ejemplo\n",
    "\n",
    "\n",
    "Construcción de un índice de búsqueda para una colección de mensajes de Twitter. Los mensajes se pueden ver como documentos cortos. Se preprocesan y se modalen en vectores mediante un vocabulario. Después se construye el índice con dichos vectores y se hace posible la búsqueda eficiente. Note que existen etiquetas que se pueden usar para otras tareas; de manera más genérica, se pueden ver como metadatos asociados a los elementos del corpus."
   ]
  },
  {
   "cell_type": "code",
   "execution_count": 1,
   "id": "bb11ca12-b635-45bb-ac02-14523674ded8",
   "metadata": {},
   "outputs": [
    {
     "name": "stderr",
     "output_type": "stream",
     "text": [
      "\u001b[32m\u001b[1m  Activating\u001b[22m\u001b[39m project at `~/courses/IR-2022/U1`\n"
     ]
    }
   ],
   "source": [
    "using Pkg\n",
    "Pkg.activate(\".\")\n",
    "\n",
    "!isfile(\"Manifest.toml\") && Pkg.add([\n",
    "    PackageSpec(name=\"TextSearch\", version=\"0.12\"),\n",
    "    PackageSpec(name=\"InvertedFiles\", version=\"0.4\"),\n",
    "    PackageSpec(name=\"CodecZlib\", version=\"0.7\"),\n",
    "    PackageSpec(name=\"JSON\", version=\"0.21\"),\n",
    "    PackageSpec(name=\"HypertextLiteral\", version=\"0.9\")\n",
    "])\n",
    "\n",
    "using TextSearch, InvertedFiles, SimilaritySearch, TextSearch, CodecZlib, JSON, LinearAlgebra, HypertextLiteral\n",
    "\n",
    "using Downloads: download"
   ]
  },
  {
   "cell_type": "markdown",
   "id": "f3fd994e-6be8-45c8-a0fc-8f05dfcf2636",
   "metadata": {},
   "source": [
    "## Funciones para leer y modelar el corpus"
   ]
  },
  {
   "cell_type": "code",
   "execution_count": 2,
   "id": "d9482f05-8d88-4896-9b9e-646bc1da2abb",
   "metadata": {},
   "outputs": [
    {
     "data": {
      "text/plain": [
       "create_dataset (generic function with 1 method)"
      ]
     },
     "execution_count": 2,
     "metadata": {},
     "output_type": "execute_result"
    }
   ],
   "source": [
    "function parse_corpus(corpusfile)\n",
    "    corpus, labels = String[], String[]\n",
    "    open(corpusfile) do f\n",
    "        for line in eachline(GzipDecompressorStream(f))\n",
    "            r = JSON.parse(line)\n",
    "            push!(labels, r[\"klass\"])\n",
    "            push!(corpus, r[\"text\"])    \n",
    "        end\n",
    "    end\n",
    "    \n",
    "    corpus, labels\n",
    "end\n",
    "\n",
    "function text_model_and_vectors(corpus)\n",
    "    textconfig = TextConfig(group_usr=true, group_url=true, del_diac=true, lc=true, group_num=true, nlist=[1], qlist=[])\n",
    "    model = VectorModel(IdfWeighting(), TfWeighting(), textconfig, corpus)    \n",
    "    vectors = vectorize_corpus(model, textconfig, corpus)\n",
    "    for v in vectors\n",
    "        normalize!(v)\n",
    "    end\n",
    "\n",
    "    (; textconfig, model, vectors)\n",
    "end\n",
    "\n",
    "function create_dataset(corpusfile)\n",
    "    corpus, labels = parse_corpus(corpusfile)\n",
    "    (; labels, corpus, text_model_and_vectors(corpus)...)\n",
    "end"
   ]
  },
  {
   "cell_type": "code",
   "execution_count": 19,
   "id": "1176ef00-1153-4cba-bb89-354d634c857e",
   "metadata": {},
   "outputs": [
    {
     "data": {
      "text/html": [
       "<h1>Cargando el corpus</h1>"
      ],
      "text/plain": [
       "<h1>Cargando el corpus</h1>"
      ]
     },
     "metadata": {},
     "output_type": "display_data"
    },
    {
     "name": "stdout",
     "output_type": "stream",
     "text": [
      "(unique(D.labels), D.model) = ([\"😰\", \"😥\", \"😊\", \"😏\", \"♡\", \"💔\", \"🙂\", \"😋\", \"😌\", \"🌚\", \"👌\", \"😪\", \"😤\", \"🙃\", \"🤤\", \"😴\", \"😢\", \"😅\", \"😑\", \"😠\", \"😂\", \"😜\", \"🤓\", \"💙\", \"😀\", \"🤗\", \"🤣\", \"😒\", \"✨\", \"😐\", \"😞\", \"😁\", \"😱\", \"👏\", \"😫\", \"😍\", \"❤\", \"😣\", \"🙊\", \"🙏\", \"🙄\", \"🤭\", \"💜\", \"🤔\", \"😬\", \"👀\", \"😉\", \"😈\", \"😡\", \"😳\", \"🙈\", \"😻\", \"😔\", \"😓\", \"💕\", \"🎶\", \"😭\", \"😕\", \"♥\", \"💖\", \"😎\", \"😘\", \"😃\", \"😩\"], {VectorModel global_weighting=IdfWeighting(), local_weighting=TfWeighting(), train-voc=45374, train-n=50000, maxoccs=93991})\n"
     ]
    },
    {
     "data": {
      "text/plain": [
       "([\"😰\", \"😥\", \"😊\", \"😏\", \"♡\", \"💔\", \"🙂\", \"😋\", \"😌\", \"🌚\"  …  \"💕\", \"🎶\", \"😭\", \"😕\", \"♥\", \"💖\", \"😎\", \"😘\", \"😃\", \"😩\"], {VectorModel global_weighting=IdfWeighting(), local_weighting=TfWeighting(), train-voc=45374, train-n=50000, maxoccs=93991})"
      ]
     },
     "execution_count": 19,
     "metadata": {},
     "output_type": "execute_result"
    }
   ],
   "source": [
    "display(@htl \"<h1>Cargando el corpus</h1>\")\n",
    "dbfile = \"emo50k.json.gz\"\n",
    "baseurl = \"https://github.com/sadit/TextClassificationTutorial/blob/main/data\"\n",
    "\n",
    "!isfile(dbfile) && download(\"$baseurl/$dbfile?raw=true\", dbfile)\n",
    "D = create_dataset(dbfile)\n",
    "\n",
    "@show unique(D.labels), D.model"
   ]
  },
  {
   "cell_type": "code",
   "execution_count": null,
   "id": "c36f3e37-1d30-4e05-afd1-3ca910fcf31c",
   "metadata": {},
   "outputs": [],
   "source": []
  },
  {
   "cell_type": "code",
   "execution_count": 4,
   "id": "cd7ccd91-c1c2-4a04-b792-d38a8c65342a",
   "metadata": {},
   "outputs": [
    {
     "data": {
      "text/plain": [
       "{WeightedInvertedFile vocsize=45374, n=50000}"
      ]
     },
     "execution_count": 4,
     "metadata": {},
     "output_type": "execute_result"
    }
   ],
   "source": [
    "invfile = WeightedInvertedFile(length(D.model.voc))\n",
    "append!(invfile, VectorDatabase(D.vectors))"
   ]
  },
  {
   "cell_type": "code",
   "execution_count": 15,
   "id": "c0f207f2-ed09-4fec-9da6-2ad625c21801",
   "metadata": {},
   "outputs": [
    {
     "data": {
      "text/plain": [
       "search_and_display (generic function with 2 methods)"
      ]
     },
     "execution_count": 15,
     "metadata": {},
     "output_type": "execute_result"
    }
   ],
   "source": [
    "function search_and_display(invfile, D, q, k)\n",
    "    res = KnnResult(k)\n",
    "    @time search(invfile, vectorize(D.model, D.textconfig, q), res)\n",
    "    L = []\n",
    "    for (i, (id, dist)) in enumerate(res)\n",
    "        dist = round(dist, digits=2)\n",
    "        push!(L, @htl \"\"\"<tr><td>$i</td> <td>$id => $dist</td> <td>$(D.labels[id])</td> <td>$(D.corpus[id])</td> </tr>\"\"\")\n",
    "       # println(i, \" \", id => round(dist, digits=2), \" \", D.labels[i], \" \", D.corpus[id])\n",
    "    end\n",
    "\n",
    "    display(@htl \"\"\"\n",
    "    <h3>Resultados para la consulta \"$q\"</h3>\n",
    "    <table>\n",
    "    $L\n",
    "    </table>\n",
    "    \"\"\")\n",
    "end"
   ]
  },
  {
   "cell_type": "code",
   "execution_count": 18,
   "id": "046760fa-03d2-4bc9-a6cd-418c4f655b43",
   "metadata": {},
   "outputs": [
    {
     "name": "stdout",
     "output_type": "stream",
     "text": [
      "  0.000294 seconds (21 allocations: 1.594 KiB)\n"
     ]
    },
    {
     "data": {
      "text/html": [
       "<h3>Resultados para la consulta \"no importa distancia\"</h3>\n",
       "<table>\n",
       "<tr><td>1</td> <td>39550 => 0.03</td> <td>💕</td> <td>No importa la distancia _emo _usr _url</td> </tr><tr><td>2</td> <td>3870 => 0.38</td> <td>😓</td> <td>Me caga la distancia _emo</td> </tr><tr><td>3</td> <td>11115 => 0.52</td> <td>😃</td> <td>No importa cuando...  _emo _emo _url</td> </tr><tr><td>4</td> <td>38044 => 0.57</td> <td>😥</td> <td>tiempo y distancia, quizás sea eso... _emo</td> </tr><tr><td>5</td> <td>12728 => 0.57</td> <td>😑</td> <td>_usr A ti no te importa _emo</td> </tr>\n",
       "</table>\n"
      ],
      "text/plain": [
       "<h3>Resultados para la consulta \"no importa distancia\"</h3>\n",
       "<table>\n",
       "<tr><td>1</td> <td>39550 => 0.03</td> <td>💕</td> <td>No importa la distancia _emo _usr _url</td> </tr><tr><td>2</td> <td>3870 => 0.38</td> <td>😓</td> <td>Me caga la distancia _emo</td> </tr><tr><td>3</td> <td>11115 => 0.52</td> <td>😃</td> <td>No importa cuando...  _emo _emo _url</td> </tr><tr><td>4</td> <td>38044 => 0.57</td> <td>😥</td> <td>tiempo y distancia, quizás sea eso... _emo</td> </tr><tr><td>5</td> <td>12728 => 0.57</td> <td>😑</td> <td>_usr A ti no te importa _emo</td> </tr>\n",
       "</table>\n"
      ]
     },
     "metadata": {},
     "output_type": "display_data"
    },
    {
     "name": "stdout",
     "output_type": "stream",
     "text": [
      "  0.000276 seconds (22 allocations: 1.609 KiB)\n"
     ]
    },
    {
     "data": {
      "text/html": [
       "<h3>Resultados para la consulta \"cuando nos vemos?\"</h3>\n",
       "<table>\n",
       "<tr><td>1</td> <td>41790 => 0.22</td> <td>😂</td> <td>Nos vemos!! _emo _emo _emo _emo _url</td> </tr><tr><td>2</td> <td>27642 => 0.3</td> <td>😜</td> <td>_usr En la tarde nos vemos _emo _emo _emo</td> </tr><tr><td>3</td> <td>5656 => 0.32</td> <td>😻</td> <td>Nos vemos pronto _usr _usr _emo _emo _url</td> </tr><tr><td>4</td> <td>2835 => 0.43</td> <td>😘</td> <td>_usr Muchas gracias! Nos vemos pronto _emo</td> </tr><tr><td>5</td> <td>44970 => 0.43</td> <td>😍</td> <td>_usr Pronto nos vemos hermana _emo _emo</td> </tr>\n",
       "</table>\n"
      ],
      "text/plain": [
       "<h3>Resultados para la consulta \"cuando nos vemos?\"</h3>\n",
       "<table>\n",
       "<tr><td>1</td> <td>41790 => 0.22</td> <td>😂</td> <td>Nos vemos!! _emo _emo _emo _emo _url</td> </tr><tr><td>2</td> <td>27642 => 0.3</td> <td>😜</td> <td>_usr En la tarde nos vemos _emo _emo _emo</td> </tr><tr><td>3</td> <td>5656 => 0.32</td> <td>😻</td> <td>Nos vemos pronto _usr _usr _emo _emo _url</td> </tr><tr><td>4</td> <td>2835 => 0.43</td> <td>😘</td> <td>_usr Muchas gracias! Nos vemos pronto _emo</td> </tr><tr><td>5</td> <td>44970 => 0.43</td> <td>😍</td> <td>_usr Pronto nos vemos hermana _emo _emo</td> </tr>\n",
       "</table>\n"
      ]
     },
     "metadata": {},
     "output_type": "display_data"
    },
    {
     "name": "stdout",
     "output_type": "stream",
     "text": [
      "  0.000160 seconds (21 allocations: 1.578 KiB)\n"
     ]
    },
    {
     "data": {
      "text/html": [
       "<h3>Resultados para la consulta \"feliz cumpleaños?\"</h3>\n",
       "<table>\n",
       "<tr><td>1</td> <td>37575 => 0.09</td> <td>❤</td> <td>_usr Feliz Cumpleaños _emo</td> </tr><tr><td>2</td> <td>41849 => 0.09</td> <td>😁</td> <td>Feliz Cumpleaños _emo _emo _usr</td> </tr><tr><td>3</td> <td>12769 => 0.09</td> <td>🙊</td> <td>Feliz Cumpleaños _usr _emo _emo _emo _emo _emo</td> </tr>\n",
       "</table>\n"
      ],
      "text/plain": [
       "<h3>Resultados para la consulta \"feliz cumpleaños?\"</h3>\n",
       "<table>\n",
       "<tr><td>1</td> <td>37575 => 0.09</td> <td>❤</td> <td>_usr Feliz Cumpleaños _emo</td> </tr><tr><td>2</td> <td>41849 => 0.09</td> <td>😁</td> <td>Feliz Cumpleaños _emo _emo _usr</td> </tr><tr><td>3</td> <td>12769 => 0.09</td> <td>🙊</td> <td>Feliz Cumpleaños _usr _emo _emo _emo _emo _emo</td> </tr>\n",
       "</table>\n"
      ]
     },
     "metadata": {},
     "output_type": "display_data"
    },
    {
     "name": "stdout",
     "output_type": "stream",
     "text": [
      "  0.000017 seconds (20 allocations: 1.422 KiB)\n"
     ]
    },
    {
     "data": {
      "text/html": [
       "<h3>Resultados para la consulta \"ola k ase\"</h3>\n",
       "<table>\n",
       "<tr><td>1</td> <td>23340 => 0.64</td> <td>😎</td> <td>_usr _usr Siempre, todo y todos los días de la semana desde ase muchoooooossss años _emo _emo</td> </tr><tr><td>2</td> <td>6952 => 0.7</td> <td>😤</td> <td>_usr k bueno k tu mizmo lo reconozcAszzzz _emo</td> </tr><tr><td>3</td> <td>1874 => 0.72</td> <td>😃</td> <td>Despertares!! (By OLA) # _emo _emo en Distrito Federal, Mexico _url</td> </tr>\n",
       "</table>\n"
      ],
      "text/plain": [
       "<h3>Resultados para la consulta \"ola k ase\"</h3>\n",
       "<table>\n",
       "<tr><td>1</td> <td>23340 => 0.64</td> <td>😎</td> <td>_usr _usr Siempre, todo y todos los días de la semana desde ase muchoooooossss años _emo _emo</td> </tr><tr><td>2</td> <td>6952 => 0.7</td> <td>😤</td> <td>_usr k bueno k tu mizmo lo reconozcAszzzz _emo</td> </tr><tr><td>3</td> <td>1874 => 0.72</td> <td>😃</td> <td>Despertares!! (By OLA) # _emo _emo en Distrito Federal, Mexico _url</td> </tr>\n",
       "</table>\n"
      ]
     },
     "metadata": {},
     "output_type": "display_data"
    },
    {
     "name": "stdout",
     "output_type": "stream",
     "text": [
      "  0.000238 seconds (20 allocations: 1.516 KiB)\n"
     ]
    },
    {
     "data": {
      "text/html": [
       "<h3>Resultados para la consulta \"mi humilde opinión\"</h3>\n",
       "<table>\n",
       "<tr><td>1</td> <td>19966 => 0.32</td> <td>🙏</td> <td>Bueno, cada quien su vida, ya se, solo es una humilde opinión !! _emo _emo _emo</td> </tr><tr><td>2</td> <td>7756 => 0.5</td> <td>😍</td> <td>_usr es la persona más humilde que conozco _emo</td> </tr><tr><td>3</td> <td>4755 => 0.62</td> <td>🤔</td> <td>_usr Bajo tu opinión fue o no falta? _emo</td> </tr><tr><td>4</td> <td>24948 => 0.62</td> <td>😊</td> <td>Gracias por compartir la información y tu opinión _emo _url</td> </tr><tr><td>5</td> <td>20021 => 0.64</td> <td>😉</td> <td>Cuantos Likes para mi humilde oficina _usr  _emo _emo @ CocoBongo _url</td> </tr><tr><td>6</td> <td>34164 => 0.66</td> <td>🤗</td> <td>Para ser feliz, no escuches la opinión de los demás _emo</td> </tr><tr><td>7</td> <td>47417 => 0.68</td> <td>👏</td> <td>_usr Totalmente de acuerdo contigo en todo. Comparto tu opinión _emo _emo _emo _emo</td> </tr><tr><td>8</td> <td>846 => 0.69</td> <td>😌</td> <td>Cambie de opinión quiero seguir siendo rubia _emo _emo _emo _emo _emo _emo</td> </tr><tr><td>9</td> <td>15711 => 0.72</td> <td>😌</td> <td>Tu opinión no me interesa más. No tengo nada que demostrarte, y si piensas lo peor de mi, MEJOR! _emo</td> </tr><tr><td>10</td> <td>9033 => 0.72</td> <td>😑</td> <td>Lo siento pero mi tez humilde no me deja ser guapo y estar bueno, eso sin mencionar la rodilla que me chingue! _emo _emo</td> </tr>\n",
       "</table>\n"
      ],
      "text/plain": [
       "<h3>Resultados para la consulta \"mi humilde opinión\"</h3>\n",
       "<table>\n",
       "<tr><td>1</td> <td>19966 => 0.32</td> <td>🙏</td> <td>Bueno, cada quien su vida, ya se, solo es una humilde opinión !! _emo _emo _emo</td> </tr><tr><td>2</td> <td>7756 => 0.5</td> <td>😍</td> <td>_usr es la persona más humilde que conozco _emo</td> </tr><tr><td>3</td> <td>4755 => 0.62</td> <td>🤔</td> <td>_usr Bajo tu opinión fue o no falta? _emo</td> </tr><tr><td>4</td> <td>24948 => 0.62</td> <td>😊</td> <td>Gracias por compartir la información y tu opinión _emo _url</td> </tr><tr><td>5</td> <td>20021 => 0.64</td> <td>😉</td> <td>Cuantos Likes para mi humilde oficina _usr  _emo _emo @ CocoBongo _url</td> </tr><tr><td>6</td> <td>34164 => 0.66</td> <td>🤗</td> <td>Para ser feliz, no escuches la opinión de los demás _emo</td> </tr><tr><td>7</td> <td>47417 => 0.68</td> <td>👏</td> <td>_usr Totalmente de acuerdo contigo en todo. Comparto tu opinión _emo _emo _emo _emo</td> </tr><tr><td>8</td> <td>846 => 0.69</td> <td>😌</td> <td>Cambie de opinión quiero seguir siendo rubia _emo _emo _emo _emo _emo _emo</td> </tr><tr><td>9</td> <td>15711 => 0.72</td> <td>😌</td> <td>Tu opinión no me interesa más. No tengo nada que demostrarte, y si piensas lo peor de mi, MEJOR! _emo</td> </tr><tr><td>10</td> <td>9033 => 0.72</td> <td>😑</td> <td>Lo siento pero mi tez humilde no me deja ser guapo y estar bueno, eso sin mencionar la rodilla que me chingue! _emo _emo</td> </tr>\n",
       "</table>\n"
      ]
     },
     "metadata": {},
     "output_type": "display_data"
    }
   ],
   "source": [
    "search_and_display(invfile, D, \"no importa distancia\", 5)\n",
    "search_and_display(invfile, D, \"cuando nos vemos?\", 5)\n",
    "search_and_display(invfile, D, \"feliz cumpleaños?\", 3)\n",
    "search_and_display(invfile, D, \"ola k ase\", 3)\n",
    "search_and_display(invfile, D, \"mi humilde opinión\", 10)"
   ]
  },
  {
   "cell_type": "markdown",
   "id": "33ad823b-70c0-447d-bfe0-8a920525ca12",
   "metadata": {},
   "source": [
    "## También es posible consultar elementos del mismo corpus, lo cual permité inspeccionar la estructura interna de la colección"
   ]
  },
  {
   "cell_type": "code",
   "execution_count": 20,
   "id": "bde30ad5-8c2d-4622-b0c2-994802b64e9d",
   "metadata": {},
   "outputs": [
    {
     "name": "stdout",
     "output_type": "stream",
     "text": [
      "  0.005593 seconds (79 allocations: 7.812 KiB)\n"
     ]
    },
    {
     "data": {
      "text/html": [
       "<h3>Resultados para la consulta \"Tengo _num días que no veo al perrito de la señora que me renta, tenia _num años batallaba para caminar y ya no veia _emo estoy preocupada...\"</h3>\n",
       "<table>\n",
       "<tr><td>1</td> <td>29434 => 0.53</td> <td>🙏</td> <td>_emo _emo _emoAlfombra Roja, del Aniversario de América Salsa Mexico. Y Show en vivo del mismo Certamen con Orquesta a Bordo. Gloria a #DIOS _emo _emo _emo _emo _emo _emo _emo #GOD #CRISTOVIVE #Salsa #Mexico #Festival… _url</td> </tr><tr><td>2</td> <td>28560 => 0.75</td> <td>😭</td> <td>No mi papá no. _emo _emo _emo</td> </tr><tr><td>3</td> <td>39102 => 0.75</td> <td>♥</td> <td>Te amo papá. _emo _emo _emo _emo _emo _emo _emo _emo _emo _emo</td> </tr><tr><td>4</td> <td>6090 => 0.79</td> <td>😰</td> <td>Ya quiero ver a mi papá _emo</td> </tr><tr><td>5</td> <td>2002 => 0.81</td> <td>🌚</td> <td>Acabo de despertar y es la gloria _emo</td> </tr><tr><td>6</td> <td>41498 => 0.82</td> <td>😞</td> <td>No se que pensar Papá _emo. _url</td> </tr><tr><td>7</td> <td>3786 => 0.82</td> <td>😬</td> <td>El_usr perfecto para mi papá!! _emo</td> </tr>\n",
       "</table>\n"
      ],
      "text/plain": [
       "<h3>Resultados para la consulta \"Tengo _num días que no veo al perrito de la señora que me renta, tenia _num años batallaba para caminar y ya no veia _emo estoy preocupada...\"</h3>\n",
       "<table>\n",
       "<tr><td>1</td> <td>29434 => 0.53</td> <td>🙏</td> <td>_emo _emo _emoAlfombra Roja, del Aniversario de América Salsa Mexico. Y Show en vivo del mismo Certamen con Orquesta a Bordo. Gloria a #DIOS _emo _emo _emo _emo _emo _emo _emo #GOD #CRISTOVIVE #Salsa #Mexico #Festival… _url</td> </tr><tr><td>2</td> <td>28560 => 0.75</td> <td>😭</td> <td>No mi papá no. _emo _emo _emo</td> </tr><tr><td>3</td> <td>39102 => 0.75</td> <td>♥</td> <td>Te amo papá. _emo _emo _emo _emo _emo _emo _emo _emo _emo _emo</td> </tr><tr><td>4</td> <td>6090 => 0.79</td> <td>😰</td> <td>Ya quiero ver a mi papá _emo</td> </tr><tr><td>5</td> <td>2002 => 0.81</td> <td>🌚</td> <td>Acabo de despertar y es la gloria _emo</td> </tr><tr><td>6</td> <td>41498 => 0.82</td> <td>😞</td> <td>No se que pensar Papá _emo. _url</td> </tr><tr><td>7</td> <td>3786 => 0.82</td> <td>😬</td> <td>El_usr perfecto para mi papá!! _emo</td> </tr>\n",
       "</table>\n"
      ]
     },
     "metadata": {},
     "output_type": "display_data"
    },
    {
     "name": "stdout",
     "output_type": "stream",
     "text": [
      "  0.001623 seconds (49 allocations: 4.578 KiB)\n"
     ]
    },
    {
     "data": {
      "text/html": [
       "<h3>Resultados para la consulta \"A la chamba _emo (@ Central de Autobuses Acapulco Ejido in Acapulco, Guerrero) _url\"</h3>\n",
       "<table>\n",
       "<tr><td>1</td> <td>12892 => 0.71</td> <td>😃</td> <td>_emo _emo aaaa jajajaja!! _url</td> </tr><tr><td>2</td> <td>7363 => 0.77</td> <td>🤣</td> <td>Aaaa no te pases de verga _emo</td> </tr><tr><td>3</td> <td>43202 => 0.78</td> <td>👀</td> <td>_usr Aaaa meño. A ver _emo</td> </tr><tr><td>4</td> <td>18209 => 0.8</td> <td>✨</td> <td>Siempre voy amar los atardeceres _emo _emo . . #Verbena_num en Verbena Culiacan _url</td> </tr><tr><td>5</td> <td>44961 => 0.8</td> <td>😢</td> <td>Aaaa mugres semaforos _emo</td> </tr><tr><td>6</td> <td>19073 => 0.81</td> <td>😴</td> <td>De las casas de las esquinas, a las casas de las montañas. Buenas noches _emo _url</td> </tr><tr><td>7</td> <td>20259 => 0.82</td> <td>❤</td> <td>Al Fin!!! Para Todo Mal Mezcal Y Para Todo Bien, También _emo (@ La Verbena in Playa del Carmen, Quintana Roo) _url</td> </tr>\n",
       "</table>\n"
      ],
      "text/plain": [
       "<h3>Resultados para la consulta \"A la chamba _emo (@ Central de Autobuses Acapulco Ejido in Acapulco, Guerrero) _url\"</h3>\n",
       "<table>\n",
       "<tr><td>1</td> <td>12892 => 0.71</td> <td>😃</td> <td>_emo _emo aaaa jajajaja!! _url</td> </tr><tr><td>2</td> <td>7363 => 0.77</td> <td>🤣</td> <td>Aaaa no te pases de verga _emo</td> </tr><tr><td>3</td> <td>43202 => 0.78</td> <td>👀</td> <td>_usr Aaaa meño. A ver _emo</td> </tr><tr><td>4</td> <td>18209 => 0.8</td> <td>✨</td> <td>Siempre voy amar los atardeceres _emo _emo . . #Verbena_num en Verbena Culiacan _url</td> </tr><tr><td>5</td> <td>44961 => 0.8</td> <td>😢</td> <td>Aaaa mugres semaforos _emo</td> </tr><tr><td>6</td> <td>19073 => 0.81</td> <td>😴</td> <td>De las casas de las esquinas, a las casas de las montañas. Buenas noches _emo _url</td> </tr><tr><td>7</td> <td>20259 => 0.82</td> <td>❤</td> <td>Al Fin!!! Para Todo Mal Mezcal Y Para Todo Bien, También _emo (@ La Verbena in Playa del Carmen, Quintana Roo) _url</td> </tr>\n",
       "</table>\n"
      ]
     },
     "metadata": {},
     "output_type": "display_data"
    },
    {
     "name": "stdout",
     "output_type": "stream",
     "text": [
      "  0.004693 seconds (76 allocations: 6.531 KiB)\n"
     ]
    },
    {
     "data": {
      "text/html": [
       "<h3>Resultados para la consulta \"_usr tengo más de una hora esperando mi pizza, en la sucursal me dicen que &quot;ya casi llega el repartidor&quot; mal servicio _emo #DominosToluca _url\"</h3>\n",
       "<table>\n",
       "<tr><td>1</td> <td>9007 => 0.69</td> <td>😎</td> <td>Cambios para bien. _emo</td> </tr><tr><td>2</td> <td>48195 => 0.73</td> <td>😀</td> <td>Los cambios son para bien _emo</td> </tr><tr><td>3</td> <td>38013 => 0.77</td> <td>😕</td> <td>Todo es un aprendizaje. _emo</td> </tr><tr><td>4</td> <td>34312 => 0.77</td> <td>💔</td> <td>A netflix le gusta hacerme sufrir _emo _emo _emo</td> </tr><tr><td>5</td> <td>5905 => 0.77</td> <td>😊</td> <td>Nuevos cambios que me gustan _emo</td> </tr><tr><td>6</td> <td>12765 => 0.79</td> <td>😞</td> <td>_usr tranquila _emo _emo _emo</td> </tr><tr><td>7</td> <td>37240 => 0.8</td> <td>😋</td> <td>_usr Quiero _emo _emo _emo _emo !!</td> </tr>\n",
       "</table>\n"
      ],
      "text/plain": [
       "<h3>Resultados para la consulta \"_usr tengo más de una hora esperando mi pizza, en la sucursal me dicen que &quot;ya casi llega el repartidor&quot; mal servicio _emo #DominosToluca _url\"</h3>\n",
       "<table>\n",
       "<tr><td>1</td> <td>9007 => 0.69</td> <td>😎</td> <td>Cambios para bien. _emo</td> </tr><tr><td>2</td> <td>48195 => 0.73</td> <td>😀</td> <td>Los cambios son para bien _emo</td> </tr><tr><td>3</td> <td>38013 => 0.77</td> <td>😕</td> <td>Todo es un aprendizaje. _emo</td> </tr><tr><td>4</td> <td>34312 => 0.77</td> <td>💔</td> <td>A netflix le gusta hacerme sufrir _emo _emo _emo</td> </tr><tr><td>5</td> <td>5905 => 0.77</td> <td>😊</td> <td>Nuevos cambios que me gustan _emo</td> </tr><tr><td>6</td> <td>12765 => 0.79</td> <td>😞</td> <td>_usr tranquila _emo _emo _emo</td> </tr><tr><td>7</td> <td>37240 => 0.8</td> <td>😋</td> <td>_usr Quiero _emo _emo _emo _emo !!</td> </tr>\n",
       "</table>\n"
      ]
     },
     "metadata": {},
     "output_type": "display_data"
    },
    {
     "name": "stdout",
     "output_type": "stream",
     "text": [
      "  0.000101 seconds (26 allocations: 1.859 KiB)\n"
     ]
    },
    {
     "data": {
      "text/html": [
       "<h3>Resultados para la consulta \"_usr te quiero amiga _emo _emo\"</h3>\n",
       "<table>\n",
       "<tr><td>1</td> <td>12503 => 0.38</td> <td>🤭</td> <td>_emo (@ Coppel Tuxpan in Tuxpan, Jalisco) _url</td> </tr><tr><td>2</td> <td>8406 => 0.48</td> <td>👌</td> <td>_emo _emo (at _usr de Veracruz Tuxpan in Tuxpan de Rodríguez Cano, Veracruz) _url</td> </tr><tr><td>3</td> <td>31799 => 0.55</td> <td>😑</td> <td>_emo (@ Casa de la cultura Tuxpan) _url</td> </tr><tr><td>4</td> <td>29349 => 0.59</td> <td>🙃</td> <td>Gracias mamá por no dejarme ir a Tuxpan el puente _emo</td> </tr><tr><td>5</td> <td>8601 => 0.63</td> <td>🌚</td> <td>_emo (@ _num Bigotes in Tuxpan, Jalisco) _url</td> </tr><tr><td>6</td> <td>13560 => 0.64</td> <td>😴</td> <td>Dormir _emo</td> </tr><tr><td>7</td> <td>21493 => 0.64</td> <td>😴</td> <td>Dormir _emo</td> </tr>\n",
       "</table>\n"
      ],
      "text/plain": [
       "<h3>Resultados para la consulta \"_usr te quiero amiga _emo _emo\"</h3>\n",
       "<table>\n",
       "<tr><td>1</td> <td>12503 => 0.38</td> <td>🤭</td> <td>_emo (@ Coppel Tuxpan in Tuxpan, Jalisco) _url</td> </tr><tr><td>2</td> <td>8406 => 0.48</td> <td>👌</td> <td>_emo _emo (at _usr de Veracruz Tuxpan in Tuxpan de Rodríguez Cano, Veracruz) _url</td> </tr><tr><td>3</td> <td>31799 => 0.55</td> <td>😑</td> <td>_emo (@ Casa de la cultura Tuxpan) _url</td> </tr><tr><td>4</td> <td>29349 => 0.59</td> <td>🙃</td> <td>Gracias mamá por no dejarme ir a Tuxpan el puente _emo</td> </tr><tr><td>5</td> <td>8601 => 0.63</td> <td>🌚</td> <td>_emo (@ _num Bigotes in Tuxpan, Jalisco) _url</td> </tr><tr><td>6</td> <td>13560 => 0.64</td> <td>😴</td> <td>Dormir _emo</td> </tr><tr><td>7</td> <td>21493 => 0.64</td> <td>😴</td> <td>Dormir _emo</td> </tr>\n",
       "</table>\n"
      ]
     },
     "metadata": {},
     "output_type": "display_data"
    },
    {
     "name": "stdout",
     "output_type": "stream",
     "text": [
      "  0.001301 seconds (47 allocations: 4.484 KiB)\n"
     ]
    },
    {
     "data": {
      "text/html": [
       "<h3>Resultados para la consulta \"Aceptemoslo la nena se ve tierna abrazandola así,  nosotras reee tortas _emo _url\"</h3>\n",
       "<table>\n",
       "<tr><td>1</td> <td>22115 => 0.57</td> <td>🎶</td> <td>No decias que me amabas, que era cuestion de esperar _emo</td> </tr><tr><td>2</td> <td>22858 => 0.71</td> <td>😌</td> <td>_usr _usr jaja eso no decías ayer _emo</td> </tr><tr><td>3</td> <td>9279 => 0.73</td> <td>😭</td> <td>_usr Perdimos todos _emo jajaj</td> </tr><tr><td>4</td> <td>13769 => 0.75</td> <td>😰</td> <td>Perdimos y contra el Puebla _emo</td> </tr><tr><td>5</td> <td>42512 => 0.77</td> <td>😀</td> <td>Iniciaremos el día con toda la actitud vienen más retos y voy con todo!!! _emo</td> </tr><tr><td>6</td> <td>48043 => 0.78</td> <td>💜</td> <td>_num:_num tu mi bebe _usr  recuerdo cuando me amabas, eran buenos días _emo _url</td> </tr><tr><td>7</td> <td>16403 => 0.79</td> <td>🎶</td> <td>Que te pasó sí tu me amabas supuestamente me adorabas _emo _emo</td> </tr>\n",
       "</table>\n"
      ],
      "text/plain": [
       "<h3>Resultados para la consulta \"Aceptemoslo la nena se ve tierna abrazandola así,  nosotras reee tortas _emo _url\"</h3>\n",
       "<table>\n",
       "<tr><td>1</td> <td>22115 => 0.57</td> <td>🎶</td> <td>No decias que me amabas, que era cuestion de esperar _emo</td> </tr><tr><td>2</td> <td>22858 => 0.71</td> <td>😌</td> <td>_usr _usr jaja eso no decías ayer _emo</td> </tr><tr><td>3</td> <td>9279 => 0.73</td> <td>😭</td> <td>_usr Perdimos todos _emo jajaj</td> </tr><tr><td>4</td> <td>13769 => 0.75</td> <td>😰</td> <td>Perdimos y contra el Puebla _emo</td> </tr><tr><td>5</td> <td>42512 => 0.77</td> <td>😀</td> <td>Iniciaremos el día con toda la actitud vienen más retos y voy con todo!!! _emo</td> </tr><tr><td>6</td> <td>48043 => 0.78</td> <td>💜</td> <td>_num:_num tu mi bebe _usr  recuerdo cuando me amabas, eran buenos días _emo _url</td> </tr><tr><td>7</td> <td>16403 => 0.79</td> <td>🎶</td> <td>Que te pasó sí tu me amabas supuestamente me adorabas _emo _emo</td> </tr>\n",
       "</table>\n"
      ]
     },
     "metadata": {},
     "output_type": "display_data"
    },
    {
     "name": "stdout",
     "output_type": "stream",
     "text": [
      "  0.004411 seconds (115 allocations: 8.922 KiB)\n"
     ]
    },
    {
     "data": {
      "text/html": [
       "<h3>Resultados para la consulta \"_usr _usr No les bastó con la mega arrastrada que les dio AMLO con todo y sus fabricadas campañas de odio y siguen lloriqueando. ¡Aprendan a perder! _emo _emo _emo _emo Serán _num largos años, así que llévensela leve...  _emo _emo _emo\"</h3>\n",
       "<table>\n",
       "<tr><td>1</td> <td>39071 => 0.77</td> <td>😅</td> <td>Curandosela en McDonalds _emo @ McDonald&apos;s Rio Nilo _url</td> </tr><tr><td>2</td> <td>8797 => 0.77</td> <td>😁</td> <td>Se sienten muy nice y andan con su playera de superhéroe comprada en el tianguis _emo</td> </tr><tr><td>3</td> <td>5360 => 0.78</td> <td>😪</td> <td>A la escuela _emo _emo _emo</td> </tr><tr><td>4</td> <td>9577 => 0.79</td> <td>🙊</td> <td>_usr Buenos días andaba en el Tíanguis _emo</td> </tr><tr><td>5</td> <td>4298 => 0.8</td> <td>😊</td> <td>_usr Aprenderé a quererte asi _emo</td> </tr><tr><td>6</td> <td>44255 => 0.82</td> <td>😩</td> <td>Mañana a la escuela _emo _emo _emo _emo _emo _emo _emo _emo</td> </tr><tr><td>7</td> <td>12945 => 0.83</td> <td>💜</td> <td>Y pues bueno.. La jefa ayuda con la dieta. OK NO _emo _emo _url</td> </tr>\n",
       "</table>\n"
      ],
      "text/plain": [
       "<h3>Resultados para la consulta \"_usr _usr No les bastó con la mega arrastrada que les dio AMLO con todo y sus fabricadas campañas de odio y siguen lloriqueando. ¡Aprendan a perder! _emo _emo _emo _emo Serán _num largos años, así que llévensela leve...  _emo _emo _emo\"</h3>\n",
       "<table>\n",
       "<tr><td>1</td> <td>39071 => 0.77</td> <td>😅</td> <td>Curandosela en McDonalds _emo @ McDonald&apos;s Rio Nilo _url</td> </tr><tr><td>2</td> <td>8797 => 0.77</td> <td>😁</td> <td>Se sienten muy nice y andan con su playera de superhéroe comprada en el tianguis _emo</td> </tr><tr><td>3</td> <td>5360 => 0.78</td> <td>😪</td> <td>A la escuela _emo _emo _emo</td> </tr><tr><td>4</td> <td>9577 => 0.79</td> <td>🙊</td> <td>_usr Buenos días andaba en el Tíanguis _emo</td> </tr><tr><td>5</td> <td>4298 => 0.8</td> <td>😊</td> <td>_usr Aprenderé a quererte asi _emo</td> </tr><tr><td>6</td> <td>44255 => 0.82</td> <td>😩</td> <td>Mañana a la escuela _emo _emo _emo _emo _emo _emo _emo _emo</td> </tr><tr><td>7</td> <td>12945 => 0.83</td> <td>💜</td> <td>Y pues bueno.. La jefa ayuda con la dieta. OK NO _emo _emo _url</td> </tr>\n",
       "</table>\n"
      ]
     },
     "metadata": {},
     "output_type": "display_data"
    },
    {
     "name": "stdout",
     "output_type": "stream",
     "text": [
      "  0.000335 seconds (28 allocations: 2.062 KiB)\n"
     ]
    },
    {
     "data": {
      "text/html": [
       "<h3>Resultados para la consulta \"Neta que perro tener un absceso _emo\"</h3>\n",
       "<table>\n",
       "<tr><td>1</td> <td>48343 => 0.5</td> <td>😥</td> <td>#MiFobiaEs quedarme sola para siempre _emo</td> </tr><tr><td>2</td> <td>19807 => 0.66</td> <td>👌</td> <td>que noche _emo _emo</td> </tr><tr><td>3</td> <td>97 => 0.72</td> <td>😻</td> <td>Ya en la noche _usr _emo _emo _emo _emo _emo _emo _emo _emo</td> </tr><tr><td>4</td> <td>39334 => 0.72</td> <td>🤓</td> <td>_usr Llevo los caballitos, limón y sal _emo</td> </tr><tr><td>5</td> <td>13234 => 0.75</td> <td>😫</td> <td>El Renacido no me gusto por que maltratan mucho a los caballitos _emo jajaja</td> </tr><tr><td>6</td> <td>27237 => 0.76</td> <td>😅</td> <td>Noche de sábado, noche de Netflix!!! _emo _url</td> </tr><tr><td>7</td> <td>19270 => 0.76</td> <td>😭</td> <td>Aquí mí noche _emo _emo _emo _emo _emo _url</td> </tr>\n",
       "</table>\n"
      ],
      "text/plain": [
       "<h3>Resultados para la consulta \"Neta que perro tener un absceso _emo\"</h3>\n",
       "<table>\n",
       "<tr><td>1</td> <td>48343 => 0.5</td> <td>😥</td> <td>#MiFobiaEs quedarme sola para siempre _emo</td> </tr><tr><td>2</td> <td>19807 => 0.66</td> <td>👌</td> <td>que noche _emo _emo</td> </tr><tr><td>3</td> <td>97 => 0.72</td> <td>😻</td> <td>Ya en la noche _usr _emo _emo _emo _emo _emo _emo _emo _emo</td> </tr><tr><td>4</td> <td>39334 => 0.72</td> <td>🤓</td> <td>_usr Llevo los caballitos, limón y sal _emo</td> </tr><tr><td>5</td> <td>13234 => 0.75</td> <td>😫</td> <td>El Renacido no me gusto por que maltratan mucho a los caballitos _emo jajaja</td> </tr><tr><td>6</td> <td>27237 => 0.76</td> <td>😅</td> <td>Noche de sábado, noche de Netflix!!! _emo _url</td> </tr><tr><td>7</td> <td>19270 => 0.76</td> <td>😭</td> <td>Aquí mí noche _emo _emo _emo _emo _emo _url</td> </tr>\n",
       "</table>\n"
      ]
     },
     "metadata": {},
     "output_type": "display_data"
    },
    {
     "name": "stdout",
     "output_type": "stream",
     "text": [
      "  0.001030 seconds (59 allocations: 5.141 KiB)\n"
     ]
    },
    {
     "data": {
      "text/html": [
       "<h3>Resultados para la consulta \"_usr Ely es bonita y me gusta ver que este feliz y me encanta sus besitos _emo perdón me vuelven loco\"</h3>\n",
       "<table>\n",
       "<tr><td>1</td> <td>43030 => 0.7</td> <td>😈</td> <td>Cuando mi papá dice no, mi mamá dice sí _emo _emo</td> </tr><tr><td>2</td> <td>35232 => 0.75</td> <td>👀</td> <td>A ver que dice _emo</td> </tr><tr><td>3</td> <td>13112 => 0.75</td> <td>😐</td> <td>Dice mi mamá que siempre no _emo</td> </tr><tr><td>4</td> <td>10171 => 0.76</td> <td>🙄</td> <td>_usr Jajajaja así dice la canción _emo</td> </tr><tr><td>5</td> <td>27895 => 0.78</td> <td>😒</td> <td>Siempre dice eso _emo _url</td> </tr><tr><td>6</td> <td>48894 => 0.78</td> <td>😀</td> <td>El amor de mi vida me dice mamá _emo</td> </tr><tr><td>7</td> <td>35937 => 0.78</td> <td>😴</td> <td>Se cancela mi salida de hoy. _emo</td> </tr>\n",
       "</table>\n"
      ],
      "text/plain": [
       "<h3>Resultados para la consulta \"_usr Ely es bonita y me gusta ver que este feliz y me encanta sus besitos _emo perdón me vuelven loco\"</h3>\n",
       "<table>\n",
       "<tr><td>1</td> <td>43030 => 0.7</td> <td>😈</td> <td>Cuando mi papá dice no, mi mamá dice sí _emo _emo</td> </tr><tr><td>2</td> <td>35232 => 0.75</td> <td>👀</td> <td>A ver que dice _emo</td> </tr><tr><td>3</td> <td>13112 => 0.75</td> <td>😐</td> <td>Dice mi mamá que siempre no _emo</td> </tr><tr><td>4</td> <td>10171 => 0.76</td> <td>🙄</td> <td>_usr Jajajaja así dice la canción _emo</td> </tr><tr><td>5</td> <td>27895 => 0.78</td> <td>😒</td> <td>Siempre dice eso _emo _url</td> </tr><tr><td>6</td> <td>48894 => 0.78</td> <td>😀</td> <td>El amor de mi vida me dice mamá _emo</td> </tr><tr><td>7</td> <td>35937 => 0.78</td> <td>😴</td> <td>Se cancela mi salida de hoy. _emo</td> </tr>\n",
       "</table>\n"
      ]
     },
     "metadata": {},
     "output_type": "display_data"
    },
    {
     "name": "stdout",
     "output_type": "stream",
     "text": [
      "  0.001967 seconds (74 allocations: 6.531 KiB)\n"
     ]
    },
    {
     "data": {
      "text/html": [
       "<h3>Resultados para la consulta \"Recibo con gusto en la _usr la visita de mi amigo Guillermo Salinas quien vino a recoger su acreditación como Observador _emo Electoral #Ciudadanía_num _url\"</h3>\n",
       "<table>\n",
       "<tr><td>1</td> <td>29553 => 0.72</td> <td>💙</td> <td>Jueveeeeeess _emo</td> </tr><tr><td>2</td> <td>42870 => 0.78</td> <td>🤗</td> <td>Habemus vestido _emo _emo _emo</td> </tr><tr><td>3</td> <td>328 => 0.79</td> <td>😣</td> <td>Quiero abrazarte ya _emo</td> </tr><tr><td>4</td> <td>36485 => 0.79</td> <td>💜</td> <td>&apos;Toni Erdmann&apos; superó mis expectativas. Maren Ade juega magistralmente con la comedia y la crisis. La secuencia de la fiesta lo vale todo _emo</td> </tr><tr><td>5</td> <td>15561 => 0.79</td> <td>🤤</td> <td>HABEMUS LIGUILLA _emo _emo _emo _emo</td> </tr><tr><td>6</td> <td>20453 => 0.79</td> <td>🤭</td> <td>Pues minimo, pq agraciada NO eres jajajaja _emo</td> </tr><tr><td>7</td> <td>1535 => 0.82</td> <td>😡</td> <td>Qué calor _emo _emo _emo</td> </tr>\n",
       "</table>\n"
      ],
      "text/plain": [
       "<h3>Resultados para la consulta \"Recibo con gusto en la _usr la visita de mi amigo Guillermo Salinas quien vino a recoger su acreditación como Observador _emo Electoral #Ciudadanía_num _url\"</h3>\n",
       "<table>\n",
       "<tr><td>1</td> <td>29553 => 0.72</td> <td>💙</td> <td>Jueveeeeeess _emo</td> </tr><tr><td>2</td> <td>42870 => 0.78</td> <td>🤗</td> <td>Habemus vestido _emo _emo _emo</td> </tr><tr><td>3</td> <td>328 => 0.79</td> <td>😣</td> <td>Quiero abrazarte ya _emo</td> </tr><tr><td>4</td> <td>36485 => 0.79</td> <td>💜</td> <td>&apos;Toni Erdmann&apos; superó mis expectativas. Maren Ade juega magistralmente con la comedia y la crisis. La secuencia de la fiesta lo vale todo _emo</td> </tr><tr><td>5</td> <td>15561 => 0.79</td> <td>🤤</td> <td>HABEMUS LIGUILLA _emo _emo _emo _emo</td> </tr><tr><td>6</td> <td>20453 => 0.79</td> <td>🤭</td> <td>Pues minimo, pq agraciada NO eres jajajaja _emo</td> </tr><tr><td>7</td> <td>1535 => 0.82</td> <td>😡</td> <td>Qué calor _emo _emo _emo</td> </tr>\n",
       "</table>\n"
      ]
     },
     "metadata": {},
     "output_type": "display_data"
    },
    {
     "name": "stdout",
     "output_type": "stream",
     "text": [
      "  0.000170 seconds (32 allocations: 2.250 KiB)\n"
     ]
    },
    {
     "data": {
      "text/html": [
       "<h3>Resultados para la consulta \"Que bonito es estar con mi mamita. _emo\"</h3>\n",
       "<table>\n",
       "<tr><td>1</td> <td>11302 => 0.64</td> <td>😥</td> <td>#GYMtime _emo _emo #MeEstoyMuriendo #ElQuePerseveraAlcanza ¡De verdad estoy… _url</td> </tr><tr><td>2</td> <td>30526 => 0.74</td> <td>😓</td> <td>Se les acabo su gordito jajaja #pierna #gluteos #gymtime #empezandode_num _emo _emo @ Gym _url</td> </tr><tr><td>3</td> <td>41771 => 0.74</td> <td>😎</td> <td>Mañana empieza la verdadera chinga de inicio de año!!!!   #gymtime #fitnessmotivation  #dieta #proteina... Voy con todo _emo _emo _emo</td> </tr><tr><td>4</td> <td>6030 => 0.77</td> <td>😣</td> <td>Un tweet después _emo _emo _url</td> </tr><tr><td>5</td> <td>47611 => 0.78</td> <td>😋</td> <td>después de todo lo que hice hoy, me me merecía una cena deliciosa como la que me hice! _emo _emo</td> </tr><tr><td>6</td> <td>24286 => 0.79</td> <td>👌</td> <td>One more experience... _emo _emo _emo _emo _emo _emo _emo _emo _emo @ Acapulco, Guerrero _url</td> </tr><tr><td>7</td> <td>23612 => 0.79</td> <td>😂</td> <td>Siempre despues de la peda _emo _emo _url</td> </tr>\n",
       "</table>\n"
      ],
      "text/plain": [
       "<h3>Resultados para la consulta \"Que bonito es estar con mi mamita. _emo\"</h3>\n",
       "<table>\n",
       "<tr><td>1</td> <td>11302 => 0.64</td> <td>😥</td> <td>#GYMtime _emo _emo #MeEstoyMuriendo #ElQuePerseveraAlcanza ¡De verdad estoy… _url</td> </tr><tr><td>2</td> <td>30526 => 0.74</td> <td>😓</td> <td>Se les acabo su gordito jajaja #pierna #gluteos #gymtime #empezandode_num _emo _emo @ Gym _url</td> </tr><tr><td>3</td> <td>41771 => 0.74</td> <td>😎</td> <td>Mañana empieza la verdadera chinga de inicio de año!!!!   #gymtime #fitnessmotivation  #dieta #proteina... Voy con todo _emo _emo _emo</td> </tr><tr><td>4</td> <td>6030 => 0.77</td> <td>😣</td> <td>Un tweet después _emo _emo _url</td> </tr><tr><td>5</td> <td>47611 => 0.78</td> <td>😋</td> <td>después de todo lo que hice hoy, me me merecía una cena deliciosa como la que me hice! _emo _emo</td> </tr><tr><td>6</td> <td>24286 => 0.79</td> <td>👌</td> <td>One more experience... _emo _emo _emo _emo _emo _emo _emo _emo _emo @ Acapulco, Guerrero _url</td> </tr><tr><td>7</td> <td>23612 => 0.79</td> <td>😂</td> <td>Siempre despues de la peda _emo _emo _url</td> </tr>\n",
       "</table>\n"
      ]
     },
     "metadata": {},
     "output_type": "display_data"
    }
   ],
   "source": [
    "for i in 1:10\n",
    "    qID = rand(1:length(D.corpus))\n",
    "    search_and_display(invfile, D, D.corpus[qID], 7)\n",
    "end"
   ]
  }
 ],
 "metadata": {
  "kernelspec": {
   "display_name": "Julia 1.7.2",
   "language": "julia",
   "name": "julia-1.7"
  },
  "language_info": {
   "file_extension": ".jl",
   "mimetype": "application/julia",
   "name": "julia",
   "version": "1.7.2"
  }
 },
 "nbformat": 4,
 "nbformat_minor": 5
}
